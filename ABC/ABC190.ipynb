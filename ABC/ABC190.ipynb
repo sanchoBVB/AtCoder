{
 "cells": [
  {
   "cell_type": "code",
   "execution_count": 1,
   "metadata": {},
   "outputs": [],
   "source": [
    "#A"
   ]
  },
  {
   "cell_type": "code",
   "execution_count": 3,
   "metadata": {},
   "outputs": [
    {
     "name": "stdout",
     "output_type": "stream",
     "text": [
      "2 2 0\n",
      "Aoki\n"
     ]
    }
   ],
   "source": [
    "A, B, C = map(int, input().split())\n",
    "\n",
    "if A > B:\n",
    "    print(\"Takahashi\")\n",
    "elif B > A:\n",
    "    print(\"Aoki\")\n",
    "else:\n",
    "    if C == 0:\n",
    "        print(\"Aoki\")\n",
    "    else:\n",
    "        print(\"Takahashi\")"
   ]
  },
  {
   "cell_type": "code",
   "execution_count": 6,
   "metadata": {},
   "outputs": [
    {
     "name": "stdout",
     "output_type": "stream",
     "text": [
      "3 691 273\n",
      "691 997\n",
      "593 297\n",
      "691 273\n",
      "Yes\n"
     ]
    }
   ],
   "source": [
    "N, S, D = map(int, input().split())\n",
    "ans = \"No\"\n",
    "for _ in range(N):\n",
    "    x, y = map(int, input().split())\n",
    "    if x < S and y > D:\n",
    "        ans = \"Yes\"\n",
    "        \n",
    "print(ans)"
   ]
  },
  {
   "cell_type": "code",
   "execution_count": 7,
   "metadata": {},
   "outputs": [],
   "source": [
    "#C"
   ]
  },
  {
   "cell_type": "code",
   "execution_count": 22,
   "metadata": {},
   "outputs": [
    {
     "name": "stdout",
     "output_type": "stream",
     "text": [
      "6 12\n",
      "2 3\n",
      "4 6\n",
      "1 2\n",
      "4 5\n",
      "2 6\n",
      "1 5\n",
      "4 5\n",
      "1 3\n",
      "1 2\n",
      "2 6\n",
      "2 3\n",
      "2 5\n",
      "5\n",
      "3 5\n",
      "1 4\n",
      "2 6\n",
      "4 6\n",
      "5 6\n",
      "7\n"
     ]
    }
   ],
   "source": [
    "import itertools\n",
    "N, M = map(int, input().split())\n",
    "AB = []\n",
    "for _ in range(M):\n",
    "    AB.append(list(map(int, input().split())))\n",
    "K = int(input())\n",
    "cd = []\n",
    "for _ in range(K):\n",
    "    cd.append(list(map(int, input().split())))\n",
    "\n",
    "ans = 0\n",
    "for c in itertools.product(*cd):\n",
    "    an = 0\n",
    "    for ab in AB:\n",
    "        a, b = ab[0], ab[1]\n",
    "        if a in c and b in c:\n",
    "            an += 1\n",
    "    ans = max(ans, an)\n",
    "            \n",
    "print(ans)"
   ]
  },
  {
   "cell_type": "code",
   "execution_count": null,
   "metadata": {},
   "outputs": [],
   "source": []
  }
 ],
 "metadata": {
  "kernelspec": {
   "display_name": "Python 3",
   "language": "python",
   "name": "python3"
  },
  "language_info": {
   "codemirror_mode": {
    "name": "ipython",
    "version": 3
   },
   "file_extension": ".py",
   "mimetype": "text/x-python",
   "name": "python",
   "nbconvert_exporter": "python",
   "pygments_lexer": "ipython3",
   "version": "3.6.4"
  }
 },
 "nbformat": 4,
 "nbformat_minor": 2
}
