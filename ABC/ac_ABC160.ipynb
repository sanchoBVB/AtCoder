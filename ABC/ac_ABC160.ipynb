{
 "cells": [
  {
   "cell_type": "code",
   "execution_count": 5,
   "metadata": {},
   "outputs": [
    {
     "name": "stdout",
     "output_type": "stream",
     "text": [
      "sippuu\n",
      "Yes\n"
     ]
    }
   ],
   "source": [
    "S = list(input())\n",
    "\n",
    "if S[2] == S[3] and S[4] == S[5]:\n",
    "    print(\"Yes\")\n",
    "else:\n",
    "    print(\"No\")"
   ]
  },
  {
   "cell_type": "code",
   "execution_count": 8,
   "metadata": {},
   "outputs": [
    {
     "name": "stdout",
     "output_type": "stream",
     "text": [
      "1000000000000\n",
      "2000000000000\n"
     ]
    }
   ],
   "source": [
    "X = int(input())\n",
    "\n",
    "count_500 = 0\n",
    "count_5 = 0\n",
    "if X >= 500:\n",
    "    count_500 += int(X/500)\n",
    "    X = X%500\n",
    "    if X >= 5:\n",
    "        count_5 += int(X/5)\n",
    "        X = X%5\n",
    "else:\n",
    "    count_5 += int(X/5)\n",
    "    X = X%5\n",
    "\n",
    "print(count_500*1000 + count_5*5)"
   ]
  },
  {
   "cell_type": "code",
   "execution_count": 6,
   "metadata": {},
   "outputs": [
    {
     "name": "stdout",
     "output_type": "stream",
     "text": [
      "20 3\n",
      "0 5 10\n",
      "10\n"
     ]
    }
   ],
   "source": [
    "K, N = map(int, input().split())\n",
    "A = list(map(int, input().split()))\n",
    "A.append(K+A[0])\n",
    "\n",
    "l = []\n",
    "for i in range(1, N+1):\n",
    "    l.append(abs(A[i-1] - A[i]))\n",
    "l.pop(l.index(max(l)))\n",
    "print(sum(l))"
   ]
  },
  {
   "cell_type": "code",
   "execution_count": 10,
   "metadata": {},
   "outputs": [
    {
     "name": "stdout",
     "output_type": "stream",
     "text": [
      "5 2 4\n",
      "1\n",
      "2\n",
      "2\n",
      "3\n",
      "1\n",
      "1\n",
      "2\n",
      "1\n",
      "2\n",
      "1\n",
      "5\n",
      "4\n",
      "1\n",
      "0\n"
     ]
    }
   ],
   "source": [
    "n, x, y = map(int, input().split())\n",
    "\n",
    "l = [0] * n\n",
    "\n",
    "for i in range(1, n):\n",
    "    for j in range(i + 1 , n + 1):\n",
    "        minimum = min(abs(j-i), abs(x-i) + 1 + abs(y-j), abs(x-j) + 1 + abs(y-i))\n",
    "        l[minimum] += 1 \n",
    "        print(minimum)\n",
    "\n",
    "for i in range(1, n):\n",
    "        print(l[i])"
   ]
  },
  {
   "cell_type": "code",
   "execution_count": 9,
   "metadata": {},
   "outputs": [
    {
     "data": {
      "text/plain": [
       "[0, 5, 4, 1, 0]"
      ]
     },
     "execution_count": 9,
     "metadata": {},
     "output_type": "execute_result"
    }
   ],
   "source": [
    "l"
   ]
  },
  {
   "cell_type": "code",
   "execution_count": null,
   "metadata": {},
   "outputs": [],
   "source": []
  }
 ],
 "metadata": {
  "kernelspec": {
   "display_name": "Python 3",
   "language": "python",
   "name": "python3"
  },
  "language_info": {
   "codemirror_mode": {
    "name": "ipython",
    "version": 3
   },
   "file_extension": ".py",
   "mimetype": "text/x-python",
   "name": "python",
   "nbconvert_exporter": "python",
   "pygments_lexer": "ipython3",
   "version": "3.7.1"
  }
 },
 "nbformat": 4,
 "nbformat_minor": 2
}
