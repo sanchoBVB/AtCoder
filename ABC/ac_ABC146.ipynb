{
 "cells": [
  {
   "cell_type": "code",
   "execution_count": 1,
   "metadata": {},
   "outputs": [],
   "source": [
    "#A"
   ]
  },
  {
   "cell_type": "code",
   "execution_count": 2,
   "metadata": {},
   "outputs": [
    {
     "name": "stdout",
     "output_type": "stream",
     "text": [
      "SAT\n",
      "1\n"
     ]
    }
   ],
   "source": [
    "week = [\"SUN\",\"MON\",\"TUE\",\"WED\",\"THU\",\"FRI\",\"SAT\"]\n",
    "S = input()\n",
    "\n",
    "ans = 7\n",
    "for i in range(len(week)):\n",
    "    if S == week[i]:\n",
    "        ans -= i\n",
    "        \n",
    "print(ans)"
   ]
  },
  {
   "cell_type": "code",
   "execution_count": 3,
   "metadata": {},
   "outputs": [],
   "source": [
    "#B"
   ]
  },
  {
   "cell_type": "code",
   "execution_count": 5,
   "metadata": {},
   "outputs": [
    {
     "name": "stdout",
     "output_type": "stream",
     "text": [
      "2\n",
      "ABCXYZ\n",
      "CDEZAB\n"
     ]
    }
   ],
   "source": [
    "N = int(input())\n",
    "S = list(input())\n",
    "\n",
    "ans = []\n",
    "for s in S:\n",
    "    w = ord(s)+N\n",
    "    if w <= 90:\n",
    "        ans.append(chr(w))\n",
    "    else:\n",
    "        ans.append(chr(w-26))\n",
    "print(\"\".join(ans))"
   ]
  },
  {
   "cell_type": "code",
   "execution_count": 6,
   "metadata": {},
   "outputs": [],
   "source": [
    "#C"
   ]
  },
  {
   "cell_type": "code",
   "execution_count": 28,
   "metadata": {},
   "outputs": [
    {
     "name": "stdout",
     "output_type": "stream",
     "text": [
      "2 1 100000000000\n",
      "1000000000\n"
     ]
    }
   ],
   "source": [
    "import sys\n",
    "A, B, X = map(int, input().split())\n",
    "def val(n):\n",
    "    return (A*n)+(B*len(str(n)))\n",
    "\n",
    "low = 0\n",
    "high = 10**9\n",
    "while low <= high:\n",
    "    mid = int((low + high)/2)\n",
    "    if val(mid) <= X:\n",
    "        low = mid+1\n",
    "    else:\n",
    "        high = mid -1\n",
    "if high >= 0:\n",
    "    print(high)\n",
    "else:\n",
    "    print(0)"
   ]
  },
  {
   "cell_type": "code",
   "execution_count": null,
   "metadata": {},
   "outputs": [],
   "source": []
  }
 ],
 "metadata": {
  "kernelspec": {
   "display_name": "Python 3",
   "language": "python",
   "name": "python3"
  },
  "language_info": {
   "codemirror_mode": {
    "name": "ipython",
    "version": 3
   },
   "file_extension": ".py",
   "mimetype": "text/x-python",
   "name": "python",
   "nbconvert_exporter": "python",
   "pygments_lexer": "ipython3",
   "version": "3.6.4"
  }
 },
 "nbformat": 4,
 "nbformat_minor": 2
}
