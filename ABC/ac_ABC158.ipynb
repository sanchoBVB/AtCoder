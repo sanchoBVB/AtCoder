{
 "cells": [
  {
   "cell_type": "code",
   "execution_count": 1,
   "metadata": {},
   "outputs": [
    {
     "name": "stdout",
     "output_type": "stream",
     "text": [
      "ABA\n",
      "Yes\n"
     ]
    }
   ],
   "source": [
    "S = input()\n",
    "\n",
    "if S == \"AAA\" or S == \"BBB\":\n",
    "    print(\"No\")\n",
    "else:\n",
    "    print(\"Yes\")"
   ]
  },
  {
   "cell_type": "code",
   "execution_count": 23,
   "metadata": {},
   "outputs": [
    {
     "name": "stdout",
     "output_type": "stream",
     "text": [
      "8 3 4\n",
      "4\n"
     ]
    }
   ],
   "source": [
    "import collections\n",
    "N, A, B = map(int, input().split())\n",
    "\n",
    "cnt = []\n",
    "for n in range(10 ** 100):\n",
    "    if len(cnt) == N:\n",
    "        break\n",
    "    for i in range(A):\n",
    "        if len(cnt) == N:\n",
    "            break\n",
    "        cnt.append(\"b\")\n",
    "    for j in range(B):\n",
    "        if len(cnt) == N:\n",
    "            break\n",
    "        cnt.append(\"r\")\n",
    "ans = collections.Counter(cnt)\n",
    "print(ans[\"b\"])"
   ]
  },
  {
   "cell_type": "code",
   "execution_count": 26,
   "metadata": {},
   "outputs": [
    {
     "name": "stdout",
     "output_type": "stream",
     "text": [
      "6 2 4\n",
      "2\n"
     ]
    }
   ],
   "source": [
    "N, A, B = map(int, input().split())\n",
    "\n",
    "cnt = A * int(N / (A+B))\n",
    "if (N % (A+B)) <= A:\n",
    "    cnt += (N % (A+B))\n",
    "else:\n",
    "    cnt += A\n",
    "\n",
    "print(cnt)"
   ]
  },
  {
   "cell_type": "code",
   "execution_count": 50,
   "metadata": {},
   "outputs": [
    {
     "name": "stdout",
     "output_type": "stream",
     "text": [
      "19 99\n",
      "-1\n"
     ]
    }
   ],
   "source": [
    "A, B = map(int, input().split())\n",
    "\n",
    "def mklist(x):\n",
    "    return list(range(x, ))\n",
    "\n",
    "list_08 = mklist(A)\n",
    "list_10 = mklist(B)\n",
    "\n",
    "ans = []\n",
    "for a in list_08:\n",
    "    for b in list_10:\n",
    "        if a/0.08 == b/0.10:\n",
    "            ans.append(int(a/0.08))\n",
    "\n",
    "if len(ans) == 0:\n",
    "    print(-1)\n",
    "else:\n",
    "    print(min(ans))"
   ]
  },
  {
   "cell_type": "code",
   "execution_count": 53,
   "metadata": {},
   "outputs": [
    {
     "data": {
      "text/plain": [
       "2.08"
      ]
     },
     "execution_count": 53,
     "metadata": {},
     "output_type": "execute_result"
    }
   ],
   "source": [
    "import sys\n",
    "A, B = map(int, input().split())\n",
    "\n",
    "for i in range(1, 1001):\n",
    "    if int(i * 0.08) == A and int(i * 0.10) == B:\n",
    "        print(i)\n",
    "        sys.exit(0)\n",
    "print(-1)"
   ]
  }
 ],
 "metadata": {
  "kernelspec": {
   "display_name": "Python 3",
   "language": "python",
   "name": "python3"
  },
  "language_info": {
   "codemirror_mode": {
    "name": "ipython",
    "version": 3
   },
   "file_extension": ".py",
   "mimetype": "text/x-python",
   "name": "python",
   "nbconvert_exporter": "python",
   "pygments_lexer": "ipython3",
   "version": "3.7.1"
  }
 },
 "nbformat": 4,
 "nbformat_minor": 2
}
