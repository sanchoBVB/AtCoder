{
 "cells": [
  {
   "cell_type": "code",
   "execution_count": 1,
   "metadata": {},
   "outputs": [],
   "source": [
    "#A"
   ]
  },
  {
   "cell_type": "code",
   "execution_count": 4,
   "metadata": {},
   "outputs": [
    {
     "name": "stdout",
     "output_type": "stream",
     "text": [
      "12 15\n",
      "No\n"
     ]
    }
   ],
   "source": [
    "X, Y = map(int, input().split())\n",
    "a = min(X, Y)\n",
    "b = max(X, Y)\n",
    "\n",
    "if (a+3) > b:\n",
    "    print(\"Yes\")\n",
    "else:\n",
    "    print(\"No\")"
   ]
  },
  {
   "cell_type": "code",
   "execution_count": 5,
   "metadata": {},
   "outputs": [],
   "source": [
    "#B"
   ]
  },
  {
   "cell_type": "code",
   "execution_count": 7,
   "metadata": {},
   "outputs": [
    {
     "name": "stdout",
     "output_type": "stream",
     "text": [
      "2\n",
      "4 5\n",
      "-1 -3\n",
      "No\n"
     ]
    }
   ],
   "source": [
    "N = int(input())\n",
    "A = list(map(int, input().split()))\n",
    "B = list(map(int, input().split()))\n",
    "\n",
    "ans = 0\n",
    "for n in range(N):\n",
    "    ans += A[n]*B[n]\n",
    "    \n",
    "if ans == 0:\n",
    "    print(\"Yes\")\n",
    "else:\n",
    "    print(\"No\")"
   ]
  },
  {
   "cell_type": "code",
   "execution_count": 8,
   "metadata": {},
   "outputs": [],
   "source": [
    "#C"
   ]
  },
  {
   "cell_type": "code",
   "execution_count": 16,
   "metadata": {},
   "outputs": [
    {
     "name": "stdout",
     "output_type": "stream",
     "text": [
      "4\n",
      "6 13 12 5 3 7 10 11 16 9 8 15 2 1 14 4\n",
      "2\n"
     ]
    }
   ],
   "source": [
    "import copy\n",
    "N = int(input())\n",
    "A = list(map(int, input().split()))\n",
    "\n",
    "id_list = list(range(2**N))\n",
    "while len(id_list) > 2:\n",
    "    id_l = []\n",
    "    for i, j in zip(id_list[::2], id_list[1::2]):\n",
    "        if A[i] > A[j]:\n",
    "            id_l.append(i)\n",
    "        else:\n",
    "            id_l.append(j)\n",
    "    id_list = id_l.copy()\n",
    "    \n",
    "print(A.index(min(A[id_list[0]], A[id_list[1]]))+1)"
   ]
  },
  {
   "cell_type": "code",
   "execution_count": 17,
   "metadata": {},
   "outputs": [],
   "source": [
    "#D"
   ]
  },
  {
   "cell_type": "code",
   "execution_count": null,
   "metadata": {},
   "outputs": [],
   "source": [
    "N, C = map(int, input().split())\n"
   ]
  }
 ],
 "metadata": {
  "kernelspec": {
   "display_name": "Python 3",
   "language": "python",
   "name": "python3"
  },
  "language_info": {
   "codemirror_mode": {
    "name": "ipython",
    "version": 3
   },
   "file_extension": ".py",
   "mimetype": "text/x-python",
   "name": "python",
   "nbconvert_exporter": "python",
   "pygments_lexer": "ipython3",
   "version": "3.6.4"
  }
 },
 "nbformat": 4,
 "nbformat_minor": 2
}
