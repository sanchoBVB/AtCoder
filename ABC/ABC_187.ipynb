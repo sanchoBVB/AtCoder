{
 "cells": [
  {
   "cell_type": "code",
   "execution_count": 1,
   "metadata": {},
   "outputs": [],
   "source": [
    "#A"
   ]
  },
  {
   "cell_type": "code",
   "execution_count": 3,
   "metadata": {},
   "outputs": [
    {
     "name": "stdout",
     "output_type": "stream",
     "text": [
      "593 953\n",
      "17\n"
     ]
    }
   ],
   "source": [
    "A, B = input().split()\n",
    "\n",
    "a = 0\n",
    "for i in A:\n",
    "    a += int(i)\n",
    "b = 0\n",
    "for j in B:\n",
    "    b+= int(j)\n",
    "\n",
    "print(max(a, b))"
   ]
  },
  {
   "cell_type": "code",
   "execution_count": 4,
   "metadata": {},
   "outputs": [],
   "source": [
    "#B"
   ]
  },
  {
   "cell_type": "code",
   "execution_count": 11,
   "metadata": {},
   "outputs": [
    {
     "name": "stdout",
     "output_type": "stream",
     "text": [
      "10\n",
      "-31 -35\n",
      "8 -36\n",
      "22 64\n",
      "5 73\n",
      "-14 8\n",
      "18 -58\n",
      "-41 -85\n",
      "1 -88\n",
      "-21 -85\n",
      "-11 82\n",
      "11\n"
     ]
    }
   ],
   "source": [
    "N = int(input())\n",
    "xy = []\n",
    "for _ in range(N):\n",
    "    xy.append(list(map(int, input().split())))\n",
    "\n",
    "cnt = 0\n",
    "for i in range(N-1):\n",
    "    a = xy[i]\n",
    "    for j in range(i+1, N):\n",
    "        b = xy[j]\n",
    "        k = (b[1]-a[1])/(b[0]-a[0])\n",
    "        if abs(k) <= 1:\n",
    "            cnt += 1\n",
    "            \n",
    "print(cnt)"
   ]
  },
  {
   "cell_type": "code",
   "execution_count": 12,
   "metadata": {},
   "outputs": [],
   "source": [
    "#C"
   ]
  },
  {
   "cell_type": "code",
   "execution_count": 27,
   "metadata": {},
   "outputs": [
    {
     "name": "stdout",
     "output_type": "stream",
     "text": [
      "10\n",
      "red\n",
      "red\n",
      "red\n",
      "!orange\n",
      "yellow\n",
      "!blue\n",
      "cyan\n",
      "!green\n",
      "brown\n",
      "!gray\n",
      "satisfiable\n"
     ]
    }
   ],
   "source": [
    "N = int(input())\n",
    "S = set()\n",
    "S1 = set()\n",
    "for n in range(N):\n",
    "    s = input()\n",
    "    S.add(s)\n",
    "    if s[0] == \"!\":\n",
    "        S1.add(s[1:])\n",
    "    else:\n",
    "        S1.add(\"!\"+s)\n",
    "\n",
    "ans = list(S&S1)\n",
    "if len(ans) == 0:\n",
    "    print(\"satisfiable\")\n",
    "else:\n",
    "    a = ans[0]\n",
    "    if a[0] == \"!\":\n",
    "        print(a[1:])\n",
    "    else:\n",
    "        print(a)"
   ]
  },
  {
   "cell_type": "code",
   "execution_count": 30,
   "metadata": {},
   "outputs": [],
   "source": [
    "#D"
   ]
  },
  {
   "cell_type": "code",
   "execution_count": 44,
   "metadata": {},
   "outputs": [
    {
     "name": "stdout",
     "output_type": "stream",
     "text": [
      "4\n",
      "2 1\n",
      "2 2\n",
      "5 1\n",
      "1 3\n",
      "1\n"
     ]
    }
   ],
   "source": [
    "N = int(input())\n",
    "ab = []\n",
    "aoki = 0\n",
    "for _ in range(N):\n",
    "    t = list(map(int, input().split()))\n",
    "    aoki += t[0]\n",
    "    ab.append(t)\n",
    "\n",
    "ans = 0\n",
    "taka = 0\n",
    "while aoki >= taka:\n",
    "    ans += 1\n",
    "    cnt = []\n",
    "    for x in ab:\n",
    "        ta = 0\n",
    "        ao = aoki\n",
    "        cnt.append(abs((ao-x[0])-(x[0]+x[1])))\n",
    "    ind = cnt.index(min(cnt))\n",
    "    q = ab[ind]\n",
    "    del ab[ind]\n",
    "    aoki -= q[0]\n",
    "    taka += q[0]+q[1]\n",
    "\n",
    "print(ans)"
   ]
  },
  {
   "cell_type": "code",
   "execution_count": 41,
   "metadata": {},
   "outputs": [
    {
     "data": {
      "text/plain": [
       "[1, 0, 5, 1]"
      ]
     },
     "execution_count": 41,
     "metadata": {},
     "output_type": "execute_result"
    }
   ],
   "source": [
    "cnt"
   ]
  },
  {
   "cell_type": "code",
   "execution_count": null,
   "metadata": {},
   "outputs": [],
   "source": []
  }
 ],
 "metadata": {
  "kernelspec": {
   "display_name": "Python 3",
   "language": "python",
   "name": "python3"
  },
  "language_info": {
   "codemirror_mode": {
    "name": "ipython",
    "version": 3
   },
   "file_extension": ".py",
   "mimetype": "text/x-python",
   "name": "python",
   "nbconvert_exporter": "python",
   "pygments_lexer": "ipython3",
   "version": "3.6.4"
  }
 },
 "nbformat": 4,
 "nbformat_minor": 2
}
