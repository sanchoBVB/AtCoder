{
 "cells": [
  {
   "cell_type": "code",
   "execution_count": 1,
   "metadata": {},
   "outputs": [],
   "source": [
    "#A"
   ]
  },
  {
   "cell_type": "code",
   "execution_count": 2,
   "metadata": {},
   "outputs": [
    {
     "name": "stdout",
     "output_type": "stream",
     "text": [
      "100 100 1 100\n",
      "1\n"
     ]
    }
   ],
   "source": [
    "A1, A2, A3, A4 = map(int, input().split())\n",
    "\n",
    "print(min(A1, A2, A3, A4))"
   ]
  },
  {
   "cell_type": "code",
   "execution_count": 3,
   "metadata": {},
   "outputs": [],
   "source": [
    "#B"
   ]
  },
  {
   "cell_type": "code",
   "execution_count": 16,
   "metadata": {},
   "outputs": [
    {
     "name": "stdout",
     "output_type": "stream",
     "text": [
      "20 1 30\n",
      "1 10\n",
      "No\n"
     ]
    }
   ],
   "source": [
    "import sys\n",
    "N, M, T = map(int, input().split())\n",
    "\n",
    "cnt = []\n",
    "for _ in range(M):\n",
    "    a, b = map(int, input().split())\n",
    "    cnt.append([a, b])\n",
    "\n",
    "c = N\n",
    "a = 0\n",
    "ans = \"Yes\"\n",
    "for m in range(M):\n",
    "    if N-(cnt[m][0]-a) <= 0:\n",
    "        N = 0\n",
    "        print(\"No\")\n",
    "        sys.exit(0)\n",
    "    else:\n",
    "        N -= (cnt[m][0]-a)\n",
    "    de = N+abs(cnt[m][0]-cnt[m][1])\n",
    "    if de < c:\n",
    "        N = de\n",
    "    else:\n",
    "        N = c\n",
    "    a = cnt[m][1]\n",
    "    \n",
    "if N-(T-a) <= 0:\n",
    "    print(\"No\")\n",
    "else:\n",
    "    print(\"Yes\")"
   ]
  },
  {
   "cell_type": "code",
   "execution_count": 18,
   "metadata": {},
   "outputs": [],
   "source": [
    "#C"
   ]
  },
  {
   "cell_type": "code",
   "execution_count": 1,
   "metadata": {},
   "outputs": [
    {
     "name": "stdout",
     "output_type": "stream",
     "text": [
      "1\n",
      "0\n"
     ]
    }
   ],
   "source": [
    "import sys\n",
    "import math\n",
    "import itertools\n",
    "L = int(input())\n",
    "\n",
    "if L == 12:\n",
    "    print(1)\n",
    "    sys.exit(0)\n",
    "    \n",
    "def combinations_count(r):\n",
    "    return math.factorial(12) // (math.factorial(12 - r) * math.factorial(r))    \n",
    "cnt = 0\n",
    "l = list(range(1, (L-12)+1))\n",
    "for i in range(1, (L-12)+1):\n",
    "    a = list(itertools.combinations_with_replacement(l, i))\n",
    "    cnt += len(a)\n",
    "    for n in a:\n",
    "        if sum(n) == (L-12):\n",
    "            n = list(n)\n",
    "            cnt += (combinations_count(len(n))*len(set(itertools.permutations(n, len(n)))))\n",
    "print(cnt)"
   ]
  },
  {
   "cell_type": "code",
   "execution_count": 60,
   "metadata": {},
   "outputs": [
    {
     "name": "stdout",
     "output_type": "stream",
     "text": [
      "228\n"
     ]
    }
   ],
   "source": [
    "import itertools\n",
    "L = 15\n",
    "l = list(range(1, (L-12)+1))\n",
    "cnt = 0\n",
    "for i in range(1, (L-12)+1):\n",
    "    a = list(itertools.combinations_with_replacement(l, i))\n",
    "    cnt += (12*len(list(a)))\n",
    "print(cnt)"
   ]
  },
  {
   "cell_type": "code",
   "execution_count": 51,
   "metadata": {},
   "outputs": [
    {
     "name": "stdout",
     "output_type": "stream",
     "text": [
      "{(1, 2, 1), (2, 1, 1), (1, 1, 2)}\n"
     ]
    }
   ],
   "source": [
    "print(set(itertools.permutations([1,1, 2], 3)))"
   ]
  }
 ],
 "metadata": {
  "kernelspec": {
   "display_name": "Python 3",
   "language": "python",
   "name": "python3"
  },
  "language_info": {
   "codemirror_mode": {
    "name": "ipython",
    "version": 3
   },
   "file_extension": ".py",
   "mimetype": "text/x-python",
   "name": "python",
   "nbconvert_exporter": "python",
   "pygments_lexer": "ipython3",
   "version": "3.6.4"
  }
 },
 "nbformat": 4,
 "nbformat_minor": 2
}
