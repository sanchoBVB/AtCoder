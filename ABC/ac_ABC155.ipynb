{
 "cells": [
  {
   "cell_type": "code",
   "execution_count": 5,
   "metadata": {},
   "outputs": [],
   "source": [
    "#A問題"
   ]
  },
  {
   "cell_type": "code",
   "execution_count": 4,
   "metadata": {},
   "outputs": [
    {
     "name": "stdout",
     "output_type": "stream",
     "text": [
      "4 4 4\n",
      "No\n"
     ]
    }
   ],
   "source": [
    "A, B, C = map(int, input().split())\n",
    "lis = [A, B, C]\n",
    "\n",
    "ans = \"No\"\n",
    "for i in range(1, 10):\n",
    "    if lis.count(i) == 2:\n",
    "        ans = \"Yes\"\n",
    "        break\n",
    "        \n",
    "print(ans)"
   ]
  },
  {
   "cell_type": "code",
   "execution_count": 6,
   "metadata": {},
   "outputs": [],
   "source": [
    "#B問題"
   ]
  },
  {
   "cell_type": "code",
   "execution_count": 10,
   "metadata": {},
   "outputs": [
    {
     "name": "stdout",
     "output_type": "stream",
     "text": [
      "5\n",
      "6 7 9 10 31\n",
      "APPROVED\n"
     ]
    }
   ],
   "source": [
    "import sys\n",
    "N = int(input())\n",
    "A = list(map(int, input().split()))\n",
    "\n",
    "for a in A:\n",
    "    if a % 2 == 0:\n",
    "        if a % 3 != 0 and a % 5 != 0:\n",
    "            print(\"DENIED\")\n",
    "            sys.exit(0)\n",
    "else:\n",
    "    print(\"APPROVED\")"
   ]
  },
  {
   "cell_type": "code",
   "execution_count": 11,
   "metadata": {},
   "outputs": [],
   "source": [
    "#C問題"
   ]
  },
  {
   "cell_type": "code",
   "execution_count": 64,
   "metadata": {},
   "outputs": [
    {
     "name": "stdout",
     "output_type": "stream",
     "text": [
      "5\n",
      "a\n",
      "a\n",
      "b\n",
      "b\n",
      "c\n",
      "a\n",
      "b\n"
     ]
    }
   ],
   "source": [
    "import collections\n",
    "N = int(input())\n",
    "S = [input() for n in range(N)]\n",
    "\n",
    "cnt = collections.Counter(S)\n",
    "m = max(cnt.values())\n",
    "\n",
    "ans = []\n",
    "for k, v in cnt.items():\n",
    "    if v == m:\n",
    "        ans.append(k)\n",
    "        \n",
    "ans.sort()\n",
    "for a in ans:\n",
    "    print(a)"
   ]
  },
  {
   "cell_type": "code",
   "execution_count": 36,
   "metadata": {},
   "outputs": [
    {
     "data": {
      "text/plain": [
       "2"
      ]
     },
     "execution_count": 36,
     "metadata": {},
     "output_type": "execute_result"
    }
   ],
   "source": [
    "7\n",
    "beat\n",
    "vet\n",
    "beet\n",
    "bed\n",
    "vet\n",
    "bet\n",
    "beet"
   ]
  },
  {
   "cell_type": "code",
   "execution_count": 60,
   "metadata": {},
   "outputs": [
    {
     "data": {
      "text/plain": [
       "{'beat': 1, 'bed': 1, 'beet': 2, 'bet': 1, 'vet': 2}"
      ]
     },
     "execution_count": 60,
     "metadata": {},
     "output_type": "execute_result"
    }
   ],
   "source": [
    "dict(sorted(cnt.items()))"
   ]
  },
  {
   "cell_type": "code",
   "execution_count": 61,
   "metadata": {},
   "outputs": [
    {
     "data": {
      "text/plain": [
       "2"
      ]
     },
     "execution_count": 61,
     "metadata": {},
     "output_type": "execute_result"
    }
   ],
   "source": [
    "m"
   ]
  },
  {
   "cell_type": "code",
   "execution_count": null,
   "metadata": {},
   "outputs": [],
   "source": []
  }
 ],
 "metadata": {
  "kernelspec": {
   "display_name": "Python 3",
   "language": "python",
   "name": "python3"
  },
  "language_info": {
   "codemirror_mode": {
    "name": "ipython",
    "version": 3
   },
   "file_extension": ".py",
   "mimetype": "text/x-python",
   "name": "python",
   "nbconvert_exporter": "python",
   "pygments_lexer": "ipython3",
   "version": "3.7.1"
  }
 },
 "nbformat": 4,
 "nbformat_minor": 2
}
