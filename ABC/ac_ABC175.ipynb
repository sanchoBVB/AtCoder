{
 "cells": [
  {
   "cell_type": "code",
   "execution_count": 1,
   "metadata": {},
   "outputs": [],
   "source": [
    "#A"
   ]
  },
  {
   "cell_type": "code",
   "execution_count": 22,
   "metadata": {},
   "outputs": [
    {
     "name": "stdout",
     "output_type": "stream",
     "text": [
      "RRR\n",
      "3\n"
     ]
    }
   ],
   "source": [
    "S = input()\n",
    "\n",
    "cnt = 0\n",
    "ans = []\n",
    "for s in S:\n",
    "    if s == \"R\":\n",
    "        cnt += 1\n",
    "    else:\n",
    "        ans.append(cnt)\n",
    "        cnt = 0\n",
    "ans.append(cnt)\n",
    "print(max(ans))"
   ]
  },
  {
   "cell_type": "code",
   "execution_count": 23,
   "metadata": {},
   "outputs": [],
   "source": [
    "#B"
   ]
  },
  {
   "cell_type": "code",
   "execution_count": 62,
   "metadata": {},
   "outputs": [
    {
     "name": "stdout",
     "output_type": "stream",
     "text": [
      "5\n",
      "4 4 9 7 5\n",
      "i 0\n",
      "j 1\n",
      "k 2\n",
      "k 3\n",
      "k 4\n",
      "j 2\n",
      "k 3\n",
      "k 4\n",
      "j 3\n",
      "k 4\n",
      "i 1\n",
      "j 2\n",
      "k 3\n",
      "k 4\n",
      "j 3\n",
      "k 4\n",
      "i 2\n",
      "j 3\n",
      "k 4\n",
      "5\n"
     ]
    }
   ],
   "source": [
    "import itertools\n",
    "N = int(input())\n",
    "L = list(map(int, input().split()))\n",
    "\n",
    "cnt = 0\n",
    "for i in range(N-2):\n",
    "    a = L[i]\n",
    "    for j in range(i+1, N-1):\n",
    "        b = L[j]\n",
    "        for k in range(j+1, N):\n",
    "            c = L[k]\n",
    "            if a != b and b != c and c != a:\n",
    "                m = [a, b, c]\n",
    "                o = max(m)\n",
    "                m.remove(o)\n",
    "                if o < sum(m):\n",
    "                    cnt += 1\n",
    "#cnt = list(map(list, set(map(tuple, cnt))))\n",
    "print(cnt)"
   ]
  },
  {
   "cell_type": "code",
   "execution_count": 63,
   "metadata": {},
   "outputs": [],
   "source": [
    "#C"
   ]
  },
  {
   "cell_type": "code",
   "execution_count": 21,
   "metadata": {},
   "outputs": [
    {
     "name": "stdout",
     "output_type": "stream",
     "text": [
      "7 4 5\n",
      "3\n"
     ]
    }
   ],
   "source": [
    "X, K, D = map(int, input().split())\n",
    "\n",
    "X = abs(X)\n",
    "\n",
    "if K <= int(X/D):\n",
    "    X -= D*K\n",
    "    print(abs(X))\n",
    "else:\n",
    "    K -= int(X/D)\n",
    "    X -= D*int(X/D)\n",
    "    if K % 2 == 0:\n",
    "        print(abs(X))\n",
    "    else:\n",
    "        print(abs(X-D))"
   ]
  },
  {
   "cell_type": "code",
   "execution_count": 20,
   "metadata": {},
   "outputs": [
    {
     "name": "stdout",
     "output_type": "stream",
     "text": [
      "7 4 5\n",
      "-3\n"
     ]
    }
   ],
   "source": [
    "import sys\n",
    "X, K, D = map(int, input().split())\n",
    "if X == D and K%2 == 0:\n",
    "    print(abs(X))\n",
    "    sys.exit(0)\n",
    "for _ in range(K):\n",
    "    if abs(X+D) > abs(X-D):\n",
    "        X -= D\n",
    "    else:\n",
    "        X += D\n",
    "print(X)"
   ]
  },
  {
   "cell_type": "code",
   "execution_count": null,
   "metadata": {},
   "outputs": [],
   "source": []
  }
 ],
 "metadata": {
  "kernelspec": {
   "display_name": "Python 3",
   "language": "python",
   "name": "python3"
  },
  "language_info": {
   "codemirror_mode": {
    "name": "ipython",
    "version": 3
   },
   "file_extension": ".py",
   "mimetype": "text/x-python",
   "name": "python",
   "nbconvert_exporter": "python",
   "pygments_lexer": "ipython3",
   "version": "3.6.4"
  }
 },
 "nbformat": 4,
 "nbformat_minor": 2
}
