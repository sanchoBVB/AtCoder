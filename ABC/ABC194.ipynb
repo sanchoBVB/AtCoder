{
 "cells": [
  {
   "cell_type": "code",
   "execution_count": 1,
   "metadata": {},
   "outputs": [],
   "source": [
    "#A"
   ]
  },
  {
   "cell_type": "code",
   "execution_count": 4,
   "metadata": {},
   "outputs": [
    {
     "name": "stdout",
     "output_type": "stream",
     "text": [
      "0 0\n",
      "4\n"
     ]
    }
   ],
   "source": [
    "A, B = map(int, input().split())\n",
    "\n",
    "c = A + B\n",
    "if c >= 15 and B >= 8:\n",
    "    print(1)\n",
    "elif c >= 10 and B >= 3:\n",
    "    print(2)\n",
    "elif c >= 3:\n",
    "    print(3)\n",
    "else:\n",
    "    print(4)"
   ]
  },
  {
   "cell_type": "code",
   "execution_count": 5,
   "metadata": {},
   "outputs": [],
   "source": [
    "#B"
   ]
  },
  {
   "cell_type": "code",
   "execution_count": 10,
   "metadata": {},
   "outputs": [
    {
     "name": "stdout",
     "output_type": "stream",
     "text": [
      "3\n",
      "11 7\n",
      "3 6\n",
      "2 7\n"
     ]
    }
   ],
   "source": [
    "N = int(input())\n",
    "\n",
    "A, B = [], []\n",
    "for _ in range(N):\n",
    "    a, b = map(int, input().split())\n",
    "    A.append(a)\n",
    "    B.append(b)\n",
    "    \n",
    "ans = 10**6+10**6\n",
    "for a in range(N):\n",
    "    for b in range(N):\n",
    "        if a == b:\n",
    "            ans = min(ans, A[a]+B[b])\n",
    "        else:\n",
    "            ans = min(ans, max(A[a], B[b]))\n",
    "            \n",
    "print(ans)"
   ]
  },
  {
   "cell_type": "code",
   "execution_count": 12,
   "metadata": {},
   "outputs": [],
   "source": [
    "#C"
   ]
  },
  {
   "cell_type": "code",
   "execution_count": 36,
   "metadata": {},
   "outputs": [
    {
     "name": "stdout",
     "output_type": "stream",
     "text": [
      "5\n",
      "-5 8 9 -4 -3\n"
     ]
    },
    {
     "data": {
      "text/plain": [
       "[1, 122, 123, 124]"
      ]
     },
     "execution_count": 36,
     "metadata": {},
     "output_type": "execute_result"
    }
   ],
   "source": [
    "import itertools\n",
    "import operator\n",
    "N = int(input())\n",
    "A = list(map(int, input().split()))\n",
    "A.sort(reverse=True)\n",
    "\n",
    "l = []\n",
    "for i in range(1, N):\n",
    "    l.append((A[i-1]-A[i])**2)\n",
    "ans = list(itertools.accumulate(l))\n",
    "ans"
   ]
  },
  {
   "cell_type": "code",
   "execution_count": null,
   "metadata": {},
   "outputs": [],
   "source": []
  }
 ],
 "metadata": {
  "kernelspec": {
   "display_name": "Python 3",
   "language": "python",
   "name": "python3"
  },
  "language_info": {
   "codemirror_mode": {
    "name": "ipython",
    "version": 3
   },
   "file_extension": ".py",
   "mimetype": "text/x-python",
   "name": "python",
   "nbconvert_exporter": "python",
   "pygments_lexer": "ipython3",
   "version": "3.6.4"
  }
 },
 "nbformat": 4,
 "nbformat_minor": 2
}
