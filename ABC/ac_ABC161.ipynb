{
 "cells": [
  {
   "cell_type": "code",
   "execution_count": 1,
   "metadata": {},
   "outputs": [
    {
     "name": "stdout",
     "output_type": "stream",
     "text": [
      "1 2 3\n",
      "3 1 2\n"
     ]
    }
   ],
   "source": [
    "X, Y, Z = map(int, input().split())\n",
    "print(Z, X, Y)"
   ]
  },
  {
   "cell_type": "code",
   "execution_count": 7,
   "metadata": {},
   "outputs": [
    {
     "name": "stdout",
     "output_type": "stream",
     "text": [
      "3 2\n",
      "380 19 1\n",
      "No\n"
     ]
    }
   ],
   "source": [
    "N, M = map(int, input().split())\n",
    "A = list(map(int, input().split()))\n",
    "a = sorted(A, reverse=True)\n",
    "s = \"Yes\"\n",
    "for i in range(M):\n",
    "    if a[i] < sum(a) * (1/(4*M)):\n",
    "        s = \"No\"\n",
    "        break\n",
    "print(s)"
   ]
  },
  {
   "cell_type": "code",
   "execution_count": 24,
   "metadata": {},
   "outputs": [
    {
     "name": "stdout",
     "output_type": "stream",
     "text": [
      "0 1\n",
      "0\n"
     ]
    }
   ],
   "source": [
    "N, K = map(int, input().split())\n",
    "\n",
    "if abs(N-K) < N:\n",
    "    if N >= K:\n",
    "        if N % K != 0:\n",
    "            if K/(N%K) > 1:\n",
    "                print(K%(N%K))\n",
    "            else:\n",
    "                print(N % K)\n",
    "        else:\n",
    "            print(0)\n",
    "    else:\n",
    "        if K % N != 0:\n",
    "            if N/(K%N) > 1:\n",
    "                print(N%(K%N))\n",
    "            else:\n",
    "                print(K % N)\n",
    "        else:\n",
    "            print(0)\n",
    "else:\n",
    "    print(N)"
   ]
  },
  {
   "cell_type": "code",
   "execution_count": 27,
   "metadata": {},
   "outputs": [
    {
     "name": "stdout",
     "output_type": "stream",
     "text": [
      "7 4\n",
      "1\n"
     ]
    }
   ],
   "source": [
    "n,k = map(int,input().split())\n",
    "\n",
    "r1 = n % k\n",
    "r2 = abs(k - r1)\n",
    "\n",
    "print(min(r1, r2))"
   ]
  },
  {
   "cell_type": "code",
   "execution_count": null,
   "metadata": {},
   "outputs": [],
   "source": []
  }
 ],
 "metadata": {
  "kernelspec": {
   "display_name": "Python 3",
   "language": "python",
   "name": "python3"
  },
  "language_info": {
   "codemirror_mode": {
    "name": "ipython",
    "version": 3
   },
   "file_extension": ".py",
   "mimetype": "text/x-python",
   "name": "python",
   "nbconvert_exporter": "python",
   "pygments_lexer": "ipython3",
   "version": "3.7.1"
  }
 },
 "nbformat": 4,
 "nbformat_minor": 2
}
