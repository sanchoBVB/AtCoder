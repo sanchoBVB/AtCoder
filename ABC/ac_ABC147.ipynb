{
 "cells": [
  {
   "cell_type": "code",
   "execution_count": 1,
   "metadata": {},
   "outputs": [
    {
     "name": "stdout",
     "output_type": "stream",
     "text": [
      "2 3 4\n",
      "win\n"
     ]
    }
   ],
   "source": [
    "a1, a2, a3 = map(int, input().split())\n",
    "\n",
    "if a1+a2+a3 >= 22:\n",
    "    print(\"bust\")\n",
    "else:\n",
    "    print(\"win\")"
   ]
  },
  {
   "cell_type": "code",
   "execution_count": 2,
   "metadata": {},
   "outputs": [],
   "source": [
    "#B"
   ]
  },
  {
   "cell_type": "code",
   "execution_count": 11,
   "metadata": {},
   "outputs": [
    {
     "name": "stdout",
     "output_type": "stream",
     "text": [
      "abcdabc\n",
      "2\n"
     ]
    }
   ],
   "source": [
    "S = list(input())\n",
    "V = list(reversed(S))\n",
    "\n",
    "cnt = 0\n",
    "for i in range(int(len(S)/2)):\n",
    "    if S[i] != V[i]:\n",
    "        cnt += 1\n",
    "print(cnt)"
   ]
  },
  {
   "cell_type": "code",
   "execution_count": 12,
   "metadata": {},
   "outputs": [],
   "source": [
    "#C"
   ]
  },
  {
   "cell_type": "code",
   "execution_count": 15,
   "metadata": {},
   "outputs": [
    {
     "name": "stdout",
     "output_type": "stream",
     "text": [
      "3\n",
      "1\n",
      "2 1\n",
      "1\n",
      "1 1\n",
      "1\n",
      "2 0\n"
     ]
    }
   ],
   "source": [
    "N = int(input())\n",
    "X = []\n",
    "for n in range(N):\n",
    "    A = int(input())\n",
    "    for a in range(A):\n",
    "        x, y = map(int, input().split())\n",
    "        X.append([n+1, x, y])"
   ]
  },
  {
   "cell_type": "code",
   "execution_count": 16,
   "metadata": {},
   "outputs": [
    {
     "data": {
      "text/plain": [
       "[[1, 2, 1], [2, 1, 1], [3, 2, 0]]"
      ]
     },
     "execution_count": 16,
     "metadata": {},
     "output_type": "execute_result"
    }
   ],
   "source": [
    "X"
   ]
  },
  {
   "cell_type": "code",
   "execution_count": null,
   "metadata": {},
   "outputs": [],
   "source": []
  }
 ],
 "metadata": {
  "kernelspec": {
   "display_name": "Python 3",
   "language": "python",
   "name": "python3"
  },
  "language_info": {
   "codemirror_mode": {
    "name": "ipython",
    "version": 3
   },
   "file_extension": ".py",
   "mimetype": "text/x-python",
   "name": "python",
   "nbconvert_exporter": "python",
   "pygments_lexer": "ipython3",
   "version": "3.6.4"
  }
 },
 "nbformat": 4,
 "nbformat_minor": 2
}
