{
 "cells": [
  {
   "cell_type": "code",
   "execution_count": 1,
   "metadata": {},
   "outputs": [],
   "source": [
    "#A"
   ]
  },
  {
   "cell_type": "code",
   "execution_count": 3,
   "metadata": {},
   "outputs": [
    {
     "name": "stdout",
     "output_type": "stream",
     "text": [
      "a\n",
      "a\n"
     ]
    }
   ],
   "source": [
    "a = input()\n",
    "\n",
    "if a.islower():\n",
    "    print(\"a\")\n",
    "else:\n",
    "    print(\"A\")"
   ]
  },
  {
   "cell_type": "code",
   "execution_count": 4,
   "metadata": {},
   "outputs": [],
   "source": [
    "#B"
   ]
  },
  {
   "cell_type": "code",
   "execution_count": 6,
   "metadata": {},
   "outputs": [
    {
     "name": "stdout",
     "output_type": "stream",
     "text": [
      "5 3\n",
      "50 100 80 120 80\n",
      "210\n"
     ]
    }
   ],
   "source": [
    "N, K = map(int, input().split())\n",
    "P = list(map(int, input().split()))\n",
    "\n",
    "ans = []\n",
    "for k in range(K):\n",
    "    ans.append(min(P))\n",
    "    P.remove(min(P))\n",
    "\n",
    "print(sum(ans))"
   ]
  },
  {
   "cell_type": "code",
   "execution_count": 7,
   "metadata": {},
   "outputs": [],
   "source": [
    "#C"
   ]
  },
  {
   "cell_type": "code",
   "execution_count": 4,
   "metadata": {},
   "outputs": [
    {
     "name": "stdout",
     "output_type": "stream",
     "text": [
      "123\n",
      "97\n",
      "2\n",
      "s\n",
      "sd\n",
      "ds\n"
     ]
    }
   ],
   "source": [
    "N = int(input())\n",
    "\n",
    "ans = \"\"\n",
    "for i in range(1, 99):\n",
    "    if N <= 26**i:\n",
    "        print(i)\n",
    "        N -= 1\n",
    "        for j in range(i):\n",
    "            ans += chr(ord(\"a\")+N%26)\n",
    "            print(ans)\n",
    "            N //= 26\n",
    "        break\n",
    "    else:\n",
    "        N -= 26**i\n",
    "        print(N)\n",
    "print(ans[::-1])"
   ]
  },
  {
   "cell_type": "code",
   "execution_count": 3,
   "metadata": {},
   "outputs": [
    {
     "data": {
      "text/plain": [
       "'ba'"
      ]
     },
     "execution_count": 3,
     "metadata": {},
     "output_type": "execute_result"
    }
   ],
   "source": [
    "ans"
   ]
  },
  {
   "cell_type": "code",
   "execution_count": 10,
   "metadata": {},
   "outputs": [],
   "source": [
    "#D"
   ]
  },
  {
   "cell_type": "code",
   "execution_count": 31,
   "metadata": {},
   "outputs": [
    {
     "name": "stdout",
     "output_type": "stream",
     "text": [
      "4\n",
      "1 2 3 4\n",
      "3\n",
      "1 2\n",
      "Counter({2: 1, 3: 1, 4: 1})\n",
      "3 4\n",
      "Counter({2: 1, 4: 1})\n",
      "2 4\n",
      "Counter({4: 1})\n"
     ]
    }
   ],
   "source": [
    "N = int(input())\n",
    "A = list(map(int, input().split()))\n",
    "Q = int(input())\n",
    "\n",
    "\n",
    "for q in range(Q):\n",
    "    b, c = map(int, input().split())\n",
    "    for n in range(N):\n",
    "        if b == A[n]:\n",
    "            A[n] = c\n",
    "    print(sum(A))"
   ]
  },
  {
   "cell_type": "code",
   "execution_count": 28,
   "metadata": {},
   "outputs": [
    {
     "data": {
      "text/plain": [
       "Counter({1: 1, 2: 1, 3: 1, 4: 1})"
      ]
     },
     "execution_count": 28,
     "metadata": {},
     "output_type": "execute_result"
    }
   ],
   "source": [
    "#正解\n",
    "n = int(input())\n",
    "\n",
    "a_list = [int(i) for i in input().split()]\n",
    "q = int(input())\n",
    "\n",
    "ary = [0 for _ in range((10**5) + 1)]\n",
    "\n",
    "for i in a_list:\n",
    "    ary[i] += 1\n",
    "\n",
    "ans = []\n",
    "\n",
    "f_ans = sum(a_list)\n",
    "for _ in range(q):\n",
    "    b, c = map(int, input().split())\n",
    "    f_ans += (c-b)*ary[b]\n",
    "    ary[c] += ary[b]\n",
    "    ary[b] = 0\n",
    "\n",
    "    ans.append(f_ans)\n",
    "\n",
    "for a in ans:\n",
    "    print(a)"
   ]
  },
  {
   "cell_type": "code",
   "execution_count": null,
   "metadata": {},
   "outputs": [],
   "source": []
  }
 ],
 "metadata": {
  "kernelspec": {
   "display_name": "Python 3",
   "language": "python",
   "name": "python3"
  },
  "language_info": {
   "codemirror_mode": {
    "name": "ipython",
    "version": 3
   },
   "file_extension": ".py",
   "mimetype": "text/x-python",
   "name": "python",
   "nbconvert_exporter": "python",
   "pygments_lexer": "ipython3",
   "version": "3.6.4"
  }
 },
 "nbformat": 4,
 "nbformat_minor": 2
}
