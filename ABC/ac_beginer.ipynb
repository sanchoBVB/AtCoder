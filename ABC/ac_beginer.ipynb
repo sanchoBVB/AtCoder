{
 "cells": [
  {
   "cell_type": "code",
   "execution_count": 2,
   "metadata": {},
   "outputs": [
    {
     "name": "stdout",
     "output_type": "stream",
     "text": [
      "1\n",
      "2 3\n",
      "test\n"
     ]
    }
   ],
   "source": [
    "a = int(input())\n",
    "b, c = map(int, input().split())\n",
    "s = input()"
   ]
  },
  {
   "cell_type": "code",
   "execution_count": 3,
   "metadata": {},
   "outputs": [
    {
     "name": "stdout",
     "output_type": "stream",
     "text": [
      "6 test\n"
     ]
    }
   ],
   "source": [
    "print(\"{} {}\".format(a+b+c, s))"
   ]
  },
  {
   "cell_type": "code",
   "execution_count": 4,
   "metadata": {},
   "outputs": [
    {
     "name": "stdout",
     "output_type": "stream",
     "text": [
      "0 0\n",
      "Even\n"
     ]
    }
   ],
   "source": [
    "a, b = map(int, input().split())\n",
    "if (a*b) % 2 == 0:\n",
    "    print(\"Even\")\n",
    "else:\n",
    "    print(\"Odd\")"
   ]
  },
  {
   "cell_type": "code",
   "execution_count": 11,
   "metadata": {},
   "outputs": [
    {
     "name": "stdout",
     "output_type": "stream",
     "text": [
      "101\n",
      "2\n"
     ]
    }
   ],
   "source": [
    "s = input()\n",
    "count = 0\n",
    "for i in range(3):\n",
    "    if s[i] == \"1\":\n",
    "        count += 1\n",
    "print(count)"
   ]
  },
  {
   "cell_type": "code",
   "execution_count": 24,
   "metadata": {},
   "outputs": [
    {
     "name": "stdout",
     "output_type": "stream",
     "text": [
      "3\n",
      "8 12 24\n",
      "2\n"
     ]
    }
   ],
   "source": [
    "N = int(input())\n",
    "A = list(map(int, input().split()))\n",
    "\n",
    "count = 0\n",
    "while all(i % 2 == 0 for i in A):\n",
    "    A = [i / 2 for i in A]\n",
    "    count += 1\n",
    "    \n",
    "print(count)"
   ]
  },
  {
   "cell_type": "code",
   "execution_count": 23,
   "metadata": {},
   "outputs": [
    {
     "data": {
      "text/plain": [
       "array(<map object at 0x10ad75390>, dtype=object)"
      ]
     },
     "execution_count": 23,
     "metadata": {},
     "output_type": "execute_result"
    }
   ],
   "source": [
    "a"
   ]
  },
  {
   "cell_type": "code",
   "execution_count": 9,
   "metadata": {},
   "outputs": [
    {
     "name": "stdout",
     "output_type": "stream",
     "text": [
      "2\n",
      "2\n",
      "2\n",
      "100\n",
      "2\n"
     ]
    }
   ],
   "source": [
    "A = int(input())\n",
    "B = int(input())\n",
    "C = int(input())\n",
    "X = int(input())\n",
    "\n",
    "count = 0\n",
    "for a in range(A+1):\n",
    "    for b in range(B+1):\n",
    "        for c in range(C+1):\n",
    "            if 500*a + 100*b + 50*c == X:\n",
    "                count += 1\n",
    "print(count)"
   ]
  },
  {
   "cell_type": "code",
   "execution_count": 5,
   "metadata": {},
   "outputs": [
    {
     "data": {
      "text/plain": [
       "[0, 1, 2]"
      ]
     },
     "execution_count": 5,
     "metadata": {},
     "output_type": "execute_result"
    }
   ],
   "source": [
    "mklist(A)"
   ]
  },
  {
   "cell_type": "code",
   "execution_count": 13,
   "metadata": {},
   "outputs": [
    {
     "name": "stdout",
     "output_type": "stream",
     "text": [
      "20 2 5\n",
      "84\n"
     ]
    }
   ],
   "source": [
    "N, A, B = map(int, input().split())\n",
    "\n",
    "ls = []\n",
    "for i in range(1, N+1):\n",
    "    s = sum(list(map(int, str(i))))\n",
    "    if s >= A and s <= B:\n",
    "        ls.append(i)\n",
    "print(sum(ls))"
   ]
  },
  {
   "cell_type": "code",
   "execution_count": 11,
   "metadata": {},
   "outputs": [
    {
     "data": {
      "text/plain": [
       "[2, 3, 4, 5, 2, 3, 4, 5, 2]"
      ]
     },
     "execution_count": 11,
     "metadata": {},
     "output_type": "execute_result"
    }
   ],
   "source": [
    "ls"
   ]
  },
  {
   "cell_type": "code",
   "execution_count": 42,
   "metadata": {},
   "outputs": [
    {
     "name": "stdout",
     "output_type": "stream",
     "text": [
      "3\n",
      "2 7 5\n",
      "4\n"
     ]
    }
   ],
   "source": [
    "N = int(input())\n",
    "a = list(map(int, input().split()))\n",
    "\n",
    "A = []\n",
    "B = []\n",
    "while bool(a) == True:\n",
    "    if not a:\n",
    "        break\n",
    "    A.append(max(a))\n",
    "    a.pop(a.index(max(a)))\n",
    "    if not a:\n",
    "        break\n",
    "    B.append(max(a))\n",
    "    a.pop(a.index(max(a)))\n",
    "print(abs(sum(A) - sum(B)))"
   ]
  },
  {
   "cell_type": "code",
   "execution_count": 54,
   "metadata": {},
   "outputs": [
    {
     "name": "stdout",
     "output_type": "stream",
     "text": [
      "7\n",
      "50\n",
      "30\n",
      "50\n",
      "100\n",
      "50\n",
      "80\n",
      "30\n",
      "4\n"
     ]
    }
   ],
   "source": [
    "N = int(input())\n",
    "d = []\n",
    "for i in range(1, N+1):\n",
    "    d.append(int(input()))\n",
    "d1 = list(set(d))\n",
    "\n",
    "print(len(d1))"
   ]
  },
  {
   "cell_type": "code",
   "execution_count": 52,
   "metadata": {},
   "outputs": [
    {
     "data": {
      "text/plain": [
       "[100, 50]"
      ]
     },
     "execution_count": 52,
     "metadata": {},
     "output_type": "execute_result"
    }
   ],
   "source": [
    "d2"
   ]
  },
  {
   "cell_type": "code",
   "execution_count": 2,
   "metadata": {},
   "outputs": [
    {
     "name": "stdout",
     "output_type": "stream",
     "text": [
      "20 196000\n",
      "-1 -1 -1\n"
     ]
    }
   ],
   "source": [
    "import sys\n",
    "N, Y = map(int, input().split())\n",
    "\n",
    "x = [N+1]\n",
    "y = [N+1]\n",
    "z = [N+1]\n",
    "for i1 in range(N+1):\n",
    "    for i2 in range(N+1):\n",
    "        i3 = N - (i1 + i2)\n",
    "        if 10000*i1 + 5000*i2 + 1000*i3 == Y:\n",
    "            if i3 >= 0:\n",
    "                print(i1, i2, i3)\n",
    "                sys.exit()\n",
    "                \n",
    "print(-1, -1, -1)"
   ]
  },
  {
   "cell_type": "code",
   "execution_count": 19,
   "metadata": {},
   "outputs": [
    {
     "name": "stdout",
     "output_type": "stream",
     "text": [
      "errrdreamer\n",
      "No\n"
     ]
    }
   ],
   "source": [
    "S = input()\n",
    "\n",
    "while len(S) >= 5:\n",
    "    if S[-5:] == 'dream' or S[-5:] == 'erase':\n",
    "        S = S[:-5]\n",
    "        continue\n",
    "    elif S[-6:] == 'eraser':\n",
    "        S = S[:-6]\n",
    "        continue\n",
    "    elif S[-7:] == 'dreamer':\n",
    "        S = S[:-7]\n",
    "        continue\n",
    "    else:\n",
    "        break\n",
    "if len(S) == 0:\n",
    "    print(\"YES\")\n",
    "else:\n",
    "    print(\"NO\")"
   ]
  },
  {
   "cell_type": "code",
   "execution_count": 8,
   "metadata": {},
   "outputs": [
    {
     "name": "stdout",
     "output_type": "stream",
     "text": [
      "2\n",
      "5 1 1\n",
      "100 1 1\n",
      "No\n"
     ]
    }
   ],
   "source": [
    "N = int(input())\n",
    "T = [0]\n",
    "X = [0]\n",
    "Y = [0]\n",
    "s = \"Yes\"\n",
    "for i in range(N):\n",
    "    t, x, y = map(int, input().split())\n",
    "    T.append(t)\n",
    "    X.append(x)\n",
    "    Y.append(y)\n",
    "for i in range(N):\n",
    "    if abs(X[i+1] - X[i]) + abs(Y[i+1] - Y[i]) > abs(T[i+1] - T[i]):\n",
    "        s = \"No\"\n",
    "        break\n",
    "    if abs(X[i+1] + Y[i+1] - T[i+1]) % 2 != 0:\n",
    "        s = \"No\"\n",
    "        break\n",
    "print(s)"
   ]
  },
  {
   "cell_type": "code",
   "execution_count": 2,
   "metadata": {},
   "outputs": [
    {
     "name": "stdout",
     "output_type": "stream",
     "text": [
      "[0, 3, 6] [0, 1, 1] [0, 2, 1]\n"
     ]
    }
   ],
   "source": [
    "print(T, X, Y)"
   ]
  },
  {
   "cell_type": "code",
   "execution_count": null,
   "metadata": {},
   "outputs": [],
   "source": []
  }
 ],
 "metadata": {
  "kernelspec": {
   "display_name": "Python 3",
   "language": "python",
   "name": "python3"
  },
  "language_info": {
   "codemirror_mode": {
    "name": "ipython",
    "version": 3
   },
   "file_extension": ".py",
   "mimetype": "text/x-python",
   "name": "python",
   "nbconvert_exporter": "python",
   "pygments_lexer": "ipython3",
   "version": "3.7.1"
  }
 },
 "nbformat": 4,
 "nbformat_minor": 2
}
