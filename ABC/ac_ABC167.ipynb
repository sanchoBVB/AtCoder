{
 "cells": [
  {
   "cell_type": "code",
   "execution_count": 5,
   "metadata": {},
   "outputs": [
    {
     "name": "stdout",
     "output_type": "stream",
     "text": [
      "chokudai\n",
      "chokudaiz\n",
      "Yes\n"
     ]
    }
   ],
   "source": [
    "S = input()\n",
    "T = input()\n",
    "\n",
    "if len(S) + 1 == len(T) and S == T[:-1]:\n",
    "    print(\"Yes\")\n",
    "else:\n",
    "    print(\"No\")"
   ]
  },
  {
   "cell_type": "code",
   "execution_count": 4,
   "metadata": {},
   "outputs": [
    {
     "data": {
      "text/plain": [
       "'chokuda'"
      ]
     },
     "execution_count": 4,
     "metadata": {},
     "output_type": "execute_result"
    }
   ],
   "source": [
    "#B問題"
   ]
  },
  {
   "cell_type": "code",
   "execution_count": 10,
   "metadata": {},
   "outputs": [
    {
     "name": "stdout",
     "output_type": "stream",
     "text": [
      "2000000000 0 0 2000000000\n",
      "2000000000\n"
     ]
    }
   ],
   "source": [
    "A, B, C, K = map(int, input().split())\n",
    "\n",
    "ans = 0\n",
    "if K > A:\n",
    "    K = K - A\n",
    "    if K > B:\n",
    "        K = K - B\n",
    "        ans += A - K\n",
    "    else:\n",
    "        ans += A\n",
    "else:\n",
    "    ans += K\n",
    "\n",
    "print(ans)"
   ]
  },
  {
   "cell_type": "code",
   "execution_count": 11,
   "metadata": {},
   "outputs": [],
   "source": [
    "#C問題"
   ]
  },
  {
   "cell_type": "code",
   "execution_count": 3,
   "metadata": {},
   "outputs": [
    {
     "name": "stdout",
     "output_type": "stream",
     "text": [
      "3 3 10\n",
      "60 2 2 4\n",
      "70 8 7 9\n",
      "50 2 3 9\n"
     ]
    }
   ],
   "source": [
    "N, M, X = map(int, input().split())\n",
    "C = []\n",
    "A = []\n",
    "for n in range(N):\n",
    "    ca = list(map(int, input().split()))\n",
    "    C.append(ca[0])\n",
    "    A.append(ca[1:])\n",
    "\n",
    "bit = []\n",
    "for i in range(2**N):\n",
    "    cnt = [0] * M\n",
    "    for j in range(N):\n",
    "        if i >> j & 1:\n",
    "            cnt[j] = 1\n",
    "    bit.append(cnt)\n"
   ]
  },
  {
   "cell_type": "code",
   "execution_count": 30,
   "metadata": {},
   "outputs": [
    {
     "name": "stdout",
     "output_type": "stream",
     "text": [
      "3 3 10\n",
      "60 2 2 4\n",
      "70 8 7 9\n",
      "50 2 3 9\n",
      "120\n"
     ]
    }
   ],
   "source": [
    "N, M, X = map(int, input().split())\n",
    "C = []\n",
    "A = []\n",
    "for n in range(N):\n",
    "    ca = list(map(int, input().split()))\n",
    "    C.append(ca[0])\n",
    "    A.append(ca[1:])\n",
    "\n",
    "INF = float(\"inf\")\n",
    "ans = INF\n",
    "def check(learn_total):\n",
    "    for i in range(M):\n",
    "        if learn_total[i] < X:\n",
    "            return False  # 1個でもx未満ならFalse\n",
    "    return True # 全部x以上ならTrue\n",
    "\n",
    "def calc_price(bit):\n",
    "    price_total = 0  # 値段の合計\n",
    "    learn_total = [0] * M  # 理解度\n",
    "\n",
    "    for i in range(N):\n",
    "        if (bit >> i) & 1:  # i桁目が0か1か見て、i冊目を買うか買わないか判定します\n",
    "            price_total += C[i]  # 買うので、i冊目の値段を加算します\n",
    "            learn = A[i]  # 「i冊目の参考書を読んで増える、各アルゴリズムの理解度」のリストです\n",
    "            for j, la in enumerate(learn):  # 理解度を加算します enumerateを使うと、range(n)よりスマートです\n",
    "                learn_total[j] += la\n",
    "\n",
    "    # 条件を満たすか、check関数で確認します\n",
    "    if check(learn_total):\n",
    "        return price_total # 条件を満たすので、値段を返します\n",
    "    else:\n",
    "        return INF # 条件を満たさないので、INFを返します\n",
    "    \n",
    "for bit in range(2**N):\n",
    "    price = calc_price(bit)  # 条件を満たすならそのときの値段、満たさないならINFが返ってきます\n",
    "    ans = min(ans, price)  # 答えを更新します\n",
    "\n",
    "if ans == INF:\n",
    "    print(-1)  # どうやっても条件を満たせなかった\n",
    "else:\n",
    "    print(ans)"
   ]
  },
  {
   "cell_type": "code",
   "execution_count": 32,
   "metadata": {},
   "outputs": [
    {
     "data": {
      "text/plain": [
       "8"
      ]
     },
     "execution_count": 32,
     "metadata": {},
     "output_type": "execute_result"
    }
   ],
   "source": [
    "2**N"
   ]
  },
  {
   "cell_type": "code",
   "execution_count": null,
   "metadata": {},
   "outputs": [],
   "source": []
  }
 ],
 "metadata": {
  "kernelspec": {
   "display_name": "Python 3",
   "language": "python",
   "name": "python3"
  },
  "language_info": {
   "codemirror_mode": {
    "name": "ipython",
    "version": 3
   },
   "file_extension": ".py",
   "mimetype": "text/x-python",
   "name": "python",
   "nbconvert_exporter": "python",
   "pygments_lexer": "ipython3",
   "version": "3.6.4"
  }
 },
 "nbformat": 4,
 "nbformat_minor": 2
}
