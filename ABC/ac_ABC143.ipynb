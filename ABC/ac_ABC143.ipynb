{
 "cells": [
  {
   "cell_type": "code",
   "execution_count": 1,
   "metadata": {},
   "outputs": [],
   "source": [
    "#A"
   ]
  },
  {
   "cell_type": "code",
   "execution_count": 2,
   "metadata": {},
   "outputs": [
    {
     "name": "stdout",
     "output_type": "stream",
     "text": [
      "12 4\n",
      "4\n"
     ]
    }
   ],
   "source": [
    "A, B = map(int, input().split())\n",
    "\n",
    "ans = A-(B*2)\n",
    "if ans >= 0:\n",
    "    print(ans)\n",
    "else:\n",
    "    print(0)"
   ]
  },
  {
   "cell_type": "code",
   "execution_count": 3,
   "metadata": {},
   "outputs": [],
   "source": [
    "#B"
   ]
  },
  {
   "cell_type": "code",
   "execution_count": 6,
   "metadata": {},
   "outputs": [
    {
     "name": "stdout",
     "output_type": "stream",
     "text": [
      "3\n",
      "3 1 2\n",
      "11\n"
     ]
    }
   ],
   "source": [
    "import itertools\n",
    "N = int(input())\n",
    "D = list(map(int, input().split()))\n",
    "\n",
    "D = list(itertools.combinations(D, 2))\n",
    "\n",
    "ans = 0\n",
    "for d in D:\n",
    "    ans += d[0]*d[1]\n",
    "\n",
    "print(ans)"
   ]
  },
  {
   "cell_type": "code",
   "execution_count": 7,
   "metadata": {},
   "outputs": [],
   "source": [
    "#C"
   ]
  },
  {
   "cell_type": "code",
   "execution_count": 14,
   "metadata": {},
   "outputs": [
    {
     "name": "stdout",
     "output_type": "stream",
     "text": [
      "10\n",
      "aabbbbaaca\n",
      "abaca\n"
     ]
    }
   ],
   "source": [
    "N = int(input())\n",
    "S = input()\n",
    "S = list(S)\n",
    "\n",
    "d = []\n",
    "for n in range(1, N):\n",
    "    if S[n-1] == S[n]:\n",
    "        d.append(n)\n",
    "\n",
    "cnt = 0\n",
    "for i in d:\n",
    "    i -= cnt\n",
    "    del S[i]\n",
    "    cnt += 1\n",
    "    \n",
    "print(len(S))"
   ]
  },
  {
   "cell_type": "code",
   "execution_count": 15,
   "metadata": {},
   "outputs": [],
   "source": [
    "#D"
   ]
  },
  {
   "cell_type": "code",
   "execution_count": 21,
   "metadata": {},
   "outputs": [
    {
     "name": "stdout",
     "output_type": "stream",
     "text": [
      "7\n",
      "218 786 704 233 645 728 389\n",
      "23\n"
     ]
    }
   ],
   "source": [
    "import itertools\n",
    "N = int(input())\n",
    "L = list(map(int, input().split()))\n",
    "L = list(itertools.combinations(L, 3))\n",
    "\n",
    "cnt = 0\n",
    "for l in L:\n",
    "    l = list(l)\n",
    "    m = max(l)\n",
    "    l.remove(m)\n",
    "    if m < sum(l):\n",
    "        cnt += 1\n",
    "        \n",
    "print(cnt)"
   ]
  },
  {
   "cell_type": "code",
   "execution_count": 38,
   "metadata": {},
   "outputs": [
    {
     "name": "stdout",
     "output_type": "stream",
     "text": [
      "7\n",
      "218 786 704 233 645 728 389\n",
      "23\n"
     ]
    }
   ],
   "source": [
    "from numba import njit\n",
    "N = int(input())\n",
    "L = list(map(int, input().split()))\n",
    "L.sort()\n",
    "\n",
    "@njit\n",
    "def solve(L):\n",
    "    cnt = 0\n",
    "    for i in range(N-2):\n",
    "        a = L[i]\n",
    "        for j in range(i+1, N-1):\n",
    "            b = L[j]\n",
    "            for k in range(j+1, N):\n",
    "                cnt += a+b > L[k]\n",
    "    return cnt\n",
    "print(solve(L))"
   ]
  },
  {
   "cell_type": "code",
   "execution_count": null,
   "metadata": {},
   "outputs": [],
   "source": []
  }
 ],
 "metadata": {
  "kernelspec": {
   "display_name": "Python 3",
   "language": "python",
   "name": "python3"
  },
  "language_info": {
   "codemirror_mode": {
    "name": "ipython",
    "version": 3
   },
   "file_extension": ".py",
   "mimetype": "text/x-python",
   "name": "python",
   "nbconvert_exporter": "python",
   "pygments_lexer": "ipython3",
   "version": "3.6.4"
  }
 },
 "nbformat": 4,
 "nbformat_minor": 2
}
