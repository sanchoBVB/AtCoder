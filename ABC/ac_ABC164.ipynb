{
 "cells": [
  {
   "cell_type": "code",
   "execution_count": 1,
   "metadata": {},
   "outputs": [
    {
     "name": "stdout",
     "output_type": "stream",
     "text": [
      "4 5\n",
      "unsafe\n"
     ]
    }
   ],
   "source": [
    "#A問題"
   ]
  },
  {
   "cell_type": "code",
   "execution_count": 2,
   "metadata": {},
   "outputs": [
    {
     "name": "stdout",
     "output_type": "stream",
     "text": [
      "4 5\n",
      "unsafe\n"
     ]
    }
   ],
   "source": [
    "S, W = map(int, input().split())\n",
    "\n",
    "if W >= S:\n",
    "    print(\"unsafe\")\n",
    "else:\n",
    "    print(\"safe\")"
   ]
  },
  {
   "cell_type": "code",
   "execution_count": 3,
   "metadata": {},
   "outputs": [],
   "source": [
    "#B問題"
   ]
  },
  {
   "cell_type": "code",
   "execution_count": 6,
   "metadata": {},
   "outputs": [
    {
     "name": "stdout",
     "output_type": "stream",
     "text": [
      "46 4 40 5\n",
      "Yes\n"
     ]
    },
    {
     "ename": "SystemExit",
     "evalue": "0",
     "output_type": "error",
     "traceback": [
      "An exception has occurred, use %tb to see the full traceback.\n",
      "\u001b[0;31mSystemExit\u001b[0m\u001b[0;31m:\u001b[0m 0\n"
     ]
    }
   ],
   "source": [
    "import sys\n",
    "A, B, C, D = map(int, input().split())\n",
    "\n",
    "while True:\n",
    "    C -= B\n",
    "    if C <= 0:\n",
    "        print(\"Yes\")\n",
    "        sys.exit(0)\n",
    "    A -= D\n",
    "    if A <= 0:\n",
    "        print(\"No\")\n",
    "        sys.exit(0)"
   ]
  },
  {
   "cell_type": "code",
   "execution_count": 7,
   "metadata": {},
   "outputs": [],
   "source": [
    "#C問題"
   ]
  },
  {
   "cell_type": "code",
   "execution_count": 12,
   "metadata": {},
   "outputs": [
    {
     "name": "stdout",
     "output_type": "stream",
     "text": [
      "4\n",
      "aaaa\n",
      "aaa\n",
      "aa\n",
      "a\n",
      "4\n"
     ]
    }
   ],
   "source": [
    "N = int(input())\n",
    "S1 = []\n",
    "for n in range(N):\n",
    "    s = input()\n",
    "    S1.append(s)\n",
    "\n",
    "S2 = list(set(S1))\n",
    "print(len(S2))"
   ]
  },
  {
   "cell_type": "code",
   "execution_count": 13,
   "metadata": {},
   "outputs": [],
   "source": [
    "#D問題"
   ]
  },
  {
   "cell_type": "code",
   "execution_count": 41,
   "metadata": {},
   "outputs": [
    {
     "name": "stdout",
     "output_type": "stream",
     "text": [
      "1817181712114\n",
      "3\n"
     ]
    }
   ],
   "source": [
    "import time\n",
    "S = input()\n",
    "\n",
    "cnt = 0\n",
    "for i in range(0, len(S)-3):\n",
    "    for j in range(3, len(S)):\n",
    "        \n",
    "        sij = S[i:j+1]\n",
    "        if len(sij) > 3 and len(sij) <= 200000:\n",
    "            sij = int(sij)\n",
    "            if sij % 2019 == 0 and i <= j:\n",
    "                cnt += 1\n",
    "\n",
    "print(cnt)"
   ]
  },
  {
   "cell_type": "code",
   "execution_count": 10,
   "metadata": {},
   "outputs": [
    {
     "name": "stdout",
     "output_type": "stream",
     "text": [
      "181712114\n",
      "2\n",
      "0.00041103363037109375\n"
     ]
    }
   ],
   "source": [
    "import time\n",
    "\n",
    "S = input()\n",
    "start = time.time()\n",
    "sij = [int(S[i:j+1]) % 2019 == 0 for i in range(0, len(S)-3) for j in range(3, len(S)) if len(S[i:j+1]) > 3 and len(S[i:j+1]) <= 200000 and i <= j]\n",
    "\n",
    "print(sij.count(True))\n",
    "\n",
    "end = time.time()\n",
    "tm = end - start\n",
    "print(tm)"
   ]
  },
  {
   "cell_type": "code",
   "execution_count": 58,
   "metadata": {},
   "outputs": [
    {
     "name": "stdout",
     "output_type": "stream",
     "text": [
      "1817181712114\n",
      "0\n"
     ]
    }
   ],
   "source": [
    "S = input()\n",
    "\n",
    "i = 0\n",
    "j = 4\n",
    "n = [str(a) for a in range(2019, 200000) if a % 2019 == 0]\n",
    "cnt = 0\n",
    "for a in range(1, N:\n",
    "    j += 1\n",
    "    if j - i == 6:\n",
    "            i += 1\n",
    "    if S[i:j] == str(s):\n",
    "        cnt += 1\n",
    "\n",
    "print(cnt)"
   ]
  },
  {
   "cell_type": "code",
   "execution_count": 1,
   "metadata": {},
   "outputs": [
    {
     "name": "stdout",
     "output_type": "stream",
     "text": [
      "1817181712114\n",
      "3\n"
     ]
    }
   ],
   "source": [
    "S = list(map(int, list(input())))\n",
    "\n",
    "MOD = 2019\n",
    "\n",
    "mods = [0 for _ in range(2019)]\n",
    "mods[0] = 1\n",
    "\n",
    "num = 0\n",
    "digit = 1\n",
    "for s in S[::-1]:\n",
    "    num = s * digit + num\n",
    "    num %= MOD\n",
    "    mods[num] += 1\n",
    "    digit = (digit * 10) % MOD\n",
    "\n",
    "ans = 0\n",
    "for m in mods:\n",
    "    ans += m * (m - 1) // 2\n",
    "\n",
    "print(ans)"
   ]
  },
  {
   "cell_type": "code",
   "execution_count": 2,
   "metadata": {},
   "outputs": [
    {
     "data": {
      "text/plain": [
       "[4, 1, 1, 2, 1, 7, 1, 8, 1, 7, 1, 8, 1]"
      ]
     },
     "execution_count": 2,
     "metadata": {},
     "output_type": "execute_result"
    }
   ],
   "source": [
    "S[::-1]"
   ]
  },
  {
   "cell_type": "code",
   "execution_count": null,
   "metadata": {},
   "outputs": [],
   "source": []
  }
 ],
 "metadata": {
  "kernelspec": {
   "display_name": "Python 3",
   "language": "python",
   "name": "python3"
  },
  "language_info": {
   "codemirror_mode": {
    "name": "ipython",
    "version": 3
   },
   "file_extension": ".py",
   "mimetype": "text/x-python",
   "name": "python",
   "nbconvert_exporter": "python",
   "pygments_lexer": "ipython3",
   "version": "3.7.1"
  }
 },
 "nbformat": 4,
 "nbformat_minor": 2
}
