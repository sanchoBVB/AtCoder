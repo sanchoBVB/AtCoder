{
 "cells": [
  {
   "cell_type": "code",
   "execution_count": 2,
   "metadata": {},
   "outputs": [
    {
     "name": "stdout",
     "output_type": "stream",
     "text": [
      "2\n",
      "1.0\n"
     ]
    }
   ],
   "source": [
    "#A問題"
   ]
  },
  {
   "cell_type": "code",
   "execution_count": null,
   "metadata": {},
   "outputs": [],
   "source": [
    "N = int(input())\n",
    "\n",
    "if N % 2 == 0:\n",
    "    print(int(N/2))\n",
    "else:\n",
    "    print(int(N/2) + 1)"
   ]
  },
  {
   "cell_type": "code",
   "execution_count": null,
   "metadata": {},
   "outputs": [],
   "source": [
    "#B問題"
   ]
  },
  {
   "cell_type": "code",
   "execution_count": 44,
   "metadata": {},
   "outputs": [
    {
     "name": "stdout",
     "output_type": "stream",
     "text": [
      "1 2 3\n",
      "4 5 6\n",
      "7 8 9\n",
      "5\n",
      "10\n",
      "10\n",
      "10\n",
      "10\n",
      "10\n",
      "No\n"
     ]
    }
   ],
   "source": [
    "import sys\n",
    "A = []\n",
    "for i in range(3):\n",
    "    a = list(map(int, input().split()))\n",
    "    A.append(a)\n",
    "\n",
    "N = int(input())\n",
    "B = []\n",
    "for n in range(N):\n",
    "    b = int(input())\n",
    "    B.append(b)\n",
    "\n",
    "for y in range(3):\n",
    "    for z in range(3):\n",
    "        for x in B:\n",
    "            if x == A[y][z]:\n",
    "                A[y][z] = -1\n",
    "\n",
    "for i in range(3):\n",
    "    if A[i] == [-1, -1, -1]:\n",
    "        print(\"Yes\")\n",
    "        sys.exit(0)\n",
    "for i in range(3):\n",
    "    if A[0][i] + A[1][i] + A[2][i] == -3:\n",
    "        print(\"Yes\")\n",
    "        sys.exit(0)\n",
    "if A[0][0] + A[1][1] + A[2][2] == -3:\n",
    "    print(\"Yes\")\n",
    "    sys.exit(0)\n",
    "if A[2][0] + A[1][1] + A[0][2] == -3:\n",
    "    print(\"Yes\")\n",
    "    sys.exit(0)\n",
    "    \n",
    "print(\"No\")"
   ]
  },
  {
   "cell_type": "code",
   "execution_count": 41,
   "metadata": {},
   "outputs": [
    {
     "data": {
      "text/plain": [
       "[[0, 2, 3], [4, 0, 6], [7, 8, 0]]"
      ]
     },
     "execution_count": 41,
     "metadata": {},
     "output_type": "execute_result"
    }
   ],
   "source": [
    "#C問題"
   ]
  },
  {
   "cell_type": "code",
   "execution_count": 37,
   "metadata": {},
   "outputs": [
    {
     "name": "stdout",
     "output_type": "stream",
     "text": [
      "3 3\n",
      "1 7\n",
      "3 2\n",
      "1 7\n"
     ]
    },
    {
     "ename": "IndexError",
     "evalue": "list index out of range",
     "output_type": "error",
     "traceback": [
      "\u001b[0;31m---------------------------------------------------------------------------\u001b[0m",
      "\u001b[0;31mIndexError\u001b[0m                                Traceback (most recent call last)",
      "\u001b[0;32m<ipython-input-37-35a0f668431f>\u001b[0m in \u001b[0;36m<module>\u001b[0;34m\u001b[0m\n\u001b[1;32m     60\u001b[0m     \u001b[0ml1\u001b[0m \u001b[0;34m=\u001b[0m \u001b[0;34m[\u001b[0m\u001b[0;34m]\u001b[0m\u001b[0;34m\u001b[0m\u001b[0;34m\u001b[0m\u001b[0m\n\u001b[1;32m     61\u001b[0m     \u001b[0;32mfor\u001b[0m \u001b[0mm\u001b[0m \u001b[0;32min\u001b[0m \u001b[0mrange\u001b[0m\u001b[0;34m(\u001b[0m\u001b[0mM\u001b[0m\u001b[0;34m)\u001b[0m\u001b[0;34m:\u001b[0m\u001b[0;34m\u001b[0m\u001b[0;34m\u001b[0m\u001b[0m\n\u001b[0;32m---> 62\u001b[0;31m         \u001b[0;32mif\u001b[0m \u001b[0msc\u001b[0m\u001b[0;34m[\u001b[0m\u001b[0mm\u001b[0m\u001b[0;34m]\u001b[0m\u001b[0;34m[\u001b[0m\u001b[0;36m0\u001b[0m\u001b[0;34m]\u001b[0m \u001b[0;34m==\u001b[0m \u001b[0;36m1\u001b[0m \u001b[0;32mand\u001b[0m \u001b[0msc\u001b[0m\u001b[0;34m[\u001b[0m\u001b[0mm\u001b[0m\u001b[0;34m]\u001b[0m\u001b[0;34m[\u001b[0m\u001b[0;36m1\u001b[0m\u001b[0;34m]\u001b[0m \u001b[0;34m>\u001b[0m \u001b[0;36m0\u001b[0m\u001b[0;34m:\u001b[0m\u001b[0;34m\u001b[0m\u001b[0;34m\u001b[0m\u001b[0m\n\u001b[0m\u001b[1;32m     63\u001b[0m             \u001b[0ml1\u001b[0m\u001b[0;34m.\u001b[0m\u001b[0mappend\u001b[0m\u001b[0;34m(\u001b[0m\u001b[0msc\u001b[0m\u001b[0;34m[\u001b[0m\u001b[0mm\u001b[0m\u001b[0;34m]\u001b[0m\u001b[0;34m[\u001b[0m\u001b[0;36m1\u001b[0m\u001b[0;34m]\u001b[0m\u001b[0;34m)\u001b[0m\u001b[0;34m\u001b[0m\u001b[0;34m\u001b[0m\u001b[0m\n\u001b[1;32m     64\u001b[0m     \u001b[0;32mif\u001b[0m \u001b[0mlen\u001b[0m\u001b[0;34m(\u001b[0m\u001b[0ml1\u001b[0m\u001b[0;34m)\u001b[0m \u001b[0;34m==\u001b[0m \u001b[0;36m0\u001b[0m \u001b[0;32mor\u001b[0m \u001b[0mlen\u001b[0m\u001b[0;34m(\u001b[0m\u001b[0ml1\u001b[0m\u001b[0;34m)\u001b[0m \u001b[0;34m>\u001b[0m \u001b[0;36m1\u001b[0m\u001b[0;34m:\u001b[0m\u001b[0;34m\u001b[0m\u001b[0;34m\u001b[0m\u001b[0m\n",
      "\u001b[0;31mIndexError\u001b[0m: list index out of range"
     ]
    }
   ],
   "source": [
    "import sys\n",
    "N, M = map(int, input().split())\n",
    "\n",
    "if N == 1:\n",
    "    sc = []\n",
    "    for m in range(M):\n",
    "        s, c = map(int, input().split())\n",
    "        sc.append(c)\n",
    "    sc = set(sc)\n",
    "    if len(sc) == 0:\n",
    "        print(0)\n",
    "        sys.exit(0)\n",
    "    elif len(sc) == 1:\n",
    "        print(sc[0])\n",
    "        sys.exit(0)\n",
    "    else:\n",
    "        print(-1)\n",
    "        sys.exit(0)\n",
    "        \n",
    "if N == 2:\n",
    "    sc = []\n",
    "    for m in range(M):\n",
    "        s, c = map(int, input().split())\n",
    "        sc.append([s, c])\n",
    "    sc = list(map(list, set(map(tuple, sc))))\n",
    "    \n",
    "    l1 = []\n",
    "    for m in range(M):\n",
    "        if sc[m][0] == 1 and sc[m][1] > 0:\n",
    "            l1.append(sc[m][1])\n",
    "    if len(l1) == 0 or len(l1) > 1:\n",
    "        print(-1)\n",
    "        sys.exit(0)\n",
    "    else:\n",
    "        lank1 = min(l1)\n",
    "    \n",
    "    l2 = []\n",
    "    for m in range(M):\n",
    "        if sc[m][0] == 2:\n",
    "            l2.append(sc[m][1])\n",
    "    if len(l2) == 0:\n",
    "        lank2 = 0\n",
    "    elif len(l2) == 1:\n",
    "        lank2 = min(l2)\n",
    "    else:\n",
    "        print(-1)\n",
    "        sys.exit(0)\n",
    "    \n",
    "    ans = lank1 * 10 + lank2\n",
    "    print(ans)\n",
    "    sys.exit(0)\n",
    "    \n",
    "if N == 3:\n",
    "    sc = []\n",
    "    for m in range(M):\n",
    "        s, c = map(int, input().split())\n",
    "        sc.append([s, c])\n",
    "    sc = list(map(list, set(map(tuple, sc))))    \n",
    "    \n",
    "    l1 = []\n",
    "    for m in range(M):\n",
    "        if sc[m][0] == 1 and sc[m][1] > 0:\n",
    "            l1.append(sc[m][1])\n",
    "    if len(l1) == 0 or len(l1) > 1:\n",
    "        print(-1)\n",
    "        sys.exit(0)\n",
    "    else:\n",
    "        lank1 = min(l1)\n",
    "    \n",
    "    l2 = []\n",
    "    for m in range(M):\n",
    "        if sc[m][0] == 2:\n",
    "            l2.append(sc[m][1])\n",
    "    if len(l2) == 0:\n",
    "        lank2 = 0\n",
    "    elif len(l2) == 1:\n",
    "        lank2 = min(l2)\n",
    "    else:\n",
    "        print(-1)\n",
    "        sys.exit(0)\n",
    "    \n",
    "    l3 = []\n",
    "    for m in range(M):\n",
    "        if sc[m][0] == 3:\n",
    "            l3.append(sc[m][1])\n",
    "    if len(l3) == 0:\n",
    "        lank3 = 0\n",
    "    elif len(l3) == 1:\n",
    "        lank3 = min(l3)\n",
    "    else:\n",
    "        print(-1)\n",
    "        sys.exit(0)\n",
    "    \n",
    "    ans = lank1 * 100 + lank2 * 10 + lank3\n",
    "    print(ans)\n",
    "    sys.exit(0)"
   ]
  },
  {
   "cell_type": "code",
   "execution_count": 2,
   "metadata": {},
   "outputs": [
    {
     "data": {
      "text/plain": [
       "[(1, 7), (3, 2), (1, 7)]"
      ]
     },
     "execution_count": 2,
     "metadata": {},
     "output_type": "execute_result"
    }
   ],
   "source": [
    "SC"
   ]
  },
  {
   "cell_type": "code",
   "execution_count": 3,
   "metadata": {},
   "outputs": [
    {
     "data": {
      "text/plain": [
       "7"
      ]
     },
     "execution_count": 3,
     "metadata": {},
     "output_type": "execute_result"
    }
   ],
   "source": [
    "SC[0][1]"
   ]
  },
  {
   "cell_type": "code",
   "execution_count": 4,
   "metadata": {},
   "outputs": [
    {
     "data": {
      "text/plain": [
       "3"
      ]
     },
     "execution_count": 4,
     "metadata": {},
     "output_type": "execute_result"
    }
   ],
   "source": [
    "l"
   ]
  },
  {
   "cell_type": "code",
   "execution_count": 14,
   "metadata": {},
   "outputs": [
    {
     "name": "stdout",
     "output_type": "stream",
     "text": [
      "3 3\n",
      "1 7\n",
      "3 2\n",
      "1 7\n",
      "702\n"
     ]
    },
    {
     "ename": "SystemExit",
     "evalue": "0",
     "output_type": "error",
     "traceback": [
      "An exception has occurred, use %tb to see the full traceback.\n",
      "\u001b[0;31mSystemExit\u001b[0m\u001b[0;31m:\u001b[0m 0\n"
     ]
    }
   ],
   "source": [
    "import sys\n",
    "N, M = map(int,input().split())\n",
    "s = []\n",
    "c = []\n",
    "for m in range(M):\n",
    "    S, C = map(int,input().split())\n",
    "    s.append(S)\n",
    "    c.append(C)\n",
    "\n",
    "\n",
    "for i in range(10 ** N):\n",
    "    Str = str(i)\n",
    "\n",
    "    if len(Str) == N and all([Str[s[m] - 1] == str(c[m]) for m in range(M)]):\n",
    "        print(Str)\n",
    "        sys.exit(0)\n",
    "\n",
    "print(-1)"
   ]
  },
  {
   "cell_type": "code",
   "execution_count": 8,
   "metadata": {},
   "outputs": [
    {
     "data": {
      "text/plain": [
       "[[3, 2], [1, 8], [1, 7]]"
      ]
     },
     "execution_count": 8,
     "metadata": {},
     "output_type": "execute_result"
    }
   ],
   "source": []
  }
 ],
 "metadata": {
  "kernelspec": {
   "display_name": "Python 3",
   "language": "python",
   "name": "python3"
  },
  "language_info": {
   "codemirror_mode": {
    "name": "ipython",
    "version": 3
   },
   "file_extension": ".py",
   "mimetype": "text/x-python",
   "name": "python",
   "nbconvert_exporter": "python",
   "pygments_lexer": "ipython3",
   "version": "3.7.1"
  }
 },
 "nbformat": 4,
 "nbformat_minor": 2
}
