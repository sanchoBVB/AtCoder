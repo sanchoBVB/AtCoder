{
 "cells": [
  {
   "cell_type": "code",
   "execution_count": 1,
   "metadata": {},
   "outputs": [],
   "source": [
    "#A"
   ]
  },
  {
   "cell_type": "code",
   "execution_count": 2,
   "metadata": {},
   "outputs": [
    {
     "name": "stdout",
     "output_type": "stream",
     "text": [
      "2\n",
      "White\n"
     ]
    }
   ],
   "source": [
    "N = int(input())\n",
    "\n",
    "if N%2 == 0:\n",
    "    print(\"White\")\n",
    "else:\n",
    "    print(\"Black\")"
   ]
  },
  {
   "cell_type": "code",
   "execution_count": 3,
   "metadata": {},
   "outputs": [],
   "source": [
    "#B"
   ]
  },
  {
   "cell_type": "code",
   "execution_count": 32,
   "metadata": {},
   "outputs": [
    {
     "name": "stdout",
     "output_type": "stream",
     "text": [
      "3\n",
      "11 13\n",
      "17 47\n",
      "359 44683\n",
      "998244353\n"
     ]
    }
   ],
   "source": [
    "N = int(input())\n",
    "ans = 0\n",
    "for _ in range(N):\n",
    "    a, b = map(int, input().split())\n",
    "    ans += (a+b)*(b-a+1)/2\n",
    "    \n",
    "print(int(ans))"
   ]
  },
  {
   "cell_type": "code",
   "execution_count": 6,
   "metadata": {},
   "outputs": [],
   "source": [
    "#C"
   ]
  },
  {
   "cell_type": "code",
   "execution_count": 53,
   "metadata": {},
   "outputs": [
    {
     "name": "stdout",
     "output_type": "stream",
     "text": [
      "14\n",
      "5 5\n",
      "0 1\n",
      "2 5\n",
      "8 0\n",
      "2 1\n",
      "0 0\n",
      "3 6\n",
      "8 6\n",
      "5 9\n",
      "7 9\n",
      "3 4\n",
      "9 2\n",
      "9 8\n",
      "7 2\n",
      "No\n"
     ]
    }
   ],
   "source": [
    "import sys\n",
    "N = int(input())\n",
    "X = []\n",
    "for _ in range(N):\n",
    "    X.append(list(map(int, input().split())))\n",
    "    \n",
    "for i in range(N):\n",
    "    x = X[i]\n",
    "    for j in range(i+1, N):\n",
    "        y = X[j]\n",
    "        for k in range(j+1, N):\n",
    "            z = X[k]\n",
    "            if x[0] == y[0]:\n",
    "                if x[0] == z[0]:\n",
    "                    print(\"Yes\")\n",
    "                    sys.exit(0)\n",
    "            if x[1] == y[1]:\n",
    "                if x[1] == z[1]:\n",
    "                    print(\"Yes\")\n",
    "                    sys.exit(0)\n",
    "            if x[0] != y[0] and x[1] != y[1]:\n",
    "                if z[1] == ((x[1]-y[1])*z[0]/(x[0]-y[0]))+(x[1]-((x[1]-y[1])*x[0]/(x[0]-y[0]))):\n",
    "                    print(\"Yes\")\n",
    "                    sys.exit(0)\n",
    "                    \n",
    "print(\"No\")"
   ]
  },
  {
   "cell_type": "code",
   "execution_count": 48,
   "metadata": {},
   "outputs": [
    {
     "data": {
      "text/plain": [
       "True"
      ]
     },
     "execution_count": 48,
     "metadata": {},
     "output_type": "execute_result"
    }
   ],
   "source": [
    "14\n",
    "5 5\n",
    "0 1\n",
    "2 5\n",
    "8 0\n",
    "2 1\n",
    "0 0\n",
    "3 6\n",
    "8 6\n",
    "5 9\n",
    "7 9\n",
    "3 4\n",
    "9 2\n",
    "9 8\n",
    "7 2"
   ]
  },
  {
   "cell_type": "code",
   "execution_count": null,
   "metadata": {},
   "outputs": [],
   "source": []
  }
 ],
 "metadata": {
  "kernelspec": {
   "display_name": "Python 3",
   "language": "python",
   "name": "python3"
  },
  "language_info": {
   "codemirror_mode": {
    "name": "ipython",
    "version": 3
   },
   "file_extension": ".py",
   "mimetype": "text/x-python",
   "name": "python",
   "nbconvert_exporter": "python",
   "pygments_lexer": "ipython3",
   "version": "3.6.4"
  }
 },
 "nbformat": 4,
 "nbformat_minor": 2
}
