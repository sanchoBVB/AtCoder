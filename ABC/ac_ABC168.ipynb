{
 "cells": [
  {
   "cell_type": "code",
   "execution_count": 2,
   "metadata": {},
   "outputs": [
    {
     "name": "stdout",
     "output_type": "stream",
     "text": [
      "16\n",
      "pon\n"
     ]
    }
   ],
   "source": [
    "N = input()\n",
    "\n",
    "if N[-1] == \"3\":\n",
    "    print(\"bon\")\n",
    "elif N[-1] == \"0\" or N[-1] == \"1\" or N[-1] == \"6\" or N[-1] == \"8\":\n",
    "    print(\"pon\")\n",
    "else:\n",
    "    print(\"hon\")"
   ]
  },
  {
   "cell_type": "code",
   "execution_count": 3,
   "metadata": {},
   "outputs": [],
   "source": [
    "#B問題"
   ]
  },
  {
   "cell_type": "code",
   "execution_count": 5,
   "metadata": {},
   "outputs": [
    {
     "name": "stdout",
     "output_type": "stream",
     "text": [
      "7\n",
      "nikoandsolstice\n",
      "nikoand...\n"
     ]
    }
   ],
   "source": [
    "K = int(input())\n",
    "S = input()\n",
    "\n",
    "if len(S) <= K:\n",
    "    print(S)\n",
    "else:\n",
    "    print(S[:K] + \"...\")"
   ]
  },
  {
   "cell_type": "code",
   "execution_count": 6,
   "metadata": {},
   "outputs": [],
   "source": [
    "#C問題"
   ]
  },
  {
   "cell_type": "code",
   "execution_count": 40,
   "metadata": {},
   "outputs": [
    {
     "name": "stdout",
     "output_type": "stream",
     "text": [
      "3 4 9 0\n",
      "5.0\n"
     ]
    }
   ],
   "source": [
    "import math\n",
    "A, B, H, M = map(int, input().split())\n",
    "\n",
    "long = M * 6\n",
    "short = (H*60 + M) * 0.5\n",
    "k = short - long\n",
    "if k > 180:\n",
    "    k = 360 - k\n",
    "a = (A**2) + (B**2) - (2*A*B*math.cos(math.radians(k)))\n",
    "print(a**(1/2))"
   ]
  },
  {
   "cell_type": "code",
   "execution_count": 41,
   "metadata": {},
   "outputs": [],
   "source": [
    "#D問題"
   ]
  },
  {
   "cell_type": "code",
   "execution_count": null,
   "metadata": {},
   "outputs": [],
   "source": [
    "N, M = map(int, input().split())\n",
    "ab = []\n",
    "for m in range(M):\n",
    "    AB = list(map(int, input().split()))\n",
    "    ab.append(AB)\n",
    "\n",
    "for i in range(2, N+1):\n",
    "    for k in ab:\n",
    "        if "
   ]
  },
  {
   "cell_type": "code",
   "execution_count": 43,
   "metadata": {},
   "outputs": [
    {
     "name": "stdout",
     "output_type": "stream",
     "text": [
      "[2]\n"
     ]
    }
   ],
   "source": []
  },
  {
   "cell_type": "code",
   "execution_count": null,
   "metadata": {},
   "outputs": [],
   "source": []
  }
 ],
 "metadata": {
  "kernelspec": {
   "display_name": "Python 3",
   "language": "python",
   "name": "python3"
  },
  "language_info": {
   "codemirror_mode": {
    "name": "ipython",
    "version": 3
   },
   "file_extension": ".py",
   "mimetype": "text/x-python",
   "name": "python",
   "nbconvert_exporter": "python",
   "pygments_lexer": "ipython3",
   "version": "3.6.4"
  }
 },
 "nbformat": 4,
 "nbformat_minor": 2
}
