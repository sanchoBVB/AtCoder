{
 "cells": [
  {
   "cell_type": "code",
   "execution_count": 1,
   "id": "be383ef8",
   "metadata": {},
   "outputs": [],
   "source": [
    "#A"
   ]
  },
  {
   "cell_type": "code",
   "execution_count": 3,
   "id": "bed84455",
   "metadata": {},
   "outputs": [
    {
     "name": "stdout",
     "output_type": "stream",
     "text": [
      "1 2\n",
      "1 0\n",
      "0 1\n",
      "0\n"
     ]
    }
   ],
   "source": [
    "R, C = map(int, input().split())\n",
    "for a in range(2):\n",
    "    A = list(map(int, input().split()))\n",
    "    if a+1==R:\n",
    "        ans = A[C-1]\n",
    "\n",
    "print(ans)"
   ]
  },
  {
   "cell_type": "code",
   "execution_count": 4,
   "id": "a25d02f3",
   "metadata": {},
   "outputs": [],
   "source": [
    "#B"
   ]
  },
  {
   "cell_type": "code",
   "execution_count": 8,
   "id": "9cf0f105",
   "metadata": {},
   "outputs": [
    {
     "name": "stdout",
     "output_type": "stream",
     "text": [
      "8 3\n",
      "2 6 8\n",
      "-17683 17993\n",
      "\n",
      "\n",
      "\n",
      "\n",
      "\n",
      "\n",
      "\n"
     ]
    },
    {
     "ename": "IndexError",
     "evalue": "list index out of range",
     "output_type": "error",
     "traceback": [
      "\u001b[0;31m---------------------------------------------------------------------------\u001b[0m",
      "\u001b[0;31mIndexError\u001b[0m                                Traceback (most recent call last)",
      "Input \u001b[0;32mIn [8]\u001b[0m, in \u001b[0;36m<module>\u001b[0;34m\u001b[0m\n\u001b[1;32m     20\u001b[0m x, y \u001b[38;5;241m=\u001b[39m non[\u001b[38;5;241m0\u001b[39m], non[\u001b[38;5;241m1\u001b[39m]\n\u001b[1;32m     21\u001b[0m \u001b[38;5;28;01mfor\u001b[39;00m light \u001b[38;5;129;01min\u001b[39;00m XY_light:\n\u001b[0;32m---> 22\u001b[0m     X, Y \u001b[38;5;241m=\u001b[39m \u001b[43mlight\u001b[49m\u001b[43m[\u001b[49m\u001b[38;5;241;43m0\u001b[39;49m\u001b[43m]\u001b[49m, light[\u001b[38;5;241m1\u001b[39m]\n\u001b[1;32m     23\u001b[0m     ans \u001b[38;5;241m=\u001b[39m \u001b[38;5;28mmin\u001b[39m(ans, (\u001b[38;5;28mabs\u001b[39m(x\u001b[38;5;241m-\u001b[39mX)\u001b[38;5;241m*\u001b[39m\u001b[38;5;241m*\u001b[39m\u001b[38;5;241m2\u001b[39m)\u001b[38;5;241m+\u001b[39m(\u001b[38;5;28mabs\u001b[39m(y\u001b[38;5;241m-\u001b[39mY)\u001b[38;5;241m*\u001b[39m\u001b[38;5;241m*\u001b[39m\u001b[38;5;241m2\u001b[39m))\n\u001b[1;32m     24\u001b[0m answer \u001b[38;5;241m=\u001b[39m \u001b[38;5;28mmax\u001b[39m(ans, answer)\n",
      "\u001b[0;31mIndexError\u001b[0m: list index out of range"
     ]
    }
   ],
   "source": [
    "from decimal import Decimal\n",
    "import sys\n",
    "N, K = map(int, input().split())\n",
    "A = list(map(int, input().split()))\n",
    "XY_non = []\n",
    "XY_light = []\n",
    "for n in range(N):\n",
    "    if len(A)==0:\n",
    "        XY_non.append(list(map(int, input().split())))\n",
    "    else:\n",
    "        if n+1==A[0]:\n",
    "            XY_light.append(list(map(int, input().split())))\n",
    "            del A[0]\n",
    "        else:\n",
    "            XY_non.append(list(map(int, input().split())))\n",
    "\n",
    "answer = 0\n",
    "for non in XY_non:\n",
    "    ans = float(\"Inf\")\n",
    "    x, y = non[0], non[1]\n",
    "    for light in XY_light:\n",
    "        X, Y = light[0], light[1]\n",
    "        ans = min(ans, (abs(x-X)**2)+(abs(y-Y)**2))\n",
    "    answer = max(ans, answer)\n",
    "\n",
    "print(answer**(Decimal(1/2)))"
   ]
  },
  {
   "cell_type": "code",
   "execution_count": 9,
   "id": "e393a258",
   "metadata": {},
   "outputs": [],
   "source": [
    "#C"
   ]
  },
  {
   "cell_type": "code",
   "execution_count": 31,
   "id": "30d9908e",
   "metadata": {},
   "outputs": [
    {
     "name": "stdout",
     "output_type": "stream",
     "text": [
      "\n"
     ]
    },
    {
     "ename": "ValueError",
     "evalue": "not enough values to unpack (expected 4, got 0)",
     "output_type": "error",
     "traceback": [
      "\u001b[0;31m---------------------------------------------------------------------------\u001b[0m",
      "\u001b[0;31mValueError\u001b[0m                                Traceback (most recent call last)",
      "Input \u001b[0;32mIn [31]\u001b[0m, in \u001b[0;36m<module>\u001b[0;34m\u001b[0m\n\u001b[0;32m----> 1\u001b[0m X, A, D, N \u001b[38;5;241m=\u001b[39m \u001b[38;5;28mmap\u001b[39m(\u001b[38;5;28mint\u001b[39m, \u001b[38;5;28minput\u001b[39m()\u001b[38;5;241m.\u001b[39msplit())\n\u001b[1;32m      3\u001b[0m \u001b[38;5;28;01mif\u001b[39;00m D \u001b[38;5;241m==\u001b[39m \u001b[38;5;241m0\u001b[39m:\n\u001b[1;32m      4\u001b[0m     \u001b[38;5;28mprint\u001b[39m(\u001b[38;5;28mabs\u001b[39m(X\u001b[38;5;241m-\u001b[39mA))\n",
      "\u001b[0;31mValueError\u001b[0m: not enough values to unpack (expected 4, got 0)"
     ]
    }
   ],
   "source": [
    "X, A, D, N = map(int, input().split())\n",
    "\n",
    "if D == 0:\n",
    "    print(abs(X-A))\n",
    "else:\n",
    "    if abs(A+(D*N)) >= abs(X):\n",
    "        if D<0:\n",
    "            if X<0:\n",
    "                print(abs(X-A)%(D*(-1)))\n",
    "            else:\n",
    "                print(X-A)\n",
    "        else:\n",
    "            print(abs(X-A)%D)\n",
    "    else:\n",
    "         if D<0:\n",
    "            if X<0:\n",
    "                print(abs(abs(X)-abs(A+(D*N))))\n",
    "            else:\n",
    "                print(X-A)\n",
    "        else:\n",
    "            print()"
   ]
  },
  {
   "cell_type": "code",
   "execution_count": null,
   "id": "8f8d2cb0",
   "metadata": {},
   "outputs": [],
   "source": []
  }
 ],
 "metadata": {
  "kernelspec": {
   "display_name": "Python 3 (ipykernel)",
   "language": "python",
   "name": "python3"
  },
  "language_info": {
   "codemirror_mode": {
    "name": "ipython",
    "version": 3
   },
   "file_extension": ".py",
   "mimetype": "text/x-python",
   "name": "python",
   "nbconvert_exporter": "python",
   "pygments_lexer": "ipython3",
   "version": "3.9.12"
  }
 },
 "nbformat": 4,
 "nbformat_minor": 5
}
