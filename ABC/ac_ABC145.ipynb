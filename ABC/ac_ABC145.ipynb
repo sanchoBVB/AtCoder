{
 "cells": [
  {
   "cell_type": "code",
   "execution_count": 1,
   "metadata": {},
   "outputs": [],
   "source": [
    "#A"
   ]
  },
  {
   "cell_type": "code",
   "execution_count": 2,
   "metadata": {},
   "outputs": [
    {
     "name": "stdout",
     "output_type": "stream",
     "text": [
      "2\n",
      "4\n"
     ]
    }
   ],
   "source": [
    "r = int(input())\n",
    "print(r**2)"
   ]
  },
  {
   "cell_type": "code",
   "execution_count": 3,
   "metadata": {},
   "outputs": [],
   "source": [
    "#B"
   ]
  },
  {
   "cell_type": "code",
   "execution_count": 5,
   "metadata": {},
   "outputs": [
    {
     "name": "stdout",
     "output_type": "stream",
     "text": [
      "6\n",
      "abcadc\n"
     ]
    }
   ],
   "source": [
    "import sys\n",
    "N = int(input())\n",
    "S = list(input())\n",
    "\n",
    "if len(S)%2 != 0:\n",
    "    print(\"No\")\n",
    "    sys.exit(0)\n",
    "else:\n",
    "    i = int(len(S)/2)\n",
    "    T = S[0:i]\n",
    "    if T*2 == S:\n",
    "        print(\"Yes\")\n",
    "    else:\n",
    "        print(\"No\")"
   ]
  },
  {
   "cell_type": "code",
   "execution_count": 6,
   "metadata": {},
   "outputs": [],
   "source": [
    "#C"
   ]
  },
  {
   "cell_type": "code",
   "execution_count": 17,
   "metadata": {},
   "outputs": [
    {
     "name": "stdout",
     "output_type": "stream",
     "text": [
      "2\n",
      "-879 981\n",
      "-866 890\n",
      "91.92388155425118\n"
     ]
    }
   ],
   "source": [
    "import itertools\n",
    "N = int(input())\n",
    "xy = []\n",
    "for _ in range(N):\n",
    "    x, y = map(int, input().split())\n",
    "    xy.append([x, y])\n",
    "\n",
    "cnt = list(itertools.permutations(xy))\n",
    "ans = []\n",
    "for c in cnt:\n",
    "    ky = []\n",
    "    for n in range(N-1):\n",
    "        k = ((c[n][0]-c[n+1][0])**2+(c[n][1]-c[n+1][1])**2)**(1/2)\n",
    "        ky.append(k)\n",
    "    ans.append(sum(ky))\n",
    "print(sum(ans)/len(ans))"
   ]
  },
  {
   "cell_type": "code",
   "execution_count": null,
   "metadata": {},
   "outputs": [],
   "source": []
  }
 ],
 "metadata": {
  "kernelspec": {
   "display_name": "Python 3",
   "language": "python",
   "name": "python3"
  },
  "language_info": {
   "codemirror_mode": {
    "name": "ipython",
    "version": 3
   },
   "file_extension": ".py",
   "mimetype": "text/x-python",
   "name": "python",
   "nbconvert_exporter": "python",
   "pygments_lexer": "ipython3",
   "version": "3.6.4"
  }
 },
 "nbformat": 4,
 "nbformat_minor": 2
}
