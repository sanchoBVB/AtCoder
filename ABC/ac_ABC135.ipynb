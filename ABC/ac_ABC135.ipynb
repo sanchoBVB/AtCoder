{
 "cells": [
  {
   "cell_type": "code",
   "execution_count": 1,
   "metadata": {},
   "outputs": [],
   "source": [
    "#A"
   ]
  },
  {
   "cell_type": "code",
   "execution_count": 3,
   "metadata": {},
   "outputs": [
    {
     "name": "stdout",
     "output_type": "stream",
     "text": [
      "0 3\n",
      "IMPOSSIBLE\n"
     ]
    }
   ],
   "source": [
    "A, B = map(int, input().split())\n",
    "\n",
    "if (A+B)%2 == 0:\n",
    "    print(int((A+B)/2))\n",
    "else:\n",
    "    print(\"IMPOSSIBLE\")"
   ]
  },
  {
   "cell_type": "code",
   "execution_count": 4,
   "metadata": {},
   "outputs": [],
   "source": [
    "#B"
   ]
  },
  {
   "cell_type": "code",
   "execution_count": 11,
   "metadata": {},
   "outputs": [
    {
     "name": "stdout",
     "output_type": "stream",
     "text": [
      "7\n",
      "1 2 3 4 5 6 7\n",
      "YES\n"
     ]
    }
   ],
   "source": [
    "N = int(input())\n",
    "P = list(map(int, input().split()))\n",
    "\n",
    "cnt = 0\n",
    "for n in range(N):\n",
    "    if (n+1) != P[n]:\n",
    "        cnt += 1\n",
    "\n",
    "if cnt <= 2:\n",
    "    print(\"YES\")\n",
    "else:\n",
    "    print(\"NO\")"
   ]
  },
  {
   "cell_type": "code",
   "execution_count": 12,
   "metadata": {},
   "outputs": [],
   "source": [
    "#C"
   ]
  },
  {
   "cell_type": "code",
   "execution_count": 27,
   "metadata": {},
   "outputs": [
    {
     "name": "stdout",
     "output_type": "stream",
     "text": [
      "2\n",
      "3 5 2\n",
      "4 5\n",
      "9\n"
     ]
    }
   ],
   "source": [
    "N = int(input())\n",
    "A = list(map(int, input().split()))\n",
    "B = list(map(int, input().split()))\n",
    "\n",
    "cnt = 0\n",
    "for n in range(N):\n",
    "    if A[n] <= B[n]:\n",
    "        cnt += A[n]\n",
    "        B[n] -= A[n]\n",
    "        if A[n+1] < B[n]:\n",
    "            cnt += A[n+1]\n",
    "            A[n+1] = 0\n",
    "        else:\n",
    "            cnt += B[n]\n",
    "            A[n+1] -= B[n]\n",
    "    else:\n",
    "        cnt += B[n]\n",
    "        \n",
    "print(cnt)"
   ]
  },
  {
   "cell_type": "code",
   "execution_count": null,
   "metadata": {},
   "outputs": [],
   "source": []
  }
 ],
 "metadata": {
  "kernelspec": {
   "display_name": "Python 3",
   "language": "python",
   "name": "python3"
  },
  "language_info": {
   "codemirror_mode": {
    "name": "ipython",
    "version": 3
   },
   "file_extension": ".py",
   "mimetype": "text/x-python",
   "name": "python",
   "nbconvert_exporter": "python",
   "pygments_lexer": "ipython3",
   "version": "3.6.4"
  }
 },
 "nbformat": 4,
 "nbformat_minor": 2
}
