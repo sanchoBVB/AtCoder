{
 "cells": [
  {
   "cell_type": "code",
   "execution_count": 1,
   "metadata": {},
   "outputs": [],
   "source": [
    "#A"
   ]
  },
  {
   "cell_type": "code",
   "execution_count": 3,
   "metadata": {},
   "outputs": [
    {
     "name": "stdout",
     "output_type": "stream",
     "text": [
      "10 3 5 30\n",
      "No\n"
     ]
    }
   ],
   "source": [
    "V, T, S, D = map(int, input().split())\n",
    "\n",
    "cnt1 = V*T\n",
    "cnt2 = V*S\n",
    "cnt = list(range(cnt1, cnt2+1))\n",
    "\n",
    "if D in cnt:\n",
    "    print(\"No\")\n",
    "else:\n",
    "    print(\"Yes\")"
   ]
  },
  {
   "cell_type": "code",
   "execution_count": 4,
   "metadata": {},
   "outputs": [],
   "source": [
    "#B"
   ]
  },
  {
   "cell_type": "code",
   "execution_count": 7,
   "metadata": {},
   "outputs": [
    {
     "name": "stdout",
     "output_type": "stream",
     "text": [
      "3 3\n",
      "3 3 3\n",
      "\n"
     ]
    }
   ],
   "source": [
    "N, X = map(int, input().split())\n",
    "A = list(map(int, input().split()))\n",
    "\n",
    "A = [a for a in A if a != X]\n",
    "A = list(map(str, A))\n",
    "print(\" \".join(A))"
   ]
  },
  {
   "cell_type": "code",
   "execution_count": 8,
   "metadata": {},
   "outputs": [],
   "source": [
    "#C"
   ]
  },
  {
   "cell_type": "code",
   "execution_count": 27,
   "metadata": {},
   "outputs": [
    {
     "name": "stdout",
     "output_type": "stream",
     "text": [
      "5 5\n",
      ".....\n",
      "..#..\n",
      ".###.\n",
      ".###.\n",
      ".....\n",
      "5\n"
     ]
    }
   ],
   "source": [
    "H, W = map(int, input().split())\n",
    "\n",
    "S = []\n",
    "for _ in range(H):\n",
    "    S.append(list(input()))\n",
    "\n",
    "cnt = [[0 for _ in range(W)] for _ in range(H)]\n",
    "for h in range(1, H-1):\n",
    "    for w in range(1, W-1):\n",
    "        if S[h][w] == \"#\":\n",
    "            if S[h][w-1] == \".\" or S[h][w+1] == \".\":\n",
    "                cnt[h][w] += 1\n",
    "for w in range(1, W-1):\n",
    "    for h in range(1, H-1):\n",
    "        if S[h][w] == \"#\":\n",
    "            if S[h-1][w] == \".\" or S[h+1][w] == \".\":\n",
    "                cnt[h][w] += 1\n",
    "\n",
    "ans = 0\n",
    "for c in cnt:\n",
    "    for i in c:\n",
    "        ans += i >= 2\n",
    "\n",
    "print(ans)"
   ]
  },
  {
   "cell_type": "code",
   "execution_count": 28,
   "metadata": {},
   "outputs": [
    {
     "data": {
      "text/plain": [
       "[[0, 0, 0, 0, 0],\n",
       " [0, 0, 2, 0, 0],\n",
       " [0, 2, 0, 2, 0],\n",
       " [0, 2, 1, 2, 0],\n",
       " [0, 0, 0, 0, 0]]"
      ]
     },
     "execution_count": 28,
     "metadata": {},
     "output_type": "execute_result"
    }
   ],
   "source": [
    "cnt"
   ]
  },
  {
   "cell_type": "code",
   "execution_count": null,
   "metadata": {},
   "outputs": [],
   "source": []
  }
 ],
 "metadata": {
  "kernelspec": {
   "display_name": "Python 3",
   "language": "python",
   "name": "python3"
  },
  "language_info": {
   "codemirror_mode": {
    "name": "ipython",
    "version": 3
   },
   "file_extension": ".py",
   "mimetype": "text/x-python",
   "name": "python",
   "nbconvert_exporter": "python",
   "pygments_lexer": "ipython3",
   "version": "3.6.4"
  }
 },
 "nbformat": 4,
 "nbformat_minor": 2
}
