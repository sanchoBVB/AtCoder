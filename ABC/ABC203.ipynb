{
 "cells": [
  {
   "cell_type": "code",
   "execution_count": 1,
   "metadata": {},
   "outputs": [],
   "source": [
    "#A"
   ]
  },
  {
   "cell_type": "code",
   "execution_count": 4,
   "metadata": {},
   "outputs": [
    {
     "name": "stdout",
     "output_type": "stream",
     "text": [
      "1 1 1\n",
      "1\n"
     ]
    }
   ],
   "source": [
    "a, b, c = map(int, input().split())\n",
    "\n",
    "if a==b:\n",
    "    print(c)\n",
    "elif b==c:\n",
    "    print(a)\n",
    "elif c==a:\n",
    "    print(b)\n",
    "else:\n",
    "    print(0)"
   ]
  },
  {
   "cell_type": "code",
   "execution_count": 5,
   "metadata": {},
   "outputs": [],
   "source": [
    "#B"
   ]
  },
  {
   "cell_type": "code",
   "execution_count": 8,
   "metadata": {},
   "outputs": [
    {
     "name": "stdout",
     "output_type": "stream",
     "text": [
      "3 3\n",
      "1818\n"
     ]
    }
   ],
   "source": [
    "N, K = map(int, input().split())\n",
    "\n",
    "ans = 0\n",
    "for i in range(1, N+1):\n",
    "    for j in range(1, K+1):\n",
    "        ans += int(str(i)+\"0\"+str(j))\n",
    "        \n",
    "print(ans)"
   ]
  },
  {
   "cell_type": "code",
   "execution_count": 9,
   "metadata": {},
   "outputs": [],
   "source": [
    "#C"
   ]
  },
  {
   "cell_type": "code",
   "execution_count": 15,
   "metadata": {},
   "outputs": [
    {
     "name": "stdout",
     "output_type": "stream",
     "text": [
      "3 2\n",
      "5 5\n",
      "2 1\n",
      "2 2\n",
      "10\n"
     ]
    }
   ],
   "source": [
    "import sys\n",
    "N, K = map(int, input().split())\n",
    "\n",
    "ab = []\n",
    "for _ in range(N):\n",
    "    ab.append(list(map(int, input().split())))\n",
    "ab = sorted(ab)\n",
    "\n",
    "K -= ab[0][0]\n",
    "if K < 0:\n",
    "    print(ab[0][0]+K)\n",
    "    sys.exit(0)\n",
    "K += ab[0][1]\n",
    "for n in range(1, N):\n",
    "    a = ab[n][0]-ab[n-1][0]\n",
    "    K -= a\n",
    "    if K>=0:\n",
    "        K += ab[n][1]\n",
    "    else:\n",
    "        print(ab[n][0]+K)\n",
    "        sys.exit(0)\n",
    "        \n",
    "print(ab[-1][0]+K)"
   ]
  },
  {
   "cell_type": "code",
   "execution_count": 16,
   "metadata": {},
   "outputs": [],
   "source": [
    "#D"
   ]
  },
  {
   "cell_type": "code",
   "execution_count": 28,
   "metadata": {},
   "outputs": [
    {
     "name": "stdout",
     "output_type": "stream",
     "text": [
      "3 2\n",
      "1 7 0\n",
      "5 8 11\n",
      "10 4 2\n",
      "4\n"
     ]
    }
   ],
   "source": [
    "N, K = map(int, input().split())\n",
    "A = []\n",
    "for _ in range(N):\n",
    "    a = list(map(int, input().split()))\n",
    "    \n",
    "    \n",
    "m = ((K**2)//2)+1\n",
    "\n",
    "ans = 10**9\n",
    "for i in range(N-K+1):\n",
    "    cnt = []\n",
    "    for j in range(N-K+1):\n",
    "        for a in A[i:i+K]:\n",
    "            cnt += a[j:j+K]\n",
    "            if len(cnt) == K*K:\n",
    "                ans = min(ans, cnt[m-1])\n",
    "                cnt.clear()\n",
    "    \n",
    "print(ans)"
   ]
  },
  {
   "cell_type": "code",
   "execution_count": 29,
   "metadata": {},
   "outputs": [
    {
     "data": {
      "text/plain": [
       "[]"
      ]
     },
     "execution_count": 29,
     "metadata": {},
     "output_type": "execute_result"
    }
   ],
   "source": [
    "cnt"
   ]
  },
  {
   "cell_type": "code",
   "execution_count": null,
   "metadata": {},
   "outputs": [],
   "source": []
  }
 ],
 "metadata": {
  "kernelspec": {
   "display_name": "Python 3",
   "language": "python",
   "name": "python3"
  },
  "language_info": {
   "codemirror_mode": {
    "name": "ipython",
    "version": 3
   },
   "file_extension": ".py",
   "mimetype": "text/x-python",
   "name": "python",
   "nbconvert_exporter": "python",
   "pygments_lexer": "ipython3",
   "version": "3.6.4"
  }
 },
 "nbformat": 4,
 "nbformat_minor": 2
}
