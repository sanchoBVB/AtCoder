{
 "cells": [
  {
   "cell_type": "code",
   "execution_count": 1,
   "metadata": {},
   "outputs": [],
   "source": [
    "#A問題"
   ]
  },
  {
   "cell_type": "code",
   "execution_count": 3,
   "metadata": {},
   "outputs": [
    {
     "name": "stdout",
     "output_type": "stream",
     "text": [
      "ARC\n",
      "ABC\n"
     ]
    }
   ],
   "source": [
    "S = input()\n",
    "\n",
    "if S == \"ABC\":\n",
    "    print(\"ARC\")\n",
    "else:\n",
    "    print(\"ABC\")"
   ]
  },
  {
   "cell_type": "code",
   "execution_count": 4,
   "metadata": {},
   "outputs": [],
   "source": [
    "#B問題"
   ]
  },
  {
   "cell_type": "code",
   "execution_count": 24,
   "metadata": {},
   "outputs": [
    {
     "name": "stdout",
     "output_type": "stream",
     "text": [
      "3 3\n",
      "1\n",
      "3\n",
      "1\n",
      "3\n",
      "1\n",
      "3\n",
      "2\n"
     ]
    }
   ],
   "source": [
    "N, K = map(int, input().split())\n",
    "\n",
    "A = []\n",
    "for k in range(K):\n",
    "    d = int(input())\n",
    "    a = list(map(int, input().split()))\n",
    "    for x in range(d):\n",
    "        A.append(a[x])\n",
    "    \n",
    "A = list(set(A))\n",
    "print(N - len(A))"
   ]
  },
  {
   "cell_type": "code",
   "execution_count": 22,
   "metadata": {},
   "outputs": [
    {
     "data": {
      "text/plain": [
       "[1, 2, 3]"
      ]
     },
     "execution_count": 22,
     "metadata": {},
     "output_type": "execute_result"
    }
   ],
   "source": [
    "list(range(1, 4))"
   ]
  },
  {
   "cell_type": "code",
   "execution_count": 25,
   "metadata": {},
   "outputs": [],
   "source": [
    "#C問題"
   ]
  },
  {
   "cell_type": "code",
   "execution_count": 53,
   "metadata": {},
   "outputs": [
    {
     "name": "stdout",
     "output_type": "stream",
     "text": [
      "6 5\n",
      "8 6 9 1 2 1\n",
      "1 3\n",
      "4 2\n",
      "4 3\n",
      "4 6\n",
      "4 6\n",
      "3\n"
     ]
    }
   ],
   "source": [
    "N, M = map(int, input().split())\n",
    "H = list(map(int, input().split()))\n",
    "AB = [list(map(int, input().split())) for m in range(M)]\n",
    "AB = list(map(list, set(map(tuple, AB))))\n",
    "\n",
    "i = []\n",
    "for m in range(len(AB)):\n",
    "    a = AB[m][0]\n",
    "    b = AB[m][1]\n",
    "    if H[a-1] > H[b-1]:\n",
    "        i.append(b-1)\n",
    "    elif H[a-1] < H[b-1]:\n",
    "        i.append(a-1)\n",
    "    else:\n",
    "        i.append(a-1)\n",
    "        i.append(b-1)\n",
    "\n",
    "i = list(set(i))\n",
    "print(len(H)-len(i))"
   ]
  },
  {
   "cell_type": "code",
   "execution_count": 54,
   "metadata": {},
   "outputs": [],
   "source": [
    "#D問題"
   ]
  },
  {
   "cell_type": "code",
   "execution_count": 55,
   "metadata": {},
   "outputs": [
    {
     "name": "stdout",
     "output_type": "stream",
     "text": [
      "33\n"
     ]
    }
   ],
   "source": [
    "X = int(input())\n",
    "\n",
    "ans = []\n",
    "for x in range(X):\n",
    "    if X == (1 + x + (x**2) + (x**3) + (x**4)):\n",
    "        ans.append(x)"
   ]
  },
  {
   "cell_type": "code",
   "execution_count": 56,
   "metadata": {},
   "outputs": [
    {
     "data": {
      "text/plain": [
       "[]"
      ]
     },
     "execution_count": 56,
     "metadata": {},
     "output_type": "execute_result"
    }
   ],
   "source": []
  },
  {
   "cell_type": "code",
   "execution_count": null,
   "metadata": {},
   "outputs": [],
   "source": []
  }
 ],
 "metadata": {
  "kernelspec": {
   "display_name": "Python 3",
   "language": "python",
   "name": "python3"
  },
  "language_info": {
   "codemirror_mode": {
    "name": "ipython",
    "version": 3
   },
   "file_extension": ".py",
   "mimetype": "text/x-python",
   "name": "python",
   "nbconvert_exporter": "python",
   "pygments_lexer": "ipython3",
   "version": "3.7.1"
  }
 },
 "nbformat": 4,
 "nbformat_minor": 2
}
