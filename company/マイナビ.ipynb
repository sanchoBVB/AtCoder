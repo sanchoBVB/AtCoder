{
 "cells": [
  {
   "cell_type": "code",
   "execution_count": 1,
   "metadata": {},
   "outputs": [],
   "source": [
    "#A"
   ]
  },
  {
   "cell_type": "code",
   "execution_count": 4,
   "metadata": {},
   "outputs": [
    {
     "name": "stdout",
     "output_type": "stream",
     "text": [
      "5 5 5\n",
      "Yes\n"
     ]
    }
   ],
   "source": [
    "A = list(map(int, input().split()))\n",
    "A.sort()\n",
    "\n",
    "if A[2]-A[1]==A[1]-A[0]:\n",
    "    print(\"Yes\")\n",
    "else:\n",
    "    print(\"No\")"
   ]
  },
  {
   "cell_type": "code",
   "execution_count": 5,
   "metadata": {},
   "outputs": [],
   "source": [
    "#B"
   ]
  },
  {
   "cell_type": "code",
   "execution_count": 10,
   "metadata": {},
   "outputs": [
    {
     "name": "stdout",
     "output_type": "stream",
     "text": [
      "4\n",
      "a 21\n",
      "b 25\n",
      "c 23\n",
      "s 28\n",
      "b\n"
     ]
    }
   ],
   "source": [
    "N = int(input())\n",
    "st = []\n",
    "for _ in range(N):\n",
    "    s, t = input().split()\n",
    "    st.append([s, int(t)])\n",
    "st = sorted(st, key=lambda x: x[1], reverse=True)\n",
    "print(st[1][0])"
   ]
  },
  {
   "cell_type": "code",
   "execution_count": 11,
   "metadata": {},
   "outputs": [],
   "source": [
    "#C"
   ]
  },
  {
   "cell_type": "code",
   "execution_count": 30,
   "metadata": {},
   "outputs": [
    {
     "name": "stdout",
     "output_type": "stream",
     "text": [
      "ooo???xxxx\n",
      "108\n"
     ]
    }
   ],
   "source": [
    "import sys\n",
    "import itertools\n",
    "import math\n",
    "from collections import Counter\n",
    "S = list(input())\n",
    "\n",
    "cnt1, cnt2 = [], []\n",
    "for s in range(len(S)):\n",
    "    if S[s] == \"o\":\n",
    "        cnt1.append(s)\n",
    "    elif S[s] == \"?\":\n",
    "        cnt2.append(s)\n",
    "        \n",
    "if len(cnt1) > 4:\n",
    "    print(0)\n",
    "    sys.exit(0)\n",
    "if len(cnt1)+len(cnt2) == 0:\n",
    "    print(0)\n",
    "    sys.exit(0)\n",
    "    \n",
    "if len(cnt1) > 0:\n",
    "    cnt = cnt1+cnt2\n",
    "    ans = 0\n",
    "    cn = []\n",
    "    for c in itertools.combinations_with_replacement(cnt, 4):\n",
    "        c = list(c)\n",
    "        c.sort()\n",
    "        if len(set(cnt1)&set(c)) >= len(cnt1):\n",
    "            if c not in cn:\n",
    "                C = Counter(c)\n",
    "                V = 1\n",
    "                for v in C.values():\n",
    "                    V *= math.factorial(v)\n",
    "                ans += math.factorial(4)//V\n",
    "                cn.append(c)\n",
    "    print(ans)\n",
    "else:\n",
    "    cnt = cnt2\n",
    "    ans = 0\n",
    "    cn = []\n",
    "    for c in itertools.combinations_with_replacement(cnt, 4):\n",
    "        c = list(c)\n",
    "        c.sort()\n",
    "        if c not in cn:\n",
    "            C = Counter(c)\n",
    "            V = 1\n",
    "            for v in C.values():\n",
    "                V *= math.factorial(v)\n",
    "            ans += math.factorial(4)//V\n",
    "            cn.append(c)\n",
    "    print(ans)"
   ]
  },
  {
   "cell_type": "code",
   "execution_count": 31,
   "metadata": {},
   "outputs": [],
   "source": [
    "#D"
   ]
  },
  {
   "cell_type": "code",
   "execution_count": null,
   "metadata": {},
   "outputs": [],
   "source": []
  }
 ],
 "metadata": {
  "kernelspec": {
   "display_name": "Python 3",
   "language": "python",
   "name": "python3"
  },
  "language_info": {
   "codemirror_mode": {
    "name": "ipython",
    "version": 3
   },
   "file_extension": ".py",
   "mimetype": "text/x-python",
   "name": "python",
   "nbconvert_exporter": "python",
   "pygments_lexer": "ipython3",
   "version": "3.6.4"
  }
 },
 "nbformat": 4,
 "nbformat_minor": 2
}
