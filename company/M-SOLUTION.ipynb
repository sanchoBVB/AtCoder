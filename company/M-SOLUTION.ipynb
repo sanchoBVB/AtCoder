{
 "cells": [
  {
   "cell_type": "code",
   "execution_count": 1,
   "metadata": {},
   "outputs": [],
   "source": [
    "#A"
   ]
  },
  {
   "cell_type": "code",
   "execution_count": 2,
   "metadata": {},
   "outputs": [
    {
     "name": "stdout",
     "output_type": "stream",
     "text": [
      "2\n",
      "1\n"
     ]
    }
   ],
   "source": [
    "X = int(input())\n",
    "\n",
    "if X >= 400 and X <= 599:\n",
    "    print(8)\n",
    "elif X >= 600 and X <= 799:\n",
    "    print(7)\n",
    "elif X >= 800 and X <= 999:\n",
    "    print(6)\n",
    "elif X >= 1000 and X <= 1199:\n",
    "    print(5)\n",
    "elif X >= 1200 and X <= 1399:\n",
    "    print(4)\n",
    "elif X >= 1400 and X <= 1599:\n",
    "    print(3)\n",
    "elif X >= 1600 and X <= 1799:\n",
    "    print(2)\n",
    "else:\n",
    "    print(1)"
   ]
  },
  {
   "cell_type": "code",
   "execution_count": 3,
   "metadata": {},
   "outputs": [],
   "source": [
    "#B"
   ]
  },
  {
   "cell_type": "code",
   "execution_count": 17,
   "metadata": {},
   "outputs": [
    {
     "name": "stdout",
     "output_type": "stream",
     "text": [
      "7 2 4\n",
      "3\n",
      "No\n"
     ]
    }
   ],
   "source": [
    "A, B, C = map(int, input().split())\n",
    "K = int(input())\n",
    "\n",
    "for k in range(K):\n",
    "    if A >= B:\n",
    "        B = 2*B\n",
    "        continue\n",
    "    elif B >= C:\n",
    "        C = 2*C\n",
    "        continue\n",
    "    elif A >= C:\n",
    "        C = 2*C\n",
    "        continue\n",
    "        \n",
    "if A < B and B < C:\n",
    "    print(\"Yes\")\n",
    "else:\n",
    "    print(\"No\")"
   ]
  },
  {
   "cell_type": "code",
   "execution_count": 19,
   "metadata": {},
   "outputs": [],
   "source": [
    "#C"
   ]
  },
  {
   "cell_type": "code",
   "execution_count": 36,
   "metadata": {},
   "outputs": [
    {
     "name": "stdout",
     "output_type": "stream",
     "text": [
      "15 7\n",
      "3 1 4 1 5 9 2 6 5 3 5 8 9 7 9\n",
      "Yes\n",
      "Yes\n",
      "No\n",
      "Yes\n",
      "Yes\n",
      "No\n",
      "Yes\n",
      "Yes\n"
     ]
    }
   ],
   "source": [
    "from functools import reduce\n",
    "N, K = map(int, input().split())\n",
    "A = list(map(int, input().split()))\n",
    "\n",
    "for k in range(N-K):\n",
    "    score1 = A[k]\n",
    "    score2 = A[K+k]\n",
    "    if score1 < score2:\n",
    "        print(\"Yes\")\n",
    "    else:\n",
    "        print(\"No\")"
   ]
  },
  {
   "cell_type": "code",
   "execution_count": 37,
   "metadata": {},
   "outputs": [],
   "source": [
    "#D"
   ]
  },
  {
   "cell_type": "code",
   "execution_count": 40,
   "metadata": {},
   "outputs": [
    {
     "name": "stdout",
     "output_type": "stream",
     "text": [
      "2\n",
      "157 193\n",
      "1216\n"
     ]
    }
   ],
   "source": [
    "N = int(input())\n",
    "A = list(map(int, input().split()))\n",
    "m = 1000\n",
    "\n",
    "for n in range(N-1):\n",
    "    if A[n] < A[n+1]:\n",
    "        k = int(m/A[n])\n",
    "        m -= k*A[n]\n",
    "        m += k*A[n+1]\n",
    "        \n",
    "print(m)"
   ]
  },
  {
   "cell_type": "code",
   "execution_count": 41,
   "metadata": {},
   "outputs": [],
   "source": [
    "#E"
   ]
  },
  {
   "cell_type": "code",
   "execution_count": null,
   "metadata": {},
   "outputs": [],
   "source": [
    "N = int(input())\n",
    "X = []\n",
    "Y = []\n",
    "P = []\n",
    "for n in range(N):\n",
    "    x, y, p = map(int, input().split())\n",
    "    X.append(x)\n",
    "    Y.append(y)\n",
    "    P.append(p)\n",
    "    \n",
    "for k in range(N+1):\n",
    "    print(min(X))"
   ]
  }
 ],
 "metadata": {
  "kernelspec": {
   "display_name": "Python 3",
   "language": "python",
   "name": "python3"
  },
  "language_info": {
   "codemirror_mode": {
    "name": "ipython",
    "version": 3
   },
   "file_extension": ".py",
   "mimetype": "text/x-python",
   "name": "python",
   "nbconvert_exporter": "python",
   "pygments_lexer": "ipython3",
   "version": "3.6.4"
  }
 },
 "nbformat": 4,
 "nbformat_minor": 2
}
