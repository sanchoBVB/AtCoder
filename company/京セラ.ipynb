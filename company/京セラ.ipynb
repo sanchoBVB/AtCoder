{
 "cells": [
  {
   "cell_type": "code",
   "execution_count": 1,
   "metadata": {},
   "outputs": [],
   "source": [
    "#A"
   ]
  },
  {
   "cell_type": "code",
   "execution_count": 7,
   "metadata": {},
   "outputs": [
    {
     "name": "stdout",
     "output_type": "stream",
     "text": [
      "2020\n",
      "21\n"
     ]
    }
   ],
   "source": [
    "import math\n",
    "N = int(input())\n",
    "\n",
    "print(math.ceil(N/100))"
   ]
  },
  {
   "cell_type": "code",
   "execution_count": 8,
   "metadata": {},
   "outputs": [],
   "source": [
    "#B"
   ]
  },
  {
   "cell_type": "code",
   "execution_count": 11,
   "metadata": {},
   "outputs": [
    {
     "name": "stdout",
     "output_type": "stream",
     "text": [
      "8691 20\n",
      "84875488281\n"
     ]
    }
   ],
   "source": [
    "N, K = map(int, input().split())\n",
    "N = str(N)\n",
    "\n",
    "for _ in range(K):\n",
    "    if int(N)%200==0:\n",
    "        N = int(N)\n",
    "        N //= 200\n",
    "        N = str(N)\n",
    "    else:\n",
    "        N += \"200\"\n",
    "        \n",
    "print(N)"
   ]
  },
  {
   "cell_type": "code",
   "execution_count": 12,
   "metadata": {},
   "outputs": [],
   "source": [
    "#C"
   ]
  },
  {
   "cell_type": "code",
   "execution_count": 24,
   "metadata": {},
   "outputs": [
    {
     "name": "stdout",
     "output_type": "stream",
     "text": [
      "5\n",
      "1 2 3 4 5\n",
      "0\n"
     ]
    }
   ],
   "source": [
    "from collections import Counter\n",
    "N = int(input())\n",
    "A = list(map(int, input().split()))\n",
    "\n",
    "for n in range(N):\n",
    "    A[n] %= 200\n",
    "\n",
    "cnt = Counter(A)\n",
    "ans = 0\n",
    "for v in cnt.values():\n",
    "    if v >= 2:\n",
    "        ans += ((v-1)*v)//2\n",
    "        \n",
    "print(ans)"
   ]
  },
  {
   "cell_type": "code",
   "execution_count": 25,
   "metadata": {},
   "outputs": [],
   "source": [
    "#D"
   ]
  },
  {
   "cell_type": "code",
   "execution_count": 64,
   "metadata": {},
   "outputs": [
    {
     "name": "stdout",
     "output_type": "stream",
     "text": [
      "3\n",
      "1 200 400\n",
      "Yes\n",
      "1 1\n",
      "2 1 2\n"
     ]
    },
    {
     "ename": "SystemExit",
     "evalue": "0",
     "output_type": "error",
     "traceback": [
      "An exception has occurred, use %tb to see the full traceback.\n",
      "\u001b[0;31mSystemExit\u001b[0m\u001b[0;31m:\u001b[0m 0\n"
     ]
    },
    {
     "name": "stderr",
     "output_type": "stream",
     "text": [
      "/Users/miuratakuto/.pyenv/versions/anaconda3-5.1.0/lib/python3.6/site-packages/IPython/core/interactiveshell.py:2918: UserWarning: To exit: use 'exit', 'quit', or Ctrl-D.\n",
      "  warn(\"To exit: use 'exit', 'quit', or Ctrl-D.\", stacklevel=1)\n"
     ]
    }
   ],
   "source": [
    "import sys\n",
    "N = int(input())\n",
    "A = list(map(int, input().split()))\n",
    "\n",
    "cnt, ans = [], []\n",
    "for i in range(N):\n",
    "    for j in range(i, N):\n",
    "        cnt.append(sum(list(A[i:j+1]))%200)\n",
    "        ans.append(list(map(str, list(range(i+1, j+2)))))\n",
    "        \n",
    "for b in range(len(cnt)-1):\n",
    "    for c in range(b+1, len(cnt)):\n",
    "        if cnt[b]==cnt[c]:\n",
    "            print(\"Yes\")\n",
    "            print(len(ans[b]), \" \".join(ans[b]))\n",
    "            print(len(ans[c]), \" \".join(ans[c]))\n",
    "            sys.exit(0)\n",
    "            \n",
    "print(\"No\")"
   ]
  },
  {
   "cell_type": "code",
   "execution_count": 56,
   "metadata": {},
   "outputs": [
    {
     "data": {
      "text/plain": [
       "0"
      ]
     },
     "execution_count": 56,
     "metadata": {},
     "output_type": "execute_result"
    }
   ],
   "source": [
    "0%200"
   ]
  },
  {
   "cell_type": "code",
   "execution_count": null,
   "metadata": {},
   "outputs": [],
   "source": []
  }
 ],
 "metadata": {
  "kernelspec": {
   "display_name": "Python 3",
   "language": "python",
   "name": "python3"
  },
  "language_info": {
   "codemirror_mode": {
    "name": "ipython",
    "version": 3
   },
   "file_extension": ".py",
   "mimetype": "text/x-python",
   "name": "python",
   "nbconvert_exporter": "python",
   "pygments_lexer": "ipython3",
   "version": "3.6.4"
  }
 },
 "nbformat": 4,
 "nbformat_minor": 2
}
