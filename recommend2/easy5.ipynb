{
 "cells": [
  {
   "cell_type": "code",
   "execution_count": 1,
   "metadata": {},
   "outputs": [],
   "source": [
    "#∵∴∵"
   ]
  },
  {
   "cell_type": "code",
   "execution_count": 5,
   "metadata": {},
   "outputs": [
    {
     "name": "stdout",
     "output_type": "stream",
     "text": [
      "atcoderbeginnercontest\n",
      "atcoderregularcontest\n",
      "aattccooddeerrbreeggiunlnaerrccoonntteesstt\n"
     ]
    }
   ],
   "source": [
    "O = list(input())\n",
    "E = list(input())\n",
    "\n",
    "ans = \"\"\n",
    "while O and E:\n",
    "    ans += O[0]\n",
    "    del O[0]\n",
    "    ans += E[0]\n",
    "    del E[0]\n",
    "\n",
    "if O:\n",
    "    ans += O[0]\n",
    "    \n",
    "print(ans)"
   ]
  },
  {
   "cell_type": "code",
   "execution_count": 6,
   "metadata": {},
   "outputs": [],
   "source": [
    "#Comparison"
   ]
  },
  {
   "cell_type": "code",
   "execution_count": 7,
   "metadata": {},
   "outputs": [
    {
     "name": "stdout",
     "output_type": "stream",
     "text": [
      "36\n",
      "27\n",
      "GREATER\n"
     ]
    }
   ],
   "source": [
    "A = int(input())\n",
    "B = int(input())\n",
    "\n",
    "if A > B:\n",
    "    print(\"GREATER\")\n",
    "elif A < B:\n",
    "    print(\"LESS\")\n",
    "else:\n",
    "    print(\"EQUAL\")"
   ]
  },
  {
   "cell_type": "code",
   "execution_count": 8,
   "metadata": {},
   "outputs": [],
   "source": [
    "#Coins"
   ]
  },
  {
   "cell_type": "code",
   "execution_count": 11,
   "metadata": {},
   "outputs": [
    {
     "name": "stdout",
     "output_type": "stream",
     "text": [
      "30\n",
      "40\n",
      "50\n",
      "6000\n",
      "213\n"
     ]
    }
   ],
   "source": [
    "A = int(input())\n",
    "B = int(input())\n",
    "C = int(input())\n",
    "X = int(input())\n",
    "\n",
    "ans = 0\n",
    "for a in range(A+1):\n",
    "    for b in range(B+1):\n",
    "        for c in range(C+1):\n",
    "            if (a*500)+(b*100)+c*(50) == X:\n",
    "                ans += 1\n",
    "                \n",
    "print(ans)"
   ]
  },
  {
   "cell_type": "code",
   "execution_count": 12,
   "metadata": {},
   "outputs": [],
   "source": [
    "#Bishop"
   ]
  },
  {
   "cell_type": "code",
   "execution_count": 5,
   "metadata": {},
   "outputs": [
    {
     "name": "stdout",
     "output_type": "stream",
     "text": [
      "1000000000 1000000000\n",
      "500000000000000000\n"
     ]
    }
   ],
   "source": [
    "H, W = map(int, input().split())\n",
    "\n",
    "if H==1 or W==1:\n",
    "    print(1)\n",
    "elif H%2==0:\n",
    "    print((H//2)*W)\n",
    "else:\n",
    "    h1, h2 = (H//2)+1, H//2\n",
    "    w1, w2 = W-(W//2), W//2\n",
    "    print((h1*w1)+(h2*w2))"
   ]
  },
  {
   "cell_type": "code",
   "execution_count": 6,
   "metadata": {},
   "outputs": [],
   "source": [
    "#Range Product"
   ]
  },
  {
   "cell_type": "code",
   "execution_count": 10,
   "metadata": {},
   "outputs": [
    {
     "name": "stdout",
     "output_type": "stream",
     "text": [
      "-3 1\n",
      "Zero\n"
     ]
    }
   ],
   "source": [
    "a, b = map(int, input().split())\n",
    "\n",
    "if a > 0:\n",
    "    print(\"Positive\")\n",
    "elif b < 0:\n",
    "    if abs(a-b)%2==0:\n",
    "        print(\"Negative\")\n",
    "    else:\n",
    "        print(\"Positive\")\n",
    "else:\n",
    "    print(\"Zero\")"
   ]
  },
  {
   "cell_type": "code",
   "execution_count": 11,
   "metadata": {},
   "outputs": [],
   "source": [
    "#Colon"
   ]
  },
  {
   "cell_type": "code",
   "execution_count": 12,
   "metadata": {},
   "outputs": [
    {
     "name": "stdout",
     "output_type": "stream",
     "text": [
      "3 4 9 0\n",
      "5.0\n"
     ]
    }
   ],
   "source": [
    "import math\n",
    "A, B, H, M = map(int, input().split())\n",
    " \n",
    "long = M * 6\n",
    "short = (H*60 + M) * 0.5\n",
    "k = short - long\n",
    "if k > 180:\n",
    "    k = 360 - k\n",
    "a = (A**2) + (B**2) - (2*A*B*math.cos(math.radians(k)))\n",
    "print(a**(1/2))"
   ]
  },
  {
   "cell_type": "code",
   "execution_count": 1,
   "metadata": {},
   "outputs": [],
   "source": [
    "#Different Distribution"
   ]
  },
  {
   "cell_type": "code",
   "execution_count": 1,
   "metadata": {},
   "outputs": [
    {
     "name": "stdout",
     "output_type": "stream",
     "text": [
      "5\n",
      "1 10\n",
      "3 6\n",
      "5 2\n",
      "4 4\n",
      "2 8\n",
      "7\n"
     ]
    }
   ],
   "source": [
    "N = int(input())\n",
    "cnt = [0, 0]\n",
    "for _ in range(N):\n",
    "    a, b = map(int, input().split())\n",
    "    if cnt[0] <= a:\n",
    "        cnt[0], cnt[1] = a, b\n",
    "        \n",
    "print(sum(cnt))"
   ]
  },
  {
   "cell_type": "code",
   "execution_count": 2,
   "metadata": {},
   "outputs": [],
   "source": [
    "#AcCepted"
   ]
  },
  {
   "cell_type": "code",
   "execution_count": 5,
   "metadata": {},
   "outputs": [
    {
     "name": "stdout",
     "output_type": "stream",
     "text": [
      "Atcoder\n",
      "WA\n"
     ]
    }
   ],
   "source": [
    "S = list(input())\n",
    "\n",
    "ans = \"AC\"\n",
    "\n",
    "if S[0] != \"A\":\n",
    "    ans = \"WA\"\n",
    "else:\n",
    "    del S[0]\n",
    "    \n",
    "if S[1:-1].count(\"C\") != 1:\n",
    "    ans = \"WA\"\n",
    "    cnt = []\n",
    "else:\n",
    "    cnt = [S[i] for i in range(1, len(S)-1) if S[i]!=\"C\"]\n",
    "    cnt.insert(0, S[0])\n",
    "    cnt.append(S[-1])\n",
    "    \n",
    "for s in cnt:\n",
    "    if s.isupper():\n",
    "        ans = \"WA\"\n",
    "        \n",
    "print(ans)"
   ]
  },
  {
   "cell_type": "code",
   "execution_count": 9,
   "metadata": {},
   "outputs": [],
   "source": [
    "#Contest with Drinks Easy"
   ]
  },
  {
   "cell_type": "code",
   "execution_count": 10,
   "metadata": {},
   "outputs": [
    {
     "name": "stdout",
     "output_type": "stream",
     "text": [
      "3\n",
      "2 1 4\n",
      "2\n",
      "1 1\n",
      "6\n",
      "2 3\n",
      "9\n"
     ]
    }
   ],
   "source": [
    "import copy\n",
    "N = int(input())\n",
    "T = list(map(int, input().split()))\n",
    "M = int(input())\n",
    "ans = []\n",
    "for _ in range(M):\n",
    "    p, x = map(int, input().split())\n",
    "    t = T.copy()\n",
    "    t[p-1] = x\n",
    "    ans.append(sum(t))\n",
    "    \n",
    "for a in ans:\n",
    "    print(a)"
   ]
  },
  {
   "cell_type": "code",
   "execution_count": 11,
   "metadata": {},
   "outputs": [],
   "source": [
    "#Poll"
   ]
  },
  {
   "cell_type": "code",
   "execution_count": 23,
   "metadata": {},
   "outputs": [
    {
     "name": "stdout",
     "output_type": "stream",
     "text": [
      "7\n",
      "beat\n",
      "vet\n",
      "beet\n",
      "bed\n",
      "vet\n",
      "bet\n",
      "beet\n",
      "beat\n",
      "bed\n",
      "beet\n",
      "bet\n",
      "vet\n"
     ]
    }
   ],
   "source": [
    "from collections import Counter\n",
    "N = int(input())\n",
    "S = []\n",
    "for _ in range(N):\n",
    "    S.append(input())\n",
    "cnt = Counter(S)\n",
    "C = cnt.most_common()\n",
    "\n",
    "ans = []\n",
    "for c in C:\n",
    "    if C[0][1] == c[1]:\n",
    "        ans.append(c[0])\n",
    "    else:\n",
    "        break\n",
    "ans.sort()\n",
    "\n",
    "for a in ans:\n",
    "    print(a)"
   ]
  },
  {
   "cell_type": "code",
   "execution_count": 24,
   "metadata": {},
   "outputs": [
    {
     "data": {
      "text/plain": [
       "Counter({'beat': 1, 'bed': 1, 'beet': 2, 'bet': 1, 'vet': 2})"
      ]
     },
     "execution_count": 24,
     "metadata": {},
     "output_type": "execute_result"
    }
   ],
   "source": [
    "cnt"
   ]
  },
  {
   "cell_type": "code",
   "execution_count": null,
   "metadata": {},
   "outputs": [],
   "source": []
  }
 ],
 "metadata": {
  "kernelspec": {
   "display_name": "Python 3",
   "language": "python",
   "name": "python3"
  },
  "language_info": {
   "codemirror_mode": {
    "name": "ipython",
    "version": 3
   },
   "file_extension": ".py",
   "mimetype": "text/x-python",
   "name": "python",
   "nbconvert_exporter": "python",
   "pygments_lexer": "ipython3",
   "version": "3.6.4"
  }
 },
 "nbformat": 4,
 "nbformat_minor": 2
}
