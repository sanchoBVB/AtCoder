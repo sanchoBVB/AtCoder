{
 "cells": [
  {
   "cell_type": "code",
   "execution_count": 1,
   "metadata": {},
   "outputs": [],
   "source": [
    "#A x B + C"
   ]
  },
  {
   "cell_type": "code",
   "execution_count": 4,
   "metadata": {},
   "outputs": [
    {
     "name": "stdout",
     "output_type": "stream",
     "text": [
      "1000000\n",
      "13969985\n"
     ]
    }
   ],
   "source": [
    "N = int(input())\n",
    "\n",
    "ans = 0\n",
    "for i in range(1, N):\n",
    "    ans += (N-1)//i\n",
    "    \n",
    "print(ans)"
   ]
  },
  {
   "cell_type": "code",
   "execution_count": 5,
   "metadata": {},
   "outputs": [],
   "source": [
    "#Same Integers"
   ]
  },
  {
   "cell_type": "code",
   "execution_count": 8,
   "metadata": {},
   "outputs": [
    {
     "name": "stdout",
     "output_type": "stream",
     "text": [
      "31 41 5\n",
      "23\n"
     ]
    }
   ],
   "source": [
    "x = list(map(int, input().split()))\n",
    "x.sort()\n",
    "A, B, C = x[0], x[1], x[2]\n",
    "\n",
    "if ((C-B)+(C-A))%2==0:\n",
    "    print(((C-B)+(C-A))//2)\n",
    "else:\n",
    "    n = (C-B)//2\n",
    "    ans = 2*n\n",
    "    A += 2*n\n",
    "    B += 2*n\n",
    "    if C==B:\n",
    "        ans += ((C-A)//2)+2\n",
    "    else:\n",
    "        C += 1\n",
    "        A += 1\n",
    "        ans += 1\n",
    "        ans += ((C-B)//2)+((C-A)//2)\n",
    "    print(ans)"
   ]
  },
  {
   "cell_type": "code",
   "execution_count": 9,
   "metadata": {},
   "outputs": [],
   "source": [
    "#Candies"
   ]
  },
  {
   "cell_type": "code",
   "execution_count": 17,
   "metadata": {},
   "outputs": [
    {
     "name": "stdout",
     "output_type": "stream",
     "text": [
      "1\n",
      "2\n",
      "3\n",
      "5\n"
     ]
    }
   ],
   "source": [
    "N = int(input())\n",
    "A = list(map(int, input().split()))\n",
    "B = list(map(int, input().split()))\n",
    "\n",
    "ans = []\n",
    "for n in range(N):\n",
    "    cnt = sum(A[:n+1])+sum(B[n:])\n",
    "    ans.append(cnt)\n",
    "    \n",
    "print(max(ans))"
   ]
  },
  {
   "cell_type": "code",
   "execution_count": 18,
   "metadata": {},
   "outputs": [],
   "source": [
    "#Ruined Square"
   ]
  },
  {
   "cell_type": "code",
   "execution_count": 21,
   "metadata": {},
   "outputs": [
    {
     "name": "stdout",
     "output_type": "stream",
     "text": [
      "31 -41 -59 26\n",
      "-126 -64 -36 -131\n"
     ]
    }
   ],
   "source": [
    "x1, y1, x2, y2 = map(int, input().split())\n",
    "\n",
    "a, b = x2-x1, y2-y1\n",
    "x3, y3 = x2-b, y2+a\n",
    "x4, y4 = x1-b, y1+a\n",
    "\n",
    "print(x3, y3, x4, y4)"
   ]
  },
  {
   "cell_type": "code",
   "execution_count": 22,
   "metadata": {},
   "outputs": [],
   "source": [
    "#Two Colors Card Game"
   ]
  },
  {
   "cell_type": "code",
   "execution_count": 25,
   "metadata": {},
   "outputs": [
    {
     "name": "stdout",
     "output_type": "stream",
     "text": [
      "3\n",
      "apple\n",
      "orange\n",
      "apple\n",
      "1\n",
      "orange\n",
      "2\n"
     ]
    }
   ],
   "source": [
    "from collections import Counter\n",
    "N = int(input())\n",
    "S = []\n",
    "for _ in range(N):\n",
    "    S.append(input())\n",
    "cnt = Counter(S)\n",
    "\n",
    "M = int(input())\n",
    "for _ in range(M):\n",
    "    t = input()\n",
    "    if t in cnt:\n",
    "        cnt[t] -= 1\n",
    "        \n",
    "ans = max(cnt.values())\n",
    "print(max(ans, 0))"
   ]
  },
  {
   "cell_type": "code",
   "execution_count": 1,
   "metadata": {},
   "outputs": [],
   "source": [
    "#Qualification simulator"
   ]
  },
  {
   "cell_type": "code",
   "execution_count": 23,
   "metadata": {},
   "outputs": [
    {
     "name": "stdout",
     "output_type": "stream",
     "text": [
      "12 5 2\n",
      "cabbabaacaba\n",
      "No\n",
      "Yes\n",
      "Yes\n",
      "Yes\n",
      "Yes\n",
      "No\n",
      "Yes\n",
      "Yes\n",
      "No\n",
      "Yes\n",
      "No\n",
      "No\n"
     ]
    }
   ],
   "source": [
    "N, A, B = map(int, input().split())\n",
    "S = list(input())\n",
    "\n",
    "ans = []\n",
    "a, b = 0, 0\n",
    "for n in range(N):\n",
    "    s = S[n]\n",
    "    if s==\"a\":\n",
    "        if a+b+1 <= A+B:\n",
    "            a += 1\n",
    "            ans.append(\"Yes\")\n",
    "        else:\n",
    "            ans.append(\"No\")\n",
    "    elif s==\"b\":\n",
    "        if a+b+1 <= A+B and b+1<=B:\n",
    "            b += 1\n",
    "            ans.append(\"Yes\")\n",
    "        else:\n",
    "            ans.append(\"No\")\n",
    "    else:\n",
    "        ans.append(\"No\")\n",
    "        \n",
    "for an in ans:\n",
    "    print(an)"
   ]
  },
  {
   "cell_type": "code",
   "execution_count": 1,
   "metadata": {},
   "outputs": [],
   "source": [
    "#Walk on Multiplication Table"
   ]
  },
  {
   "cell_type": "code",
   "execution_count": 8,
   "metadata": {},
   "outputs": [
    {
     "name": "stdout",
     "output_type": "stream",
     "text": [
      "10000000019\n",
      "10000000018\n"
     ]
    }
   ],
   "source": [
    "N = int(input())\n",
    "\n",
    "ans = N-1\n",
    "for i in range(1, int(N**0.5)+1):\n",
    "    if N%i==0:\n",
    "        n = N//i\n",
    "        ans = min(ans, abs(n-1)+abs(i-1))\n",
    "        \n",
    "print(ans)"
   ]
  },
  {
   "cell_type": "code",
   "execution_count": 9,
   "metadata": {},
   "outputs": [],
   "source": [
    "#*3 or /2"
   ]
  },
  {
   "cell_type": "code",
   "execution_count": 18,
   "metadata": {},
   "outputs": [
    {
     "name": "stdout",
     "output_type": "stream",
     "text": [
      "10\n",
      "2184 2126 1721 1800 1024 2528 3360 1945 1280 1776\n",
      "39\n"
     ]
    }
   ],
   "source": [
    "N = int(input())\n",
    "A = list(map(int, input().split()))\n",
    "\n",
    "ans = 0\n",
    "for n in range(N):\n",
    "    if A[n]%2==0:\n",
    "        ans += format(A[n], 'b')[::-1].find('1')\n",
    "        \n",
    "print(ans)"
   ]
  },
  {
   "cell_type": "code",
   "execution_count": 19,
   "metadata": {},
   "outputs": [],
   "source": [
    "#City Savers"
   ]
  },
  {
   "cell_type": "code",
   "execution_count": 22,
   "metadata": {},
   "outputs": [
    {
     "name": "stdout",
     "output_type": "stream",
     "text": [
      "2\n",
      "100 1 1\n",
      "1 100\n",
      "3\n"
     ]
    }
   ],
   "source": [
    "N = int(input())\n",
    "A = list(map(int, input().split()))\n",
    "B = list(map(int, input().split()))\n",
    "\n",
    "ans = 0\n",
    "for n in range(N):\n",
    "    b = B[n]\n",
    "    if b >= A[n]:\n",
    "        ans += A[n]\n",
    "        b -= A[n]\n",
    "        if b >= A[n+1]:\n",
    "            ans += A[n+1]\n",
    "            A[n+1] = 0\n",
    "        else:\n",
    "            ans += b\n",
    "            A[n+1] -= b\n",
    "    else:\n",
    "        ans += b\n",
    "        \n",
    "print(ans)"
   ]
  },
  {
   "cell_type": "code",
   "execution_count": 23,
   "metadata": {},
   "outputs": [],
   "source": [
    "#Training Camp"
   ]
  },
  {
   "cell_type": "code",
   "execution_count": 28,
   "metadata": {},
   "outputs": [
    {
     "name": "stdout",
     "output_type": "stream",
     "text": [
      "100000\n",
      "457992974\n"
     ]
    }
   ],
   "source": [
    "N = int(input())\n",
    "\n",
    "ans = 1\n",
    "for n in range(1, N+1):\n",
    "    ans *= n\n",
    "    ans %= (10**9)+7 \n",
    "    \n",
    "print(ans)"
   ]
  },
  {
   "cell_type": "code",
   "execution_count": null,
   "metadata": {},
   "outputs": [],
   "source": []
  }
 ],
 "metadata": {
  "kernelspec": {
   "display_name": "Python 3",
   "language": "python",
   "name": "python3"
  },
  "language_info": {
   "codemirror_mode": {
    "name": "ipython",
    "version": 3
   },
   "file_extension": ".py",
   "mimetype": "text/x-python",
   "name": "python",
   "nbconvert_exporter": "python",
   "pygments_lexer": "ipython3",
   "version": "3.6.4"
  }
 },
 "nbformat": 4,
 "nbformat_minor": 2
}
