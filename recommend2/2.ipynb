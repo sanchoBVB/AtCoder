{
 "cells": [
  {
   "cell_type": "code",
   "execution_count": null,
   "metadata": {},
   "outputs": [],
   "source": [
    "#Modulo Summation"
   ]
  },
  {
   "cell_type": "code",
   "execution_count": null,
   "metadata": {},
   "outputs": [],
   "source": [
    "import math\n",
    "from functools import reduce\n",
    "N = int(input())\n",
    "A = list(map(int, input().split()))\n",
    "\n",
    "def my_lcm_base(x, y):\n",
    "    return (x * y) // math.gcd(x, y)\n",
    "\n",
    "def my_lcm(*numbers):\n",
    "    return reduce(my_lcm_base, numbers, 1)\n",
    "m = my_lcm(*A)-1\n",
    "\n",
    "ans = 0\n",
    "for a in A:\n",
    "    ans += m%a\n",
    "    \n",
    "print(ans)"
   ]
  },
  {
   "cell_type": "code",
   "execution_count": null,
   "metadata": {},
   "outputs": [],
   "source": [
    "#Write and Erase"
   ]
  },
  {
   "cell_type": "code",
   "execution_count": null,
   "metadata": {},
   "outputs": [],
   "source": [
    "from collections import Counter\n",
    "N = int(input())\n",
    "A = [int(input()) for _ in range(N)]\n",
    "\n",
    "cnt = Counter(A)\n",
    "ans = 0\n",
    "for i in cnt.values():\n",
    "    if i%2 != 0:\n",
    "        ans += 1\n",
    "        \n",
    "print(ans)"
   ]
  },
  {
   "cell_type": "code",
   "execution_count": null,
   "metadata": {},
   "outputs": [],
   "source": [
    "#Guess The Number"
   ]
  },
  {
   "cell_type": "code",
   "execution_count": 9,
   "metadata": {},
   "outputs": [
    {
     "name": "stdout",
     "output_type": "stream",
     "text": [
      "3 3\n",
      "1 7\n",
      "3 2\n",
      "1 7\n",
      "702\n"
     ]
    }
   ],
   "source": [
    "N, M = map(int, input().split())\n",
    "\n",
    "cnt = [-1]*N\n",
    "C = False\n",
    "for _ in range(M):\n",
    "    s, c = map(int, input().split())\n",
    "    if cnt[s-1] == -1:\n",
    "        cnt[s-1] = c\n",
    "    else:\n",
    "        if cnt[s-1] != c:\n",
    "            C = True\n",
    "            \n",
    "if C:\n",
    "    print(-1)\n",
    "else:\n",
    "    if N == 1:\n",
    "        if cnt[0] == -1:\n",
    "            print(0)\n",
    "        else:\n",
    "            print(cnt[0])\n",
    "    else:\n",
    "        if cnt[0] == 0:\n",
    "            print(-1)\n",
    "        else:\n",
    "            ans = []\n",
    "            for n in range(N):\n",
    "                if cnt[n] == -1:\n",
    "                    if n==0:\n",
    "                        ans.append(\"1\")\n",
    "                    else:\n",
    "                        ans.append(\"0\")\n",
    "                else:\n",
    "                    ans.append(str(cnt[n]))\n",
    "            print(int(\"\".join(ans)))"
   ]
  },
  {
   "cell_type": "code",
   "execution_count": 1,
   "metadata": {},
   "outputs": [],
   "source": [
    "#Alter Altar"
   ]
  },
  {
   "cell_type": "code",
   "execution_count": 10,
   "metadata": {},
   "outputs": [
    {
     "name": "stdout",
     "output_type": "stream",
     "text": [
      "8\n",
      "WRWRWRR\n",
      "2\n"
     ]
    }
   ],
   "source": [
    "N = int(input())\n",
    "C = list(input())\n",
    "\n",
    "r = C.count(\"R\")\n",
    "print(C[r:].count(\"R\"))"
   ]
  },
  {
   "cell_type": "code",
   "execution_count": 11,
   "metadata": {},
   "outputs": [],
   "source": [
    "#DNA Sequence"
   ]
  },
  {
   "cell_type": "code",
   "execution_count": 21,
   "metadata": {},
   "outputs": [
    {
     "name": "stdout",
     "output_type": "stream",
     "text": [
      "4 ATAT\n",
      "4\n"
     ]
    }
   ],
   "source": [
    "#自分の回答\n",
    "#PyPyだといける\n",
    "N, S = input().split()\n",
    "N, S = int(N), list(S)\n",
    "\n",
    "ans = 0\n",
    "for i in range(N-1):\n",
    "    cnt = {\"A\":0, \"T\":0, \"G\":0, \"C\":0}\n",
    "    cnt[S[i]] += 1\n",
    "    for j in range(i+1, N):\n",
    "        cnt[S[j]] += 1\n",
    "        if cnt[\"A\"]==cnt[\"T\"] and cnt[\"C\"]==cnt[\"G\"]:\n",
    "            ans += 1\n",
    "            \n",
    "print(ans)"
   ]
  },
  {
   "cell_type": "code",
   "execution_count": 22,
   "metadata": {},
   "outputs": [],
   "source": [
    "#Stamp"
   ]
  },
  {
   "cell_type": "code",
   "execution_count": 30,
   "metadata": {},
   "outputs": [
    {
     "name": "stdout",
     "output_type": "stream",
     "text": [
      "1 0\n",
      "\n",
      "1\n"
     ]
    }
   ],
   "source": [
    "import math\n",
    "N, M = map(int, input().split())\n",
    "A = list(map(int, input().split()))\n",
    "A.append(0)\n",
    "A.append(N+1)\n",
    "A.sort()\n",
    "\n",
    "if N==M:\n",
    "    print(0)\n",
    "elif M==0:\n",
    "    print(1)\n",
    "else:\n",
    "    ans = []\n",
    "    for m in range(1, len(A)):\n",
    "        k=A[m]-A[m-1]-1\n",
    "        if k>0:\n",
    "            ans.append(k)\n",
    "    K = min(ans)\n",
    "    Ans = 0\n",
    "    for a in ans:\n",
    "        Ans += math.ceil(a/K)\n",
    "    print(Ans)"
   ]
  },
  {
   "cell_type": "code",
   "execution_count": 1,
   "metadata": {},
   "outputs": [],
   "source": [
    "#Banned K"
   ]
  },
  {
   "cell_type": "code",
   "execution_count": 27,
   "metadata": {},
   "outputs": [
    {
     "name": "stdout",
     "output_type": "stream",
     "text": [
      "5\n",
      "3 3 3 3 3\n",
      "6\n",
      "6\n",
      "6\n",
      "6\n",
      "6\n"
     ]
    }
   ],
   "source": [
    "from collections import Counter\n",
    "N = int(input())\n",
    "A = list(map(int, input().split()))\n",
    "\n",
    "c = Counter(A)\n",
    "ans = 0\n",
    "for v in c.values():\n",
    "    if v>=2:\n",
    "        ans += v*(v-1)//2\n",
    "\n",
    "for a in A:\n",
    "    print(ans-c[a]+1)"
   ]
  },
  {
   "cell_type": "code",
   "execution_count": 28,
   "metadata": {},
   "outputs": [],
   "source": [
    "#Two Anagrams"
   ]
  },
  {
   "cell_type": "code",
   "execution_count": 32,
   "metadata": {},
   "outputs": [
    {
     "name": "stdout",
     "output_type": "stream",
     "text": [
      "w\n",
      "ww\n",
      "Yes\n"
     ]
    }
   ],
   "source": [
    "s = list(input())\n",
    "s.sort()\n",
    "t = list(input())\n",
    "t.sort(reverse=True)\n",
    "\n",
    "if \"\".join(s) < \"\".join(t):\n",
    "    print(\"Yes\")\n",
    "else:\n",
    "    print(\"No\")"
   ]
  },
  {
   "cell_type": "code",
   "execution_count": 33,
   "metadata": {},
   "outputs": [],
   "source": [
    "#Replacing"
   ]
  },
  {
   "cell_type": "code",
   "execution_count": 6,
   "metadata": {},
   "outputs": [
    {
     "name": "stdout",
     "output_type": "stream",
     "text": [
      "4\n",
      "1 1 1 1\n",
      "3\n",
      "1 2\n",
      "2 1\n",
      "3 5\n",
      "8\n",
      "4\n",
      "4\n"
     ]
    }
   ],
   "source": [
    "from collections import Counter\n",
    "N = int(input())\n",
    "A = list(map(int, input().split()))\n",
    "cnt = Counter(A)\n",
    "ans = 0\n",
    "for k, v in cnt.items():\n",
    "    ans += k*v\n",
    "\n",
    "Q = int(input())\n",
    "answer = []\n",
    "for _ in range(Q):\n",
    "    b, c = map(int, input().split())\n",
    "    ans -= b*cnt[b]\n",
    "    ans += c*cnt[b]\n",
    "    cnt[c] += cnt[b]\n",
    "    del cnt[b]\n",
    "    answer.append(ans)\n",
    "    \n",
    "for a in answer:\n",
    "    print(a)"
   ]
  },
  {
   "cell_type": "code",
   "execution_count": 7,
   "metadata": {},
   "outputs": [],
   "source": [
    "#Choose Integers"
   ]
  },
  {
   "cell_type": "code",
   "execution_count": 10,
   "metadata": {},
   "outputs": [
    {
     "name": "stdout",
     "output_type": "stream",
     "text": [
      "1 100 97\n",
      "YES\n"
     ]
    }
   ],
   "source": [
    "A, B, C = map(int, input().split())\n",
    "\n",
    "ans = \"NO\"\n",
    "for i in range(1, B+1):\n",
    "    if (A*i)%B==C:\n",
    "        ans = \"YES\"\n",
    "        break\n",
    "        \n",
    "print(ans)"
   ]
  },
  {
   "cell_type": "code",
   "execution_count": null,
   "metadata": {},
   "outputs": [],
   "source": []
  }
 ],
 "metadata": {
  "kernelspec": {
   "display_name": "Python 3",
   "language": "python",
   "name": "python3"
  },
  "language_info": {
   "codemirror_mode": {
    "name": "ipython",
    "version": 3
   },
   "file_extension": ".py",
   "mimetype": "text/x-python",
   "name": "python",
   "nbconvert_exporter": "python",
   "pygments_lexer": "ipython3",
   "version": "3.6.4"
  }
 },
 "nbformat": 4,
 "nbformat_minor": 2
}
