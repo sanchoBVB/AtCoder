{
 "cells": [
  {
   "cell_type": "code",
   "execution_count": 1,
   "metadata": {},
   "outputs": [],
   "source": [
    "#Prefix and Suffix"
   ]
  },
  {
   "cell_type": "code",
   "execution_count": 17,
   "metadata": {},
   "outputs": [
    {
     "name": "stdout",
     "output_type": "stream",
     "text": [
      "4\n",
      "expr\n",
      "expr\n",
      "4\n"
     ]
    }
   ],
   "source": [
    "N = int(input())\n",
    "s = input()\n",
    "t = input()\n",
    "\n",
    "T = list(t)\n",
    "\n",
    "ans = N*2\n",
    "while T:\n",
    "    del T[0]\n",
    "    cnt = list(s+\"\".join(T))\n",
    "    if cnt[:N] == list(s):\n",
    "        if cnt[-N:] == list(t):\n",
    "            ans = len(cnt)\n",
    "            \n",
    "print(ans)"
   ]
  },
  {
   "cell_type": "code",
   "execution_count": 18,
   "metadata": {},
   "outputs": [],
   "source": [
    "#Connection and Disconnection"
   ]
  },
  {
   "cell_type": "code",
   "execution_count": 40,
   "metadata": {},
   "outputs": [
    {
     "name": "stdout",
     "output_type": "stream",
     "text": [
      "q\n",
      "4\n",
      "2\n"
     ]
    },
    {
     "ename": "SystemExit",
     "evalue": "0",
     "output_type": "error",
     "traceback": [
      "An exception has occurred, use %tb to see the full traceback.\n",
      "\u001b[0;31mSystemExit\u001b[0m\u001b[0;31m:\u001b[0m 0\n"
     ]
    },
    {
     "name": "stderr",
     "output_type": "stream",
     "text": [
      "/Users/miuratakuto/.pyenv/versions/anaconda3-5.1.0/lib/python3.6/site-packages/IPython/core/interactiveshell.py:2918: UserWarning: To exit: use 'exit', 'quit', or Ctrl-D.\n",
      "  warn(\"To exit: use 'exit', 'quit', or Ctrl-D.\", stacklevel=1)\n"
     ]
    }
   ],
   "source": [
    "import sys\n",
    "import copy\n",
    "S = list(input())\n",
    "K = int(input())\n",
    "N = len(S)\n",
    "    \n",
    "if S.count(S[0])==N:\n",
    "    if N%2==0:\n",
    "        print((N//2)*K)\n",
    "    else:\n",
    "        print(((N//2)*(K-(K//2)))+(((N//2)+1)*(K//2)))\n",
    "    sys.exit(0)\n",
    "\n",
    "ans = 0\n",
    "s = S.copy()\n",
    "for n in range(1, N):\n",
    "    if s[n-1] == s[n]:\n",
    "        s[n] = \"A\"\n",
    "        ans += 1\n",
    "        \n",
    "s1 = list(\"\".join(s)+\"\".join(S))\n",
    "cnt = 0\n",
    "for n in range(1, N*2):\n",
    "    if s1[n-1] == s1[n]:\n",
    "        s1[n] = \"B\"\n",
    "        cnt += 1\n",
    "        \n",
    "print(ans+(cnt*(K-1)))"
   ]
  },
  {
   "cell_type": "code",
   "execution_count": 1,
   "metadata": {},
   "outputs": [],
   "source": [
    "#Anti-Division"
   ]
  },
  {
   "cell_type": "code",
   "execution_count": 15,
   "metadata": {},
   "outputs": [
    {
     "name": "stdout",
     "output_type": "stream",
     "text": [
      "314159265358979323 846264338327950288 419716939 937510582\n",
      "532105071133627368\n"
     ]
    }
   ],
   "source": [
    "import math\n",
    "A, B, C, D = map(int, input().split())\n",
    "\n",
    "if A==B:\n",
    "    if A%C!=0 and A%D!=0:\n",
    "        print(1)\n",
    "    else:\n",
    "        print(0)\n",
    "else:\n",
    "    def my_lcm(x, y):\n",
    "        return (x * y) // math.gcd(x, y)\n",
    "    \n",
    "    c, d = (B//C)-((A-1)//C), (B//D)-((A-1)//D)\n",
    "    cd = (B//my_lcm(C, D))-((A-1)//my_lcm(C, D))\n",
    "    cnt = c+d-cd\n",
    "    print((B-A+1)-cnt)"
   ]
  },
  {
   "cell_type": "code",
   "execution_count": 27,
   "metadata": {},
   "outputs": [],
   "source": [
    "#log"
   ]
  },
  {
   "cell_type": "code",
   "execution_count": 41,
   "metadata": {},
   "outputs": [
    {
     "name": "stdout",
     "output_type": "stream",
     "text": [
      "4\n",
      "3\n"
     ]
    }
   ],
   "source": [
    "n = int(input())\n",
    "\n",
    "high, low = n+1, 1\n",
    "while high-low>1:\n",
    "    mid = (high+low)//2\n",
    "    if mid*(mid+1)>2*(n+1):\n",
    "        high = mid\n",
    "    else:\n",
    "        low = mid\n",
    "\n",
    "print(n-low+1)"
   ]
  },
  {
   "cell_type": "code",
   "execution_count": 1,
   "metadata": {},
   "outputs": [],
   "source": [
    "#RGB Boxes"
   ]
  },
  {
   "cell_type": "code",
   "execution_count": 5,
   "metadata": {},
   "outputs": [
    {
     "name": "stdout",
     "output_type": "stream",
     "text": [
      "13 1 4 3000\n",
      "87058\n"
     ]
    }
   ],
   "source": [
    "R, G, B, N = map(int, input().split())\n",
    "\n",
    "ans = 0\n",
    "for r in range(N+1):\n",
    "    red = R*r\n",
    "    for g in range(N+1):\n",
    "        green = G*g\n",
    "        if (N-(red+green))%B==0:\n",
    "            if (N-(red+green))/B >= 0:\n",
    "                ans += 1\n",
    "            \n",
    "print(ans)"
   ]
  },
  {
   "cell_type": "code",
   "execution_count": 6,
   "metadata": {},
   "outputs": [],
   "source": [
    "#Grand Garden"
   ]
  },
  {
   "cell_type": "code",
   "execution_count": 25,
   "metadata": {},
   "outputs": [
    {
     "name": "stdout",
     "output_type": "stream",
     "text": [
      "8\n",
      "4 23 75 0 23 96 50 100\n",
      "221\n"
     ]
    }
   ],
   "source": [
    "N = int(input())\n",
    "H = list(map(int, input().split()))\n",
    "\n",
    "cnt = 0\n",
    "for n in range(1, N):\n",
    "    if H[n-1] >= H[n]:\n",
    "        cnt += H[n-1]-H[n]\n",
    "        \n",
    "print(cnt+H[-1])"
   ]
  },
  {
   "cell_type": "code",
   "execution_count": 1,
   "metadata": {},
   "outputs": [],
   "source": [
    "#Trained?"
   ]
  },
  {
   "cell_type": "code",
   "execution_count": 4,
   "metadata": {},
   "outputs": [
    {
     "name": "stdout",
     "output_type": "stream",
     "text": [
      "3\n",
      "3\n",
      "1\n",
      "2\n",
      "2\n"
     ]
    }
   ],
   "source": [
    "import sys\n",
    "N = int(input())\n",
    "A = []\n",
    "for _ in range(N):\n",
    "    A.append(int(input()))\n",
    "    \n",
    "ans = 1\n",
    "i = A[0]\n",
    "if i == 2:\n",
    "    print(ans)\n",
    "    sys.exit(0)\n",
    "    \n",
    "while ans <= 10**5:\n",
    "    ans += 1\n",
    "    i = A[i-1]\n",
    "    if i == 2:\n",
    "        break\n",
    "        \n",
    "if ans <= 10**5:\n",
    "    print(ans)\n",
    "else:\n",
    "    print(-1)"
   ]
  },
  {
   "cell_type": "code",
   "execution_count": 5,
   "metadata": {},
   "outputs": [],
   "source": [
    "#仲良しうさぎ"
   ]
  },
  {
   "cell_type": "code",
   "execution_count": 8,
   "metadata": {},
   "outputs": [
    {
     "name": "stdout",
     "output_type": "stream",
     "text": [
      "5\n",
      "5 5 5 5 1\n",
      "1\n"
     ]
    }
   ],
   "source": [
    "N = int(input())\n",
    "A = list(map(int, input().split()))\n",
    "\n",
    "ans = 0\n",
    "for n in range(N):\n",
    "    if A[A[n]-1] == n+1:\n",
    "        ans += 1\n",
    "        \n",
    "print(ans//2)"
   ]
  },
  {
   "cell_type": "code",
   "execution_count": 9,
   "metadata": {},
   "outputs": [],
   "source": [
    "#Bowls and Dishes"
   ]
  },
  {
   "cell_type": "code",
   "execution_count": 16,
   "metadata": {},
   "outputs": [
    {
     "name": "stdout",
     "output_type": "stream",
     "text": [
      "6 12\n",
      "2 3\n",
      "4 6\n",
      "1 2\n",
      "4 5\n",
      "2 6\n",
      "1 5\n",
      "4 5\n",
      "1 3\n",
      "1 2\n",
      "2 6\n",
      "2 3\n",
      "2 5\n",
      "5\n",
      "3 5\n",
      "1 4\n",
      "2 6\n",
      "4 6\n",
      "5 6\n",
      "9\n"
     ]
    }
   ],
   "source": [
    "import itertools\n",
    "N, M = map(int, input().split())\n",
    "AB = []\n",
    "for _ in range(M):\n",
    "    AB.append(list(map(int, input().split())))\n",
    "    \n",
    "K = int(input())\n",
    "cnt = []\n",
    "for _ in range(K):\n",
    "    cnt.append(list(map(int, input().split())))\n",
    "cnt1 = itertools.product(*cnt)\n",
    "\n",
    "ans = []\n",
    "for c in cnt1:\n",
    "    an = 0\n",
    "    c = list(set(list(c)))\n",
    "    for ab in AB:\n",
    "        if ab[0] in c and ab[1] in c:\n",
    "            an += 1\n",
    "    ans.append(an)\n",
    "    \n",
    "print(max(ans))"
   ]
  },
  {
   "cell_type": "code",
   "execution_count": 17,
   "metadata": {},
   "outputs": [],
   "source": [
    "#AtCoder Group Contest"
   ]
  },
  {
   "cell_type": "code",
   "execution_count": 24,
   "metadata": {},
   "outputs": [
    {
     "name": "stdout",
     "output_type": "stream",
     "text": [
      "2\n",
      "5 2 8 5 1 5\n",
      "10\n"
     ]
    }
   ],
   "source": [
    "N = int(input())\n",
    "A = list(map(int, input().split()))\n",
    "A.sort(reverse=True)\n",
    "\n",
    "ans = []\n",
    "i = 2\n",
    "while len(ans) < N:\n",
    "    ans.append(A[i-1])\n",
    "    i += 2\n",
    "    \n",
    "print(sum(ans))"
   ]
  },
  {
   "cell_type": "code",
   "execution_count": null,
   "metadata": {},
   "outputs": [],
   "source": []
  }
 ],
 "metadata": {
  "kernelspec": {
   "display_name": "Python 3",
   "language": "python",
   "name": "python3"
  },
  "language_info": {
   "codemirror_mode": {
    "name": "ipython",
    "version": 3
   },
   "file_extension": ".py",
   "mimetype": "text/x-python",
   "name": "python",
   "nbconvert_exporter": "python",
   "pygments_lexer": "ipython3",
   "version": "3.6.4"
  }
 },
 "nbformat": 4,
 "nbformat_minor": 2
}
