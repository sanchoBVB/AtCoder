{
 "cells": [
  {
   "cell_type": "code",
   "execution_count": 1,
   "metadata": {},
   "outputs": [],
   "source": [
    "#Picture Frame"
   ]
  },
  {
   "cell_type": "code",
   "execution_count": 3,
   "metadata": {},
   "outputs": [
    {
     "name": "stdout",
     "output_type": "stream",
     "text": [
      "1 1\n",
      "z\n",
      "###\n",
      "#z#\n",
      "###\n"
     ]
    }
   ],
   "source": [
    "H, W = map(int, input().split())\n",
    "ans = []\n",
    "for h in range(H+2):\n",
    "    if h == 0:\n",
    "        ans.append([\"#\"]*(W+2))\n",
    "    elif h == H+1:\n",
    "        ans.append([\"#\"]*(W+2))\n",
    "    else:\n",
    "        a = \"#\"\n",
    "        a += input()\n",
    "        a += \"#\"\n",
    "        ans.append(list(a))\n",
    "        \n",
    "for a in ans:\n",
    "    print(\"\".join(a))"
   ]
  },
  {
   "cell_type": "code",
   "execution_count": 4,
   "metadata": {},
   "outputs": [],
   "source": [
    "#CF"
   ]
  },
  {
   "cell_type": "code",
   "execution_count": 8,
   "metadata": {},
   "outputs": [
    {
     "name": "stdout",
     "output_type": "stream",
     "text": [
      "FCF\n",
      "Yes\n"
     ]
    }
   ],
   "source": [
    "S = list(input())\n",
    "c = False\n",
    "f = False\n",
    "for s in S:\n",
    "    if s == \"C\":\n",
    "        c = True\n",
    "    elif s == \"F\":\n",
    "        if c:\n",
    "            f = True\n",
    "            \n",
    "if c and f:\n",
    "    print(\"Yes\")\n",
    "else:\n",
    "    print(\"No\")"
   ]
  },
  {
   "cell_type": "code",
   "execution_count": 1,
   "metadata": {},
   "outputs": [],
   "source": [
    "#management"
   ]
  },
  {
   "cell_type": "code",
   "execution_count": 2,
   "metadata": {},
   "outputs": [
    {
     "name": "stdout",
     "output_type": "stream",
     "text": [
      "7\n",
      "1 2 3 4 5 6\n",
      "1\n",
      "1\n",
      "1\n",
      "1\n",
      "1\n",
      "1\n",
      "0\n"
     ]
    }
   ],
   "source": [
    "N = int(input())\n",
    "A = list(map(int, input().split()))\n",
    "\n",
    "cnt = [0]*N\n",
    "for a in A:\n",
    "    cnt[a-1] += 1\n",
    "    \n",
    "for c in cnt:\n",
    "    print(c)"
   ]
  },
  {
   "cell_type": "code",
   "execution_count": 3,
   "metadata": {},
   "outputs": [],
   "source": [
    "#Marks"
   ]
  },
  {
   "cell_type": "code",
   "execution_count": 12,
   "metadata": {},
   "outputs": [
    {
     "name": "stdout",
     "output_type": "stream",
     "text": [
      "15 7\n",
      "3 1 4 1 5 9 2 6 5 3 5 8 9 7 9\n",
      "Yes\n",
      "Yes\n",
      "No\n",
      "Yes\n",
      "Yes\n",
      "No\n",
      "Yes\n",
      "Yes\n"
     ]
    }
   ],
   "source": [
    "N, K = map(int, input().split())\n",
    "A = list(map(int, input().split()))\n",
    "\n",
    "cnt = A[0]\n",
    "for i in range(1, N-K+1):\n",
    "    if A[K+i-1] <= cnt:\n",
    "        print(\"No\")\n",
    "    else:\n",
    "        print(\"Yes\")\n",
    "    cnt = A[i]"
   ]
  },
  {
   "cell_type": "code",
   "execution_count": 1,
   "metadata": {},
   "outputs": [],
   "source": [
    "#A x B + C"
   ]
  },
  {
   "cell_type": "code",
   "execution_count": 7,
   "metadata": {},
   "outputs": [
    {
     "name": "stdout",
     "output_type": "stream",
     "text": [
      "3\n",
      "3\n"
     ]
    }
   ],
   "source": [
    "N = int(input())\n",
    "\n",
    "def make_divisors(n):\n",
    "    cnt = 0\n",
    "    i = 1\n",
    "    while i*i <= n:\n",
    "        if n % i == 0:\n",
    "            cnt += 1\n",
    "            if i != n // i:\n",
    "                cnt += 1\n",
    "        i += 1\n",
    "    return cnt\n",
    "\n",
    "ans = 0\n",
    "for i in range(1, N):\n",
    "    ans += make_divisors(i)\n",
    "    \n",
    "print(ans)"
   ]
  },
  {
   "cell_type": "code",
   "execution_count": 9,
   "metadata": {},
   "outputs": [
    {
     "name": "stdout",
     "output_type": "stream",
     "text": [
      "10\n",
      "9\n",
      "4\n",
      "3\n",
      "2\n",
      "1\n",
      "1\n",
      "1\n",
      "1\n",
      "1\n",
      "23\n"
     ]
    }
   ],
   "source": [
    "N = int(input())\n",
    "ans = 0\n",
    "for i in range(1, N):\n",
    "    ans += (N-1)//i\n",
    "    \n",
    "print(ans)"
   ]
  },
  {
   "cell_type": "code",
   "execution_count": 1,
   "metadata": {},
   "outputs": [],
   "source": [
    "#Half and Half"
   ]
  },
  {
   "cell_type": "code",
   "execution_count": 4,
   "metadata": {},
   "outputs": [
    {
     "name": "stdout",
     "output_type": "stream",
     "text": [
      "1500 2000 500 90000 100000\n",
      "100000000\n"
     ]
    }
   ],
   "source": [
    "A, B, C, X, Y = map(int, input().split())\n",
    "\n",
    "if A+B<C*2:\n",
    "    print((A*X)+(B*Y))\n",
    "else:\n",
    "    ans = (C*2)*min(X, Y)\n",
    "    if X <= Y:\n",
    "        ans += min(B*(Y-X), C*2*(Y-X))\n",
    "    else:\n",
    "        ans += min(A*(X-Y), C*2*(X-Y))\n",
    "    print(ans)"
   ]
  },
  {
   "cell_type": "code",
   "execution_count": 5,
   "metadata": {},
   "outputs": [],
   "source": [
    "#Christmas Eve"
   ]
  },
  {
   "cell_type": "code",
   "execution_count": 7,
   "metadata": {},
   "outputs": [
    {
     "name": "stdout",
     "output_type": "stream",
     "text": [
      "5 3\n",
      "5\n",
      "7\n",
      "5\n",
      "7\n",
      "7\n",
      "0\n"
     ]
    }
   ],
   "source": [
    "N, K = map(int, input().split())\n",
    "H = []\n",
    "for _ in range(N):\n",
    "    H.append(int(input()))\n",
    "H.sort()\n",
    "\n",
    "ans = 10**9\n",
    "for i in range(N-K+1):\n",
    "    ans = min(abs(H[i]-H[i+K-1]), ans)\n",
    "    \n",
    "print(ans)"
   ]
  },
  {
   "cell_type": "code",
   "execution_count": 8,
   "metadata": {},
   "outputs": [],
   "source": [
    "#To3"
   ]
  },
  {
   "cell_type": "code",
   "execution_count": 22,
   "metadata": {},
   "outputs": [
    {
     "name": "stdout",
     "output_type": "stream",
     "text": [
      "888888888888888888\n",
      "0\n"
     ]
    },
    {
     "ename": "SystemExit",
     "evalue": "0",
     "output_type": "error",
     "traceback": [
      "An exception has occurred, use %tb to see the full traceback.\n",
      "\u001b[0;31mSystemExit\u001b[0m\u001b[0;31m:\u001b[0m 0\n"
     ]
    },
    {
     "name": "stderr",
     "output_type": "stream",
     "text": [
      "/Users/miuratakuto/.pyenv/versions/anaconda3-5.1.0/lib/python3.6/site-packages/IPython/core/interactiveshell.py:2918: UserWarning: To exit: use 'exit', 'quit', or Ctrl-D.\n",
      "  warn(\"To exit: use 'exit', 'quit', or Ctrl-D.\", stacklevel=1)\n"
     ]
    }
   ],
   "source": [
    "import itertools\n",
    "import sys\n",
    "N = list(input())\n",
    "\n",
    "if int(\"\".join(N))%3==0:\n",
    "    print(0)\n",
    "    sys.exit(0)\n",
    "    \n",
    "ans = -1\n",
    "for i in reversed(range(1, len(N))):\n",
    "    for v in itertools.combinations(N, i):\n",
    "        v = int(\"\".join(list(v)))\n",
    "        if v%3==0:\n",
    "            ans = len(N)-i\n",
    "            print(ans)\n",
    "            sys.exit(0)\n",
    "            \n",
    "else:\n",
    "    print(ans)"
   ]
  },
  {
   "cell_type": "code",
   "execution_count": 23,
   "metadata": {},
   "outputs": [],
   "source": [
    "#106"
   ]
  },
  {
   "cell_type": "code",
   "execution_count": 29,
   "metadata": {},
   "outputs": [
    {
     "name": "stdout",
     "output_type": "stream",
     "text": [
      "10460353208\n",
      "21 1\n"
     ]
    },
    {
     "ename": "SystemExit",
     "evalue": "0",
     "output_type": "error",
     "traceback": [
      "An exception has occurred, use %tb to see the full traceback.\n",
      "\u001b[0;31mSystemExit\u001b[0m\u001b[0;31m:\u001b[0m 0\n"
     ]
    },
    {
     "name": "stderr",
     "output_type": "stream",
     "text": [
      "/Users/miuratakuto/.pyenv/versions/anaconda3-5.1.0/lib/python3.6/site-packages/IPython/core/interactiveshell.py:2918: UserWarning: To exit: use 'exit', 'quit', or Ctrl-D.\n",
      "  warn(\"To exit: use 'exit', 'quit', or Ctrl-D.\", stacklevel=1)\n"
     ]
    }
   ],
   "source": [
    "import sys\n",
    "N = int(input())\n",
    "\n",
    "for a in range(1, 50):\n",
    "    for b in range(1, 50):\n",
    "        if (3**a)+(5**b) == N:\n",
    "            print(a, b)\n",
    "            sys.exit(0)\n",
    "            \n",
    "else:\n",
    "    print(-1)"
   ]
  },
  {
   "cell_type": "code",
   "execution_count": 30,
   "metadata": {},
   "outputs": [],
   "source": [
    "#Cookie Exchanges"
   ]
  },
  {
   "cell_type": "code",
   "execution_count": 33,
   "metadata": {},
   "outputs": [
    {
     "name": "stdout",
     "output_type": "stream",
     "text": [
      "454 414 444\n",
      "1\n"
     ]
    }
   ],
   "source": [
    "A, B, C = map(int, input().split())\n",
    "a, b, c = A, B, C\n",
    "\n",
    "ans = 0\n",
    "while A%2==0 and B%2==0 and C%2==0:\n",
    "    A, B, C = (B//2)+(C//2), (A//2)+(C//2), (A//2)+(B//2)\n",
    "    ans += 1\n",
    "    if A==a and B==b and C==c:\n",
    "        ans = -1\n",
    "        break\n",
    "        \n",
    "print(ans)"
   ]
  },
  {
   "cell_type": "code",
   "execution_count": 34,
   "metadata": {},
   "outputs": [],
   "source": [
    "#Mex Boxes"
   ]
  },
  {
   "cell_type": "code",
   "execution_count": 40,
   "metadata": {},
   "outputs": [
    {
     "name": "stdout",
     "output_type": "stream",
     "text": [
      "20 4\n",
      "6 2 6 8 4 5 5 8 4 1 7 8 0 3 6 1 1 8 3 0\n",
      "11\n"
     ]
    }
   ],
   "source": [
    "from collections import Counter\n",
    "N, K = map(int, input().split())\n",
    "A = list(map(int, input().split()))\n",
    "\n",
    "cnt = Counter(A)\n",
    "ans = 0\n",
    "for n in range(N):\n",
    "    if K <= cnt[n]:\n",
    "        continue\n",
    "    else:\n",
    "        ans += (K-cnt[n])*n\n",
    "        K = cnt[n]\n",
    "            \n",
    "print(((max(A)+1)*K)+ans)"
   ]
  },
  {
   "cell_type": "code",
   "execution_count": 41,
   "metadata": {},
   "outputs": [],
   "source": [
    "#Build Stairs"
   ]
  },
  {
   "cell_type": "code",
   "execution_count": 61,
   "metadata": {},
   "outputs": [
    {
     "name": "stdout",
     "output_type": "stream",
     "text": [
      "5\n",
      "1 2 1 1 3\n",
      "Yes\n"
     ]
    }
   ],
   "source": [
    "N = int(input())\n",
    "H = list(map(int, input().split()))\n",
    "H.reverse()\n",
    "\n",
    "ans = \"Yes\"\n",
    "for n in range(1, N):\n",
    "    if H[n]-H[n-1] == 1:\n",
    "        H[n] -= 1\n",
    "    elif H[n-1] < H[n]:\n",
    "        ans = \"No\"\n",
    "        break\n",
    "    \n",
    "print(ans)"
   ]
  },
  {
   "cell_type": "code",
   "execution_count": null,
   "metadata": {},
   "outputs": [],
   "source": []
  }
 ],
 "metadata": {
  "kernelspec": {
   "display_name": "Python 3",
   "language": "python",
   "name": "python3"
  },
  "language_info": {
   "codemirror_mode": {
    "name": "ipython",
    "version": 3
   },
   "file_extension": ".py",
   "mimetype": "text/x-python",
   "name": "python",
   "nbconvert_exporter": "python",
   "pygments_lexer": "ipython3",
   "version": "3.6.4"
  }
 },
 "nbformat": 4,
 "nbformat_minor": 2
}
