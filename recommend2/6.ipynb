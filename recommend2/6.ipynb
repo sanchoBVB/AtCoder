{
 "cells": [
  {
   "cell_type": "code",
   "execution_count": 1,
   "metadata": {},
   "outputs": [],
   "source": [
    "#Dice in Line"
   ]
  },
  {
   "cell_type": "code",
   "execution_count": 18,
   "metadata": {},
   "outputs": [
    {
     "name": "stdout",
     "output_type": "stream",
     "text": [
      "5 3\n",
      "1 2 2 4 5\n",
      "7.0\n"
     ]
    }
   ],
   "source": [
    "N, K = map(int, input().split())\n",
    "P = list(map(lambda x: (1+x)/2, list(map(int, input().split()))))\n",
    "\n",
    "cnt = sum(P[:K])\n",
    "ans = [cnt]\n",
    "for i in range(K, N):\n",
    "    cnt -= P[i-K]\n",
    "    cnt += P[i]\n",
    "    ans.append(cnt)\n",
    "\n",
    "print(max(ans))"
   ]
  },
  {
   "cell_type": "code",
   "execution_count": 19,
   "metadata": {},
   "outputs": [],
   "source": [
    "#A^B^C"
   ]
  },
  {
   "cell_type": "code",
   "execution_count": 22,
   "metadata": {},
   "outputs": [
    {
     "name": "stdout",
     "output_type": "stream",
     "text": [
      "3141592 6535897 9323846\n",
      "2\n"
     ]
    }
   ],
   "source": [
    "A, B, C = map(int, input().split())\n",
    "\n",
    "cnt = pow(B, C, 4)+4\n",
    "a = str(A**cnt)\n",
    "print(a[-1])"
   ]
  },
  {
   "cell_type": "code",
   "execution_count": 1,
   "metadata": {},
   "outputs": [],
   "source": [
    "#Traveling Plan"
   ]
  },
  {
   "cell_type": "code",
   "execution_count": 5,
   "metadata": {},
   "outputs": [
    {
     "name": "stdout",
     "output_type": "stream",
     "text": [
      "6\n",
      "-679 -2409 -3258 3095 -3291 -4462\n",
      "21630\n",
      "21630\n",
      "19932\n",
      "8924\n",
      "21630\n",
      "19288\n"
     ]
    }
   ],
   "source": [
    "N = int(input())\n",
    "A = list(map(int, input().split()))\n",
    "A.insert(0, 0)\n",
    "A.append(0)\n",
    "\n",
    "cnt = []\n",
    "ans = 0\n",
    "for n in range(1, N+2):\n",
    "    cnt.append(A[n]-A[n-1])\n",
    "    ans += abs(A[n]-A[n-1])\n",
    "    \n",
    "for i in range(1, N+1):\n",
    "    a, b = cnt[i-1], cnt[i]\n",
    "    print(ans-abs(a)-abs(b)+abs(a+b))"
   ]
  },
  {
   "cell_type": "code",
   "execution_count": 6,
   "metadata": {},
   "outputs": [],
   "source": [
    "#4-adjacent"
   ]
  },
  {
   "cell_type": "code",
   "execution_count": 10,
   "metadata": {},
   "outputs": [
    {
     "name": "stdout",
     "output_type": "stream",
     "text": [
      "4\n",
      "1 2 3 4\n",
      "No\n"
     ]
    }
   ],
   "source": [
    "N = int(input())\n",
    "A = list(map(int, input().split()))\n",
    "\n",
    "f_cnt = 0\n",
    "for n in range(N):\n",
    "    if A[n]%4==0:\n",
    "        f_cnt += 1\n",
    "        A[n] = 1\n",
    "t_cnt = 0\n",
    "for n in range(N):\n",
    "    if A[n]%2==0:\n",
    "        t_cnt += 1\n",
    "\n",
    "if f_cnt+(t_cnt//2) >= N//2:\n",
    "    print(\"Yes\")\n",
    "else:\n",
    "    print(\"No\")"
   ]
  },
  {
   "cell_type": "code",
   "execution_count": 11,
   "metadata": {},
   "outputs": [],
   "source": [
    "#Minimization"
   ]
  },
  {
   "cell_type": "code",
   "execution_count": 17,
   "metadata": {},
   "outputs": [
    {
     "name": "stdout",
     "output_type": "stream",
     "text": [
      "10 3\n",
      "1 2 3 4 5 6 7 8 9 10\n",
      "5\n"
     ]
    }
   ],
   "source": [
    "N, K = map(int, input().split())\n",
    "A = list(map(int, input().split()))\n",
    "\n",
    "ans = 1\n",
    "del A[:K]\n",
    "while len(A)>=K-1:\n",
    "    del A[:K-1]\n",
    "    ans += 1\n",
    "    \n",
    "if len(A)>0:\n",
    "    print(ans+1)\n",
    "else:\n",
    "    print(ans)"
   ]
  },
  {
   "cell_type": "code",
   "execution_count": 1,
   "metadata": {},
   "outputs": [],
   "source": [
    "#Otoshidama"
   ]
  },
  {
   "cell_type": "code",
   "execution_count": 5,
   "metadata": {},
   "outputs": [
    {
     "name": "stdout",
     "output_type": "stream",
     "text": [
      "2000 20000000\n",
      "2000 0 0\n"
     ]
    },
    {
     "ename": "SystemExit",
     "evalue": "0",
     "output_type": "error",
     "traceback": [
      "An exception has occurred, use %tb to see the full traceback.\n",
      "\u001b[0;31mSystemExit\u001b[0m\u001b[0;31m:\u001b[0m 0\n"
     ]
    },
    {
     "name": "stderr",
     "output_type": "stream",
     "text": [
      "/Users/miuratakuto/.pyenv/versions/anaconda3-5.1.0/lib/python3.6/site-packages/IPython/core/interactiveshell.py:2918: UserWarning: To exit: use 'exit', 'quit', or Ctrl-D.\n",
      "  warn(\"To exit: use 'exit', 'quit', or Ctrl-D.\", stacklevel=1)\n"
     ]
    }
   ],
   "source": [
    "import sys\n",
    "N, Y = map(int, input().split())\n",
    "\n",
    "for x in range(N+1):\n",
    "    for y in range(N-x+1):\n",
    "        z = N-(x+y)\n",
    "        if (x*10)+(y*5)+z==Y//1000:\n",
    "            print(x, y, z)\n",
    "            sys.exit(0)\n",
    "            \n",
    "print(-1, -1, -1)"
   ]
  },
  {
   "cell_type": "code",
   "execution_count": 1,
   "metadata": {},
   "outputs": [],
   "source": [
    "#Megalomania"
   ]
  },
  {
   "cell_type": "code",
   "execution_count": 5,
   "metadata": {},
   "outputs": [
    {
     "name": "stdout",
     "output_type": "stream",
     "text": [
      "5\n",
      "2 4\n",
      "1 9\n",
      "1 8\n",
      "4 9\n",
      "3 12\n",
      "Yes\n"
     ]
    }
   ],
   "source": [
    "N = int(input())\n",
    "ab = []\n",
    "for _ in range(N):\n",
    "    ab.append(list(map(int, input().split())))\n",
    "    \n",
    "ab = sorted(ab, key=lambda x: x[1])\n",
    "cnt = 0\n",
    "ans = \"Yes\"\n",
    "for n in ab:\n",
    "    cnt += n[0]\n",
    "    if cnt > n[1]:\n",
    "        ans = \"No\"\n",
    "        break\n",
    "        \n",
    "print(ans)"
   ]
  },
  {
   "cell_type": "code",
   "execution_count": 7,
   "metadata": {},
   "outputs": [],
   "source": [
    "#Make a Rectangle"
   ]
  },
  {
   "cell_type": "code",
   "execution_count": 11,
   "metadata": {},
   "outputs": [
    {
     "name": "stdout",
     "output_type": "stream",
     "text": [
      "10\n",
      "3 3 3 3 4 4 4 5 5 5\n",
      "20\n"
     ]
    }
   ],
   "source": [
    "from collections import Counter\n",
    "N = int(input())\n",
    "A = list(map(int, input().split()))\n",
    "\n",
    "cnt = Counter(A)\n",
    "ans = [0, 0]\n",
    "for k, v in cnt.items():\n",
    "    if v >= 4:\n",
    "        ans[0], ans[1] = max(ans[0], k), max(ans[1], k)\n",
    "    elif v >= 2:\n",
    "        if ans[0] <= ans[1]:\n",
    "            ans[0] = max(ans[0], k)\n",
    "        else:\n",
    "            ans[1] = max(ans[1], k)\n",
    "print(ans[0]*ans[1])"
   ]
  },
  {
   "cell_type": "code",
   "execution_count": 12,
   "metadata": {},
   "outputs": [],
   "source": [
    "#Remainder Minimization 2019"
   ]
  },
  {
   "cell_type": "code",
   "execution_count": 31,
   "metadata": {},
   "outputs": [
    {
     "name": "stdout",
     "output_type": "stream",
     "text": [
      "4 5\n",
      "20\n"
     ]
    }
   ],
   "source": [
    "import sys\n",
    "L, R = map(int, input().split())\n",
    "\n",
    "if L//2019 < R//2019:\n",
    "    print(0)\n",
    "    sys.exit(0)\n",
    "\n",
    "ans = 2019\n",
    "for i in range(L, R):\n",
    "    for j in range(i+1, R+1):\n",
    "        ans = min(ans, (i*j)%2019)\n",
    "        \n",
    "print(ans)"
   ]
  },
  {
   "cell_type": "code",
   "execution_count": 32,
   "metadata": {},
   "outputs": [],
   "source": [
    "#Good Sequence"
   ]
  },
  {
   "cell_type": "code",
   "execution_count": 38,
   "metadata": {},
   "outputs": [
    {
     "name": "stdout",
     "output_type": "stream",
     "text": [
      "8\n",
      "2 7 1 8 2 8 1 8\n",
      "5\n"
     ]
    }
   ],
   "source": [
    "from collections import Counter\n",
    "N = int(input())\n",
    "A = list(map(int, input().split()))\n",
    "\n",
    "cnt = Counter(A)\n",
    "ans = 0\n",
    "for k, v in cnt.items():\n",
    "    if k>v:\n",
    "        ans += v\n",
    "    elif k < v:\n",
    "        ans += v-k\n",
    "\n",
    "print(ans)"
   ]
  },
  {
   "cell_type": "code",
   "execution_count": null,
   "metadata": {},
   "outputs": [],
   "source": []
  }
 ],
 "metadata": {
  "kernelspec": {
   "display_name": "Python 3",
   "language": "python",
   "name": "python3"
  },
  "language_info": {
   "codemirror_mode": {
    "name": "ipython",
    "version": 3
   },
   "file_extension": ".py",
   "mimetype": "text/x-python",
   "name": "python",
   "nbconvert_exporter": "python",
   "pygments_lexer": "ipython3",
   "version": "3.6.4"
  }
 },
 "nbformat": 4,
 "nbformat_minor": 2
}
