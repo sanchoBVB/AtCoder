{
 "cells": [
  {
   "cell_type": "code",
   "execution_count": 1,
   "metadata": {},
   "outputs": [],
   "source": [
    "#Comparison"
   ]
  },
  {
   "cell_type": "code",
   "execution_count": 2,
   "metadata": {},
   "outputs": [
    {
     "name": "stdout",
     "output_type": "stream",
     "text": [
      "123456789012345678901234567890\n",
      "234567890123456789012345678901\n",
      "LESS\n"
     ]
    }
   ],
   "source": [
    "A = int(input())\n",
    "B = int(input())\n",
    "\n",
    "if A>B:\n",
    "    print(\"GREATER\")\n",
    "elif A<B:\n",
    "    print(\"LESS\")\n",
    "else:\n",
    "    print(\"EQUAL\")"
   ]
  },
  {
   "cell_type": "code",
   "execution_count": 3,
   "metadata": {},
   "outputs": [],
   "source": [
    "#Coins"
   ]
  },
  {
   "cell_type": "code",
   "execution_count": 8,
   "metadata": {},
   "outputs": [
    {
     "name": "stdout",
     "output_type": "stream",
     "text": [
      "30\n",
      "40\n",
      "50\n",
      "6000\n",
      "213\n"
     ]
    }
   ],
   "source": [
    "A = int(input())\n",
    "B = int(input())\n",
    "C = int(input())\n",
    "X = int(input())\n",
    "\n",
    "ans = 0\n",
    "for a in range(A+1):\n",
    "    for b in range(B+1):\n",
    "        for c in range(C+1):\n",
    "            if (a*500)+(b*100)+(c*50) == X:\n",
    "                ans += 1\n",
    "                \n",
    "print(ans)"
   ]
  },
  {
   "cell_type": "code",
   "execution_count": 1,
   "metadata": {},
   "outputs": [],
   "source": [
    "#Range Product"
   ]
  },
  {
   "cell_type": "code",
   "execution_count": 7,
   "metadata": {},
   "outputs": [
    {
     "name": "stdout",
     "output_type": "stream",
     "text": [
      "-8 -1\n",
      "Positive\n"
     ]
    }
   ],
   "source": [
    "a, b = map(int, input().split())\n",
    "\n",
    "if a<=0 and b>=0:\n",
    "    print(\"Zero\")\n",
    "elif b < 0:\n",
    "    if abs(a-b)%2==0:\n",
    "        print(\"Negative\")\n",
    "    else:\n",
    "        print(\"Positive\")\n",
    "else:\n",
    "    print(\"Positive\")"
   ]
  },
  {
   "cell_type": "code",
   "execution_count": 1,
   "metadata": {},
   "outputs": [],
   "source": [
    "#Contest with Drinks Easy"
   ]
  },
  {
   "cell_type": "code",
   "execution_count": 2,
   "metadata": {},
   "outputs": [
    {
     "name": "stdout",
     "output_type": "stream",
     "text": [
      "3\n",
      "2 1 4\n",
      "2\n",
      "1 1\n",
      "2 3\n",
      "6\n",
      "9\n"
     ]
    }
   ],
   "source": [
    "import copy\n",
    "N = int(input())\n",
    "T = list(map(int, input().split()))\n",
    "M = int(input())\n",
    "ans = []\n",
    "for _ in range(M):\n",
    "    p, x = map(int, input().split())\n",
    "    t = T.copy()\n",
    "    t[p-1] = x\n",
    "    ans.append(sum(t))\n",
    "    \n",
    "for a in ans:\n",
    "    print(a)"
   ]
  },
  {
   "cell_type": "code",
   "execution_count": 3,
   "metadata": {},
   "outputs": [],
   "source": [
    "#Different Distribution"
   ]
  },
  {
   "cell_type": "code",
   "execution_count": 5,
   "metadata": {},
   "outputs": [
    {
     "name": "stdout",
     "output_type": "stream",
     "text": [
      "5\n",
      "1 10\n",
      "3 6\n",
      "5 2\n",
      "4 4\n",
      "2 8\n",
      "7\n"
     ]
    }
   ],
   "source": [
    "N = int(input())\n",
    "c1, c2 = 0, 0\n",
    "for _ in range(N):\n",
    "    a, b = map(int, input().split())\n",
    "    if c1 < a:\n",
    "        c1, c2 = a, b\n",
    "        \n",
    "print(c1+c2)"
   ]
  },
  {
   "cell_type": "code",
   "execution_count": 6,
   "metadata": {},
   "outputs": [],
   "source": [
    "#AcCepted"
   ]
  },
  {
   "cell_type": "code",
   "execution_count": 24,
   "metadata": {},
   "outputs": [
    {
     "name": "stdout",
     "output_type": "stream",
     "text": [
      "ACoder\n",
      "WA\n"
     ]
    },
    {
     "ename": "SystemExit",
     "evalue": "0",
     "output_type": "error",
     "traceback": [
      "An exception has occurred, use %tb to see the full traceback.\n",
      "\u001b[0;31mSystemExit\u001b[0m\u001b[0;31m:\u001b[0m 0\n"
     ]
    },
    {
     "name": "stderr",
     "output_type": "stream",
     "text": [
      "/Users/miuratakuto/.pyenv/versions/anaconda3-5.1.0/lib/python3.6/site-packages/IPython/core/interactiveshell.py:2918: UserWarning: To exit: use 'exit', 'quit', or Ctrl-D.\n",
      "  warn(\"To exit: use 'exit', 'quit', or Ctrl-D.\", stacklevel=1)\n"
     ]
    }
   ],
   "source": [
    "import sys\n",
    "S = list(input())\n",
    "\n",
    "if S[0] != \"A\":\n",
    "    print(\"WA\")\n",
    "    sys.exit(0)\n",
    "else:\n",
    "    del S[0]\n",
    "    \n",
    "if S[1:-1].count(\"C\") != 1:\n",
    "    print(\"WA\")\n",
    "    sys.exit(0)\n",
    "else:\n",
    "    del S[S[1:-1].index(\"C\")+1]\n",
    "    \n",
    "s = \"\".join(S)\n",
    "if s.islower():\n",
    "    print(\"AC\")\n",
    "else:\n",
    "    print(\"WA\")"
   ]
  },
  {
   "cell_type": "code",
   "execution_count": 25,
   "metadata": {},
   "outputs": [],
   "source": [
    "#Poll"
   ]
  },
  {
   "cell_type": "code",
   "execution_count": 33,
   "metadata": {},
   "outputs": [
    {
     "name": "stdout",
     "output_type": "stream",
     "text": [
      "4\n",
      "ushi\n",
      "tapu\n",
      "nichia\n",
      "kun\n",
      "kun\n",
      "nichia\n",
      "tapu\n",
      "ushi\n"
     ]
    }
   ],
   "source": [
    "from collections import Counter\n",
    "N = int(input())\n",
    "S = []\n",
    "for _ in range(N):\n",
    "    S.append(input())\n",
    "    \n",
    "cnt = Counter(S)\n",
    "m = max(cnt.values())\n",
    "ans = sorted(cnt.items(), key=lambda x:x[0])\n",
    "for a in ans:\n",
    "    if a[1] == m:\n",
    "        print(a[0])"
   ]
  },
  {
   "cell_type": "code",
   "execution_count": 34,
   "metadata": {},
   "outputs": [],
   "source": [
    "#Prison"
   ]
  },
  {
   "cell_type": "code",
   "execution_count": 37,
   "metadata": {},
   "outputs": [
    {
     "name": "stdout",
     "output_type": "stream",
     "text": [
      "100000 1\n",
      "1 100000\n",
      "1 100000\n"
     ]
    }
   ],
   "source": [
    "N, M = map(int, input().split())\n",
    "L, R = 1, N\n",
    "c = True\n",
    "for _ in range(M):\n",
    "    l, r = map(int, input().split())\n",
    "    if l < L:\n",
    "        if r < L:\n",
    "            c = False\n",
    "        else:\n",
    "            L, R = max(l, L), min(r, R)\n",
    "    else:\n",
    "        if l > R:\n",
    "            c = False\n",
    "        else:\n",
    "            L, R = max(l, L), min(r, R)\n",
    "    \n",
    "if c:\n",
    "    print(R-L+1)\n",
    "else:\n",
    "    print(0)"
   ]
  },
  {
   "cell_type": "code",
   "execution_count": 38,
   "metadata": {},
   "outputs": [],
   "source": [
    "#Doubled"
   ]
  },
  {
   "cell_type": "code",
   "execution_count": 42,
   "metadata": {},
   "outputs": [
    {
     "name": "stdout",
     "output_type": "stream",
     "text": [
      "10000000\n",
      "999\n"
     ]
    }
   ],
   "source": [
    "N = int(input())\n",
    "\n",
    "ans = 0\n",
    "for i in range(1, (10**6)+1):\n",
    "    i = int(str(i)*2)\n",
    "    if i <= N:\n",
    "        ans += 1\n",
    "        \n",
    "print(ans)"
   ]
  },
  {
   "cell_type": "code",
   "execution_count": 1,
   "metadata": {},
   "outputs": [],
   "source": [
    "#Exponential"
   ]
  },
  {
   "cell_type": "code",
   "execution_count": 13,
   "metadata": {},
   "outputs": [
    {
     "name": "stdout",
     "output_type": "stream",
     "text": [
      "999\n",
      "961\n"
     ]
    }
   ],
   "source": [
    "X = int(input())\n",
    "\n",
    "ans = set()\n",
    "for b in range(1, 35):\n",
    "    for p in range(2, 11):\n",
    "        if b**p <= X:\n",
    "            ans.add(b**p)\n",
    "            \n",
    "print(max(ans))"
   ]
  },
  {
   "cell_type": "code",
   "execution_count": 1,
   "metadata": {},
   "outputs": [],
   "source": [
    "#100to105"
   ]
  },
  {
   "cell_type": "code",
   "execution_count": 3,
   "metadata": {},
   "outputs": [
    {
     "name": "stdout",
     "output_type": "stream",
     "text": [
      "217\n",
      "0\n"
     ]
    }
   ],
   "source": [
    "X = int(input())\n",
    "\n",
    "ans = 0\n",
    "for i in range(1, 1001):\n",
    "    if 100*i <= X and 105*i >= X:\n",
    "        ans = 1\n",
    "        break\n",
    "        \n",
    "print(ans)"
   ]
  },
  {
   "cell_type": "code",
   "execution_count": 4,
   "metadata": {},
   "outputs": [],
   "source": [
    "#たてなが"
   ]
  },
  {
   "cell_type": "code",
   "execution_count": 5,
   "metadata": {},
   "outputs": [
    {
     "name": "stdout",
     "output_type": "stream",
     "text": [
      "2 2\n",
      ".#\n",
      "#.\n",
      ".#\n",
      ".#\n",
      "#.\n",
      "#.\n"
     ]
    }
   ],
   "source": [
    "H, W = map(int, input().split())\n",
    "ans = []\n",
    "for _ in range(H):\n",
    "    s = input()\n",
    "    ans.append(s)\n",
    "    ans.append(s)\n",
    "    \n",
    "for a in ans:\n",
    "    print(a)"
   ]
  },
  {
   "cell_type": "code",
   "execution_count": 6,
   "metadata": {},
   "outputs": [],
   "source": [
    "#Welcome to AtCoder"
   ]
  },
  {
   "cell_type": "code",
   "execution_count": 12,
   "metadata": {},
   "outputs": [
    {
     "name": "stdout",
     "output_type": "stream",
     "text": [
      "2 5\n",
      "1 WA\n",
      "1 AC\n",
      "2 WA\n",
      "2 AC\n",
      "2 WA\n",
      "2 2\n"
     ]
    }
   ],
   "source": [
    "N, M = map(int, input().split())\n",
    "ac, wa = [0]*N, [0]*N\n",
    "w = 0\n",
    "for _ in range(M):\n",
    "    p, S = input().split()\n",
    "    if S==\"AC\":\n",
    "        if ac[int(p)-1] == 0:\n",
    "            ac[int(p)-1] = 1\n",
    "            w += wa[int(p)-1]\n",
    "    else:\n",
    "        if ac[int(p)-1] == 0:\n",
    "            wa[int(p)-1] += 1\n",
    "        \n",
    "print(sum(ac), w)"
   ]
  },
  {
   "cell_type": "code",
   "execution_count": null,
   "metadata": {},
   "outputs": [],
   "source": []
  }
 ],
 "metadata": {
  "kernelspec": {
   "display_name": "Python 3",
   "language": "python",
   "name": "python3"
  },
  "language_info": {
   "codemirror_mode": {
    "name": "ipython",
    "version": 3
   },
   "file_extension": ".py",
   "mimetype": "text/x-python",
   "name": "python",
   "nbconvert_exporter": "python",
   "pygments_lexer": "ipython3",
   "version": "3.6.4"
  }
 },
 "nbformat": 4,
 "nbformat_minor": 2
}
