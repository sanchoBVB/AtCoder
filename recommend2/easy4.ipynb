{
 "cells": [
  {
   "cell_type": "code",
   "execution_count": 1,
   "metadata": {},
   "outputs": [],
   "source": [
    "#Tax Increase"
   ]
  },
  {
   "cell_type": "code",
   "execution_count": 6,
   "metadata": {},
   "outputs": [
    {
     "name": "stdout",
     "output_type": "stream",
     "text": [
      "19 99\n",
      "-1\n"
     ]
    }
   ],
   "source": [
    "A, B = map(int, input().split())\n",
    "\n",
    "ans = -1\n",
    "for i in range(1, 1300):\n",
    "    a, b = i*0.08, i*0.1\n",
    "    if int(a)==A and int(b)==B:\n",
    "        ans = i\n",
    "        break\n",
    "        \n",
    "print(ans)"
   ]
  },
  {
   "cell_type": "code",
   "execution_count": 7,
   "metadata": {},
   "outputs": [],
   "source": [
    "#Brick Break"
   ]
  },
  {
   "cell_type": "code",
   "execution_count": 18,
   "metadata": {},
   "outputs": [
    {
     "name": "stdout",
     "output_type": "stream",
     "text": [
      "3\n",
      "2 2 2\n",
      "-1\n"
     ]
    }
   ],
   "source": [
    "N = int(input())\n",
    "A = list(map(int, input().split()))\n",
    "\n",
    "cnt = [0]*N\n",
    "ans = 0\n",
    "for n in range(N-1):\n",
    "    i, j = A[n], A[n+1]\n",
    "    if A[n] < A[n+1]:\n",
    "        if A[n] == 1:\n",
    "            if cnt[0] == 0:\n",
    "                cnt[0] = 1\n",
    "            else:\n",
    "                ans += 1\n",
    "        else:\n",
    "            if cnt[A[n]-2] == 1:\n",
    "                cnt[A[n]-1] = 1\n",
    "            else:\n",
    "                ans += 1\n",
    "    else:\n",
    "        ans += 1\n",
    "\n",
    "if A[-1] != N-ans:\n",
    "    ans += 1\n",
    "\n",
    "if ans == N:\n",
    "    print(-1)\n",
    "else:\n",
    "    print(ans)"
   ]
  },
  {
   "cell_type": "code",
   "execution_count": 9,
   "metadata": {},
   "outputs": [
    {
     "data": {
      "text/plain": [
       "[1, 0, 0]"
      ]
     },
     "execution_count": 9,
     "metadata": {},
     "output_type": "execute_result"
    }
   ],
   "source": [
    "from collections import deque\n",
    "N = int(input())\n",
    "A = deque(list(map(int, input().split())))\n",
    "\n",
    "ans = 0\n",
    "cnt = 1\n",
    "while A:\n",
    "    a = A.popleft()\n",
    "    if cnt == a:\n",
    "        cnt += 1\n",
    "        continue\n",
    "    else:\n",
    "        ans += 1\n",
    "if ans == N:\n",
    "    print(-1)\n",
    "else:\n",
    "    print(ans)"
   ]
  },
  {
   "cell_type": "code",
   "execution_count": 1,
   "metadata": {},
   "outputs": [],
   "source": [
    "#Some Sums"
   ]
  },
  {
   "cell_type": "code",
   "execution_count": 5,
   "metadata": {},
   "outputs": [
    {
     "name": "stdout",
     "output_type": "stream",
     "text": [
      "10000 2 5\n",
      "138875\n"
     ]
    }
   ],
   "source": [
    "N, A, B = map(int, input().split())\n",
    "\n",
    "ans = 0\n",
    "for i in range(1, N+1):\n",
    "    n = sum(list(map(int, list(str(i)))))\n",
    "    if A<=n and n<=B:\n",
    "        ans += i\n",
    "        \n",
    "print(ans)"
   ]
  },
  {
   "cell_type": "code",
   "execution_count": 6,
   "metadata": {},
   "outputs": [],
   "source": [
    "#A*B*C"
   ]
  },
  {
   "cell_type": "code",
   "execution_count": 8,
   "metadata": {},
   "outputs": [
    {
     "name": "stdout",
     "output_type": "stream",
     "text": [
      "2\n",
      "4\n"
     ]
    }
   ],
   "source": [
    "k = int(input())\n",
    "\n",
    "ans = 0\n",
    "for i in range(1,k+1):\n",
    "    for j in range(1,(k//i)+1):\n",
    "        ans+=(k//(i*j))\n",
    "print(ans)"
   ]
  },
  {
   "cell_type": "code",
   "execution_count": 9,
   "metadata": {},
   "outputs": [],
   "source": [
    "#Peaks"
   ]
  },
  {
   "cell_type": "code",
   "execution_count": 13,
   "metadata": {},
   "outputs": [
    {
     "name": "stdout",
     "output_type": "stream",
     "text": [
      "6 5\n",
      "8 6 9 1 2 1\n",
      "1 3\n",
      "4 2\n",
      "4 3\n",
      "4 6\n",
      "4 6\n",
      "3\n"
     ]
    }
   ],
   "source": [
    "N, M = map(int, input().split())\n",
    "H = list(map(int, input().split()))\n",
    "\n",
    "cnt = set()\n",
    "for _ in range(M):\n",
    "    a, b = map(int, input().split())\n",
    "    if H[a-1] < H[b-1]:\n",
    "        cnt.add(a)\n",
    "    elif H[a-1] > H[b-1]:\n",
    "        cnt.add(b)\n",
    "    else:\n",
    "        cnt.add(a)\n",
    "        cnt.add(b)\n",
    "        \n",
    "print(N-len(cnt))"
   ]
  },
  {
   "cell_type": "code",
   "execution_count": 14,
   "metadata": {},
   "outputs": [],
   "source": [
    "#Dividing a String"
   ]
  },
  {
   "cell_type": "code",
   "execution_count": 18,
   "metadata": {},
   "outputs": [
    {
     "name": "stdout",
     "output_type": "stream",
     "text": [
      "aaaccacabaababc\n",
      "12\n"
     ]
    }
   ],
   "source": [
    "S = list(input())\n",
    "\n",
    "ans = [S[0]]\n",
    "tmp = \"\"\n",
    "for i in range(1, len(S)):\n",
    "    tmp += S[i]\n",
    "    if ans[-1] != tmp:\n",
    "        ans.append(tmp)\n",
    "        tmp = \"\"\n",
    "        \n",
    "print(len(ans))"
   ]
  },
  {
   "cell_type": "code",
   "execution_count": 1,
   "metadata": {},
   "outputs": [],
   "source": [
    "#美しい文字列"
   ]
  },
  {
   "cell_type": "code",
   "execution_count": 3,
   "metadata": {},
   "outputs": [
    {
     "name": "stdout",
     "output_type": "stream",
     "text": [
      "abaccaba\n",
      "Yes\n"
     ]
    }
   ],
   "source": [
    "from collections import Counter\n",
    "w = list(input())\n",
    "\n",
    "cnt = Counter(w)\n",
    "ans = \"Yes\"\n",
    "for k in cnt.values():\n",
    "    if k%2!=0:\n",
    "        ans = \"No\"\n",
    "        \n",
    "print(ans)"
   ]
  },
  {
   "cell_type": "code",
   "execution_count": 4,
   "metadata": {},
   "outputs": [],
   "source": [
    "#Takahashikun, The Strider"
   ]
  },
  {
   "cell_type": "code",
   "execution_count": 7,
   "metadata": {},
   "outputs": [
    {
     "name": "stdout",
     "output_type": "stream",
     "text": [
      "2\n",
      "180\n"
     ]
    }
   ],
   "source": [
    "X = int(input())\n",
    "\n",
    "k = 0\n",
    "while True:\n",
    "    k += 1\n",
    "    if (k*X)%360==0:\n",
    "        break\n",
    "        \n",
    "print(k)"
   ]
  },
  {
   "cell_type": "code",
   "execution_count": 8,
   "metadata": {},
   "outputs": [],
   "source": [
    "#Table Tennis Training"
   ]
  },
  {
   "cell_type": "code",
   "execution_count": 10,
   "metadata": {},
   "outputs": [
    {
     "name": "stdout",
     "output_type": "stream",
     "text": [
      "5 2 3\n",
      "2\n"
     ]
    }
   ],
   "source": [
    "N, A, B = map(int, input().split())\n",
    "\n",
    "if (A+B)%2==0:\n",
    "    print((B-A)//2)\n",
    "else:\n",
    "    m = min(A-1, N-B)\n",
    "    print(m+1+((B-A-1)//2))"
   ]
  },
  {
   "cell_type": "code",
   "execution_count": 11,
   "metadata": {},
   "outputs": [],
   "source": [
    "#Alcoholic"
   ]
  },
  {
   "cell_type": "code",
   "execution_count": 13,
   "metadata": {},
   "outputs": [
    {
     "name": "stdout",
     "output_type": "stream",
     "text": [
      "2 10\n",
      "200 5\n",
      "350 5\n",
      "2\n"
     ]
    }
   ],
   "source": [
    "from decimal import Decimal\n",
    "N, X = map(int, input().split())\n",
    "\n",
    "cnt = 0\n",
    "ans = []\n",
    "for n in range(N):\n",
    "    v, p = map(int, input().split())\n",
    "    P = Decimal(p)/Decimal(100)\n",
    "    cnt += v*P\n",
    "    if cnt > X:\n",
    "        ans.append(n+1)\n",
    "        \n",
    "if len(ans)==0:\n",
    "    print(-1)\n",
    "else:\n",
    "    print(ans[0])"
   ]
  },
  {
   "cell_type": "code",
   "execution_count": 14,
   "metadata": {},
   "outputs": [],
   "source": [
    "#Collinearity"
   ]
  },
  {
   "cell_type": "code",
   "execution_count": 17,
   "metadata": {},
   "outputs": [
    {
     "name": "stdout",
     "output_type": "stream",
     "text": [
      "4\n",
      "0 1\n",
      "0 2\n",
      "0 3\n",
      "1 2\n",
      "Yes\n"
     ]
    }
   ],
   "source": [
    "N = int(input())\n",
    "\n",
    "X, Y = [], []\n",
    "for _ in range(N):\n",
    "    x, y = map(int, input().split())\n",
    "    X.append(x)\n",
    "    Y.append(y)\n",
    "    \n",
    "ans = \"No\"\n",
    "for i in range(N - 2):\n",
    "    for j in range(i+1, N - 1):\n",
    "        for k in range(j+1, N):\n",
    "            x1 = X[i] - X[j]\n",
    "            y1 = Y[i] - Y[j]\n",
    "            x2 = X[i] - X[k]\n",
    "            y2 = Y[i] - Y[k]\n",
    "            if x1 * y2 == x2 * y1:\n",
    "                ans = \"Yes\"\n",
    "                break\n",
    "                \n",
    "print(ans)"
   ]
  },
  {
   "cell_type": "code",
   "execution_count": null,
   "metadata": {},
   "outputs": [],
   "source": []
  }
 ],
 "metadata": {
  "kernelspec": {
   "display_name": "Python 3",
   "language": "python",
   "name": "python3"
  },
  "language_info": {
   "codemirror_mode": {
    "name": "ipython",
    "version": 3
   },
   "file_extension": ".py",
   "mimetype": "text/x-python",
   "name": "python",
   "nbconvert_exporter": "python",
   "pygments_lexer": "ipython3",
   "version": "3.6.4"
  }
 },
 "nbformat": 4,
 "nbformat_minor": 2
}
