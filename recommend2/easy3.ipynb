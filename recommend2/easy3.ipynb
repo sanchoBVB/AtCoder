{
 "cells": [
  {
   "cell_type": "code",
   "execution_count": 1,
   "metadata": {},
   "outputs": [],
   "source": [
    "#Shiritori"
   ]
  },
  {
   "cell_type": "code",
   "execution_count": 3,
   "metadata": {},
   "outputs": [
    {
     "name": "stdout",
     "output_type": "stream",
     "text": [
      "9\n",
      "basic\n",
      "c\n",
      "cpp\n",
      "php\n",
      "python\n",
      "nadesico\n",
      "ocaml\n",
      "lua\n",
      "assembly\n",
      "Yes\n"
     ]
    }
   ],
   "source": [
    "N = int(input())\n",
    "\n",
    "ans = \"Yes\"\n",
    "W = []\n",
    "W.append(input())\n",
    "for _ in range(N-1):\n",
    "    w = list(input())\n",
    "    w_ = list(W[-1])\n",
    "    if w_[-1] != w[0]:\n",
    "        ans = \"No\"\n",
    "    if \"\".join(w) in W:\n",
    "        ans = \"No\"\n",
    "    W.append(\"\".join(w))\n",
    "    \n",
    "print(ans)"
   ]
  },
  {
   "cell_type": "code",
   "execution_count": 4,
   "metadata": {},
   "outputs": [],
   "source": [
    "#Picture Frame"
   ]
  },
  {
   "cell_type": "code",
   "execution_count": 9,
   "metadata": {},
   "outputs": [
    {
     "name": "stdout",
     "output_type": "stream",
     "text": [
      "1 1\n",
      "z\n",
      "###\n",
      "#z#\n",
      "###\n"
     ]
    }
   ],
   "source": [
    "import copy\n",
    "H, W = map(int, input().split())\n",
    "\n",
    "ans = []\n",
    "a_ = [\"#\"]\n",
    "for h in range(H+2):\n",
    "    if h==0 or h==H+1:\n",
    "        f = [\"#\"]*(W+2)\n",
    "        ans.append(\"\".join(f))\n",
    "    else:\n",
    "        a = a_.copy()\n",
    "        a.append(input())\n",
    "        a.append(\"#\")\n",
    "        ans.append(\"\".join(a))\n",
    "        \n",
    "for an in ans:\n",
    "    print(an)"
   ]
  },
  {
   "cell_type": "code",
   "execution_count": 10,
   "metadata": {},
   "outputs": [],
   "source": [
    "#CF"
   ]
  },
  {
   "cell_type": "code",
   "execution_count": 15,
   "metadata": {},
   "outputs": [
    {
     "name": "stdout",
     "output_type": "stream",
     "text": [
      "FCF\n",
      "Yes\n"
     ]
    }
   ],
   "source": [
    "S = list(input())\n",
    "\n",
    "ans = \"No\"\n",
    "c_ = False\n",
    "for s in S:\n",
    "    if s==\"C\":\n",
    "        c_ = True\n",
    "    if s==\"F\":\n",
    "        if c_:\n",
    "            ans = \"Yes\"\n",
    "            \n",
    "print(ans)"
   ]
  },
  {
   "cell_type": "code",
   "execution_count": 17,
   "metadata": {},
   "outputs": [],
   "source": [
    "#Substring"
   ]
  },
  {
   "cell_type": "code",
   "execution_count": 25,
   "metadata": {},
   "outputs": [
    {
     "name": "stdout",
     "output_type": "stream",
     "text": [
      "cabacc\n",
      "abc\n",
      "1\n"
     ]
    }
   ],
   "source": [
    "S = list(input())\n",
    "T = list(input())\n",
    "\n",
    "ans = [len(T)]\n",
    "for i in range(len(S)-len(T)+1):\n",
    "    cnt = 0\n",
    "    for s, t in zip(S[i:i+len(T)], T):\n",
    "        cnt += s != t\n",
    "    ans.append(cnt)\n",
    "        \n",
    "print(min(ans))"
   ]
  },
  {
   "cell_type": "code",
   "execution_count": 26,
   "metadata": {},
   "outputs": [],
   "source": [
    "#Counting Roads"
   ]
  },
  {
   "cell_type": "code",
   "execution_count": 29,
   "metadata": {},
   "outputs": [
    {
     "name": "stdout",
     "output_type": "stream",
     "text": [
      "8 8\n",
      "1 2\n",
      "3 4\n",
      "1 5\n",
      "2 8\n",
      "3 7\n",
      "5 2\n",
      "4 1\n",
      "6 8\n",
      "3\n",
      "3\n",
      "2\n",
      "2\n",
      "2\n",
      "1\n",
      "1\n",
      "2\n"
     ]
    }
   ],
   "source": [
    "N, M = map(int, input().split())\n",
    "\n",
    "ans = [0]*N\n",
    "for _ in range(M):\n",
    "    a, b = map(int, input().split())\n",
    "    ans[a-1] += 1\n",
    "    ans[b-1] += 1\n",
    "    \n",
    "for a in ans:\n",
    "    print(a)"
   ]
  },
  {
   "cell_type": "code",
   "execution_count": 30,
   "metadata": {},
   "outputs": [],
   "source": [
    "#String Rotation"
   ]
  },
  {
   "cell_type": "code",
   "execution_count": 33,
   "metadata": {},
   "outputs": [
    {
     "name": "stdout",
     "output_type": "stream",
     "text": [
      "aaaaaaaaaaaaaaab\n",
      "aaaaaaaaaaaaaaab\n",
      "Yes\n"
     ]
    }
   ],
   "source": [
    "import copy\n",
    "S = list(input())\n",
    "T = list(input())\n",
    "\n",
    "cnt = S.copy()\n",
    "\n",
    "ans = \"No\"\n",
    "while True:\n",
    "    if S==T:\n",
    "        ans = \"Yes\"\n",
    "        break\n",
    "    else:\n",
    "        s = S.pop(-1)\n",
    "        S.insert(0, s)\n",
    "    if S==cnt:\n",
    "        break\n",
    "        \n",
    "print(ans)"
   ]
  },
  {
   "cell_type": "code",
   "execution_count": 34,
   "metadata": {},
   "outputs": [],
   "source": [
    "#Tag"
   ]
  },
  {
   "cell_type": "code",
   "execution_count": 37,
   "metadata": {},
   "outputs": [
    {
     "name": "stdout",
     "output_type": "stream",
     "text": [
      "3 2\n",
      "1 1\n",
      "4\n",
      "YES\n"
     ]
    }
   ],
   "source": [
    "A, V = map(int, input().split())\n",
    "B, W = map(int, input().split())\n",
    "T = int(input())\n",
    "\n",
    "if A < B:\n",
    "    a = A+(T*V)\n",
    "    b = B+(T*W)\n",
    "    if a>=b:\n",
    "        print(\"YES\")\n",
    "    else:\n",
    "        print(\"NO\")\n",
    "else:\n",
    "    a = A-(T*V)\n",
    "    b = B-(T*W)\n",
    "    if a<=b:\n",
    "        print(\"YES\")\n",
    "    else:\n",
    "        print(\"NO\")"
   ]
  },
  {
   "cell_type": "code",
   "execution_count": 40,
   "metadata": {},
   "outputs": [],
   "source": [
    "#100 to 105"
   ]
  },
  {
   "cell_type": "code",
   "execution_count": 42,
   "metadata": {},
   "outputs": [
    {
     "name": "stdout",
     "output_type": "stream",
     "text": [
      "615\n",
      "1\n"
     ]
    }
   ],
   "source": [
    "X = int(input())\n",
    "\n",
    "ans = 0\n",
    "for c in range(1, (X//100)+1):\n",
    "    for n in range((100*c), (105*c)+1):#100円から105円までなので+1ずつで全通りを試せる\n",
    "        if n == X:\n",
    "            ans = 1\n",
    "            break\n",
    "            \n",
    "print(ans)"
   ]
  },
  {
   "cell_type": "code",
   "execution_count": 43,
   "metadata": {},
   "outputs": [],
   "source": [
    "#たてなが"
   ]
  },
  {
   "cell_type": "code",
   "execution_count": 44,
   "metadata": {},
   "outputs": [
    {
     "name": "stdout",
     "output_type": "stream",
     "text": [
      "2 2\n",
      "#.\n",
      ".#\n",
      "#.\n",
      "#.\n",
      ".#\n",
      ".#\n"
     ]
    }
   ],
   "source": [
    "H, W = map(int, input().split())\n",
    "\n",
    "ans = []\n",
    "for _ in range(H):\n",
    "    C = input()\n",
    "    ans.append(C)\n",
    "    ans.append(C)\n",
    "    \n",
    "for a in ans:\n",
    "    print(a)"
   ]
  },
  {
   "cell_type": "code",
   "execution_count": null,
   "metadata": {},
   "outputs": [],
   "source": []
  }
 ],
 "metadata": {
  "kernelspec": {
   "display_name": "Python 3",
   "language": "python",
   "name": "python3"
  },
  "language_info": {
   "codemirror_mode": {
    "name": "ipython",
    "version": 3
   },
   "file_extension": ".py",
   "mimetype": "text/x-python",
   "name": "python",
   "nbconvert_exporter": "python",
   "pygments_lexer": "ipython3",
   "version": "3.6.4"
  }
 },
 "nbformat": 4,
 "nbformat_minor": 2
}
