{
 "cells": [
  {
   "cell_type": "code",
   "execution_count": 1,
   "metadata": {},
   "outputs": [],
   "source": [
    "#Bugged"
   ]
  },
  {
   "cell_type": "code",
   "execution_count": 7,
   "metadata": {},
   "outputs": [
    {
     "name": "stdout",
     "output_type": "stream",
     "text": [
      "3\n",
      "10\n",
      "20\n",
      "30\n",
      "0\n"
     ]
    }
   ],
   "source": [
    "import sys\n",
    "N = int(input())\n",
    "ans = 0\n",
    "S = []\n",
    "for _ in range(N):\n",
    "    s = int(input())\n",
    "    ans += s\n",
    "    S.append(s)\n",
    "S.sort()\n",
    "\n",
    "if ans%10!=0:\n",
    "    print(ans)\n",
    "    sys.exit(0)\n",
    "    \n",
    "for i in S:\n",
    "    if (ans-i)%10 != 0:\n",
    "        print(ans-i)\n",
    "        sys.exit(0)\n",
    "        \n",
    "print(0)"
   ]
  },
  {
   "cell_type": "code",
   "execution_count": 8,
   "metadata": {},
   "outputs": [],
   "source": [
    "#文字列大好きいろはちゃんイージー"
   ]
  },
  {
   "cell_type": "code",
   "execution_count": 12,
   "metadata": {},
   "outputs": [
    {
     "name": "stdout",
     "output_type": "stream",
     "text": [
      "3 3\n",
      "abc\n",
      "abd\n",
      "abb\n",
      "abbabcabd\n"
     ]
    }
   ],
   "source": [
    "N, L = map(int, input().split())\n",
    "ans = []\n",
    "for _ in range(N):\n",
    "    ans.append(input())\n",
    "ans.sort()\n",
    "\n",
    "print(\"\".join(ans))"
   ]
  },
  {
   "cell_type": "code",
   "execution_count": 13,
   "metadata": {},
   "outputs": [],
   "source": [
    "#A+...+B Problem"
   ]
  },
  {
   "cell_type": "code",
   "execution_count": 27,
   "metadata": {},
   "outputs": [
    {
     "name": "stdout",
     "output_type": "stream",
     "text": [
      "1 7 10\n",
      "-2\n"
     ]
    }
   ],
   "source": [
    "import sys\n",
    "N, A, B = map(int, input().split())\n",
    "\n",
    "if A>B:\n",
    "    print(0)\n",
    "    sys.exit(0)\n",
    "    \n",
    "mi = A*(N-1)+B\n",
    "ma = A+B*(N-1)\n",
    "if ma-mi+1<0:\n",
    "    print(0)\n",
    "else:\n",
    "    print(ma-mi+1)"
   ]
  },
  {
   "cell_type": "code",
   "execution_count": 1,
   "metadata": {},
   "outputs": [],
   "source": [
    "#Ice Tea Store"
   ]
  },
  {
   "cell_type": "code",
   "execution_count": 5,
   "metadata": {},
   "outputs": [
    {
     "name": "stdout",
     "output_type": "stream",
     "text": [
      "12345678 87654321 12345678 87654321\n",
      "123456789\n",
      "1524157763907942\n"
     ]
    }
   ],
   "source": [
    "Q, H, S, D = map(int, input().split())\n",
    "N = int(input())\n",
    "\n",
    "H = min(H, Q*2)\n",
    "S = min(S, H*2)\n",
    "\n",
    "if S*2 <= D:\n",
    "    print(S*N)\n",
    "else:\n",
    "    if N%2==0:\n",
    "        print((N//2)*D)\n",
    "    else:\n",
    "        print(((N//2)*D)+S)"
   ]
  },
  {
   "cell_type": "code",
   "execution_count": 6,
   "metadata": {},
   "outputs": [],
   "source": [
    "#Sentou"
   ]
  },
  {
   "cell_type": "code",
   "execution_count": 11,
   "metadata": {},
   "outputs": [
    {
     "name": "stdout",
     "output_type": "stream",
     "text": [
      "9 10\n",
      "0 3 5 7 100 110 200 300 311\n",
      "67\n"
     ]
    }
   ],
   "source": [
    "N, T = map(int, input().split())\n",
    "t = list(map(int, input().split()))\n",
    "\n",
    "ans = 0\n",
    "for n in range(1, N):\n",
    "    ans += min(T, t[n]-t[n-1])\n",
    "    \n",
    "print(ans+T)"
   ]
  },
  {
   "cell_type": "code",
   "execution_count": 12,
   "metadata": {},
   "outputs": [],
   "source": [
    "#バイナリハックイージー"
   ]
  },
  {
   "cell_type": "code",
   "execution_count": 18,
   "metadata": {},
   "outputs": [
    {
     "name": "stdout",
     "output_type": "stream",
     "text": [
      "B\n",
      "\n"
     ]
    }
   ],
   "source": [
    "S = list(input())\n",
    "\n",
    "ans = []\n",
    "for s in S:\n",
    "    if s == \"B\":\n",
    "        if len(ans)>0:\n",
    "            del ans[-1]\n",
    "        else:\n",
    "            continue\n",
    "    else:\n",
    "        ans.append(s)\n",
    "        \n",
    "print(\"\".join(ans))"
   ]
  },
  {
   "cell_type": "code",
   "execution_count": 19,
   "metadata": {},
   "outputs": [],
   "source": [
    "#Flip,Flip, and Flip......"
   ]
  },
  {
   "cell_type": "code",
   "execution_count": 20,
   "metadata": {},
   "outputs": [
    {
     "name": "stdout",
     "output_type": "stream",
     "text": [
      "314 1592\n",
      "496080\n"
     ]
    }
   ],
   "source": [
    "import sys\n",
    "N, M = map(int, input().split())\n",
    "\n",
    "if N==1 and M==1:\n",
    "    print(1)\n",
    "    sys.exit(0)\n",
    "\n",
    "if N==1 or M==1:\n",
    "    print(max(N, M)-2)\n",
    "else:\n",
    "    print((N-2)*(M-2))"
   ]
  },
  {
   "cell_type": "code",
   "execution_count": 21,
   "metadata": {},
   "outputs": [],
   "source": [
    "#Subarray Sum"
   ]
  },
  {
   "cell_type": "code",
   "execution_count": 27,
   "metadata": {},
   "outputs": [
    {
     "name": "stdout",
     "output_type": "stream",
     "text": [
      "0 0 1\n",
      "\n"
     ]
    }
   ],
   "source": [
    "N, K, S = map(int, input().split())\n",
    "\n",
    "if S == 10**9:\n",
    "    ans = [S]*K+[1]*(N-K)\n",
    "    ans = list(map(str, ans))\n",
    "    print(\" \".join(ans))\n",
    "else:\n",
    "    ans = [S]*K+[S+1]*(N-K)\n",
    "    ans = list(map(str, ans))\n",
    "    print(\" \".join(ans))"
   ]
  },
  {
   "cell_type": "code",
   "execution_count": 1,
   "metadata": {},
   "outputs": [],
   "source": [
    "#Rectangle Cutting"
   ]
  },
  {
   "cell_type": "code",
   "execution_count": 4,
   "metadata": {},
   "outputs": [
    {
     "name": "stdout",
     "output_type": "stream",
     "text": [
      "3 5 2 3\n",
      "7.5 0\n"
     ]
    }
   ],
   "source": [
    "from decimal import Decimal\n",
    "W, H, x, y = map(int, input().split())\n",
    "\n",
    "ans = Decimal(W*H)/Decimal(2)\n",
    "if W*0.5 == x and H*0.5 == y:\n",
    "    print(ans, 1)\n",
    "else:\n",
    "    print(ans, 0)"
   ]
  },
  {
   "cell_type": "code",
   "execution_count": 5,
   "metadata": {},
   "outputs": [],
   "source": [
    "#Plus Matrix"
   ]
  },
  {
   "cell_type": "code",
   "execution_count": null,
   "metadata": {},
   "outputs": [],
   "source": []
  }
 ],
 "metadata": {
  "kernelspec": {
   "display_name": "Python 3",
   "language": "python",
   "name": "python3"
  },
  "language_info": {
   "codemirror_mode": {
    "name": "ipython",
    "version": 3
   },
   "file_extension": ".py",
   "mimetype": "text/x-python",
   "name": "python",
   "nbconvert_exporter": "python",
   "pygments_lexer": "ipython3",
   "version": "3.6.4"
  }
 },
 "nbformat": 4,
 "nbformat_minor": 2
}
