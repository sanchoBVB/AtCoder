{
 "cells": [
  {
   "cell_type": "code",
   "execution_count": 1,
   "metadata": {},
   "outputs": [],
   "source": [
    "#Substring"
   ]
  },
  {
   "cell_type": "code",
   "execution_count": 5,
   "metadata": {},
   "outputs": [
    {
     "name": "stdout",
     "output_type": "stream",
     "text": [
      "codeforces\n",
      "atcoder\n",
      "6\n"
     ]
    }
   ],
   "source": [
    "S = list(input())\n",
    "T = list(input())\n",
    "N, K = len(S), len(T)\n",
    "\n",
    "ans = 10**5\n",
    "for i in range(N-K+1):\n",
    "    A = S[i:i+K]\n",
    "    cnt = 0\n",
    "    for a, t in zip(A, T):\n",
    "        if a != t:\n",
    "            cnt += 1\n",
    "    ans = min(ans, cnt)\n",
    "    \n",
    "print(ans)"
   ]
  },
  {
   "cell_type": "code",
   "execution_count": 6,
   "metadata": {},
   "outputs": [],
   "source": [
    "#Counting Roads"
   ]
  },
  {
   "cell_type": "code",
   "execution_count": 7,
   "metadata": {},
   "outputs": [
    {
     "name": "stdout",
     "output_type": "stream",
     "text": [
      "4 3\n",
      "1 2\n",
      "2 3\n",
      "1 4\n",
      "2\n",
      "2\n",
      "1\n",
      "1\n"
     ]
    }
   ],
   "source": [
    "N, M = map(int, input().split())\n",
    "\n",
    "cnt = [0]*N\n",
    "for _ in range(M):\n",
    "    a, b = map(int, input().split())\n",
    "    cnt[a-1] += 1\n",
    "    cnt[b-1] += 1\n",
    "    \n",
    "for c in cnt:\n",
    "    print(c)"
   ]
  },
  {
   "cell_type": "code",
   "execution_count": 1,
   "metadata": {},
   "outputs": [],
   "source": [
    "#String Rotation"
   ]
  },
  {
   "cell_type": "code",
   "execution_count": 4,
   "metadata": {},
   "outputs": [
    {
     "name": "stdout",
     "output_type": "stream",
     "text": [
      "aaaaaaaaaaaaaaab\n",
      "aaaaaaaaaaaaaaab\n",
      "Yes\n"
     ]
    }
   ],
   "source": [
    "S = list(input())\n",
    "T = input()\n",
    "\n",
    "ans = \"No\"\n",
    "for _ in range(105):\n",
    "    if \"\".join(S) == T:\n",
    "        ans = \"Yes\"\n",
    "        break\n",
    "    s = S.pop(-1)\n",
    "    S.insert(0, s)\n",
    "    \n",
    "print(ans)"
   ]
  },
  {
   "cell_type": "code",
   "execution_count": 5,
   "metadata": {},
   "outputs": [],
   "source": [
    "#Tag"
   ]
  },
  {
   "cell_type": "code",
   "execution_count": 12,
   "metadata": {},
   "outputs": [
    {
     "name": "stdout",
     "output_type": "stream",
     "text": [
      "2 4\n",
      "0 2\n",
      "5\n",
      "YES\n"
     ]
    }
   ],
   "source": [
    "A, V = map(int, input().split())\n",
    "B, W = map(int, input().split())\n",
    "T = int(input())\n",
    "k = abs(A-B)\n",
    "cnt = (V*T)-(W*T)\n",
    "\n",
    "if cnt >= k:\n",
    "    print(\"YES\")\n",
    "else:\n",
    "    print(\"NO\")"
   ]
  },
  {
   "cell_type": "code",
   "execution_count": 1,
   "metadata": {},
   "outputs": [],
   "source": [
    "#Max Add"
   ]
  },
  {
   "cell_type": "code",
   "execution_count": 4,
   "metadata": {},
   "outputs": [
    {
     "name": "stdout",
     "output_type": "stream",
     "text": [
      "3\n",
      "1 2 3\n",
      "2\n",
      "8\n",
      "19\n"
     ]
    }
   ],
   "source": [
    "N = int(input())\n",
    "A = list(map(int, input().split()))\n",
    "\n",
    "cnt, ans, m = 0, 0, 0\n",
    "for n in range(N):\n",
    "    cnt += A[n]\n",
    "    ans += cnt\n",
    "    m = max(m, A[n])\n",
    "    print((m*(n+1))+ans)"
   ]
  },
  {
   "cell_type": "code",
   "execution_count": 1,
   "metadata": {},
   "outputs": [],
   "source": [
    "#A*B*C"
   ]
  },
  {
   "cell_type": "code",
   "execution_count": 4,
   "metadata": {},
   "outputs": [
    {
     "name": "stdout",
     "output_type": "stream",
     "text": [
      "31415\n",
      "1937281\n"
     ]
    }
   ],
   "source": [
    "K = int(input())\n",
    "\n",
    "ans = 0\n",
    "for A in range(1, K+1):\n",
    "    for B in range(1, (K//A)+1):\n",
    "        ans += K//(A*B)\n",
    "        \n",
    "print(ans)"
   ]
  },
  {
   "cell_type": "code",
   "execution_count": 5,
   "metadata": {},
   "outputs": [],
   "source": [
    "#Peaks"
   ]
  },
  {
   "cell_type": "code",
   "execution_count": 7,
   "metadata": {},
   "outputs": [
    {
     "name": "stdout",
     "output_type": "stream",
     "text": [
      "6 5\n",
      "8 6 9 1 2 1\n",
      "1 3\n",
      "4 2\n",
      "4 3\n",
      "4 6\n",
      "4 6\n",
      "3\n"
     ]
    }
   ],
   "source": [
    "N, M = map(int, input().split())\n",
    "H = list(map(int, input().split()))\n",
    "cnt = [1]*N\n",
    "for _ in range(M):\n",
    "    a, b = map(int, input().split())\n",
    "    if H[a-1] <= H[b-1]:\n",
    "        cnt[a-1] = 0\n",
    "    if H[b-1] <= H[a-1]:\n",
    "        cnt[b-1] = 0\n",
    "        \n",
    "print(cnt.count(1))"
   ]
  },
  {
   "cell_type": "code",
   "execution_count": 8,
   "metadata": {},
   "outputs": [],
   "source": [
    "#Dividing a String"
   ]
  },
  {
   "cell_type": "code",
   "execution_count": 17,
   "metadata": {},
   "outputs": [
    {
     "name": "stdout",
     "output_type": "stream",
     "text": [
      "aabbaa\n",
      "4\n"
     ]
    }
   ],
   "source": [
    "from collections import deque\n",
    "S = deque(list(input()))\n",
    "\n",
    "cnt = S.popleft()\n",
    "ans = 1\n",
    "while len(S)>1:\n",
    "    s = S.popleft()\n",
    "    if cnt == s:\n",
    "        cnt = s+S.popleft()\n",
    "    else:\n",
    "        cnt = s\n",
    "    ans += 1\n",
    "\n",
    "if len(S)>0:\n",
    "    if cnt == S[0]:\n",
    "        print(ans)\n",
    "    else:\n",
    "        print(ans+1)\n",
    "else:\n",
    "    print(ans)"
   ]
  },
  {
   "cell_type": "code",
   "execution_count": 18,
   "metadata": {},
   "outputs": [],
   "source": [
    "#Commma"
   ]
  },
  {
   "cell_type": "code",
   "execution_count": 34,
   "metadata": {},
   "outputs": [
    {
     "name": "stdout",
     "output_type": "stream",
     "text": [
      "27182818284590\n",
      "107730272137364\n"
     ]
    }
   ],
   "source": [
    "import sys\n",
    "N = list(input())\n",
    "\n",
    "if len(N) < 4:\n",
    "    print(0)\n",
    "    sys.exit(0)\n",
    "    \n",
    "ans = 0\n",
    "for i in range(4, len(N)+1, 3):\n",
    "    ans += int(\"\".join(N))-int(\"9\"*(i-1))\n",
    "    \n",
    "print(ans)"
   ]
  },
  {
   "cell_type": "code",
   "execution_count": 35,
   "metadata": {},
   "outputs": [],
   "source": [
    "#美しい文字列"
   ]
  },
  {
   "cell_type": "code",
   "execution_count": 37,
   "metadata": {},
   "outputs": [
    {
     "name": "stdout",
     "output_type": "stream",
     "text": [
      "hthth\n",
      "No\n"
     ]
    }
   ],
   "source": [
    "from collections import Counter\n",
    "w = list(input())\n",
    "\n",
    "cnt = Counter(w)\n",
    "ans = \"Yes\"\n",
    "for v in cnt.values():\n",
    "    if v%2!=0:\n",
    "        ans = \"No\"\n",
    "        break\n",
    "        \n",
    "print(ans)"
   ]
  },
  {
   "cell_type": "code",
   "execution_count": 1,
   "metadata": {},
   "outputs": [],
   "source": [
    "#Takahashikun, The Strider"
   ]
  },
  {
   "cell_type": "code",
   "execution_count": 15,
   "metadata": {},
   "outputs": [
    {
     "name": "stdout",
     "output_type": "stream",
     "text": [
      "90\n",
      "4\n"
     ]
    }
   ],
   "source": [
    "X = int(input())\n",
    "\n",
    "for i in range(1, 1000):\n",
    "    if (360*i)%X==0:\n",
    "        ans = (360*i)//X\n",
    "        break\n",
    "        \n",
    "print(ans)"
   ]
  },
  {
   "cell_type": "code",
   "execution_count": 16,
   "metadata": {},
   "outputs": [],
   "source": [
    "#Table Tennis Training"
   ]
  },
  {
   "cell_type": "code",
   "execution_count": 23,
   "metadata": {},
   "outputs": [
    {
     "name": "stdout",
     "output_type": "stream",
     "text": [
      "7 2 5\n",
      "3\n"
     ]
    }
   ],
   "source": [
    "import sys\n",
    "N, A, B = map(int, input().split())\n",
    "\n",
    "if (B-A)%2==0:\n",
    "    print((B-A)//2)\n",
    "    sys.exit(0)\n",
    "    \n",
    "if (N-B) < (A-1):\n",
    "    if N-(A+(N-B)) <= 1:\n",
    "        print(N-A)\n",
    "    else:\n",
    "        cnt1 = N-B+1\n",
    "        cnt2 = (N-(A+(N-B)+1))//2\n",
    "        print(cnt1+cnt2)\n",
    "else:\n",
    "    if B-(A-1)-1 <= 1:\n",
    "        print(B-1)\n",
    "    else:\n",
    "        cnt = (B-A-1)//2\n",
    "        print(A+cnt)"
   ]
  },
  {
   "cell_type": "code",
   "execution_count": 24,
   "metadata": {},
   "outputs": [],
   "source": [
    "#Alcoholic"
   ]
  },
  {
   "cell_type": "code",
   "execution_count": 26,
   "metadata": {},
   "outputs": [
    {
     "name": "stdout",
     "output_type": "stream",
     "text": [
      "3 1000000\n",
      "1000 100\n",
      "1000 100\n",
      "1000 100\n",
      "-1\n"
     ]
    }
   ],
   "source": [
    "from decimal import Decimal\n",
    "N, X = map(int, input().split())\n",
    "\n",
    "ans, cnt = 0, 0\n",
    "for _ in range(N):\n",
    "    ans += 1\n",
    "    v, p = map(int, input().split())\n",
    "    p = Decimal(p)/Decimal(100)\n",
    "    cnt += v*p\n",
    "    if cnt > X:\n",
    "        break\n",
    "        \n",
    "if cnt <= X:\n",
    "    print(-1)\n",
    "else:\n",
    "    print(ans)"
   ]
  },
  {
   "cell_type": "code",
   "execution_count": 1,
   "metadata": {},
   "outputs": [],
   "source": [
    "#Collinearity"
   ]
  },
  {
   "cell_type": "code",
   "execution_count": 7,
   "metadata": {},
   "outputs": [
    {
     "name": "stdout",
     "output_type": "stream",
     "text": [
      "9\n",
      "8 2\n",
      "2 3\n",
      "1 3\n",
      "3 7\n",
      "1 0\n",
      "8 8\n",
      "5 6\n",
      "9 7\n",
      "0 1\n"
     ]
    },
    {
     "ename": "DivisionByZero",
     "evalue": "[<class 'decimal.DivisionByZero'>]",
     "output_type": "error",
     "traceback": [
      "\u001b[0;31m---------------------------------------------------------------------------\u001b[0m",
      "\u001b[0;31mDivisionByZero\u001b[0m                            Traceback (most recent call last)",
      "\u001b[0;32m<ipython-input-7-4893372f7507>\u001b[0m in \u001b[0;36m<module>\u001b[0;34m()\u001b[0m\n\u001b[1;32m     26\u001b[0m             \u001b[0;32melse\u001b[0m\u001b[0;34m:\u001b[0m\u001b[0;34m\u001b[0m\u001b[0m\n\u001b[1;32m     27\u001b[0m                 \u001b[0ma1\u001b[0m \u001b[0;34m=\u001b[0m \u001b[0mDecimal\u001b[0m\u001b[0;34m(\u001b[0m\u001b[0my2\u001b[0m\u001b[0;34m-\u001b[0m\u001b[0my1\u001b[0m\u001b[0;34m)\u001b[0m\u001b[0;34m/\u001b[0m\u001b[0mDecimal\u001b[0m\u001b[0;34m(\u001b[0m\u001b[0mx2\u001b[0m\u001b[0;34m-\u001b[0m\u001b[0mx1\u001b[0m\u001b[0;34m)\u001b[0m\u001b[0;34m\u001b[0m\u001b[0m\n\u001b[0;32m---> 28\u001b[0;31m                 \u001b[0ma2\u001b[0m \u001b[0;34m=\u001b[0m \u001b[0mDecimal\u001b[0m\u001b[0;34m(\u001b[0m\u001b[0my2\u001b[0m\u001b[0;34m-\u001b[0m\u001b[0my3\u001b[0m\u001b[0;34m)\u001b[0m\u001b[0;34m/\u001b[0m\u001b[0mDecimal\u001b[0m\u001b[0;34m(\u001b[0m\u001b[0mx2\u001b[0m\u001b[0;34m-\u001b[0m\u001b[0mx3\u001b[0m\u001b[0;34m)\u001b[0m\u001b[0;34m\u001b[0m\u001b[0m\n\u001b[0m\u001b[1;32m     29\u001b[0m                 \u001b[0;32mif\u001b[0m \u001b[0ma1\u001b[0m\u001b[0;34m==\u001b[0m\u001b[0ma2\u001b[0m\u001b[0;34m:\u001b[0m\u001b[0;34m\u001b[0m\u001b[0m\n\u001b[1;32m     30\u001b[0m                     \u001b[0mprint\u001b[0m\u001b[0;34m(\u001b[0m\u001b[0;34m\"Yes\"\u001b[0m\u001b[0;34m)\u001b[0m\u001b[0;34m\u001b[0m\u001b[0m\n",
      "\u001b[0;31mDivisionByZero\u001b[0m: [<class 'decimal.DivisionByZero'>]"
     ]
    }
   ],
   "source": [
    "import sys\n",
    "N = int(input())\n",
    "xy = []\n",
    "for _ in range(N):\n",
    "    xy.append(list(map(int, input().split())))\n",
    "    \n",
    "for i in range(N-2):\n",
    "    x1, y1 = xy[i][0], xy[i][1]\n",
    "    for j in range(i+1, N-1):\n",
    "        x2, y2 = xy[j][0], xy[j][1]\n",
    "        for k in range(j+1, N):\n",
    "            x3, y3 = xy[k][0], xy[k][1]\n",
    "            a1, b1 = y2-y1, x2-x1\n",
    "            a2, b2 = y2-y3, x2-x3\n",
    "            if a1*b2==a2*b1:\n",
    "                print(\"Yes\")\n",
    "                sys.exit(0)\n",
    "                \n",
    "print(\"No\")"
   ]
  },
  {
   "cell_type": "code",
   "execution_count": null,
   "metadata": {},
   "outputs": [],
   "source": [
    "8 2\n",
    "2 3\n",
    "1 3\n",
    "3 7\n",
    "1 0\n",
    "8 8\n",
    "5 6\n",
    "9 7\n",
    "0 1"
   ]
  }
 ],
 "metadata": {
  "kernelspec": {
   "display_name": "Python 3",
   "language": "python",
   "name": "python3"
  },
  "language_info": {
   "codemirror_mode": {
    "name": "ipython",
    "version": 3
   },
   "file_extension": ".py",
   "mimetype": "text/x-python",
   "name": "python",
   "nbconvert_exporter": "python",
   "pygments_lexer": "ipython3",
   "version": "3.6.4"
  }
 },
 "nbformat": 4,
 "nbformat_minor": 2
}
