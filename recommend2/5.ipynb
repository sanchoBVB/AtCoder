{
 "cells": [
  {
   "cell_type": "code",
   "execution_count": 1,
   "metadata": {},
   "outputs": [],
   "source": [
    "#Sum of difference"
   ]
  },
  {
   "cell_type": "code",
   "execution_count": 2,
   "metadata": {},
   "outputs": [
    {
     "name": "stdout",
     "output_type": "stream",
     "text": [
      "5\n",
      "31 41 59 26 53\n",
      "176\n"
     ]
    }
   ],
   "source": [
    "N = int(input())\n",
    "A = list(map(int, input().split()))\n",
    "A.sort(reverse=True)\n",
    "\n",
    "sumA = sum(A)\n",
    "ans = 0\n",
    "for i in range(1,N):\n",
    "    sumA -= A[i-1]\n",
    "    ans += (N-i)*A[i-1] - sumA\n",
    "    \n",
    "print(ans)"
   ]
  },
  {
   "cell_type": "code",
   "execution_count": 3,
   "metadata": {},
   "outputs": [],
   "source": [
    "#Takahashi's Information"
   ]
  },
  {
   "cell_type": "code",
   "execution_count": 13,
   "metadata": {},
   "outputs": [
    {
     "name": "stdout",
     "output_type": "stream",
     "text": [
      "1 8 6\n",
      "2 9 7\n",
      "0 7 7\n",
      "No\n"
     ]
    }
   ],
   "source": [
    "import sys\n",
    "C = [list(map(int, input().split())) for _ in range(3)]\n",
    "\n",
    "for a1 in range(101):\n",
    "    B = [C[0][0]-a1, C[0][1]-a1, C[0][2]-a1]\n",
    "    for a2 in range(101):\n",
    "        B1 = [C[1][0]-a2, C[1][1]-a2, C[1][2]-a2]\n",
    "        if B == B1:\n",
    "            for a3 in range(101):\n",
    "                B2 = [C[2][0]-a3, C[2][1]-a3, C[2][2]-a3]\n",
    "                if B == B2:\n",
    "                    print(\"Yes\")\n",
    "                    sys.exit(0)\n",
    "                \n",
    "else:\n",
    "    print(\"No\")"
   ]
  },
  {
   "cell_type": "code",
   "execution_count": 14,
   "metadata": {},
   "outputs": [],
   "source": [
    "#Many Oranges"
   ]
  },
  {
   "cell_type": "code",
   "execution_count": 24,
   "metadata": {},
   "outputs": [
    {
     "name": "stdout",
     "output_type": "stream",
     "text": [
      "300 333 1\n",
      "UNSATISFIABLE\n"
     ]
    }
   ],
   "source": [
    "A, B, W = map(int, input().split())\n",
    "\n",
    "ans = []\n",
    "for i in range(1, (W*1000)+1):\n",
    "    w = (W*1000)/i\n",
    "    if A <= w and B>=w:\n",
    "        ans.append(i)\n",
    "        \n",
    "if len(ans)==0:\n",
    "    print(\"UNSATISFIABLE\")\n",
    "else:\n",
    "    print(min(ans), max(ans))"
   ]
  },
  {
   "cell_type": "code",
   "execution_count": 1,
   "metadata": {},
   "outputs": [],
   "source": [
    "#Skip"
   ]
  },
  {
   "cell_type": "code",
   "execution_count": 7,
   "metadata": {},
   "outputs": [
    {
     "name": "stdout",
     "output_type": "stream",
     "text": [
      "3 81\n",
      "33 105 57\n",
      "24\n"
     ]
    }
   ],
   "source": [
    "from functools import reduce\n",
    "import math\n",
    "N, x = map(int, input().split())\n",
    "X = list(map(int, input().split()))\n",
    "X.append(x)\n",
    "X.sort()\n",
    "\n",
    "cnt = []\n",
    "for n in range(1, N+1):\n",
    "    cnt.append(abs(X[n-1]-X[n]))\n",
    "\n",
    "def my_gcd(*numbers):\n",
    "    return reduce(math.gcd, numbers)\n",
    "\n",
    "print(my_gcd(*cnt))"
   ]
  },
  {
   "cell_type": "code",
   "execution_count": 8,
   "metadata": {},
   "outputs": [],
   "source": [
    "#When I hit my pocket..."
   ]
  },
  {
   "cell_type": "code",
   "execution_count": 19,
   "metadata": {},
   "outputs": [
    {
     "name": "stdout",
     "output_type": "stream",
     "text": [
      "1 2 10\n",
      "2\n"
     ]
    },
    {
     "ename": "SystemExit",
     "evalue": "0",
     "output_type": "error",
     "traceback": [
      "An exception has occurred, use %tb to see the full traceback.\n",
      "\u001b[0;31mSystemExit\u001b[0m\u001b[0;31m:\u001b[0m 0\n"
     ]
    },
    {
     "name": "stderr",
     "output_type": "stream",
     "text": [
      "/Users/miuratakuto/.pyenv/versions/anaconda3-5.1.0/lib/python3.6/site-packages/IPython/core/interactiveshell.py:2918: UserWarning: To exit: use 'exit', 'quit', or Ctrl-D.\n",
      "  warn(\"To exit: use 'exit', 'quit', or Ctrl-D.\", stacklevel=1)\n"
     ]
    }
   ],
   "source": [
    "import sys\n",
    "K, A, B = map(int, input().split())\n",
    "\n",
    "cnt = 2+A-1\n",
    "if K < cnt:\n",
    "    print(K+1)\n",
    "    sys.exit(0)\n",
    "    \n",
    "ans = B\n",
    "k = K-cnt\n",
    "ans1 = ans + k\n",
    "ans2 = ans+((k//2)*(B-A))+(k%2)\n",
    "print(max(K+1, ans1, ans2))"
   ]
  },
  {
   "cell_type": "code",
   "execution_count": 1,
   "metadata": {},
   "outputs": [],
   "source": [
    "#pushpush"
   ]
  },
  {
   "cell_type": "code",
   "execution_count": 7,
   "metadata": {},
   "outputs": [
    {
     "name": "stdout",
     "output_type": "stream",
     "text": [
      "3\n",
      "1 2 3\n",
      "3 1 2\n"
     ]
    }
   ],
   "source": [
    "n = int(input())\n",
    "A = list(map(int, input().split()))\n",
    "A.reverse()\n",
    "\n",
    "b_left, b_right = [], []\n",
    "for i in range(n):\n",
    "    if i%2==0:\n",
    "        b_left.append(A[i])\n",
    "    else:\n",
    "        b_right.append(A[i])\n",
    "\n",
    "b_right.reverse()\n",
    "b = b_left+b_right\n",
    "print(\" \".join(list(map(str, b))))"
   ]
  },
  {
   "cell_type": "code",
   "execution_count": 8,
   "metadata": {},
   "outputs": [],
   "source": [
    "#Divide a Cuboid"
   ]
  },
  {
   "cell_type": "code",
   "execution_count": 10,
   "metadata": {},
   "outputs": [
    {
     "name": "stdout",
     "output_type": "stream",
     "text": [
      "3 3 3\n",
      "9\n"
     ]
    }
   ],
   "source": [
    "A, B, C = map(int, input().split())\n",
    "\n",
    "if (A*B*C)%2==0:\n",
    "    print(0)\n",
    "else:\n",
    "    a = (((A//2)+1)*B*C)-((A//2)*B*C)\n",
    "    b = (((B//2)+1)*A*C)-((B//2)*A*C)\n",
    "    c = (((C//2)+1)*B*A)-((C//2)*B*A)\n",
    "    print(min(a, b, c))"
   ]
  },
  {
   "cell_type": "code",
   "execution_count": 11,
   "metadata": {},
   "outputs": [],
   "source": [
    "#Colorful Leaderboard"
   ]
  },
  {
   "cell_type": "code",
   "execution_count": 14,
   "metadata": {},
   "outputs": [
    {
     "name": "stdout",
     "output_type": "stream",
     "text": [
      "20\n",
      "800 810 820 830 840 850 860 870 880 890 900 910 920 930 940 950 960 970 980 990\n",
      "1 1\n"
     ]
    }
   ],
   "source": [
    "N = int(input())\n",
    "A = list(map(int, input().split()))\n",
    "\n",
    "cnt = [0]*8\n",
    "c = 0\n",
    "for a in A:\n",
    "    if a >= 3200:\n",
    "        c += 1\n",
    "    else:\n",
    "        cnt[a//400] = 1\n",
    "        \n",
    "ans = cnt.count(1)\n",
    "if ans == 0:\n",
    "    print(1, c)\n",
    "else:\n",
    "    print(ans, ans+c)"
   ]
  },
  {
   "cell_type": "code",
   "execution_count": 1,
   "metadata": {},
   "outputs": [],
   "source": [
    "#One Quadrillion and One Dalmatians"
   ]
  },
  {
   "cell_type": "code",
   "execution_count": 12,
   "metadata": {},
   "outputs": [
    {
     "name": "stdout",
     "output_type": "stream",
     "text": [
      "27\n",
      "aa \n"
     ]
    }
   ],
   "source": [
    "N = int(input())\n",
    "\n",
    "ans = ' '\n",
    "while N>0:\n",
    "    N -= 1\n",
    "    ans += chr(ord('a')+N%26)\n",
    "    N = int(N/26)\n",
    "    \n",
    "print(ans[::-1])"
   ]
  },
  {
   "cell_type": "code",
   "execution_count": 1,
   "metadata": {},
   "outputs": [],
   "source": [
    "#Scc Puzzle"
   ]
  },
  {
   "cell_type": "code",
   "execution_count": 3,
   "metadata": {},
   "outputs": [
    {
     "name": "stdout",
     "output_type": "stream",
     "text": [
      "12345 678901\n",
      "175897\n"
     ]
    }
   ],
   "source": [
    "N, M = map(int, input().split())\n",
    "\n",
    "if N*2 < M:\n",
    "    ans = N\n",
    "    M -= N*2\n",
    "    ans += M//4\n",
    "    print(ans)\n",
    "elif N*2 > M:\n",
    "    print(M//2)\n",
    "else:\n",
    "    print(N)"
   ]
  },
  {
   "cell_type": "code",
   "execution_count": 4,
   "metadata": {},
   "outputs": [],
   "source": [
    "#Mandarin Orange"
   ]
  },
  {
   "cell_type": "code",
   "execution_count": 8,
   "metadata": {},
   "outputs": [
    {
     "name": "stdout",
     "output_type": "stream",
     "text": [
      "6\n",
      "2 4 4 9 4 9\n",
      "20\n"
     ]
    }
   ],
   "source": [
    "N = int(input())\n",
    "A = list(map(int, input().split()))\n",
    "\n",
    "ans = 0\n",
    "for l in range(N):\n",
    "    for r in range(l, N):\n",
    "        ans = max(ans, min(A[l:r+1])*(r-l+1))\n",
    "        \n",
    "print(ans)"
   ]
  },
  {
   "cell_type": "code",
   "execution_count": 9,
   "metadata": {},
   "outputs": [
    {
     "name": "stdout",
     "output_type": "stream",
     "text": [
      "6\n",
      "2 4 4 9 4 9\n",
      "20\n"
     ]
    }
   ],
   "source": [
    "N = int(input())\n",
    "A = list(map(int, input().split()))\n",
    "\n",
    "ans = 0\n",
    "for l in range(N):\n",
    "    a = A[l]\n",
    "    for r in range(l, N):\n",
    "        a = min(a, A[r])\n",
    "        ans = max(ans, a*(r-l+1))\n",
    "        \n",
    "print(ans)"
   ]
  },
  {
   "cell_type": "code",
   "execution_count": 10,
   "metadata": {},
   "outputs": [],
   "source": [
    "#Many Medians"
   ]
  },
  {
   "cell_type": "code",
   "execution_count": 12,
   "metadata": {},
   "outputs": [
    {
     "name": "stdout",
     "output_type": "stream",
     "text": [
      "6\n",
      "5 5 4 4 3 3\n",
      "4\n",
      "4\n",
      "4\n",
      "4\n",
      "4\n",
      "4\n"
     ]
    }
   ],
   "source": [
    "N = int(input())\n",
    "X = list(map(int, input().split()))\n",
    "Y = sorted(X)\n",
    "min_m, max_m = Y[(N//2)-1], Y[N//2]\n",
    "m = (max_m+min_m)/2\n",
    "\n",
    "for n in range(N):\n",
    "    if X[n] < m:\n",
    "        print(max_m)\n",
    "    else:\n",
    "        print(min_m)"
   ]
  },
  {
   "cell_type": "code",
   "execution_count": 13,
   "metadata": {},
   "outputs": [],
   "source": [
    "#Problem Set"
   ]
  },
  {
   "cell_type": "code",
   "execution_count": 18,
   "metadata": {},
   "outputs": [
    {
     "name": "stdout",
     "output_type": "stream",
     "text": [
      "1\n",
      "800\n",
      "5\n",
      "100 100 100 100 100\n",
      "NO\n"
     ]
    }
   ],
   "source": [
    "from collections import Counter\n",
    "N = int(input())\n",
    "D = list(map(int, input().split()))\n",
    "M = int(input())\n",
    "T = list(map(int, input().split()))\n",
    "d = Counter(D)\n",
    "t = Counter(T)\n",
    "\n",
    "ans = \"YES\"\n",
    "for k, v in t.items():\n",
    "    if d[k]<v:\n",
    "        ans = \"NO\"\n",
    "        break\n",
    "        \n",
    "print(ans)"
   ]
  },
  {
   "cell_type": "code",
   "execution_count": null,
   "metadata": {},
   "outputs": [],
   "source": []
  }
 ],
 "metadata": {
  "kernelspec": {
   "display_name": "Python 3",
   "language": "python",
   "name": "python3"
  },
  "language_info": {
   "codemirror_mode": {
    "name": "ipython",
    "version": 3
   },
   "file_extension": ".py",
   "mimetype": "text/x-python",
   "name": "python",
   "nbconvert_exporter": "python",
   "pygments_lexer": "ipython3",
   "version": "3.6.4"
  }
 },
 "nbformat": 4,
 "nbformat_minor": 2
}
