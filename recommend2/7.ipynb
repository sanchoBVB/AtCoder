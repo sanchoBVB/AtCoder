{
 "cells": [
  {
   "cell_type": "code",
   "execution_count": 1,
   "metadata": {},
   "outputs": [],
   "source": [
    "#Skill up"
   ]
  },
  {
   "cell_type": "code",
   "execution_count": 32,
   "metadata": {},
   "outputs": [
    {
     "name": "stdout",
     "output_type": "stream",
     "text": [
      "3 3 10\n",
      "60 2 2 4\n",
      "70 8 7 9\n",
      "50 2 3 9\n",
      "120\n"
     ]
    }
   ],
   "source": [
    "import itertools\n",
    "import numpy as np\n",
    "N, M, X = map(int, input().split())\n",
    "C, A = [], []\n",
    "for _ in range(N):\n",
    "    q = list(map(int, input().split()))\n",
    "    C.append(q[0])\n",
    "    A.append(q[1:])\n",
    "\n",
    "ans = []\n",
    "for it in itertools.product([0, 1], repeat=N):\n",
    "    it = list(it)\n",
    "    cnt, c = np.array([0]*M), 0\n",
    "    for i in range(N):\n",
    "        if it[i] == 1:\n",
    "            cnt += np.array(A[i])\n",
    "            c += C[i]\n",
    "    if all([w>=X for w in list(cnt)]):\n",
    "        ans.append(c)\n",
    "        \n",
    "if len(ans) == 0:\n",
    "    print(-1)\n",
    "else:\n",
    "    print(min(ans))"
   ]
  },
  {
   "cell_type": "code",
   "execution_count": 1,
   "metadata": {},
   "outputs": [],
   "source": [
    "#Multiplication 3"
   ]
  },
  {
   "cell_type": "code",
   "execution_count": 12,
   "metadata": {},
   "outputs": [
    {
     "name": "stdout",
     "output_type": "stream",
     "text": [
      "198 1.10\n",
      "217\n"
     ]
    }
   ],
   "source": [
    "from decimal import *\n",
    "A, B = input().split()\n",
    "c = Decimal(A)*Decimal(B)\n",
    "print(c.quantize(Decimal(\"0\"), rounding=ROUND_FLOOR))"
   ]
  },
  {
   "cell_type": "code",
   "execution_count": 13,
   "metadata": {},
   "outputs": [],
   "source": [
    "#Green Bin"
   ]
  },
  {
   "cell_type": "code",
   "execution_count": 24,
   "metadata": {},
   "outputs": [
    {
     "name": "stdout",
     "output_type": "stream",
     "text": [
      "5\n",
      "abaaaaaaaa\n",
      "oneplustwo\n",
      "aaaaaaaaba\n",
      "twoplusone\n",
      "aaaabaaaaa\n",
      "4\n"
     ]
    }
   ],
   "source": [
    "N = int(input())\n",
    "ans = 0\n",
    "cnt = {}\n",
    "for _ in range(N):\n",
    "    s = list(input())\n",
    "    s.sort()\n",
    "    s = \"\".join(s)\n",
    "    if s not in cnt:\n",
    "        cnt[s] = 1\n",
    "    else:\n",
    "        ans += cnt[s]\n",
    "        cnt[s] += 1\n",
    "    \n",
    "print(ans)"
   ]
  },
  {
   "cell_type": "code",
   "execution_count": 25,
   "metadata": {},
   "outputs": [],
   "source": [
    "#Hachi"
   ]
  },
  {
   "cell_type": "code",
   "execution_count": 45,
   "metadata": {},
   "outputs": [
    {
     "name": "stdout",
     "output_type": "stream",
     "text": [
      "1234\n",
      "No\n"
     ]
    }
   ],
   "source": [
    "import sys\n",
    "from collections import Counter\n",
    "\n",
    "n = input()\n",
    "\n",
    "if len(n) <= 2:\n",
    "    if int(n) % 8 == 0 or int(n[::-1]) % 8 == 0:\n",
    "        print(\"Yes\")\n",
    "    else:\n",
    "        print(\"No\")\n",
    "    sys.exit(0)\n",
    "\n",
    "cnt = Counter(n)\n",
    "\n",
    "ans = \"No\"\n",
    "for i in range(112, 1000, 8):\n",
    "    if not Counter(str(i)) - cnt:\n",
    "        ans = \"Yes\"\n",
    "        break\n",
    "\n",
    "print(ans)"
   ]
  },
  {
   "cell_type": "code",
   "execution_count": 49,
   "metadata": {},
   "outputs": [],
   "source": [
    "#Floor Function"
   ]
  },
  {
   "cell_type": "code",
   "execution_count": 52,
   "metadata": {},
   "outputs": [
    {
     "name": "stdout",
     "output_type": "stream",
     "text": [
      "11 10 9\n",
      "9\n"
     ]
    }
   ],
   "source": [
    "A, B, N = map(int, input().split())\n",
    "\n",
    "if B > N:\n",
    "    print(((A*N)//B)-(A*(N//B)))\n",
    "else:\n",
    "    b = B-1\n",
    "    print(((A*b)//B)-(A*(b//B)))"
   ]
  },
  {
   "cell_type": "code",
   "execution_count": 1,
   "metadata": {},
   "outputs": [],
   "source": [
    "#ARC Wrecker"
   ]
  },
  {
   "cell_type": "code",
   "execution_count": 7,
   "metadata": {},
   "outputs": [
    {
     "name": "stdout",
     "output_type": "stream",
     "text": [
      "3\n",
      "1 5 10\n",
      "60\n"
     ]
    }
   ],
   "source": [
    "N = int(input())\n",
    "A = list(map(int, input().split()))\n",
    "A.append(0)\n",
    "A.sort()\n",
    "\n",
    "ans = 1\n",
    "for i in range(1, N+1):\n",
    "    ans *= (A[i]-A[i-1]+1)\n",
    "    \n",
    "print(ans%(10**9+7))"
   ]
  },
  {
   "cell_type": "code",
   "execution_count": 1,
   "metadata": {},
   "outputs": [],
   "source": [
    "#Cat Snuke and a Voyage"
   ]
  },
  {
   "cell_type": "code",
   "execution_count": 7,
   "metadata": {},
   "outputs": [
    {
     "name": "stdout",
     "output_type": "stream",
     "text": [
      "5 5\n",
      "1 3\n",
      "4 5\n",
      "2 3\n",
      "2 4\n",
      "1 4\n",
      "POSSIBLE\n"
     ]
    }
   ],
   "source": [
    "N, M = map(int, input().split())\n",
    "start, end = set(), set()\n",
    "for _ in range(M):\n",
    "    a, b = map(int, input().split())\n",
    "    if a == 1:\n",
    "        start.add(b)\n",
    "        continue\n",
    "    if b == N:\n",
    "        end.add(a)\n",
    "        continue\n",
    "        \n",
    "if len(start&end)==0:\n",
    "    print(\"IMPOSSIBLE\")\n",
    "else:\n",
    "    print(\"POSSIBLE\")"
   ]
  },
  {
   "cell_type": "code",
   "execution_count": 8,
   "metadata": {},
   "outputs": [],
   "source": [
    "#String Formation"
   ]
  },
  {
   "cell_type": "code",
   "execution_count": 15,
   "metadata": {},
   "outputs": [
    {
     "name": "stdout",
     "output_type": "stream",
     "text": [
      "y\n",
      "1\n",
      "2 1 x\n",
      "xy\n"
     ]
    }
   ],
   "source": [
    "from collections import deque\n",
    "S = deque(list(input()))\n",
    "Q = int(input())\n",
    "c, cnt = True, 0\n",
    "for _ in range(Q):\n",
    "    q = input().split()\n",
    "    if q[0]==\"1\":\n",
    "        if len(S) == 1:\n",
    "            continue\n",
    "        else:\n",
    "            if c:\n",
    "                c = False\n",
    "            else:\n",
    "                c = True\n",
    "    else:\n",
    "        if c:\n",
    "            if q[1] == \"1\":\n",
    "                S.appendleft(q[2])\n",
    "            else:\n",
    "                S.append(q[2])\n",
    "        else:\n",
    "            if q[1] == \"1\":\n",
    "                S.append(q[2])\n",
    "            else:\n",
    "                S.appendleft(q[2])\n",
    "                \n",
    "if c:\n",
    "    print(\"\".join(list(S)))\n",
    "else:\n",
    "    S = reversed(list(S))\n",
    "    print(\"\".join(S))"
   ]
  },
  {
   "cell_type": "code",
   "execution_count": 16,
   "metadata": {},
   "outputs": [],
   "source": [
    "#Streamline"
   ]
  },
  {
   "cell_type": "code",
   "execution_count": 30,
   "metadata": {},
   "outputs": [
    {
     "name": "stdout",
     "output_type": "stream",
     "text": [
      "100 1\n",
      "1\n",
      "0\n"
     ]
    }
   ],
   "source": [
    "N, M = map(int, input().split())\n",
    "X = list(map(int, input().split()))\n",
    "X.sort()\n",
    "\n",
    "cnt = []\n",
    "for m in range(1, M):\n",
    "    cnt.append(X[m]-X[m-1])\n",
    "\n",
    "cnt.sort(reverse=True)\n",
    "print(sum(cnt[N-1:]))"
   ]
  },
  {
   "cell_type": "code",
   "execution_count": 1,
   "metadata": {},
   "outputs": [],
   "source": [
    "#Sorted Arrays"
   ]
  },
  {
   "cell_type": "code",
   "execution_count": 11,
   "metadata": {},
   "outputs": [
    {
     "name": "stdout",
     "output_type": "stream",
     "text": [
      "7\n",
      "1 2 3 2 1 999999999 1000000000\n",
      "3\n"
     ]
    }
   ],
   "source": [
    "N = int(input())\n",
    "A = list(map(int, input().split()))\n",
    "\n",
    "ans = 1\n",
    "c = None\n",
    "for n in range(1, N):\n",
    "    if A[n-1] < A[n]:\n",
    "        if c == False:\n",
    "            ans += 1\n",
    "            c = None\n",
    "        else:\n",
    "            c = True\n",
    "    elif A[n-1] > A[n]:\n",
    "        if c == True:\n",
    "            ans += 1\n",
    "            c = None\n",
    "        else:\n",
    "            c = False\n",
    "    else:\n",
    "        continue\n",
    "        \n",
    "print(ans)"
   ]
  },
  {
   "cell_type": "code",
   "execution_count": null,
   "metadata": {},
   "outputs": [],
   "source": []
  }
 ],
 "metadata": {
  "kernelspec": {
   "display_name": "Python 3",
   "language": "python",
   "name": "python3"
  },
  "language_info": {
   "codemirror_mode": {
    "name": "ipython",
    "version": 3
   },
   "file_extension": ".py",
   "mimetype": "text/x-python",
   "name": "python",
   "nbconvert_exporter": "python",
   "pygments_lexer": "ipython3",
   "version": "3.6.4"
  }
 },
 "nbformat": 4,
 "nbformat_minor": 2
}
