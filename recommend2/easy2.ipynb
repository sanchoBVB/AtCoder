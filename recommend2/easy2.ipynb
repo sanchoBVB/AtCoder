{
 "cells": [
  {
   "cell_type": "code",
   "execution_count": 1,
   "metadata": {},
   "outputs": [],
   "source": [
    "#Candy Distribution Again"
   ]
  },
  {
   "cell_type": "code",
   "execution_count": 12,
   "metadata": {},
   "outputs": [
    {
     "name": "stdout",
     "output_type": "stream",
     "text": [
      "3 40\n",
      "20 10 10\n",
      "3\n"
     ]
    }
   ],
   "source": [
    "import sys\n",
    "N, x = map(int, input().split())\n",
    "A = list(map(int, input().split()))\n",
    "A.sort()\n",
    "\n",
    "ans = 0\n",
    "for i in range(N-1):\n",
    "    x -= A[i]\n",
    "    if x < 0:\n",
    "        print(ans)\n",
    "        sys.exit(0)\n",
    "    else:\n",
    "        ans += 1\n",
    "\n",
    "if x==A[-1]:\n",
    "    print(ans+1)\n",
    "else:\n",
    "    print(ans)"
   ]
  },
  {
   "cell_type": "code",
   "execution_count": 13,
   "metadata": {},
   "outputs": [],
   "source": [
    "#Not Found"
   ]
  },
  {
   "cell_type": "code",
   "execution_count": 25,
   "metadata": {},
   "outputs": [
    {
     "name": "stdout",
     "output_type": "stream",
     "text": [
      "a\n",
      "b\n"
     ]
    }
   ],
   "source": [
    "S = list(set(list(input())))\n",
    "S.sort()\n",
    "cnt = list(\"abcdefghijklmnopqrstuvwxyz\")\n",
    "for _ in range(len(cnt)-len(S)):\n",
    "    S.append(\"A\")\n",
    "\n",
    "ans = \"None\"\n",
    "for c, s in zip(cnt, S):\n",
    "    if c != s:\n",
    "        ans = c\n",
    "        break\n",
    "        \n",
    "print(ans)"
   ]
  },
  {
   "cell_type": "code",
   "execution_count": 26,
   "metadata": {},
   "outputs": [],
   "source": [
    "#Two Integers"
   ]
  },
  {
   "cell_type": "code",
   "execution_count": 29,
   "metadata": {},
   "outputs": [
    {
     "name": "stdout",
     "output_type": "stream",
     "text": [
      "20 17\n",
      "20\n"
     ]
    }
   ],
   "source": [
    "X, Y = map(int, input().split())\n",
    "\n",
    "if X%Y==0:\n",
    "    print(-1)\n",
    "else:\n",
    "    print(X)"
   ]
  },
  {
   "cell_type": "code",
   "execution_count": 30,
   "metadata": {},
   "outputs": [],
   "source": [
    "#management"
   ]
  },
  {
   "cell_type": "code",
   "execution_count": 34,
   "metadata": {},
   "outputs": [
    {
     "name": "stdout",
     "output_type": "stream",
     "text": [
      "7\n",
      "1 2 3 4 5 6\n",
      "1\n",
      "1\n",
      "1\n",
      "1\n",
      "1\n",
      "1\n",
      "0\n"
     ]
    }
   ],
   "source": [
    "N = int(input())\n",
    "A = list(map(int, input().split()))\n",
    "\n",
    "cnt = [0]*N\n",
    "for a in A:\n",
    "    cnt[a-1] += 1\n",
    "    \n",
    "for c in cnt:\n",
    "    print(c)"
   ]
  },
  {
   "cell_type": "code",
   "execution_count": 35,
   "metadata": {},
   "outputs": [],
   "source": [
    "#Marks"
   ]
  },
  {
   "cell_type": "code",
   "execution_count": 42,
   "metadata": {},
   "outputs": [
    {
     "name": "stdout",
     "output_type": "stream",
     "text": [
      "2 1\n",
      "2 3\n",
      "Yes\n"
     ]
    }
   ],
   "source": [
    "N, K = map(int, input().split())\n",
    "A = list(map(int, input().split()))\n",
    "\n",
    "for k in range(N-K):\n",
    "    s1 = A[k]\n",
    "    s2 = A[k+K]\n",
    "    if s1 < s2:\n",
    "        print(\"Yes\")\n",
    "    else:\n",
    "        print(\"No\")"
   ]
  },
  {
   "cell_type": "code",
   "execution_count": 2,
   "metadata": {},
   "outputs": [],
   "source": [
    "#1-SAT"
   ]
  },
  {
   "cell_type": "code",
   "execution_count": 5,
   "metadata": {},
   "outputs": [
    {
     "name": "stdout",
     "output_type": "stream",
     "text": [
      "5\n",
      "!a\n",
      "a\n",
      "b\n",
      "b\n",
      "s\n",
      "a\n"
     ]
    }
   ],
   "source": [
    "N = int(input())\n",
    "\n",
    "cnt = set()\n",
    "ans = \"satisfiable\"\n",
    "for _ in range(N):\n",
    "    s = list(input())\n",
    "    if s[0]==\"!\":\n",
    "        if \"\".join(s[1:]) in cnt:\n",
    "            ans = \"\".join(s[1:])\n",
    "        cnt.add(\"\".join(s))\n",
    "    else:\n",
    "        s.insert(0, \"!\")\n",
    "        if \"\".join(s) in cnt:\n",
    "            ans = \"\".join(s[1:])\n",
    "        cnt.add(\"\".join(s[1:]))\n",
    "        \n",
    "print(ans)"
   ]
  },
  {
   "cell_type": "code",
   "execution_count": 6,
   "metadata": {},
   "outputs": [],
   "source": [
    "#Fairness"
   ]
  },
  {
   "cell_type": "code",
   "execution_count": 10,
   "metadata": {},
   "outputs": [
    {
     "name": "stdout",
     "output_type": "stream",
     "text": [
      "1000000000 1000000000 1000000000 1000000000000000000\n",
      "0\n"
     ]
    }
   ],
   "source": [
    "A, B, C, K = map(int, input().split())\n",
    "\n",
    "if K%2==0:\n",
    "    print(A-B)\n",
    "else:\n",
    "    print(B-A)"
   ]
  },
  {
   "cell_type": "code",
   "execution_count": 11,
   "metadata": {},
   "outputs": [],
   "source": [
    "#Palace"
   ]
  },
  {
   "cell_type": "code",
   "execution_count": 13,
   "metadata": {},
   "outputs": [
    {
     "name": "stdout",
     "output_type": "stream",
     "text": [
      "3\n",
      "21 -11\n",
      "81234 94124 52141\n",
      "3\n"
     ]
    }
   ],
   "source": [
    "N = int(input())\n",
    "T, A = map(int, input().split())\n",
    "H = list(map(int, input().split()))\n",
    "\n",
    "cnt = float('inf')\n",
    "ans = -1\n",
    "for n in range(N):\n",
    "    c = T-(H[n]*0.006)\n",
    "    if abs(c-A)<cnt:\n",
    "        cnt = abs(c-A)\n",
    "        ans = n+1\n",
    "        \n",
    "print(ans)"
   ]
  },
  {
   "cell_type": "code",
   "execution_count": 14,
   "metadata": {},
   "outputs": [],
   "source": [
    "#Prison"
   ]
  },
  {
   "cell_type": "code",
   "execution_count": 19,
   "metadata": {},
   "outputs": [
    {
     "name": "stdout",
     "output_type": "stream",
     "text": [
      "100000 1\n",
      "1 100000\n",
      "100000\n"
     ]
    }
   ],
   "source": [
    "N, M = map(int, input().split())\n",
    "mi, ma = map(int, input().split())\n",
    "ans = 0\n",
    "for _ in range(M-1):\n",
    "    l, r = map(int, input().split())\n",
    "    if mi > r or ma < l:\n",
    "        ans = 1\n",
    "    mi = max(mi, l)\n",
    "    ma = min(ma, r)\n",
    "\n",
    "if ans == 1:\n",
    "    print(0)\n",
    "else:\n",
    "    print(ma-mi+1)"
   ]
  },
  {
   "cell_type": "code",
   "execution_count": 20,
   "metadata": {},
   "outputs": [],
   "source": [
    "#Exponential"
   ]
  },
  {
   "cell_type": "code",
   "execution_count": 33,
   "metadata": {},
   "outputs": [
    {
     "name": "stdout",
     "output_type": "stream",
     "text": [
      "543\n",
      "529\n"
     ]
    }
   ],
   "source": [
    "X = int(input())\n",
    "\n",
    "cnt = set()\n",
    "for a in range(1, 33):\n",
    "    for b in range(2, 11):\n",
    "        c = a**b\n",
    "        cnt.add(c)\n",
    "cnt = sorted(list(cnt))\n",
    "\n",
    "ans = 0\n",
    "for cn in cnt:\n",
    "    if cn > X:\n",
    "        break\n",
    "    else:\n",
    "        ans = cn\n",
    "            \n",
    "print(ans)"
   ]
  },
  {
   "cell_type": "code",
   "execution_count": 29,
   "metadata": {},
   "outputs": [
    {
     "data": {
      "text/plain": [
       "512"
      ]
     },
     "execution_count": 29,
     "metadata": {},
     "output_type": "execute_result"
    }
   ],
   "source": [
    "2**9"
   ]
  },
  {
   "cell_type": "code",
   "execution_count": null,
   "metadata": {},
   "outputs": [],
   "source": []
  }
 ],
 "metadata": {
  "kernelspec": {
   "display_name": "Python 3",
   "language": "python",
   "name": "python3"
  },
  "language_info": {
   "codemirror_mode": {
    "name": "ipython",
    "version": 3
   },
   "file_extension": ".py",
   "mimetype": "text/x-python",
   "name": "python",
   "nbconvert_exporter": "python",
   "pygments_lexer": "ipython3",
   "version": "3.6.4"
  }
 },
 "nbformat": 4,
 "nbformat_minor": 2
}
