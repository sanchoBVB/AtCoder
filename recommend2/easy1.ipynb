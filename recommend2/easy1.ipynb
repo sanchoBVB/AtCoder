{
 "cells": [
  {
   "cell_type": "code",
   "execution_count": 1,
   "metadata": {},
   "outputs": [],
   "source": [
    "#∵∴∵"
   ]
  },
  {
   "cell_type": "code",
   "execution_count": 7,
   "metadata": {},
   "outputs": [
    {
     "name": "stdout",
     "output_type": "stream",
     "text": [
      "atcoderbeginnercontest\n",
      "atcoderregularcontest\n",
      "aattccooddeerrbreeggiunlnaerrccoonntteesstt\n"
     ]
    }
   ],
   "source": [
    "O = list(input())\n",
    "E = list(input())\n",
    "\n",
    "ans = []\n",
    "while True:\n",
    "    if len(O)==0:\n",
    "        break\n",
    "    else:\n",
    "        ans.append(O.pop(0))\n",
    "    if len(E)==0:\n",
    "        continue\n",
    "    else:\n",
    "        ans.append(E.pop(0))\n",
    "    \n",
    "print(\"\".join(ans))"
   ]
  },
  {
   "cell_type": "code",
   "execution_count": 8,
   "metadata": {},
   "outputs": [],
   "source": [
    "#Comparison"
   ]
  },
  {
   "cell_type": "code",
   "execution_count": 9,
   "metadata": {},
   "outputs": [
    {
     "name": "stdout",
     "output_type": "stream",
     "text": [
      "36\n",
      "24\n",
      "GREATER\n"
     ]
    }
   ],
   "source": [
    "A = int(input())\n",
    "B = int(input())\n",
    "\n",
    "if A>B:\n",
    "    print(\"GREATER\")\n",
    "elif A<B:\n",
    "    print(\"LESS\")\n",
    "else:\n",
    "    print(\"EQUAL\")"
   ]
  },
  {
   "cell_type": "code",
   "execution_count": 10,
   "metadata": {},
   "outputs": [],
   "source": [
    "#Coins"
   ]
  },
  {
   "cell_type": "code",
   "execution_count": 13,
   "metadata": {},
   "outputs": [
    {
     "name": "stdout",
     "output_type": "stream",
     "text": [
      "30\n",
      "40\n",
      "50\n",
      "6000\n",
      "213\n"
     ]
    }
   ],
   "source": [
    "A = int(input())\n",
    "B = int(input())\n",
    "C = int(input())\n",
    "X = int(input())\n",
    "\n",
    "ans = 0\n",
    "for a in range(A+1):\n",
    "    for b in range(B+1):\n",
    "        for c in range(C+1):\n",
    "            if (a*500)+(b*100)+(c*50)==X:\n",
    "                ans += 1\n",
    "                \n",
    "print(ans)"
   ]
  },
  {
   "cell_type": "code",
   "execution_count": 14,
   "metadata": {},
   "outputs": [],
   "source": [
    "#Bishop"
   ]
  },
  {
   "cell_type": "code",
   "execution_count": 20,
   "metadata": {},
   "outputs": [
    {
     "name": "stdout",
     "output_type": "stream",
     "text": [
      "4 1\n",
      "1\n"
     ]
    }
   ],
   "source": [
    "H, W = map(int, input().split())\n",
    "\n",
    "if H==1 or W==1:\n",
    "    print(1)\n",
    "elif H%2==0:\n",
    "    print((H//2)*W)\n",
    "else:\n",
    "    if W%2==0:\n",
    "        print((H//2)*(W//2)+((H//2)+1)*(W//2))\n",
    "    else:\n",
    "        print((H//2)*(W//2)+((H//2)+1)*((W//2)+1))"
   ]
  },
  {
   "cell_type": "code",
   "execution_count": 21,
   "metadata": {},
   "outputs": [],
   "source": [
    "#Range Product"
   ]
  },
  {
   "cell_type": "code",
   "execution_count": 25,
   "metadata": {},
   "outputs": [
    {
     "name": "stdout",
     "output_type": "stream",
     "text": [
      "-1 -1\n",
      "Positive\n"
     ]
    }
   ],
   "source": [
    "import sys\n",
    "a, b = map(int, input().split())\n",
    "\n",
    "if a<=0 and b>=0:\n",
    "    print(\"Zero\")\n",
    "    sys.exit(0)\n",
    "if a>0:\n",
    "    print(\"Positive\")\n",
    "else:\n",
    "    if a==b:\n",
    "        print(\"Positive\")\n",
    "    else:\n",
    "        s = b-a\n",
    "        if s%2==0:\n",
    "            print(\"Negative\")\n",
    "        else:\n",
    "            print(\"Positive\")"
   ]
  },
  {
   "cell_type": "code",
   "execution_count": 27,
   "metadata": {},
   "outputs": [],
   "source": [
    "#Different Distribution"
   ]
  },
  {
   "cell_type": "code",
   "execution_count": 31,
   "metadata": {},
   "outputs": [
    {
     "name": "stdout",
     "output_type": "stream",
     "text": [
      "2\n",
      "1 1000000000\n",
      "1000000000 1\n",
      "1000000001\n"
     ]
    }
   ],
   "source": [
    "N = int(input())\n",
    "\n",
    "cnt = [0, 0]\n",
    "for _ in range(N):\n",
    "    a, b = map(int, input().split())\n",
    "    if cnt[0] < a:\n",
    "        cnt = [a, b]\n",
    "        \n",
    "print(cnt[0]+cnt[1])"
   ]
  },
  {
   "cell_type": "code",
   "execution_count": 32,
   "metadata": {},
   "outputs": [],
   "source": [
    "#AcCepted"
   ]
  },
  {
   "cell_type": "code",
   "execution_count": 42,
   "metadata": {},
   "outputs": [
    {
     "name": "stdout",
     "output_type": "stream",
     "text": [
      "Atcoder\n",
      "WA\n"
     ]
    },
    {
     "ename": "SystemExit",
     "evalue": "0",
     "output_type": "error",
     "traceback": [
      "An exception has occurred, use %tb to see the full traceback.\n",
      "\u001b[0;31mSystemExit\u001b[0m\u001b[0;31m:\u001b[0m 0\n"
     ]
    },
    {
     "name": "stderr",
     "output_type": "stream",
     "text": [
      "/Users/miuratakuto/.pyenv/versions/anaconda3-5.1.0/lib/python3.6/site-packages/IPython/core/interactiveshell.py:2918: UserWarning: To exit: use 'exit', 'quit', or Ctrl-D.\n",
      "  warn(\"To exit: use 'exit', 'quit', or Ctrl-D.\", stacklevel=1)\n"
     ]
    }
   ],
   "source": [
    "import sys\n",
    "S = list(input())\n",
    "\n",
    "if S[0]!=\"A\":\n",
    "    print(\"WA\")\n",
    "    sys.exit(0)\n",
    "elif \"C\" not in S[2:len(S)-1]:\n",
    "    print(\"WA\")\n",
    "    sys.exit(0)\n",
    "else:\n",
    "    for i in range(2, len(S)-1):\n",
    "        if S[i]==\"C\":\n",
    "            del S[i]\n",
    "            break\n",
    "    del S[0]\n",
    "    \n",
    "ans = \"AC\"\n",
    "for s in S:\n",
    "    if s.isupper():\n",
    "        ans = \"WA\"\n",
    "        break\n",
    "        \n",
    "print(ans)"
   ]
  },
  {
   "cell_type": "code",
   "execution_count": 43,
   "metadata": {},
   "outputs": [],
   "source": [
    "#Contest with Drinks Easy"
   ]
  },
  {
   "cell_type": "code",
   "execution_count": 4,
   "metadata": {},
   "outputs": [
    {
     "name": "stdout",
     "output_type": "stream",
     "text": [
      "5\n",
      "7 2 3 8 5\n",
      "3\n",
      "4 2\n",
      "1 7\n",
      "4 13\n",
      "19\n",
      "25\n",
      "30\n"
     ]
    }
   ],
   "source": [
    "import copy\n",
    "N = int(input())\n",
    "T = list(map(int, input().split()))\n",
    "M = int(input())\n",
    "ans = []\n",
    "for _ in range(M):\n",
    "    t = T.copy()\n",
    "    p, x = map(int, input().split())\n",
    "    t[p-1] = x\n",
    "    ans.append(sum(t))\n",
    "    \n",
    "for a in ans:\n",
    "    print(a)"
   ]
  },
  {
   "cell_type": "code",
   "execution_count": 5,
   "metadata": {},
   "outputs": [],
   "source": [
    "#Poll"
   ]
  },
  {
   "cell_type": "code",
   "execution_count": 7,
   "metadata": {},
   "outputs": [
    {
     "name": "stdout",
     "output_type": "stream",
     "text": [
      "7\n",
      "beat\n",
      "vet\n",
      "beet\n",
      "bed\n",
      "vet\n",
      "bet\n",
      "beet\n",
      "beet\n",
      "vet\n"
     ]
    }
   ],
   "source": [
    "import collections\n",
    "N = int(input())\n",
    "cnt = []\n",
    "for _ in range(N):\n",
    "    cnt.append(input())\n",
    "    \n",
    "c = collections.Counter(cnt)\n",
    "m = max(c.values())\n",
    "\n",
    "ans = []\n",
    "for k, v in c.items():\n",
    "    if v==m:\n",
    "        ans.append(k)\n",
    "ans.sort()\n",
    "for a in ans:\n",
    "    print(a)"
   ]
  },
  {
   "cell_type": "code",
   "execution_count": null,
   "metadata": {},
   "outputs": [],
   "source": []
  }
 ],
 "metadata": {
  "kernelspec": {
   "display_name": "Python 3",
   "language": "python",
   "name": "python3"
  },
  "language_info": {
   "codemirror_mode": {
    "name": "ipython",
    "version": 3
   },
   "file_extension": ".py",
   "mimetype": "text/x-python",
   "name": "python",
   "nbconvert_exporter": "python",
   "pygments_lexer": "ipython3",
   "version": "3.6.4"
  }
 },
 "nbformat": 4,
 "nbformat_minor": 2
}
