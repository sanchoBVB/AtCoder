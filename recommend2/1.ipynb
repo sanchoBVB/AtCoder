{
 "cells": [
  {
   "cell_type": "code",
   "execution_count": 1,
   "metadata": {},
   "outputs": [],
   "source": [
    "#Trained?"
   ]
  },
  {
   "cell_type": "code",
   "execution_count": 6,
   "metadata": {},
   "outputs": [
    {
     "name": "stdout",
     "output_type": "stream",
     "text": [
      "5\n",
      "3\n",
      "3\n",
      "4\n",
      "2\n",
      "4\n",
      "3\n"
     ]
    }
   ],
   "source": [
    "N = int(input())\n",
    "A = []\n",
    "for _ in range(N):\n",
    "    A.append(int(input()))\n",
    "    \n",
    "a = A[0]\n",
    "cnt = 1\n",
    "while True:\n",
    "    if a == 2:\n",
    "        break\n",
    "    a = A[a-1]\n",
    "    cnt += 1\n",
    "    if cnt > 10**5:\n",
    "        cnt = -1\n",
    "        break\n",
    "    \n",
    "print(cnt)"
   ]
  },
  {
   "cell_type": "code",
   "execution_count": 7,
   "metadata": {},
   "outputs": [],
   "source": [
    "#仲良しうさぎ"
   ]
  },
  {
   "cell_type": "code",
   "execution_count": 14,
   "metadata": {},
   "outputs": [
    {
     "name": "stdout",
     "output_type": "stream",
     "text": [
      "4\n",
      "2 1 4 3\n",
      "2\n"
     ]
    }
   ],
   "source": [
    "N = int(input())\n",
    "A = list(map(int, input().split()))\n",
    "\n",
    "ans = 0\n",
    "for n in range(N):\n",
    "    if A[A[n]-1] == n+1:\n",
    "        ans += 1\n",
    "        \n",
    "print(ans//2)"
   ]
  },
  {
   "cell_type": "code",
   "execution_count": 1,
   "metadata": {},
   "outputs": [],
   "source": [
    "#Bowls and Dishes"
   ]
  },
  {
   "cell_type": "code",
   "execution_count": 4,
   "metadata": {},
   "outputs": [
    {
     "name": "stdout",
     "output_type": "stream",
     "text": [
      "6 12\n",
      "2 3\n",
      "4 6\n",
      "1 2\n",
      "4 5\n",
      "2 6\n",
      "1 5\n",
      "4 5\n",
      "1 3\n",
      "1 2\n",
      "2 6\n",
      "2 3\n",
      "2 5\n",
      "5\n",
      "3 5\n",
      "1 4\n",
      "2 6\n",
      "4 6\n",
      "5 6\n",
      "12\n"
     ]
    }
   ],
   "source": [
    "import itertools\n",
    "N, M = map(int, input().split())\n",
    "AB = []\n",
    "for _ in range(M):\n",
    "    AB.append(list(map(int, input().split())))\n",
    "K = int(input())\n",
    "cd = []\n",
    "for _ in range(K):\n",
    "    cd.append(list(map(int, input().split())))\n",
    "\n",
    "ans = 0\n",
    "for c in itertools.product(*cd):\n",
    "    an = 0\n",
    "    for ab in AB:\n",
    "        a, b = ab[0], ab[1]\n",
    "        if a in c and b in c:\n",
    "            an += 1\n",
    "    ans = max(ans, an)\n",
    "            \n",
    "print(ans)"
   ]
  },
  {
   "cell_type": "code",
   "execution_count": 5,
   "metadata": {},
   "outputs": [],
   "source": [
    "#AtCoder Group Contest"
   ]
  },
  {
   "cell_type": "code",
   "execution_count": 6,
   "metadata": {},
   "outputs": [
    {
     "name": "stdout",
     "output_type": "stream",
     "text": [
      "3\n",
      "1 0 0 0 6 7 3 8 2\n",
      "11\n"
     ]
    }
   ],
   "source": [
    "N = int(input())\n",
    "A = list(map(int, input().split()))\n",
    "\n",
    "A.sort(reverse=True)\n",
    "\n",
    "ans = 0\n",
    "i = 1\n",
    "for _ in range(N):\n",
    "    ans += A[i]\n",
    "    i += 2\n",
    "    \n",
    "print(ans)"
   ]
  },
  {
   "cell_type": "code",
   "execution_count": 7,
   "metadata": {},
   "outputs": [],
   "source": [
    "#Takahashi's Information"
   ]
  },
  {
   "cell_type": "code",
   "execution_count": 14,
   "metadata": {},
   "outputs": [
    {
     "name": "stdout",
     "output_type": "stream",
     "text": [
      "1 8 6\n",
      "2 9 7\n",
      "0 7 7\n",
      "No\n"
     ]
    }
   ],
   "source": [
    "import sys\n",
    "C = []\n",
    "for _ in range(3):\n",
    "    C.append(list(map(int, input().split())))\n",
    "    \n",
    "for a1 in range(101):\n",
    "    b1, b2, b3 = C[0][0]-a1, C[0][1]-a1, C[0][2]-a1\n",
    "    for a2 in range(101):\n",
    "        cnt = False\n",
    "        if a2!=C[1][0]-b1 or a2!=C[1][1]-b2 or a2!=C[1][2]-b3:\n",
    "            cnt = True\n",
    "        for a3 in range(101):\n",
    "            if cnt:\n",
    "                break\n",
    "            if a3==C[2][0]-b1 and a3==C[2][1]-b2 and a3==C[2][2]-b3:\n",
    "                print(\"Yes\")\n",
    "                sys.exit(0)\n",
    "                \n",
    "print(\"No\")"
   ]
  },
  {
   "cell_type": "code",
   "execution_count": 1,
   "metadata": {},
   "outputs": [],
   "source": [
    "#Many Oranges"
   ]
  },
  {
   "cell_type": "code",
   "execution_count": null,
   "metadata": {},
   "outputs": [],
   "source": [
    "import math\n",
    "\n",
    "a,b,w=map(int,input().split())\n",
    "upper=int(math.floor(1000*w/a))\n",
    "lower=int(math.ceil(1000*w/b))\n",
    "\n",
    "if lower>upper:\n",
    "    print(\"UNSATISFIABLE\")\n",
    "else:\n",
    "    print(lower,upper)"
   ]
  },
  {
   "cell_type": "code",
   "execution_count": 5,
   "metadata": {},
   "outputs": [],
   "source": [
    "#Dice in Line"
   ]
  },
  {
   "cell_type": "code",
   "execution_count": 17,
   "metadata": {},
   "outputs": [
    {
     "name": "stdout",
     "output_type": "stream",
     "text": [
      "5 3\n",
      "1 2 2 4 5\n",
      "7.0\n"
     ]
    }
   ],
   "source": [
    "#不正解\n",
    "N, K = map(int, input().split())\n",
    "P = list(map(int, input().split()))\n",
    "\n",
    "s = []\n",
    "for i in range(N-K+1):\n",
    "    s.append(sum(P[i:i+K]))\n",
    "    \n",
    "s = max(s)\n",
    "a = s//K\n",
    "b = s%K\n",
    "\n",
    "if b==0:\n",
    "    print((sum(list(range(1, a+1)))/a)*K)\n",
    "else:\n",
    "    print(((sum(list(range(1, a+1)))/a)*(K-1))+(sum(list(range(1, a+b+1)))/(a+b)))"
   ]
  },
  {
   "cell_type": "code",
   "execution_count": 16,
   "metadata": {},
   "outputs": [
    {
     "data": {
      "text/plain": [
       "(11, 3, 2)"
      ]
     },
     "execution_count": 16,
     "metadata": {},
     "output_type": "execute_result"
    }
   ],
   "source": [
    "#正解\n",
    "N, K = map(int, input().split())\n",
    "cnt = [int(x) * 0.5 + 0.5 for x in input().split()]\n",
    "\n",
    "add = [0]\n",
    "for i in cnt:\n",
    "    add.append(add[-1]+i)\n",
    "\n",
    "ans = [add[i+K]-add[i] for i in range(N-K+1)]\n",
    "\n",
    "print(max(ans))"
   ]
  },
  {
   "cell_type": "code",
   "execution_count": 1,
   "metadata": {},
   "outputs": [],
   "source": [
    "#Alter Altar"
   ]
  },
  {
   "cell_type": "code",
   "execution_count": null,
   "metadata": {},
   "outputs": [],
   "source": []
  }
 ],
 "metadata": {
  "kernelspec": {
   "display_name": "Python 3",
   "language": "python",
   "name": "python3"
  },
  "language_info": {
   "codemirror_mode": {
    "name": "ipython",
    "version": 3
   },
   "file_extension": ".py",
   "mimetype": "text/x-python",
   "name": "python",
   "nbconvert_exporter": "python",
   "pygments_lexer": "ipython3",
   "version": "3.6.4"
  }
 },
 "nbformat": 4,
 "nbformat_minor": 2
}
