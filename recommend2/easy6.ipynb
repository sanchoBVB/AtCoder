{
 "cells": [
  {
   "cell_type": "code",
   "execution_count": 1,
   "metadata": {},
   "outputs": [],
   "source": [
    "#Candy Distribution Again"
   ]
  },
  {
   "cell_type": "code",
   "execution_count": 8,
   "metadata": {},
   "outputs": [
    {
     "name": "stdout",
     "output_type": "stream",
     "text": [
      "2 10\n",
      "20 20\n",
      "0\n"
     ]
    }
   ],
   "source": [
    "N, x = map(int, input().split())\n",
    "A = list(map(int, input().split()))\n",
    "A.sort()\n",
    "\n",
    "ans = 0\n",
    "for n in range(N-1):\n",
    "    if A[n]<=x:\n",
    "        ans += 1\n",
    "        x -= A[n]\n",
    "    else:\n",
    "        break\n",
    "        \n",
    "if A[-1]==x:\n",
    "    ans += 1\n",
    "    \n",
    "print(ans)"
   ]
  },
  {
   "cell_type": "code",
   "execution_count": 9,
   "metadata": {},
   "outputs": [],
   "source": [
    "#Not Found"
   ]
  },
  {
   "cell_type": "code",
   "execution_count": 15,
   "metadata": {},
   "outputs": [
    {
     "name": "stdout",
     "output_type": "stream",
     "text": [
      "fajsonlslfepbjtsaayxbymeskptcumtwrmkkinjxnnucagfrg\n",
      "d\n"
     ]
    }
   ],
   "source": [
    "S = list(set(list(input())))\n",
    "S.sort()\n",
    "T = list(\"abcdefghijklmnopqrstuvwxyz\")\n",
    "\n",
    "ans = \"None\"\n",
    "while T:\n",
    "    if len(S) == 0:\n",
    "        ans = T[0]\n",
    "        break\n",
    "        \n",
    "    if S[0]==T[0]:\n",
    "        del S[0]\n",
    "        del T[0]\n",
    "    else:\n",
    "        ans = T[0]\n",
    "        break\n",
    "        \n",
    "print(ans)"
   ]
  },
  {
   "cell_type": "code",
   "execution_count": 1,
   "metadata": {},
   "outputs": [],
   "source": [
    "#1-SAT"
   ]
  },
  {
   "cell_type": "code",
   "execution_count": 10,
   "metadata": {},
   "outputs": [
    {
     "name": "stdout",
     "output_type": "stream",
     "text": [
      "3\n",
      "a\n",
      "!a\n",
      "a\n",
      "a\n"
     ]
    }
   ],
   "source": [
    "N = int(input())\n",
    "cnt = set()\n",
    "ans = \"satisfiable\"\n",
    "for _ in range(N):\n",
    "    s = input()\n",
    "    if s[0]==\"!\":\n",
    "        if s[1:] in cnt:\n",
    "            ans = s[1:]\n",
    "    else:\n",
    "        if \"!\"+s in cnt:\n",
    "            ans = s\n",
    "    cnt.add(s)\n",
    "    \n",
    "print(ans)"
   ]
  },
  {
   "cell_type": "code",
   "execution_count": 11,
   "metadata": {},
   "outputs": [],
   "source": [
    "#Fairness"
   ]
  },
  {
   "cell_type": "code",
   "execution_count": 12,
   "metadata": {},
   "outputs": [
    {
     "name": "stdout",
     "output_type": "stream",
     "text": [
      "1000000000 1000000000 1000000000 1000000000000000000\n",
      "0\n"
     ]
    }
   ],
   "source": [
    "A, B, C, K = map(int, input().split())\n",
    "\n",
    "if K%2==0:\n",
    "    print(A-B)\n",
    "else:\n",
    "    print(B-A)"
   ]
  },
  {
   "cell_type": "code",
   "execution_count": 13,
   "metadata": {},
   "outputs": [],
   "source": [
    "#Palace"
   ]
  },
  {
   "cell_type": "code",
   "execution_count": 15,
   "metadata": {},
   "outputs": [
    {
     "name": "stdout",
     "output_type": "stream",
     "text": [
      "3\n",
      "21 -11\n",
      "81234 94124 52141\n",
      "3\n"
     ]
    }
   ],
   "source": [
    "N = int(input())\n",
    "T, A = map(int, input().split())\n",
    "H = list(map(int, input().split()))\n",
    "\n",
    "cnt = [0]*N\n",
    "for n in range(N):\n",
    "    cnt[n] = abs((T-(H[n]*0.006))-A)\n",
    "    \n",
    "print(cnt.index(min(cnt))+1)"
   ]
  },
  {
   "cell_type": "code",
   "execution_count": 16,
   "metadata": {},
   "outputs": [],
   "source": [
    "#Prison"
   ]
  },
  {
   "cell_type": "code",
   "execution_count": 19,
   "metadata": {},
   "outputs": [
    {
     "name": "stdout",
     "output_type": "stream",
     "text": [
      "100000 1\n",
      "1 100000\n",
      "100000\n"
     ]
    }
   ],
   "source": [
    "N, M = map(int, input().split())\n",
    "L, R = map(int, input().split())\n",
    "cnt = True\n",
    "for _ in range(M-1):\n",
    "    l, r = map(int, input().split())\n",
    "    if l <= R and r >= L:\n",
    "        L, R = max(L, l), min(R, r)\n",
    "    else:\n",
    "        cnt = False\n",
    "        \n",
    "if cnt:\n",
    "    print(R-L+1)\n",
    "else:\n",
    "    print(0)"
   ]
  },
  {
   "cell_type": "code",
   "execution_count": 1,
   "metadata": {},
   "outputs": [],
   "source": [
    "#Doubled"
   ]
  },
  {
   "cell_type": "code",
   "execution_count": 5,
   "metadata": {},
   "outputs": [
    {
     "name": "stdout",
     "output_type": "stream",
     "text": [
      "10000000\n",
      "999\n"
     ]
    }
   ],
   "source": [
    "N = int(input())\n",
    "\n",
    "ans = 0\n",
    "for i in range(1, 10**6+1):\n",
    "    i = int(str(i)*2)\n",
    "    if i <= N:\n",
    "        ans += 1\n",
    "        \n",
    "print(ans)"
   ]
  },
  {
   "cell_type": "code",
   "execution_count": 6,
   "metadata": {},
   "outputs": [],
   "source": [
    "#Exponential"
   ]
  },
  {
   "cell_type": "code",
   "execution_count": 11,
   "metadata": {},
   "outputs": [
    {
     "name": "stdout",
     "output_type": "stream",
     "text": [
      "10\n",
      "9\n"
     ]
    }
   ],
   "source": [
    "X = int(input())\n",
    "\n",
    "ans = 0\n",
    "for b in range(1, 1001):\n",
    "    for p in range(2, 10):\n",
    "        if b**p <= X:\n",
    "            ans = max(ans, b**p)\n",
    "            \n",
    "print(ans)"
   ]
  },
  {
   "cell_type": "code",
   "execution_count": 12,
   "metadata": {},
   "outputs": [],
   "source": [
    "#100 to 105"
   ]
  },
  {
   "cell_type": "code",
   "execution_count": 37,
   "metadata": {},
   "outputs": [
    {
     "name": "stdout",
     "output_type": "stream",
     "text": [
      "615\n",
      "1\n"
     ]
    }
   ],
   "source": [
    "X = int(input())\n",
    "\n",
    "ans = 0\n",
    "for c in range(1, (X//100)+1):\n",
    "    for n in range(100*c, (105*c)+1):\n",
    "        if n == X:\n",
    "            ans = 1\n",
    "            break\n",
    "            \n",
    "print(ans)"
   ]
  },
  {
   "cell_type": "code",
   "execution_count": 38,
   "metadata": {},
   "outputs": [],
   "source": [
    "#たてなが"
   ]
  },
  {
   "cell_type": "code",
   "execution_count": 40,
   "metadata": {},
   "outputs": [
    {
     "name": "stdout",
     "output_type": "stream",
     "text": [
      "1 4\n",
      "###.\n",
      "###.\n",
      "###.\n"
     ]
    }
   ],
   "source": [
    "H, W = map(int, input().split())\n",
    "ans = []\n",
    "for _ in range(H):\n",
    "    c = input()\n",
    "    ans.append(c)\n",
    "    ans.append(c)\n",
    "    \n",
    "for a in ans:\n",
    "    print(a)"
   ]
  },
  {
   "cell_type": "code",
   "execution_count": null,
   "metadata": {},
   "outputs": [],
   "source": []
  }
 ],
 "metadata": {
  "kernelspec": {
   "display_name": "Python 3",
   "language": "python",
   "name": "python3"
  },
  "language_info": {
   "codemirror_mode": {
    "name": "ipython",
    "version": 3
   },
   "file_extension": ".py",
   "mimetype": "text/x-python",
   "name": "python",
   "nbconvert_exporter": "python",
   "pygments_lexer": "ipython3",
   "version": "3.6.4"
  }
 },
 "nbformat": 4,
 "nbformat_minor": 2
}
