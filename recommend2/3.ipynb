{
 "cells": [
  {
   "cell_type": "code",
   "execution_count": 1,
   "metadata": {},
   "outputs": [],
   "source": [
    "#AKIBA"
   ]
  },
  {
   "cell_type": "code",
   "execution_count": 27,
   "metadata": {},
   "outputs": [
    {
     "name": "stdout",
     "output_type": "stream",
     "text": [
      "AKIHABR\n",
      "YES\n"
     ]
    }
   ],
   "source": [
    "S = list(input())\n",
    "t = \"AKIHABARA\"\n",
    "\n",
    "if S[0] == \"A\":\n",
    "    cnt = \"\"\n",
    "else:\n",
    "    cnt = \"A\"\n",
    "\n",
    "ans = \"YES\"\n",
    "for s in S:\n",
    "    cnt += s\n",
    "    if cnt not in t:\n",
    "        cnt = list(cnt)\n",
    "        cnt.insert(-1, \"A\")\n",
    "        cnt = \"\".join(cnt)\n",
    "        if cnt not in t:\n",
    "            ans = \"NO\"\n",
    "            break\n",
    "\n",
    "if cnt != \"AKIHABAR\" and cnt != t:\n",
    "    ans = \"NO\"\n",
    "    \n",
    "print(ans)"
   ]
  },
  {
   "cell_type": "code",
   "execution_count": 29,
   "metadata": {},
   "outputs": [],
   "source": [
    "#To Infinity"
   ]
  },
  {
   "cell_type": "code",
   "execution_count": 39,
   "metadata": {},
   "outputs": [
    {
     "name": "stdout",
     "output_type": "stream",
     "text": [
      "13\n",
      "157\n",
      "3\n"
     ]
    }
   ],
   "source": [
    "S = list(input())\n",
    "K = int(input())\n",
    "\n",
    "ans = 1\n",
    "for i in range(len(S)):\n",
    "    if int(S[i]) > 1 and i < K:\n",
    "        ans = int(S[i])\n",
    "        break\n",
    "        \n",
    "print(ans)"
   ]
  },
  {
   "cell_type": "code",
   "execution_count": 40,
   "metadata": {},
   "outputs": [],
   "source": [
    "#><"
   ]
  },
  {
   "cell_type": "code",
   "execution_count": 50,
   "metadata": {},
   "outputs": [
    {
     "name": "stdout",
     "output_type": "stream",
     "text": [
      "<>>><<><<<<<>>><\n",
      "28\n"
     ]
    }
   ],
   "source": [
    "S=input()\n",
    "\n",
    "L1, L2 = [0]*(len(S)+1), [0]*(len(S)+1)\n",
    "for i in range(len(S)):\n",
    "    if S[i]=='<':\n",
    "        L1[i+1]=L1[i]+1\n",
    "    \n",
    "for i in reversed(range(len(S))):\n",
    "    if S[i]=='>':\n",
    "        L2[i]=L2[i+1]+1\n",
    "\n",
    "ans = 0\n",
    "for i in range(len(S)+1):\n",
    "    ans += max(L1[i],L2[i])\n",
    "print(ans)"
   ]
  },
  {
   "cell_type": "code",
   "execution_count": 51,
   "metadata": {},
   "outputs": [],
   "source": [
    "#KEYENCE String"
   ]
  },
  {
   "cell_type": "code",
   "execution_count": 65,
   "metadata": {},
   "outputs": [
    {
     "name": "stdout",
     "output_type": "stream",
     "text": [
      "keyence\n",
      "['k', 'e', 'y', 'e', 'n', 'c', 'e']\n",
      "YES\n"
     ]
    },
    {
     "ename": "SystemExit",
     "evalue": "0",
     "output_type": "error",
     "traceback": [
      "An exception has occurred, use %tb to see the full traceback.\n",
      "\u001b[0;31mSystemExit\u001b[0m\u001b[0;31m:\u001b[0m 0\n"
     ]
    },
    {
     "name": "stderr",
     "output_type": "stream",
     "text": [
      "/Users/miuratakuto/.pyenv/versions/anaconda3-5.1.0/lib/python3.6/site-packages/IPython/core/interactiveshell.py:2918: UserWarning: To exit: use 'exit', 'quit', or Ctrl-D.\n",
      "  warn(\"To exit: use 'exit', 'quit', or Ctrl-D.\", stacklevel=1)\n"
     ]
    }
   ],
   "source": [
    "import copy\n",
    "import sys\n",
    "S = list(input())\n",
    "k = \"keyence\"\n",
    "\n",
    "for i in range(len(S)-1):\n",
    "    for j in range(i, len(S)):\n",
    "        cnt = S.copy()\n",
    "        del cnt[i:j]\n",
    "        if \"\".join(cnt) == k:\n",
    "            print(\"YES\")\n",
    "            sys.exit(0)\n",
    "            \n",
    "print(\"NO\")"
   ]
  },
  {
   "cell_type": "code",
   "execution_count": 66,
   "metadata": {},
   "outputs": [],
   "source": [
    "#Grid Compression"
   ]
  },
  {
   "cell_type": "code",
   "execution_count": 16,
   "metadata": {},
   "outputs": [
    {
     "name": "stdout",
     "output_type": "stream",
     "text": [
      "7 6\n",
      "......\n",
      "....#.\n",
      ".#....\n",
      "..#...\n",
      "..#...\n",
      "......\n",
      ".#..#.\n",
      "..#\n",
      "#..\n",
      ".#.\n",
      ".#.\n",
      "#.#\n"
     ]
    }
   ],
   "source": [
    "H, W = map(int, input().split())\n",
    "A = []\n",
    "for _ in range(H):\n",
    "    a = list(input())\n",
    "    if \"#\" in a:\n",
    "        A.append(a)\n",
    "\n",
    "H = len(A)\n",
    "ans = []\n",
    "for w in range(W):\n",
    "    cnt = \"\"\n",
    "    for h in range(H):\n",
    "        cnt += A[h][w]\n",
    "    if \".\"*H == cnt:\n",
    "        ans.append(w)\n",
    "\n",
    "for an in A:\n",
    "    answer = \"\"\n",
    "    for d in range(len(an)):\n",
    "        if d in ans:\n",
    "            continue\n",
    "        else:\n",
    "            answer += an[d]\n",
    "    print(answer)"
   ]
  },
  {
   "cell_type": "code",
   "execution_count": 17,
   "metadata": {},
   "outputs": [],
   "source": [
    "#Bugged"
   ]
  },
  {
   "cell_type": "code",
   "execution_count": 23,
   "metadata": {},
   "outputs": [
    {
     "name": "stdout",
     "output_type": "stream",
     "text": [
      "4\n",
      "10\n",
      "20\n",
      "35\n",
      "45\n",
      "75\n"
     ]
    }
   ],
   "source": [
    "N = int(input())\n",
    "S = []\n",
    "for _ in range(N):\n",
    "    S.append(int(input()))\n",
    "S.sort()\n",
    "ans = sum(S)\n",
    "\n",
    "cnt = 0\n",
    "for n in range(N):\n",
    "    if S[n] % 10 != 0:\n",
    "        cnt = S[n]\n",
    "        break\n",
    "        \n",
    "if ans % 10 == 0:\n",
    "    if cnt == 0:\n",
    "        print(0)\n",
    "    else:\n",
    "        print(ans-cnt)\n",
    "else:\n",
    "    print(ans)"
   ]
  },
  {
   "cell_type": "code",
   "execution_count": 1,
   "metadata": {},
   "outputs": [],
   "source": [
    "#Ice Tea Store"
   ]
  },
  {
   "cell_type": "code",
   "execution_count": 17,
   "metadata": {},
   "outputs": [
    {
     "name": "stdout",
     "output_type": "stream",
     "text": [
      "1 1 1 1\n",
      "1\n",
      "1\n"
     ]
    }
   ],
   "source": [
    "Q, H, S, D = map(int, input().split())\n",
    "N = int(input())\n",
    "L1 = min(Q*4, H*2, S)\n",
    "L2 = min(L1*2, D)\n",
    "print((L2*(N//2))+(L1*(N%2)))"
   ]
  },
  {
   "cell_type": "code",
   "execution_count": 18,
   "metadata": {},
   "outputs": [],
   "source": [
    "#Sentou"
   ]
  },
  {
   "cell_type": "code",
   "execution_count": 32,
   "metadata": {},
   "outputs": [
    {
     "name": "stdout",
     "output_type": "stream",
     "text": [
      "2 4\n",
      "0 3\n",
      "7\n"
     ]
    }
   ],
   "source": [
    "N, T = map(int, input().split())\n",
    "L = list(map(int, input().split()))\n",
    "\n",
    "ans = 0\n",
    "for n in range(1, N):\n",
    "    if L[n]-L[n-1] <= T:\n",
    "        ans += L[n]-L[n-1]\n",
    "    else:\n",
    "        ans += T\n",
    "    \n",
    "print(ans+T)"
   ]
  },
  {
   "cell_type": "code",
   "execution_count": 1,
   "metadata": {},
   "outputs": [],
   "source": [
    "#バイナリハックイージー"
   ]
  },
  {
   "cell_type": "code",
   "execution_count": 4,
   "metadata": {},
   "outputs": [
    {
     "name": "stdout",
     "output_type": "stream",
     "text": [
      "0BB1\n",
      "1\n"
     ]
    }
   ],
   "source": [
    "S = list(input())\n",
    "\n",
    "ans = []\n",
    "for s in S:\n",
    "    if s==\"B\":\n",
    "        if len(ans)!=0:\n",
    "            del ans[-1]\n",
    "    else:\n",
    "        ans.append(s)\n",
    "        \n",
    "print(\"\".join(ans))"
   ]
  },
  {
   "cell_type": "code",
   "execution_count": 5,
   "metadata": {},
   "outputs": [],
   "source": [
    "#Flip,Flip, and Flip......"
   ]
  },
  {
   "cell_type": "code",
   "execution_count": 7,
   "metadata": {},
   "outputs": [
    {
     "name": "stdout",
     "output_type": "stream",
     "text": [
      "314 1592\n",
      "496080\n"
     ]
    }
   ],
   "source": [
    "N, M = map(int, input().split())\n",
    "\n",
    "if N==2 or M==2:\n",
    "    print(0)\n",
    "elif N==1:\n",
    "    if M==1:\n",
    "        print(1)\n",
    "    else:\n",
    "        print(M-2)\n",
    "elif M==1:\n",
    "    if N==1:\n",
    "        print(1)\n",
    "    else:\n",
    "        print(N-2)\n",
    "else:\n",
    "    print((N-2)*(M-2))"
   ]
  },
  {
   "cell_type": "code",
   "execution_count": null,
   "metadata": {},
   "outputs": [],
   "source": []
  }
 ],
 "metadata": {
  "kernelspec": {
   "display_name": "Python 3",
   "language": "python",
   "name": "python3"
  },
  "language_info": {
   "codemirror_mode": {
    "name": "ipython",
    "version": 3
   },
   "file_extension": ".py",
   "mimetype": "text/x-python",
   "name": "python",
   "nbconvert_exporter": "python",
   "pygments_lexer": "ipython3",
   "version": "3.6.4"
  }
 },
 "nbformat": 4,
 "nbformat_minor": 2
}
