{
 "cells": [
  {
   "cell_type": "code",
   "execution_count": 1,
   "metadata": {},
   "outputs": [],
   "source": [
    "#Prefix and Suffix"
   ]
  },
  {
   "cell_type": "code",
   "execution_count": 5,
   "metadata": {},
   "outputs": [
    {
     "name": "stdout",
     "output_type": "stream",
     "text": [
      "1\n",
      "a\n",
      "z\n",
      "2\n"
     ]
    }
   ],
   "source": [
    "N = int(input())\n",
    "s = list(input())\n",
    "t = list(input())\n",
    "\n",
    "while len(s) != 0 and len(t) != 0:\n",
    "    if s==t:\n",
    "        break\n",
    "    else:\n",
    "        N += 1\n",
    "        del s[0]\n",
    "        del t[-1]\n",
    "        \n",
    "print(N)"
   ]
  },
  {
   "cell_type": "code",
   "execution_count": 6,
   "metadata": {},
   "outputs": [],
   "source": [
    "#Connection and Disconnection"
   ]
  },
  {
   "cell_type": "code",
   "execution_count": 21,
   "metadata": {},
   "outputs": [
    {
     "name": "stdout",
     "output_type": "stream",
     "text": [
      "aa\n",
      "3\n",
      "3\n"
     ]
    }
   ],
   "source": [
    "S = list(input())\n",
    "K = int(input())\n",
    "\n",
    "t = S+S\n",
    "cnt = 0\n",
    "for i in range(1, len(t)):\n",
    "    if t[i-1]==t[i]:\n",
    "        t[i] = \"A\"\n",
    "        cnt += 1\n",
    "        \n",
    "if K%2==0:\n",
    "    print(cnt*(K//2))\n",
    "else:\n",
    "    print((cnt*((K-1)//2))+(cnt//2))"
   ]
  },
  {
   "cell_type": "code",
   "execution_count": null,
   "metadata": {},
   "outputs": [],
   "source": []
  }
 ],
 "metadata": {
  "kernelspec": {
   "display_name": "Python 3",
   "language": "python",
   "name": "python3"
  },
  "language_info": {
   "codemirror_mode": {
    "name": "ipython",
    "version": 3
   },
   "file_extension": ".py",
   "mimetype": "text/x-python",
   "name": "python",
   "nbconvert_exporter": "python",
   "pygments_lexer": "ipython3",
   "version": "3.6.4"
  }
 },
 "nbformat": 4,
 "nbformat_minor": 2
}
