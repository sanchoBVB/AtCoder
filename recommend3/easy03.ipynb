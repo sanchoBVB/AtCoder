{
 "cells": [
  {
   "cell_type": "code",
   "execution_count": 1,
   "metadata": {},
   "outputs": [],
   "source": [
    "#Travel"
   ]
  },
  {
   "cell_type": "code",
   "execution_count": 9,
   "metadata": {},
   "outputs": [
    {
     "name": "stdout",
     "output_type": "stream",
     "text": [
      "4 330\n",
      "0 1 10 100\n",
      "1 0 20 200\n",
      "10 20 0 300\n",
      "100 200 300 0\n",
      "2\n"
     ]
    }
   ],
   "source": [
    "import itertools\n",
    "N, K = map(int, input().split())\n",
    "T = []\n",
    "for _ in range(N):\n",
    "    T.append(list(map(int, input().split())))\n",
    "\n",
    "ans = 0\n",
    "for root in itertools.permutations(list(range(2, N+1))):\n",
    "    root = list(root)\n",
    "    root.insert(0, 1)\n",
    "    root.append(1)\n",
    "    cnt = 0\n",
    "    for r in range(1, len(root)):\n",
    "        cnt += T[root[r-1]-1][root[r]-1]\n",
    "    if cnt==K:\n",
    "        ans += 1\n",
    "        \n",
    "print(ans)"
   ]
  },
  {
   "cell_type": "code",
   "execution_count": 10,
   "metadata": {},
   "outputs": [],
   "source": [
    "#Train Ticket"
   ]
  },
  {
   "cell_type": "code",
   "execution_count": 4,
   "metadata": {},
   "outputs": [
    {
     "name": "stdout",
     "output_type": "stream",
     "text": [
      "3242\n",
      "3+2+4-2=7\n"
     ]
    },
    {
     "ename": "SystemExit",
     "evalue": "0",
     "output_type": "error",
     "traceback": [
      "An exception has occurred, use %tb to see the full traceback.\n",
      "\u001b[0;31mSystemExit\u001b[0m\u001b[0;31m:\u001b[0m 0\n"
     ]
    },
    {
     "name": "stderr",
     "output_type": "stream",
     "text": [
      "/Users/miuratakuto/.pyenv/versions/anaconda3-5.1.0/lib/python3.6/site-packages/IPython/core/interactiveshell.py:2918: UserWarning: To exit: use 'exit', 'quit', or Ctrl-D.\n",
      "  warn(\"To exit: use 'exit', 'quit', or Ctrl-D.\", stacklevel=1)\n"
     ]
    }
   ],
   "source": [
    "import sys\n",
    "n = list(map(int, list(input())))\n",
    "\n",
    "ans = []\n",
    "for x in [\"+\", \"-\"]:\n",
    "    if x==\"+\":\n",
    "        cnt1 = n[0]+n[1]\n",
    "    else:\n",
    "        cnt1 = n[0]-n[1]\n",
    "    for y in [\"+\", \"-\"]:\n",
    "        cnt2 = cnt1\n",
    "        if y==\"+\":\n",
    "            cnt2 += n[2]\n",
    "        else:\n",
    "            cnt2 -= n[2]\n",
    "        for z in [\"+\", \"-\"]:\n",
    "            cnt3 = cnt2\n",
    "            if z==\"+\":\n",
    "                cnt3 += n[3]\n",
    "            else:\n",
    "                cnt3 -= n[3]\n",
    "            if cnt3==7:\n",
    "                print(str(n[0])+x+str(n[1])+y+str(n[2])+z+str(n[3])+\"=7\")\n",
    "                sys.exit(0)"
   ]
  },
  {
   "cell_type": "code",
   "execution_count": 5,
   "metadata": {},
   "outputs": [],
   "source": [
    "#Average Length"
   ]
  },
  {
   "cell_type": "code",
   "execution_count": 15,
   "metadata": {},
   "outputs": [
    {
     "name": "stdout",
     "output_type": "stream",
     "text": [
      "2\n",
      "-879 981\n",
      "-866 890\n",
      "91.92388155425118156927055679\n"
     ]
    }
   ],
   "source": [
    "import itertools\n",
    "from decimal import Decimal\n",
    "N = int(input())\n",
    "xy = []\n",
    "for _ in range(N):\n",
    "    xy.append(list(map(float, input().split())))\n",
    "    \n",
    "cnt = []\n",
    "for root  in itertools.permutations(list(range(N))):\n",
    "    c = float(0)\n",
    "    for r in range(1, len(root)):\n",
    "        i, j = xy[root[r-1]], xy[root[r]]\n",
    "        c += (float((i[0]-j[0])**2)+float((i[1]-j[1])**2))**float(0.5)\n",
    "    cnt.append(c)\n",
    "    \n",
    "print(Decimal(sum(cnt))/Decimal(len(cnt)))"
   ]
  },
  {
   "cell_type": "code",
   "execution_count": 1,
   "metadata": {},
   "outputs": [],
   "source": [
    "#Max GCD 2"
   ]
  },
  {
   "cell_type": "code",
   "execution_count": 17,
   "metadata": {},
   "outputs": [
    {
     "name": "stdout",
     "output_type": "stream",
     "text": [
      "101 139\n",
      "34\n"
     ]
    }
   ],
   "source": [
    "A, B = map(int, input().split())\n",
    "\n",
    "ans = 0\n",
    "for c in range(1, (2*(10**5))+1):\n",
    "    b = B//c\n",
    "    a = (A-1)//c\n",
    "    if b-a>=2:\n",
    "        ans = max(ans, c)\n",
    "        \n",
    "print(ans)"
   ]
  },
  {
   "cell_type": "code",
   "execution_count": 1,
   "metadata": {},
   "outputs": [],
   "source": [
    "#Guidebook"
   ]
  },
  {
   "cell_type": "code",
   "execution_count": 8,
   "metadata": {},
   "outputs": [
    {
     "name": "stdout",
     "output_type": "stream",
     "text": [
      "6\n",
      "khabarovsk 20\n",
      "moscow 10\n",
      "kazan 50\n",
      "kazan 35\n",
      "moscow 60\n",
      "khabarovsk 40\n",
      "2\n",
      "3\n",
      "5\n",
      "0\n",
      "4\n",
      "1\n"
     ]
    }
   ],
   "source": [
    "N = int(input())\n",
    "SP = []\n",
    "for _ in range(N):\n",
    "    s, p = input().split()\n",
    "    SP.append([s, int(p)])\n",
    "    \n",
    "qa = sorted(SP, key=lambda x: (x[0], x[1]))\n",
    "\n",
    "cnt = [SP.index(qa[0])]\n",
    "for n in range(1, N):\n",
    "    if qa[n-1][0] == qa[n][0]:\n",
    "        cnt.insert(0, SP.index(qa[n]))\n",
    "    else:\n",
    "        for c1 in cnt:\n",
    "            print(c1+1)\n",
    "        cnt.clear()\n",
    "        cnt.append(SP.index(qa[n]))\n",
    "        \n",
    "for c2 in cnt:\n",
    "    print(c2+1)"
   ]
  },
  {
   "cell_type": "code",
   "execution_count": 9,
   "metadata": {},
   "outputs": [],
   "source": [
    "#Increasing Triples"
   ]
  },
  {
   "cell_type": "code",
   "execution_count": 11,
   "metadata": {},
   "outputs": [
    {
     "name": "stdout",
     "output_type": "stream",
     "text": [
      "5\n",
      "9 6 14 1 8\n",
      "2 10 3 12 11\n",
      "15 13 5 7 4\n",
      "3\n"
     ]
    }
   ],
   "source": [
    "N = int(input())\n",
    "A = list(map(int,input().split()))\n",
    "B = list(map(int,input().split()))\n",
    "C = list(map(int,input().split()))\n",
    "\n",
    "A.sort()\n",
    "B.sort()\n",
    "C.sort()\n",
    "\n",
    "cnt=0\n",
    "i,j,k=0,0,0\n",
    "while i<N and j<N and k<N:\n",
    "    if A[i]<B[j]:\n",
    "        if B[j]<C[k]:\n",
    "            i += 1\n",
    "            j += 1\n",
    "            k += 1\n",
    "            cnt += 1\n",
    "        else:\n",
    "            k += 1\n",
    "    else:\n",
    "        j+=1\n",
    "        \n",
    "print(cnt)"
   ]
  },
  {
   "cell_type": "code",
   "execution_count": 1,
   "metadata": {},
   "outputs": [],
   "source": [
    "#Made Up"
   ]
  },
  {
   "cell_type": "code",
   "execution_count": 19,
   "metadata": {},
   "outputs": [
    {
     "name": "stdout",
     "output_type": "stream",
     "text": [
      "4\n",
      "1 1 1 1\n",
      "1 1 1 1\n",
      "1 2 3 4\n",
      "4\n"
     ]
    }
   ],
   "source": [
    "N = int(input())\n",
    "A = list(map(int, input().split()))\n",
    "B = list(map(int, input().split()))\n",
    "C = list(map(int, input().split()))\n",
    "\n",
    "c = [0]*N\n",
    "for i in C:\n",
    "    c[i-1] += 1\n",
    "\n",
    "b = {}\n",
    "for n in range(N):\n",
    "    b[n+1] = 0\n",
    "    \n",
    "for n in range(N):\n",
    "    b[B[n]] += c[n]\n",
    "    \n",
    "cnt = 0\n",
    "for a in A:\n",
    "    cnt += b[a]\n",
    "    \n",
    "print(cnt)"
   ]
  },
  {
   "cell_type": "code",
   "execution_count": 20,
   "metadata": {},
   "outputs": [
    {
     "data": {
      "text/plain": [
       "([1, 1, 1, 1], {1: 1, 2: 0, 3: 0, 4: 0})"
      ]
     },
     "execution_count": 20,
     "metadata": {},
     "output_type": "execute_result"
    }
   ],
   "source": [
    "c, b"
   ]
  },
  {
   "cell_type": "code",
   "execution_count": null,
   "metadata": {},
   "outputs": [],
   "source": []
  }
 ],
 "metadata": {
  "kernelspec": {
   "display_name": "Python 3",
   "language": "python",
   "name": "python3"
  },
  "language_info": {
   "codemirror_mode": {
    "name": "ipython",
    "version": 3
   },
   "file_extension": ".py",
   "mimetype": "text/x-python",
   "name": "python",
   "nbconvert_exporter": "python",
   "pygments_lexer": "ipython3",
   "version": "3.6.4"
  }
 },
 "nbformat": 4,
 "nbformat_minor": 2
}
