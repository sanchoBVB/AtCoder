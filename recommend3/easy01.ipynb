{
 "cells": [
  {
   "cell_type": "code",
   "execution_count": 1,
   "metadata": {},
   "outputs": [],
   "source": [
    "#Table Tennis Training"
   ]
  },
  {
   "cell_type": "code",
   "execution_count": 8,
   "metadata": {},
   "outputs": [
    {
     "name": "stdout",
     "output_type": "stream",
     "text": [
      "5 1 4\n",
      "2\n"
     ]
    }
   ],
   "source": [
    "N, A, B = map(int, input().split())\n",
    "\n",
    "cnt = B-A\n",
    "if cnt%2==0:\n",
    "    print(cnt//2)\n",
    "else:\n",
    "    cnt //= 2\n",
    "    cnt += min(A-1, N-B)+1\n",
    "    print(cnt)"
   ]
  },
  {
   "cell_type": "code",
   "execution_count": 9,
   "metadata": {},
   "outputs": [],
   "source": [
    "#Takahashikun, The Strider"
   ]
  },
  {
   "cell_type": "code",
   "execution_count": 13,
   "metadata": {},
   "outputs": [
    {
     "name": "stdout",
     "output_type": "stream",
     "text": [
      "179\n",
      "360\n"
     ]
    }
   ],
   "source": [
    "X = int(input())\n",
    "\n",
    "for i in range(1, 10**5):\n",
    "    if (360*i)%X==0:\n",
    "        print((360*i)//X)\n",
    "        break"
   ]
  },
  {
   "cell_type": "code",
   "execution_count": 14,
   "metadata": {},
   "outputs": [],
   "source": [
    "#Collinearity"
   ]
  },
  {
   "cell_type": "code",
   "execution_count": 20,
   "metadata": {},
   "outputs": [
    {
     "name": "stdout",
     "output_type": "stream",
     "text": [
      "4\n",
      "0 1\n",
      "0 2\n",
      "0 3\n",
      "1 3\n",
      "Yes\n"
     ]
    },
    {
     "ename": "SystemExit",
     "evalue": "0",
     "output_type": "error",
     "traceback": [
      "An exception has occurred, use %tb to see the full traceback.\n",
      "\u001b[0;31mSystemExit\u001b[0m\u001b[0;31m:\u001b[0m 0\n"
     ]
    },
    {
     "name": "stderr",
     "output_type": "stream",
     "text": [
      "/Users/miuratakuto/.pyenv/versions/anaconda3-5.1.0/lib/python3.6/site-packages/IPython/core/interactiveshell.py:2918: UserWarning: To exit: use 'exit', 'quit', or Ctrl-D.\n",
      "  warn(\"To exit: use 'exit', 'quit', or Ctrl-D.\", stacklevel=1)\n"
     ]
    }
   ],
   "source": [
    "import sys\n",
    "N = int(input())\n",
    "xy = []\n",
    "for _ in range(N):\n",
    "    xy.append(list(map(int, input().split())))\n",
    "    \n",
    "for i in range(N-2):\n",
    "    x1, y1 = xy[i][0], xy[i][1]\n",
    "    for j in range(i+1, N-1):\n",
    "        x2, y2 = xy[j][0], xy[j][1]\n",
    "        for k in range(j+1, N):\n",
    "            x3, y3 = xy[k][0], xy[k][1]\n",
    "            if (y2-y1)*(x3-x1) == (x2-x1)*(y3-y1):\n",
    "                print(\"Yes\")\n",
    "                sys.exit(0)\n",
    "                \n",
    "print(\"No\")"
   ]
  },
  {
   "cell_type": "code",
   "execution_count": 1,
   "metadata": {},
   "outputs": [],
   "source": [
    "#Alcoholic"
   ]
  },
  {
   "cell_type": "code",
   "execution_count": 2,
   "metadata": {},
   "outputs": [
    {
     "name": "stdout",
     "output_type": "stream",
     "text": [
      "2 15\n",
      "200 5\n",
      "350 3\n",
      "2\n"
     ]
    }
   ],
   "source": [
    "from decimal import Decimal\n",
    "N, X = map(int, input().split())\n",
    "\n",
    "vp = []\n",
    "for _ in range(N):\n",
    "    vp.append(list(map(int, input().split())))\n",
    "    \n",
    "ans = -1\n",
    "cnt = 0\n",
    "for i in range(N):\n",
    "    v, p = vp[i][0], vp[i][1]\n",
    "    cnt += Decimal(v)*Decimal(p)/Decimal(100)\n",
    "    if cnt > X:\n",
    "        ans = i+1\n",
    "        break\n",
    "        \n",
    "print(ans)"
   ]
  },
  {
   "cell_type": "code",
   "execution_count": 3,
   "metadata": {},
   "outputs": [],
   "source": [
    "#A x B + C"
   ]
  },
  {
   "cell_type": "code",
   "execution_count": 7,
   "metadata": {},
   "outputs": [
    {
     "name": "stdout",
     "output_type": "stream",
     "text": [
      "2\n",
      "1\n"
     ]
    }
   ],
   "source": [
    "N = int(input())\n",
    "\n",
    "cnt = 0\n",
    "for a in range(1, N):\n",
    "    cnt += (N-1)//a\n",
    "    \n",
    "print(cnt)"
   ]
  },
  {
   "cell_type": "code",
   "execution_count": 8,
   "metadata": {},
   "outputs": [],
   "source": [
    "#Not Equal"
   ]
  },
  {
   "cell_type": "code",
   "execution_count": 21,
   "metadata": {},
   "outputs": [
    {
     "name": "stdout",
     "output_type": "stream",
     "text": [
      "10\n",
      "999999917 999999914 999999923 999999985 999999907 999999965 999999914 999999908 999999951 999999979\n",
      "405924645\n"
     ]
    }
   ],
   "source": [
    "N = int(input())\n",
    "C = list(map(int, input().split()))\n",
    "C.sort()\n",
    "\n",
    "cnt = 1\n",
    "for n in range(N):\n",
    "    cnt *= C[n]-n\n",
    "    cnt %= (10**9)+7\n",
    "        \n",
    "print(cnt)"
   ]
  },
  {
   "cell_type": "code",
   "execution_count": 1,
   "metadata": {},
   "outputs": [],
   "source": [
    "#Half and Half"
   ]
  },
  {
   "cell_type": "code",
   "execution_count": 8,
   "metadata": {},
   "outputs": [
    {
     "name": "stdout",
     "output_type": "stream",
     "text": [
      "1500 2000 1600 3 2\n",
      "7900\n"
     ]
    }
   ],
   "source": [
    "A, B, C, X, Y = map(int, input().split())\n",
    "\n",
    "if X>=Y:\n",
    "    a = (C*Y*2)+(A*(X-Y))\n",
    "    b = (A*X)+(B*Y)\n",
    "    c = C*X*2\n",
    "    print(min(a, b, c))\n",
    "else:\n",
    "    a = (C*X*2)+(B*(Y-X))\n",
    "    b = (A*X)+(B*Y)\n",
    "    c = C*Y*2\n",
    "    print(min(a, b, c))"
   ]
  },
  {
   "cell_type": "code",
   "execution_count": 9,
   "metadata": {},
   "outputs": [],
   "source": [
    "#Christmas Eve"
   ]
  },
  {
   "cell_type": "code",
   "execution_count": 18,
   "metadata": {},
   "outputs": [
    {
     "name": "stdout",
     "output_type": "stream",
     "text": [
      "5 3\n",
      "5\n",
      "7\n",
      "5\n",
      "7\n",
      "7\n",
      "0\n"
     ]
    }
   ],
   "source": [
    "N, K = map(int, input().split())\n",
    "H = [int(input()) for _ in range(N)]\n",
    "H.sort()\n",
    "\n",
    "cnt = 10**9\n",
    "for i in range(K-1, N):\n",
    "    cnt = min(cnt, H[i]-H[i-K+1])\n",
    "    \n",
    "print(cnt)"
   ]
  },
  {
   "cell_type": "code",
   "execution_count": 19,
   "metadata": {},
   "outputs": [],
   "source": [
    "#To 3"
   ]
  },
  {
   "cell_type": "code",
   "execution_count": 25,
   "metadata": {},
   "outputs": [
    {
     "name": "stdout",
     "output_type": "stream",
     "text": [
      "6227384\n",
      "1\n"
     ]
    },
    {
     "ename": "SystemExit",
     "evalue": "0",
     "output_type": "error",
     "traceback": [
      "An exception has occurred, use %tb to see the full traceback.\n",
      "\u001b[0;31mSystemExit\u001b[0m\u001b[0;31m:\u001b[0m 0\n"
     ]
    },
    {
     "name": "stderr",
     "output_type": "stream",
     "text": [
      "/Users/miuratakuto/.pyenv/versions/anaconda3-5.1.0/lib/python3.6/site-packages/IPython/core/interactiveshell.py:2918: UserWarning: To exit: use 'exit', 'quit', or Ctrl-D.\n",
      "  warn(\"To exit: use 'exit', 'quit', or Ctrl-D.\", stacklevel=1)\n"
     ]
    }
   ],
   "source": [
    "import sys\n",
    "import itertools\n",
    "N = list(map(int, list(input())))\n",
    "\n",
    "cnt = sum(N)\n",
    "if cnt%3==0:\n",
    "    print(0)\n",
    "    sys.exit(0)\n",
    "\n",
    "i = 1\n",
    "while i<len(N):\n",
    "    for n in itertools.combinations(N, i):\n",
    "        n = sum(list(n))\n",
    "        if (cnt-n)%3==0:\n",
    "            print(i)\n",
    "            sys.exit(0)\n",
    "    i += 1\n",
    "            \n",
    "print(-1)"
   ]
  },
  {
   "cell_type": "code",
   "execution_count": 26,
   "metadata": {},
   "outputs": [],
   "source": [
    "#106"
   ]
  },
  {
   "cell_type": "code",
   "execution_count": 32,
   "metadata": {},
   "outputs": [
    {
     "name": "stdout",
     "output_type": "stream",
     "text": [
      "1\n",
      "-1\n"
     ]
    }
   ],
   "source": [
    "import sys\n",
    "N = int(input())\n",
    "\n",
    "for a in range(1, 100):\n",
    "    for b in range(1, 100):\n",
    "        if (3**a)+(5**b) == N:\n",
    "            print(a, b)\n",
    "            sys.exit(0)\n",
    "            \n",
    "print(-1)"
   ]
  },
  {
   "cell_type": "code",
   "execution_count": null,
   "metadata": {},
   "outputs": [],
   "source": []
  }
 ],
 "metadata": {
  "kernelspec": {
   "display_name": "Python 3",
   "language": "python",
   "name": "python3"
  },
  "language_info": {
   "codemirror_mode": {
    "name": "ipython",
    "version": 3
   },
   "file_extension": ".py",
   "mimetype": "text/x-python",
   "name": "python",
   "nbconvert_exporter": "python",
   "pygments_lexer": "ipython3",
   "version": "3.6.4"
  }
 },
 "nbformat": 4,
 "nbformat_minor": 2
}
