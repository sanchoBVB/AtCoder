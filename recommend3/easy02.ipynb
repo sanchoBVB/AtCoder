{
 "cells": [
  {
   "cell_type": "code",
   "execution_count": 1,
   "metadata": {},
   "outputs": [],
   "source": [
    "#たてなが"
   ]
  },
  {
   "cell_type": "code",
   "execution_count": 2,
   "metadata": {},
   "outputs": [
    {
     "name": "stdout",
     "output_type": "stream",
     "text": [
      "2 2\n",
      "#.\n",
      ".#\n",
      "#.\n",
      "#.\n",
      ".#\n",
      ".#\n"
     ]
    }
   ],
   "source": [
    "H, W = map(int, input().split())\n",
    "\n",
    "cnt = []\n",
    "for _ in range(H):\n",
    "    c = input()\n",
    "    cnt.append(c)\n",
    "    cnt.append(c)\n",
    "    \n",
    "for cn in cnt:\n",
    "    print(cn)"
   ]
  },
  {
   "cell_type": "code",
   "execution_count": 3,
   "metadata": {},
   "outputs": [],
   "source": [
    "#Dividing a String"
   ]
  },
  {
   "cell_type": "code",
   "execution_count": 8,
   "metadata": {},
   "outputs": [
    {
     "name": "stdout",
     "output_type": "stream",
     "text": [
      "aaaccacabaababc\n",
      "12\n"
     ]
    }
   ],
   "source": [
    "from collections import deque\n",
    "S = deque(list(input()))\n",
    "\n",
    "a = S.popleft()\n",
    "cnt = 1\n",
    "while len(S)>1:\n",
    "    if a == S[0]:\n",
    "        a = S.popleft()\n",
    "        a += S.popleft()\n",
    "    else:\n",
    "        a = S.popleft()\n",
    "    cnt += 1\n",
    "    \n",
    "if len(S)==0:\n",
    "    print(cnt)\n",
    "else:\n",
    "    if a == S[0]:\n",
    "        print(cnt)\n",
    "    else:\n",
    "        print(cnt+1)"
   ]
  },
  {
   "cell_type": "code",
   "execution_count": 1,
   "metadata": {},
   "outputs": [],
   "source": [
    "#Peaks"
   ]
  },
  {
   "cell_type": "code",
   "execution_count": 4,
   "metadata": {},
   "outputs": [
    {
     "name": "stdout",
     "output_type": "stream",
     "text": [
      "6 5\n",
      "8 6 9 1 2 1\n",
      "1 3\n",
      "4 2\n",
      "4 3\n",
      "4 6\n",
      "4 6\n",
      "[0, 1, 1, 0, 1, 0]\n"
     ]
    }
   ],
   "source": [
    "N, M = map(int, input().split())\n",
    "H = list(map(int, input().split()))\n",
    "cnt = [1]*N\n",
    "for _ in range(M):\n",
    "    a, b = map(int, input().split())\n",
    "    if H[a-1] > H[b-1]:\n",
    "        cnt[b-1] = 0\n",
    "    elif H[b-1] > H[a-1]:\n",
    "        cnt[a-1] = 0\n",
    "    else:\n",
    "        cnt[a-1], cnt[b-1] = 0, 0\n",
    "        \n",
    "print(sum(cnt))"
   ]
  },
  {
   "cell_type": "code",
   "execution_count": 5,
   "metadata": {},
   "outputs": [],
   "source": [
    "#Comma"
   ]
  },
  {
   "cell_type": "code",
   "execution_count": 7,
   "metadata": {},
   "outputs": [
    {
     "name": "stdout",
     "output_type": "stream",
     "text": [
      "45\n",
      "0\n"
     ]
    }
   ],
   "source": [
    "N = int(input())\n",
    "ans = 0\n",
    "\n",
    "if N>=1000: ans += N-999\n",
    "if N>=1000000: ans += N-999999\n",
    "if N>=1000000000: ans += N-999999999\n",
    "if N>=1000000000000: ans += N-999999999999\n",
    "if N>=1000000000000000: ans += N-999999999999999\n",
    "    \n",
    "print(ans)"
   ]
  },
  {
   "cell_type": "code",
   "execution_count": 8,
   "metadata": {},
   "outputs": [],
   "source": [
    "#美しい文字列"
   ]
  },
  {
   "cell_type": "code",
   "execution_count": 10,
   "metadata": {},
   "outputs": [
    {
     "name": "stdout",
     "output_type": "stream",
     "text": [
      "hthth\n",
      "No\n"
     ]
    }
   ],
   "source": [
    "from collections import Counter\n",
    "w = list(input())\n",
    "\n",
    "cnt = Counter(w)\n",
    "ans = \"Yes\"\n",
    "for v in cnt.values():\n",
    "    if v%2!=0:\n",
    "        ans = \"No\"\n",
    "        break\n",
    "        \n",
    "print(ans)"
   ]
  },
  {
   "cell_type": "code",
   "execution_count": 1,
   "metadata": {},
   "outputs": [],
   "source": [
    "#LR Constraints"
   ]
  },
  {
   "cell_type": "code",
   "execution_count": 14,
   "metadata": {},
   "outputs": [
    {
     "name": "stdout",
     "output_type": "stream",
     "text": [
      "30 10\n",
      "R 6\n",
      "R 8\n",
      "R 7\n",
      "R 25\n",
      "L 26\n",
      "L 13\n",
      "R 14\n",
      "L 11\n",
      "L 23\n",
      "R 30\n",
      "343921442\n"
     ]
    }
   ],
   "source": [
    "N, K = map(int, input().split())\n",
    "ck = []\n",
    "r, l = [], []\n",
    "for w in range(K):\n",
    "    a, b = input().split()\n",
    "    if a==\"L\":\n",
    "        l.append(w+1)\n",
    "    else:\n",
    "        r.append(w+1)\n",
    "    ck.append([a, int(b)])\n",
    "\n",
    "ck = sorted(ck, key=lambda x: (x[0], x[1]))\n",
    "\n",
    "cnt = [K]*N\n",
    "for q in range(len(ck)):\n",
    "    c, k = ck[q][0], ck[q][1]\n",
    "    if c==\"L\":\n",
    "        for e in range(k-1):\n",
    "            cnt[e] -= 1\n",
    "        cnt[k-1] = -1\n",
    "    else:\n",
    "        for f in range(k, N):\n",
    "            cnt[f] -= 1\n",
    "        cnt[k-1] = -1\n",
    "\n",
    "ans = 1\n",
    "for cn in cnt:\n",
    "    if cn > 0:\n",
    "        ans *= cn\n",
    "        \n",
    "print(ans%998244353)"
   ]
  },
  {
   "cell_type": "code",
   "execution_count": 15,
   "metadata": {},
   "outputs": [],
   "source": [
    "#Min Difference"
   ]
  },
  {
   "cell_type": "code",
   "execution_count": 25,
   "metadata": {},
   "outputs": [
    {
     "name": "stdout",
     "output_type": "stream",
     "text": [
      "6 8\n",
      "82 76 82 82 71 70\n",
      "17 39 67 2 45 35 22 24\n",
      "1000000000\n"
     ]
    }
   ],
   "source": [
    "N, M = map(int, input().split())\n",
    "A = list(set(list(map(int, input().split()))))\n",
    "B = list(set(list(map(int, input().split()))))\n",
    "\n",
    "A.sort()\n",
    "B.sort()\n",
    "\n",
    "cnt = 10**9\n",
    "for a in A:\n",
    "    for b in B:\n",
    "        if a>=b:\n",
    "            cnt = min(cnt, abs(a-b))\n",
    "        else:\n",
    "            break\n",
    "    if a<=b:\n",
    "        cnt = min(cnt, abs(a-b))\n",
    "    else:\n",
    "        break\n",
    "        \n",
    "print(cnt)"
   ]
  },
  {
   "cell_type": "code",
   "execution_count": 27,
   "metadata": {},
   "outputs": [
    {
     "name": "stdout",
     "output_type": "stream",
     "text": [
      "1 1\n",
      "10\n",
      "10\n",
      "0\n"
     ]
    }
   ],
   "source": [
    "N, M = map(int, input().split())\n",
    "A = list(map(int, input().split()))\n",
    "B = list(map(int, input().split()))\n",
    "\n",
    "A.sort()\n",
    "B.sort()\n",
    "\n",
    "i = 0\n",
    "j = 0\n",
    "ans = 10**9\n",
    "while i < len(A) and j < len(B):\n",
    "    if A[i] < B[j]:\n",
    "        ans = min(ans, B[j] - A[i])\n",
    "        i += 1\n",
    "    else:\n",
    "        ans = min(ans, A[i] - B[j])\n",
    "        j += 1\n",
    "print(ans)\n"
   ]
  },
  {
   "cell_type": "code",
   "execution_count": 28,
   "metadata": {},
   "outputs": [],
   "source": [
    "#Neo-lexicographic Ordering"
   ]
  },
  {
   "cell_type": "code",
   "execution_count": 33,
   "metadata": {},
   "outputs": [
    {
     "name": "stdout",
     "output_type": "stream",
     "text": [
      "zyxwvutsrqponmlkjihgfedcba\n",
      "5\n",
      "a\n",
      "ab\n",
      "abc\n",
      "ac\n",
      "b\n",
      "b\n",
      "a\n",
      "ac\n",
      "ab\n",
      "abc\n"
     ]
    }
   ],
   "source": [
    "X = list(input())\n",
    "N = int(input())\n",
    "cnt = []\n",
    "for _ in range(N):\n",
    "    S = list(input())\n",
    "    c = []\n",
    "    for s in S:\n",
    "        c.append(X.index(s))\n",
    "    cnt.append(c)\n",
    "    \n",
    "cnt.sort()\n",
    "\n",
    "for cn in cnt:\n",
    "    ans = \"\"\n",
    "    for i in cn:\n",
    "        ans += X[i]\n",
    "    print(ans)"
   ]
  },
  {
   "cell_type": "code",
   "execution_count": 34,
   "metadata": {},
   "outputs": [],
   "source": [
    "#Distribution"
   ]
  },
  {
   "cell_type": "code",
   "execution_count": 39,
   "metadata": {},
   "outputs": [
    {
     "name": "stdout",
     "output_type": "stream",
     "text": [
      "8\n",
      "84 87 78 16 94 36 87 93\n",
      "50 22 63 28 91 60 64 27\n",
      "50\n",
      "22\n",
      "63\n",
      "28\n",
      "91\n",
      "60\n",
      "64\n",
      "27\n"
     ]
    }
   ],
   "source": [
    "N = int(input())\n",
    "S = list(map(int, input().split()))\n",
    "T = list(map(int, input().split()))\n",
    "for i in range(N*2):\n",
    "    T[(i+1)%N] = min(T[(i+1)%N], T[i%N] + S[i%N])\n",
    "for ans in T:\n",
    "    print(ans)"
   ]
  },
  {
   "cell_type": "code",
   "execution_count": null,
   "metadata": {},
   "outputs": [],
   "source": []
  }
 ],
 "metadata": {
  "kernelspec": {
   "display_name": "Python 3",
   "language": "python",
   "name": "python3"
  },
  "language_info": {
   "codemirror_mode": {
    "name": "ipython",
    "version": 3
   },
   "file_extension": ".py",
   "mimetype": "text/x-python",
   "name": "python",
   "nbconvert_exporter": "python",
   "pygments_lexer": "ipython3",
   "version": "3.6.4"
  }
 },
 "nbformat": 4,
 "nbformat_minor": 2
}
