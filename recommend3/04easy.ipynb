{
 "cells": [
  {
   "cell_type": "code",
   "execution_count": 1,
   "metadata": {},
   "outputs": [],
   "source": [
    "#∵∴∵"
   ]
  },
  {
   "cell_type": "code",
   "execution_count": 9,
   "metadata": {},
   "outputs": [
    {
     "name": "stdout",
     "output_type": "stream",
     "text": [
      "atcoderbeginnercontest\n",
      "atcoderregularcontest\n",
      "aattccooddeerrbreeggiunlnaerrccoonntteesstt\n"
     ]
    }
   ],
   "source": [
    "O = list(input())\n",
    "E = list(input())\n",
    "\n",
    "cnt = \"\"\n",
    "while len(O)>0 and len(E)>0:\n",
    "    cnt += O.pop(0)\n",
    "    cnt += E.pop(0)\n",
    "\n",
    "if len(O)>0:\n",
    "    cnt +=O.pop(0)\n",
    "\n",
    "if len(E)>0:\n",
    "    cnt += E.pop(0)\n",
    "    \n",
    "print(cnt)"
   ]
  },
  {
   "cell_type": "code",
   "execution_count": 10,
   "metadata": {},
   "outputs": [],
   "source": [
    "#Triangle?"
   ]
  },
  {
   "cell_type": "code",
   "execution_count": 12,
   "metadata": {},
   "outputs": [
    {
     "name": "stdout",
     "output_type": "stream",
     "text": [
      "4\n",
      "0 1\n",
      "1 3\n",
      "1 1\n",
      "-1 -1\n",
      "3\n"
     ]
    }
   ],
   "source": [
    "import math\n",
    "N = int(input())\n",
    "xy = []\n",
    "for _ in range(N):\n",
    "    xy.append(list(map(int, input().split())))\n",
    "\n",
    "def combinations_count(n, r):\n",
    "    return math.factorial(n) // (math.factorial(n - r) * math.factorial(r))\n",
    "\n",
    "cnt = combinations_count(N, 3)\n",
    "\n",
    "for a in range(N-2):\n",
    "    x1, y1 = xy[a][0], xy[a][1]\n",
    "    for b in range(a+1, N-1):\n",
    "        x2, y2 = xy[b][0], xy[b][1]\n",
    "        for c in range(b+1, N):\n",
    "            x3, y3 = xy[c][0], xy[c][1]\n",
    "            if (y2-y1)*(x3-x1) == (y3-y1)*(x2-x1):\n",
    "                cnt -= 1\n",
    "                \n",
    "print(cnt)"
   ]
  },
  {
   "cell_type": "code",
   "execution_count": 1,
   "metadata": {},
   "outputs": [],
   "source": [
    "#Calendar Validator"
   ]
  },
  {
   "cell_type": "code",
   "execution_count": 15,
   "metadata": {},
   "outputs": [
    {
     "name": "stdout",
     "output_type": "stream",
     "text": [
      "3 3\n",
      "1 2 3\n",
      "8 9 10\n",
      "11 12 13\n",
      "No\n"
     ]
    }
   ],
   "source": [
    "from decimal import Decimal\n",
    "import sys\n",
    "N, M = map(int, input().split())\n",
    "B = []\n",
    "for _ in range(N):\n",
    "    B.append(list(map(int, input().split())))\n",
    "\n",
    "for j in range(1, 8-M+1):\n",
    "    cnt = 0\n",
    "    i = (Decimal(B[0][0]-j)/Decimal(7))+1\n",
    "    for n in range(N):\n",
    "        for m in range(M):\n",
    "            if i+n == (Decimal(B[n][m]-(j+m))/Decimal(7))+1:\n",
    "                cnt += 1\n",
    "    if cnt == N*M:\n",
    "        print(\"Yes\")\n",
    "        sys.exit(0)\n",
    "                \n",
    "print(\"No\")"
   ]
  },
  {
   "cell_type": "code",
   "execution_count": 13,
   "metadata": {},
   "outputs": [
    {
     "data": {
      "text/plain": [
       "9"
      ]
     },
     "execution_count": 13,
     "metadata": {},
     "output_type": "execute_result"
    }
   ],
   "source": [
    "n,m=map(int,input().split())\n",
    "a=[]\n",
    "for i in range(n):\n",
    "  b=list(map(int,input().split()))\n",
    "  a.append(b)\n",
    "\n",
    "q=(a[0][0]-1)//7\n",
    "w=(a[0][0]-1)%7\n",
    "for i in range(n):\n",
    "  for j in range(m):\n",
    "    if a[i][j]!=(q+i)*7+(w+j+1) or w+j>6:\n",
    "      print(\"No\")\n",
    "      exit()\n",
    "print(\"Yes\")"
   ]
  },
  {
   "cell_type": "code",
   "execution_count": 2,
   "metadata": {},
   "outputs": [],
   "source": [
    "#Neq Min"
   ]
  },
  {
   "cell_type": "code",
   "execution_count": 4,
   "metadata": {},
   "outputs": [
    {
     "name": "stdout",
     "output_type": "stream",
     "text": [
      "10\n",
      "5 4 3 2 1 0 7 7 6 6\n",
      "0\n",
      "0\n",
      "0\n",
      "0\n",
      "0\n",
      "6\n",
      "6\n",
      "6\n",
      "8\n",
      "8\n"
     ]
    }
   ],
   "source": [
    "N = int(input())\n",
    "P = list(map(int, input().split()))\n",
    "\n",
    "S = set()\n",
    "x = 0\n",
    "for p in P:\n",
    "    S.add(p)\n",
    "    while x in S:\n",
    "        x += 1\n",
    "    print(x)"
   ]
  },
  {
   "cell_type": "code",
   "execution_count": 5,
   "metadata": {},
   "outputs": [],
   "source": [
    "#Multiplication 2"
   ]
  },
  {
   "cell_type": "code",
   "execution_count": 7,
   "metadata": {},
   "outputs": [
    {
     "name": "stdout",
     "output_type": "stream",
     "text": [
      "31\n",
      "4 1 5 9 2 6 5 3 5 8 9 7 9 3 2 3 8 4 6 2 6 4 3 3 8 3 2 7 9 5 0\n",
      "0\n"
     ]
    }
   ],
   "source": [
    "N = int(input())\n",
    "A = list(map(int, input().split()))\n",
    "\n",
    "A.sort()\n",
    "\n",
    "cnt = 1\n",
    "for a in A:\n",
    "    cnt *= a\n",
    "    if cnt > 10**18:\n",
    "        cnt = -1\n",
    "        break\n",
    "        \n",
    "print(cnt)"
   ]
  },
  {
   "cell_type": "code",
   "execution_count": 8,
   "metadata": {},
   "outputs": [],
   "source": [
    "#Doukasen"
   ]
  },
  {
   "cell_type": "code",
   "execution_count": 44,
   "metadata": {},
   "outputs": [
    {
     "name": "stdout",
     "output_type": "stream",
     "text": [
      "5\n",
      "3 9\n",
      "1 2\n",
      "4 6\n",
      "1 5\n",
      "5 3\n",
      "9.100000000000000000000000006\n"
     ]
    },
    {
     "ename": "SystemExit",
     "evalue": "0",
     "output_type": "error",
     "traceback": [
      "An exception has occurred, use %tb to see the full traceback.\n",
      "\u001b[0;31mSystemExit\u001b[0m\u001b[0;31m:\u001b[0m 0\n"
     ]
    },
    {
     "name": "stderr",
     "output_type": "stream",
     "text": [
      "/Users/miuratakuto/.pyenv/versions/anaconda3-5.1.0/lib/python3.6/site-packages/IPython/core/interactiveshell.py:2918: UserWarning: To exit: use 'exit', 'quit', or Ctrl-D.\n",
      "  warn(\"To exit: use 'exit', 'quit', or Ctrl-D.\", stacklevel=1)\n"
     ]
    }
   ],
   "source": [
    "from decimal import Decimal\n",
    "import sys\n",
    "N = int(input())\n",
    "T = 0\n",
    "AB = []\n",
    "for _ in range(N):\n",
    "    A, B = map(int, input().split())\n",
    "    T += Decimal(A)/Decimal(B)\n",
    "    AB.append([A, B])\n",
    "    \n",
    "T /= Decimal(2)\n",
    "cnt = 0\n",
    "ans = 0\n",
    "for ab in AB:\n",
    "    t = Decimal(ab[0])/Decimal(ab[1])\n",
    "    for _ in range(ab[0]):\n",
    "        if T<= t:\n",
    "            ans += T*ab[1]\n",
    "            print(ans)\n",
    "            sys.exit(0)\n",
    "        else:\n",
    "            T -= Decimal(t)/Decimal(ab[0])\n",
    "            ans += 1\n",
    "            \n",
    "print(ans)"
   ]
  },
  {
   "cell_type": "code",
   "execution_count": 45,
   "metadata": {},
   "outputs": [
    {
     "data": {
      "text/plain": [
       "(Decimal('0.5166666666666666666666666676'),\n",
       " Decimal('0.6666666666666666666666666667'))"
      ]
     },
     "execution_count": 45,
     "metadata": {},
     "output_type": "execute_result"
    }
   ],
   "source": [
    "T, t"
   ]
  },
  {
   "cell_type": "code",
   "execution_count": 43,
   "metadata": {},
   "outputs": [
    {
     "name": "stdout",
     "output_type": "stream",
     "text": [
      "5\n",
      "3 9\n",
      "1 2\n",
      "4 6\n",
      "1 5\n",
      "5 3\n",
      "8.916666666666668\n"
     ]
    }
   ],
   "source": [
    "n=int(input())\n",
    "a=[]\n",
    "b=[]\n",
    "time=0\n",
    "for i in range(n):\n",
    "    a1,b1=map(int,input().split())\n",
    "    a.append(a1)\n",
    "    b.append(b1)\n",
    "    time+=a1/b1/2\n",
    "    \n",
    "x=0\n",
    "l=0\n",
    "while time>a[x]/b[x]:\n",
    "    l+=a[x]\n",
    "    time-=a[x]/b[x]\n",
    "    x+=1\n",
    "\n",
    "l+=b[x]*time\n",
    "print(l)"
   ]
  },
  {
   "cell_type": "code",
   "execution_count": null,
   "metadata": {},
   "outputs": [],
   "source": []
  }
 ],
 "metadata": {
  "kernelspec": {
   "display_name": "Python 3",
   "language": "python",
   "name": "python3"
  },
  "language_info": {
   "codemirror_mode": {
    "name": "ipython",
    "version": 3
   },
   "file_extension": ".py",
   "mimetype": "text/x-python",
   "name": "python",
   "nbconvert_exporter": "python",
   "pygments_lexer": "ipython3",
   "version": "3.6.4"
  }
 },
 "nbformat": 4,
 "nbformat_minor": 2
}
