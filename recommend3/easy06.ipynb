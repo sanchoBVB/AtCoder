{
 "cells": [
  {
   "cell_type": "code",
   "execution_count": 1,
   "metadata": {},
   "outputs": [],
   "source": [
    "#Many Segments"
   ]
  },
  {
   "cell_type": "code",
   "execution_count": 8,
   "metadata": {},
   "outputs": [
    {
     "name": "stdout",
     "output_type": "stream",
     "text": [
      "19\n",
      "4 210068409 221208102\n",
      "4 16698200 910945203\n",
      "4 76268400 259148323\n",
      "4 370943597 566244098\n",
      "1 428897569 509621647\n",
      "4 250946752 823720939\n",
      "1 642505376 868415584\n",
      "2 619091266 868230936\n",
      "2 306543999 654038915\n",
      "4 486033777 715789416\n",
      "1 527225177 583184546\n",
      "2 885292456 900938599\n",
      "3 264004185 486613484\n",
      "2 345310564 818091848\n",
      "1 152544274 521564293\n",
      "4 13819154 555218434\n",
      "3 507364086 545932412\n",
      "4 797872271 935850549\n",
      "2 415488246 685203817\n",
      "69\n"
     ]
    }
   ],
   "source": [
    "N = int(input())\n",
    "lr = []\n",
    "for _ in range(N):\n",
    "    t, l, r = map(int, input().split())\n",
    "    if t==1:\n",
    "        lr.append([l, r])\n",
    "    elif t==2:\n",
    "        lr.append([l, r-0.1])\n",
    "    elif t==3:\n",
    "        lr.append([l+0.1, r])\n",
    "    else:\n",
    "        lr.append([l+0.1, r-0.1])\n",
    "\n",
    "cnt = 0\n",
    "for i in range(N-1):\n",
    "    for j in range(i+1, N):\n",
    "        a, b = lr[i], lr[j]\n",
    "        if a[0]>b[1] or b[0]>a[1]:\n",
    "            cnt += 1\n",
    "            \n",
    "print(((N*(N-1))//2)-cnt)"
   ]
  },
  {
   "cell_type": "code",
   "execution_count": 12,
   "metadata": {},
   "outputs": [],
   "source": [
    "#Compass Walking"
   ]
  },
  {
   "cell_type": "code",
   "execution_count": 15,
   "metadata": {},
   "outputs": [
    {
     "name": "stdout",
     "output_type": "stream",
     "text": [
      "5 15 0\n",
      "15.0\n"
     ]
    }
   ],
   "source": [
    "import math\n",
    "R, X, Y = map(int, input().split())\n",
    "\n",
    "k = math.sqrt((X**2)+(Y**2))\n",
    "if k==R:\n",
    "    print(1)\n",
    "elif k<=2*R:\n",
    "    print(2)\n",
    "else:\n",
    "    print(math.ceil(k/R))"
   ]
  },
  {
   "cell_type": "code",
   "execution_count": 1,
   "metadata": {},
   "outputs": [],
   "source": [
    "#Hydrate"
   ]
  },
  {
   "cell_type": "code",
   "execution_count": 3,
   "metadata": {},
   "outputs": [
    {
     "name": "stdout",
     "output_type": "stream",
     "text": [
      "6 9 2 3\n",
      "-1\n"
     ]
    }
   ],
   "source": [
    "A, B, C, D = map(int, input().split())\n",
    "\n",
    "ans = -1\n",
    "a, c = 0, 0\n",
    "for n in range((10**5)+1):\n",
    "    a = n*B+A\n",
    "    c = n*C\n",
    "    if a<=D*c:\n",
    "        ans = n\n",
    "        break\n",
    "        \n",
    "print(ans)"
   ]
  },
  {
   "cell_type": "code",
   "execution_count": 4,
   "metadata": {},
   "outputs": [],
   "source": [
    "#Long Sequence"
   ]
  },
  {
   "cell_type": "code",
   "execution_count": 8,
   "metadata": {},
   "outputs": [
    {
     "name": "stdout",
     "output_type": "stream",
     "text": [
      "3\n",
      "1 2 3\n",
      "2\n",
      "2\n"
     ]
    },
    {
     "ename": "SystemExit",
     "evalue": "0",
     "output_type": "error",
     "traceback": [
      "An exception has occurred, use %tb to see the full traceback.\n",
      "\u001b[0;31mSystemExit\u001b[0m\u001b[0;31m:\u001b[0m 0\n"
     ]
    },
    {
     "name": "stderr",
     "output_type": "stream",
     "text": [
      "/Users/miuratakuto/.pyenv/versions/anaconda3-5.1.0/lib/python3.6/site-packages/IPython/core/interactiveshell.py:2918: UserWarning: To exit: use 'exit', 'quit', or Ctrl-D.\n",
      "  warn(\"To exit: use 'exit', 'quit', or Ctrl-D.\", stacklevel=1)\n"
     ]
    }
   ],
   "source": [
    "import sys\n",
    "N = int(input())\n",
    "A = list(map(int, input().split()))\n",
    "X = int(input())\n",
    "\n",
    "s = sum(A)\n",
    "if s>X:\n",
    "    cnt = 0\n",
    "    for i in range(N):\n",
    "        cnt += A[i]\n",
    "        if cnt>X:\n",
    "            print(i+1)\n",
    "            sys.exit(0)\n",
    "else:\n",
    "    ans = (X//s)*N\n",
    "    X %= s\n",
    "    cnt = 0\n",
    "    for i in range(N):\n",
    "        cnt += A[i]\n",
    "        if cnt>X:\n",
    "            print(i+1+ans)\n",
    "            sys.exit(0)"
   ]
  },
  {
   "cell_type": "code",
   "execution_count": 1,
   "metadata": {},
   "outputs": [],
   "source": [
    "#Remove Substrings"
   ]
  },
  {
   "cell_type": "code",
   "execution_count": 14,
   "metadata": {},
   "outputs": [
    {
     "name": "stdout",
     "output_type": "stream",
     "text": [
      "4\n",
      "abba\n",
      "2\n"
     ]
    }
   ],
   "source": [
    "import sys\n",
    "N = int(input())\n",
    "S = list(input())\n",
    "\n",
    "if S[0] != S[-1]:\n",
    "    print(1)\n",
    "    sys.exit(0)\n",
    "\n",
    "cnt = []\n",
    "while True:\n",
    "    cnt.append(S[0])\n",
    "    del S[0]\n",
    "    if cnt[0] != cnt[-1] and S[0] != S[-1]:\n",
    "        print(2)\n",
    "        break\n",
    "    if len(S)==0:\n",
    "        print(-1)\n",
    "        break"
   ]
  },
  {
   "cell_type": "code",
   "execution_count": 15,
   "metadata": {},
   "outputs": [],
   "source": [
    "#友好の印"
   ]
  },
  {
   "cell_type": "code",
   "execution_count": 20,
   "metadata": {},
   "outputs": [
    {
     "name": "stdout",
     "output_type": "stream",
     "text": [
      "5 896 483\n",
      "228 59\n",
      "529 310\n",
      "339 60\n",
      "78 266\n",
      "659 391\n",
      "245.3080684596577017114914426\n"
     ]
    }
   ],
   "source": [
    "from decimal import Decimal\n",
    "N, D, H = map(int, input().split())\n",
    "cnt = []\n",
    "for _ in range(N):\n",
    "    d, h = map(int, input().split())\n",
    "    a = Decimal(H-h)/Decimal(D-d)\n",
    "    b = h-(a*d)\n",
    "    cnt.append(b)\n",
    "    \n",
    "if max(cnt)<=0:\n",
    "    print(0)\n",
    "else:\n",
    "    print(max(cnt))"
   ]
  },
  {
   "cell_type": "code",
   "execution_count": 21,
   "metadata": {},
   "outputs": [],
   "source": [
    "#Fair Candy Distribution"
   ]
  },
  {
   "cell_type": "code",
   "execution_count": 44,
   "metadata": {},
   "outputs": [
    {
     "name": "stdout",
     "output_type": "stream",
     "text": [
      "2 7\n",
      "1 8\n",
      "4\n",
      "3\n"
     ]
    }
   ],
   "source": [
    "from copy import copy\n",
    "N, K = map(int, input().split())\n",
    "A = list(map(int, input().split()))\n",
    "cnt = [(K//N)+1]*N\n",
    "K %= N\n",
    "a = A.copy()\n",
    "a.sort(reverse=True)\n",
    "while K<len(a):\n",
    "    cnt[A.index(a[0])] -= 1\n",
    "    del a[0]\n",
    "    \n",
    "for c in cnt:\n",
    "    print(c)"
   ]
  },
  {
   "cell_type": "code",
   "execution_count": 39,
   "metadata": {},
   "outputs": [
    {
     "data": {
      "text/plain": [
       "0"
      ]
     },
     "execution_count": 39,
     "metadata": {},
     "output_type": "execute_result"
    }
   ],
   "source": [
    "# 定数倍の良い実装\n",
    "N, K = map(int,input().split())\n",
    "a = list(map(int,input().split()))\n",
    "\n",
    "order = [(a[i] << 32) + i for i in range(N)]\n",
    "order.sort()\n",
    "\n",
    "answer = [K // N for i in range(N)]\n",
    "for i in range(K % N):\n",
    "  answer[order[i] & ((1 << 32) - 1)] += 1\n",
    "for x in answer:\n",
    "  print(x)"
   ]
  },
  {
   "cell_type": "code",
   "execution_count": null,
   "metadata": {},
   "outputs": [],
   "source": []
  }
 ],
 "metadata": {
  "kernelspec": {
   "display_name": "Python 3",
   "language": "python",
   "name": "python3"
  },
  "language_info": {
   "codemirror_mode": {
    "name": "ipython",
    "version": 3
   },
   "file_extension": ".py",
   "mimetype": "text/x-python",
   "name": "python",
   "nbconvert_exporter": "python",
   "pygments_lexer": "ipython3",
   "version": "3.6.4"
  }
 },
 "nbformat": 4,
 "nbformat_minor": 2
}
