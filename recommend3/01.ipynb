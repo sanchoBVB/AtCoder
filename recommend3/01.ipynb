{
 "cells": [
  {
   "cell_type": "code",
   "execution_count": 1,
   "metadata": {},
   "outputs": [],
   "source": [
    "#2nd Greatest Distance"
   ]
  },
  {
   "cell_type": "code",
   "execution_count": 9,
   "metadata": {},
   "outputs": [
    {
     "name": "stdout",
     "output_type": "stream",
     "text": [
      "3\n",
      "0 0\n",
      "1 2\n",
      "4 0\n",
      "2\n"
     ]
    }
   ],
   "source": [
    "N = int(input())\n",
    "X, Y = [], []\n",
    "for _ in range(N):\n",
    "    x, y = map(int, input().split())\n",
    "    X.append(x)\n",
    "    Y.append(y)\n",
    "    \n",
    "a, b = sorted(X, reverse=True), sorted(Y, reverse=True)\n",
    "\n",
    "ans = []\n",
    "if X.index(a[0])==Y.index(b[0]) and X.index(a[-1])==Y.index(b[-1]):\n",
    "    ans.append(max(abs(a[0]-a[-1]), abs(b[0]-b[-1])))\n",
    "else:\n",
    "    ans.append(abs(a[0]-a[-1]))\n",
    "    ans.append(abs(b[0]-b[-1]))\n",
    "ans.append(abs(a[0]-a[-2]))\n",
    "ans.append(abs(a[1]-a[-1]))\n",
    "ans.append(abs(b[0]-b[-2]))\n",
    "ans.append(abs(b[1]-b[-1]))\n",
    "\n",
    "ans.sort(reverse=True)\n",
    "print(ans[1])"
   ]
  },
  {
   "cell_type": "code",
   "execution_count": 12,
   "metadata": {},
   "outputs": [],
   "source": []
  },
  {
   "cell_type": "code",
   "execution_count": null,
   "metadata": {},
   "outputs": [],
   "source": []
  }
 ],
 "metadata": {
  "kernelspec": {
   "display_name": "Python 3",
   "language": "python",
   "name": "python3"
  },
  "language_info": {
   "codemirror_mode": {
    "name": "ipython",
    "version": 3
   },
   "file_extension": ".py",
   "mimetype": "text/x-python",
   "name": "python",
   "nbconvert_exporter": "python",
   "pygments_lexer": "ipython3",
   "version": "3.6.4"
  }
 },
 "nbformat": 4,
 "nbformat_minor": 2
}
