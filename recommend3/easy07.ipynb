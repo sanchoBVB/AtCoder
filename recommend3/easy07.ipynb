{
 "cells": [
  {
   "cell_type": "code",
   "execution_count": 1,
   "metadata": {},
   "outputs": [],
   "source": [
    "#Counting Arrays"
   ]
  },
  {
   "cell_type": "code",
   "execution_count": 3,
   "metadata": {},
   "outputs": [
    {
     "name": "stdout",
     "output_type": "stream",
     "text": [
      "4\n",
      "2 1 2\n",
      "2 1 1\n",
      "2 2 1\n",
      "2 1 2\n",
      "3\n"
     ]
    }
   ],
   "source": [
    "N = int(input())\n",
    "cnt = []\n",
    "for _ in range(N):\n",
    "    A = list(map(int, input().split()))\n",
    "    cnt.append(A)\n",
    "    \n",
    "cnt = list(map(list, set(map(tuple, cnt))))\n",
    "print(len(cnt))"
   ]
  },
  {
   "cell_type": "code",
   "execution_count": 4,
   "metadata": {},
   "outputs": [],
   "source": [
    "#Final Day"
   ]
  },
  {
   "cell_type": "code",
   "execution_count": 7,
   "metadata": {},
   "outputs": [
    {
     "name": "stdout",
     "output_type": "stream",
     "text": [
      "4 2\n",
      "127 235 78\n",
      "192 134 298\n",
      "28 56 42\n",
      "96 120 250\n",
      "Yes\n",
      "Yes\n",
      "No\n",
      "Yes\n"
     ]
    }
   ],
   "source": [
    "N, K = map(int, input().split())\n",
    "P = []\n",
    "for _ in range(N):\n",
    "    P.append(sum(list(map(int, input().split()))))\n",
    "    \n",
    "cnt = sorted(P)\n",
    "ans = [\"No\"]*N\n",
    "for n in range(N):\n",
    "    if P[n]+300>=cnt[-K]:\n",
    "        ans[n] = \"Yes\"\n",
    "        \n",
    "for a in ans:\n",
    "    print(a)"
   ]
  },
  {
   "cell_type": "code",
   "execution_count": 8,
   "metadata": {},
   "outputs": [],
   "source": [
    "#Tax Included Price"
   ]
  },
  {
   "cell_type": "code",
   "execution_count": 4,
   "metadata": {},
   "outputs": [
    {
     "name": "stdout",
     "output_type": "stream",
     "text": [
      "3 5\n",
      "[ True  True  True  True  True  True  True  True  True  True  True  True\n",
      "  True  True  True  True  True  True  True  True  True  True  True  True\n",
      "  True  True  True  True  True  True  True  True  True  True  True  True\n",
      "  True  True  True  True  True  True  True  True  True  True  True  True\n",
      "  True  True  True  True  True  True  True  True  True  True  True  True\n",
      "  True  True  True  True  True  True  True  True  True  True  True  True\n",
      "  True  True  True  True  True  True  True  True  True  True  True  True\n",
      "  True  True  True  True  True  True  True  True  True  True  True  True\n",
      "  True  True  True  True  True  True  True]\n",
      "[False False False False False False False False False False False False\n",
      " False False False False False False False False False False False False\n",
      " False False False False False False False False False False  True False\n",
      " False False False False False False False False False False False False\n",
      " False False False False False False False False False False False False\n",
      " False False False False False False False False  True False False False\n",
      " False False False False False False False False False False False False\n",
      " False False False False False False False False False False False False\n",
      " False False False False False False  True]\n",
      "[ 34  68 102]\n",
      "171\n"
     ]
    }
   ],
   "source": [
    "import numpy as np\n",
    "\n",
    "t, N = map(int, input().split())\n",
    "P = 100 + t  # 周期\n",
    "\n",
    "A = np.ones(P, np.bool_)\n",
    "for x in range(100):\n",
    "    A[P * x // 100] = 0\n",
    "\n",
    "B = np.where(A)[0]  # P 以下で、税込み価格にならない金額\n",
    "q, r = divmod(N-1, t)  # 何回目の周期の、何番目か\n",
    "ans = P * q + B[r]\n",
    "print(ans)"
   ]
  },
  {
   "cell_type": "code",
   "execution_count": 5,
   "metadata": {},
   "outputs": [],
   "source": [
    "#IPFL"
   ]
  },
  {
   "cell_type": "code",
   "execution_count": 14,
   "metadata": {},
   "outputs": [
    {
     "name": "stdout",
     "output_type": "stream",
     "text": [
      "2\n",
      "FLIP\n",
      "6\n",
      "1 1 3\n",
      "2 0 0\n",
      "1 1 2\n",
      "1 2 3\n",
      "2 0 0\n",
      "1 1 4\n",
      "ILPF\n"
     ]
    }
   ],
   "source": [
    "from copy import copy\n",
    "from collections import deque\n",
    "N = int(input())\n",
    "S = deque(list(input()))\n",
    "Q = int(input())\n",
    "for _ in range(Q):\n",
    "    t, a, b = map(int, input().split())\n",
    "    if t == 1:\n",
    "        S[a-1], S[b-1] = S[b-1], S[a-1]\n",
    "    else:\n",
    "        s = list(S)\n",
    "        S.extend(s[:N])\n",
    "        S = list(S)[N:].copy()\n",
    "        S = deque(S)\n",
    "        \n",
    "print(\"\".join(S))"
   ]
  },
  {
   "cell_type": "code",
   "execution_count": 15,
   "metadata": {},
   "outputs": [
    {
     "name": "stdout",
     "output_type": "stream",
     "text": [
      "2\n",
      "FLIP\n",
      "1\n",
      "1 1 3\n",
      "ILFP\n"
     ]
    }
   ],
   "source": [
    "n = int(input())\n",
    "s = list(input())\n",
    "q = int(input())\n",
    "\n",
    "flag = 0\n",
    "for _ in range(q):\n",
    "    t,a,b = map(int, input().split())\n",
    "\n",
    "    if t == 1:\n",
    "        if flag == 0:\n",
    "            s[a-1],s[b-1] = s[b-1],s[a-1]\n",
    "        else:\n",
    "            if 1 <= a and a <= n:\n",
    "                a += n\n",
    "            elif n+1 <= a and a <= 2*n:\n",
    "                a -= n\n",
    "\n",
    "            if 1 <= b and b <= n:\n",
    "                b += n\n",
    "            elif n+1 <= b and b <= 2*n:\n",
    "                b -= n\n",
    "            \n",
    "            #print(a,b)\n",
    "            s[a-1],s[b-1] = s[b-1],s[a-1]\n",
    "    elif t == 2:\n",
    "        flag = 1- flag\n",
    "\n",
    "    #print(\"\".join(s))\n",
    "    #print(flag)\n",
    "\n",
    "\n",
    "if flag == 1:\n",
    "    s = s[n:] + s[:n]\n",
    "print(\"\".join(s))"
   ]
  },
  {
   "cell_type": "code",
   "execution_count": 16,
   "metadata": {},
   "outputs": [],
   "source": [
    "#Dial Up"
   ]
  },
  {
   "cell_type": "code",
   "execution_count": 8,
   "metadata": {},
   "outputs": [
    {
     "name": "stdout",
     "output_type": "stream",
     "text": [
      "3 5\n",
      "0 0 0\n",
      "0 0 0 0 0\n",
      "5\n"
     ]
    }
   ],
   "source": [
    "import sys\n",
    "N, M = map(int, input().split())\n",
    "S = list(map(int, input().split()))\n",
    "T = list(map(int, input().split()))\n",
    "\n",
    "if len(set(S)) == 1 and 1 - S[0] in T:\n",
    "    print(-1)\n",
    "    sys.exit(0)\n",
    "\n",
    "x, y = 1, N-1\n",
    "while x<=y:\n",
    "    if S[x] != S[0]:\n",
    "        t = x\n",
    "        break\n",
    "    elif S[y] != S[0]:\n",
    "        t = N-y\n",
    "        break\n",
    "    x += 1\n",
    "    y -= 1\n",
    "\n",
    "c = 0\n",
    "ans = 0\n",
    "for m in range(M):\n",
    "    if T[m]==S[0]:\n",
    "        ans += 1\n",
    "    else:\n",
    "        if c==0:\n",
    "            ans += t+1\n",
    "            c = 1\n",
    "        else:\n",
    "            ans += 2\n",
    "        S[0] = T[m]\n",
    "\n",
    "print(ans)"
   ]
  },
  {
   "cell_type": "code",
   "execution_count": 5,
   "metadata": {},
   "outputs": [
    {
     "data": {
      "text/plain": [
       "[1]"
      ]
     },
     "execution_count": 5,
     "metadata": {},
     "output_type": "execute_result"
    }
   ],
   "source": [
    "S"
   ]
  },
  {
   "cell_type": "code",
   "execution_count": null,
   "metadata": {},
   "outputs": [],
   "source": []
  }
 ],
 "metadata": {
  "kernelspec": {
   "display_name": "Python 3",
   "language": "python",
   "name": "python3"
  },
  "language_info": {
   "codemirror_mode": {
    "name": "ipython",
    "version": 3
   },
   "file_extension": ".py",
   "mimetype": "text/x-python",
   "name": "python",
   "nbconvert_exporter": "python",
   "pygments_lexer": "ipython3",
   "version": "3.6.4"
  }
 },
 "nbformat": 4,
 "nbformat_minor": 2
}
