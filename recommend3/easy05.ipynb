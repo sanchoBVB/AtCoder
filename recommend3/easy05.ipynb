{
 "cells": [
  {
   "cell_type": "code",
   "execution_count": 1,
   "metadata": {},
   "outputs": [],
   "source": [
    "#Two Integers"
   ]
  },
  {
   "cell_type": "code",
   "execution_count": 3,
   "metadata": {},
   "outputs": [
    {
     "name": "stdout",
     "output_type": "stream",
     "text": [
      "3 3\n",
      "-1\n"
     ]
    }
   ],
   "source": [
    "X, Y = map(int, input().split())\n",
    "\n",
    "if Y==1:\n",
    "    print(-1)\n",
    "else:\n",
    "    if X>=Y:\n",
    "        if X%Y==0:\n",
    "            print(-1)\n",
    "        else:\n",
    "            print(X)\n",
    "    else:\n",
    "        print(X)"
   ]
  },
  {
   "cell_type": "code",
   "execution_count": 4,
   "metadata": {},
   "outputs": [],
   "source": [
    "#Ringo's Favorite Numbers 2"
   ]
  },
  {
   "cell_type": "code",
   "execution_count": 5,
   "metadata": {},
   "outputs": [
    {
     "name": "stdout",
     "output_type": "stream",
     "text": [
      "6\n",
      "123 223 123 523 200 2000\n",
      "4\n"
     ]
    }
   ],
   "source": [
    "from collections import Counter\n",
    "import math\n",
    "N = int(input())\n",
    "A = list(map(int, input().split()))\n",
    "\n",
    "for n in range(N):\n",
    "    A[n] %= 200\n",
    "    \n",
    "cnt = Counter(A)\n",
    "\n",
    "def combinations_count(n, r):\n",
    "    return math.factorial(n) // (math.factorial(n - r) * math.factorial(r))\n",
    "\n",
    "ans = 0\n",
    "for v in cnt.values():\n",
    "    if v>=2:\n",
    "        ans += combinations_count(v, 2)\n",
    "        \n",
    "print(ans)"
   ]
  },
  {
   "cell_type": "code",
   "execution_count": 6,
   "metadata": {},
   "outputs": [],
   "source": [
    "#Bishop"
   ]
  },
  {
   "cell_type": "code",
   "execution_count": 1,
   "metadata": {},
   "outputs": [
    {
     "name": "stdout",
     "output_type": "stream",
     "text": [
      "1 2\n",
      "1\n"
     ]
    },
    {
     "ename": "SystemExit",
     "evalue": "0",
     "output_type": "error",
     "traceback": [
      "An exception has occurred, use %tb to see the full traceback.\n",
      "\u001b[0;31mSystemExit\u001b[0m\u001b[0;31m:\u001b[0m 0\n"
     ]
    },
    {
     "name": "stderr",
     "output_type": "stream",
     "text": [
      "/Users/miuratakuto/.pyenv/versions/anaconda3-5.1.0/lib/python3.6/site-packages/IPython/core/interactiveshell.py:2918: UserWarning: To exit: use 'exit', 'quit', or Ctrl-D.\n",
      "  warn(\"To exit: use 'exit', 'quit', or Ctrl-D.\", stacklevel=1)\n"
     ]
    }
   ],
   "source": [
    "import sys\n",
    "H, W = map(int, input().split())\n",
    "\n",
    "if H==1 or W==1:\n",
    "    print(1)\n",
    "    sys.exit(0)\n",
    "\n",
    "if H%2==0:\n",
    "    print(W*(H//2))\n",
    "else:\n",
    "    if W%2==0:\n",
    "        k = (W//2)*((H//2)+1)\n",
    "        g = (W//2)*(H//2)\n",
    "    else:\n",
    "        k = ((W//2)+1)*((H//2)+1)\n",
    "        g = (W//2)*(H//2)\n",
    "    print(k+g)"
   ]
  },
  {
   "cell_type": "code",
   "execution_count": 2,
   "metadata": {},
   "outputs": [],
   "source": [
    "#Many Balls"
   ]
  },
  {
   "cell_type": "code",
   "execution_count": 7,
   "metadata": {},
   "outputs": [
    {
     "name": "stdout",
     "output_type": "stream",
     "text": [
      "1\n",
      "A\n"
     ]
    }
   ],
   "source": [
    "N = int(input())\n",
    "\n",
    "ans = []\n",
    "while N>0:\n",
    "    if N%2==0:\n",
    "        ans.append(\"B\")\n",
    "        N //= 2\n",
    "    else:\n",
    "        ans.append(\"A\")\n",
    "        N -= 1\n",
    "        \n",
    "ans.reverse()\n",
    "print(\"\".join(ans))"
   ]
  },
  {
   "cell_type": "code",
   "execution_count": 8,
   "metadata": {},
   "outputs": [],
   "source": [
    "#Swappable"
   ]
  },
  {
   "cell_type": "code",
   "execution_count": 11,
   "metadata": {},
   "outputs": [
    {
     "name": "stdout",
     "output_type": "stream",
     "text": [
      "20\n",
      "7 8 1 1 4 9 9 6 8 2 4 1 1 9 5 5 5 3 6 4\n",
      "173\n"
     ]
    }
   ],
   "source": [
    "import math\n",
    "from collections import Counter\n",
    "N = int(input())\n",
    "A = list(map(int, input().split()))\n",
    "\n",
    "def combinations_count(n, r):\n",
    "    return math.factorial(n) // (math.factorial(n - r) * math.factorial(r))\n",
    "\n",
    "cnt = Counter(A)\n",
    "ans = combinations_count(N, 2)\n",
    "for v in cnt.values():\n",
    "    if v>=2:\n",
    "        ans -= combinations_count(v, 2)\n",
    "    \n",
    "print(ans)"
   ]
  },
  {
   "cell_type": "code",
   "execution_count": 1,
   "metadata": {},
   "outputs": [],
   "source": [
    "#Arithmetic Sequence"
   ]
  },
  {
   "cell_type": "code",
   "execution_count": 7,
   "metadata": {},
   "outputs": [
    {
     "name": "stdout",
     "output_type": "stream",
     "text": [
      "1 1 1\n",
      "0\n"
     ]
    }
   ],
   "source": [
    "A1, A2, A3 = map(int, input().split())\n",
    "\n",
    "if (A1+A3)%2==0:\n",
    "    if (A1+A3)//2 >= A2:\n",
    "        print(((A1+A3)//2)-A2)\n",
    "    else:\n",
    "        print((A2*2)-(A1+A3))\n",
    "else:\n",
    "    if (A1+A3+1)//2 >= A2:\n",
    "        print(((A1+A3+1)//2)-A2+1)\n",
    "    else:\n",
    "        print((A2*2)-(A1+A3+1)+1)"
   ]
  },
  {
   "cell_type": "code",
   "execution_count": 1,
   "metadata": {},
   "outputs": [],
   "source": [
    "#One More aab aba baa"
   ]
  },
  {
   "cell_type": "code",
   "execution_count": 8,
   "metadata": {},
   "outputs": [
    {
     "name": "stdout",
     "output_type": "stream",
     "text": [
      "aab 2\n",
      "aba\n"
     ]
    }
   ],
   "source": [
    "import itertools\n",
    "S, K = input().split()\n",
    "S = list(S)\n",
    "K = int(K)\n",
    "\n",
    "cnt = list(set(itertools.permutations(S)))\n",
    "cnt.sort()\n",
    "print(\"\".join(cnt[K-1]))"
   ]
  },
  {
   "cell_type": "code",
   "execution_count": 9,
   "metadata": {},
   "outputs": [],
   "source": [
    "#Colorful Candies"
   ]
  },
  {
   "cell_type": "code",
   "execution_count": 14,
   "metadata": {},
   "outputs": [
    {
     "name": "stdout",
     "output_type": "stream",
     "text": [
      "10 6\n",
      "304621362 506696497 304621362 506696497 834022578 304621362 414720753 304621362 304621362 414720753\n",
      "4\n"
     ]
    }
   ],
   "source": [
    "N, K = map(int, input().split())\n",
    "C = list(map(int, input().split()))\n",
    "\n",
    "ans = 0\n",
    "for i in range(N-K+1):\n",
    "    if len(set(C[i:i+K])) == K:\n",
    "        ans = K\n",
    "        break\n",
    "    else:\n",
    "        ans = max(ans, len(set(C[i:i+K])))\n",
    "    \n",
    "print(ans)"
   ]
  },
  {
   "cell_type": "code",
   "execution_count": 4,
   "metadata": {},
   "outputs": [
    {
     "name": "stdout",
     "output_type": "stream",
     "text": [
      "7 3\n",
      "1 2 1 2 3 3 1\n",
      "3\n"
     ]
    }
   ],
   "source": [
    "N, K = map(int, input().split())\n",
    "C = list(map(int, input().split()))\n",
    "\n",
    "dic = {}\n",
    "for i in range(K):\n",
    "    if C[i] in dic:\n",
    "        dic[C[i]] += 1\n",
    "    else:\n",
    "        dic[C[i]] = 1\n",
    "        \n",
    "ans = len(dic)\n",
    "for i in range(1, N-K+1):\n",
    "    if C[i+K-1] in dic:\n",
    "        dic[C[i+K-1]] += 1\n",
    "    else:\n",
    "        dic[C[i+K-1]] = 1\n",
    "    if dic[C[i-1]] == 1:\n",
    "        del dic[C[i-1]]\n",
    "    else:\n",
    "        dic[C[i-1]] -= 1\n",
    "    ans = max(ans, len(dic))\n",
    "    \n",
    "print(ans)"
   ]
  },
  {
   "cell_type": "code",
   "execution_count": 5,
   "metadata": {},
   "outputs": [],
   "source": [
    "#Swiss-System Tournament"
   ]
  },
  {
   "cell_type": "code",
   "execution_count": 10,
   "metadata": {},
   "outputs": [
    {
     "name": "stdout",
     "output_type": "stream",
     "text": [
      "2 3\n",
      "GCP\n",
      "PPP\n",
      "CCC\n",
      "PPC\n",
      "[['P', 'P', 'P', 1, -1], ['C', 'C', 'C', 2, -1], ['G', 'C', 'P', 0, 0], ['P', 'P', 'C', 3, 0]]\n",
      "[['C', 'C', 'C', 2, -2], ['G', 'C', 'P', 0, -1], ['P', 'P', 'P', 1, -1], ['P', 'P', 'C', 3, 0]]\n",
      "[['C', 'C', 'C', 2, -3], ['G', 'C', 'P', 0, -1], ['P', 'P', 'P', 1, -1], ['P', 'P', 'C', 3, -1]]\n"
     ]
    }
   ],
   "source": [
    "N, M = map(int, input().split())\n",
    "A = []\n",
    "for p in range(N*2):\n",
    "    a = list(input())\n",
    "    a.append(p)\n",
    "    a.append(0)\n",
    "    A.append(a)\n",
    "\n",
    "for m in range(M):\n",
    "    for n in range(0, N*2, 2):\n",
    "        i, j = A[n][m], A[n+1][m]\n",
    "        if i==\"G\":\n",
    "            if j==\"C\":\n",
    "                A[n][-1] -= 1\n",
    "            elif j==\"P\":\n",
    "                A[n+1][-1] -= 1\n",
    "        elif i==\"C\":\n",
    "            if j==\"P\":\n",
    "                A[n][-1] -= 1\n",
    "            elif j==\"G\":\n",
    "                A[n+1][-1] -= 1\n",
    "        else:\n",
    "            if j==\"G\":\n",
    "                A[n][-1] -= 1\n",
    "            elif j==\"C\":\n",
    "                A[n+1][-1] -= 1\n",
    "    A = sorted(A, key=lambda x:(x[-1], x[-2]))\n",
    "\n",
    "for r in A:\n",
    "    print(r[-2]+1)"
   ]
  },
  {
   "cell_type": "code",
   "execution_count": 11,
   "metadata": {},
   "outputs": [],
   "source": [
    "#Select Mul"
   ]
  },
  {
   "cell_type": "code",
   "execution_count": 21,
   "metadata": {},
   "outputs": [
    {
     "name": "stdout",
     "output_type": "stream",
     "text": [
      "1010\n",
      "100\n"
     ]
    }
   ],
   "source": [
    "import itertools\n",
    "import copy\n",
    "N = list(input())\n",
    "N.sort(reverse=True)\n",
    "\n",
    "ans = 0\n",
    "for i in range(1, len(N)):\n",
    "    for v in itertools.combinations(N, i):\n",
    "        v = list(v)\n",
    "        v.sort(reverse=True)\n",
    "        n = N.copy()\n",
    "        for d in v:\n",
    "            n.remove(d)\n",
    "        ans = max(ans, int(\"\".join(n))*int(\"\".join(v)))\n",
    "        \n",
    "print(ans)"
   ]
  },
  {
   "cell_type": "code",
   "execution_count": 22,
   "metadata": {},
   "outputs": [],
   "source": [
    "#Squared Error"
   ]
  },
  {
   "cell_type": "code",
   "execution_count": 24,
   "metadata": {},
   "outputs": [
    {
     "name": "stdout",
     "output_type": "stream",
     "text": [
      "3\n",
      "2 8 4\n",
      "56\n"
     ]
    }
   ],
   "source": [
    "N = int(input())\n",
    "A = list(map(int, input().split()))\n",
    "\n",
    "s = sum(A)**2\n",
    "ans = 0\n",
    "for n in range(N):\n",
    "    ans += (N*(A[n]**2))\n",
    "    \n",
    "print(ans-s)"
   ]
  },
  {
   "cell_type": "code",
   "execution_count": null,
   "metadata": {},
   "outputs": [],
   "source": []
  }
 ],
 "metadata": {
  "kernelspec": {
   "display_name": "Python 3",
   "language": "python",
   "name": "python3"
  },
  "language_info": {
   "codemirror_mode": {
    "name": "ipython",
    "version": 3
   },
   "file_extension": ".py",
   "mimetype": "text/x-python",
   "name": "python",
   "nbconvert_exporter": "python",
   "pygments_lexer": "ipython3",
   "version": "3.6.4"
  }
 },
 "nbformat": 4,
 "nbformat_minor": 2
}
