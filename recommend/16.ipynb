{
 "cells": [
  {
   "cell_type": "code",
   "execution_count": 1,
   "metadata": {},
   "outputs": [],
   "source": [
    "#Contest with Drinks Easy"
   ]
  },
  {
   "cell_type": "code",
   "execution_count": 3,
   "metadata": {},
   "outputs": [
    {
     "name": "stdout",
     "output_type": "stream",
     "text": [
      "5\n",
      "7 2 3 8 5\n",
      "3\n",
      "4 2\n",
      "1 7\n",
      "4 13\n",
      "19\n",
      "25\n",
      "30\n"
     ]
    }
   ],
   "source": [
    "N = int(input())\n",
    "T = list(map(int, input().split()))\n",
    "M = int(input())\n",
    "ans = []\n",
    "for _ in range(M):\n",
    "    p, x = map(int, input().split())\n",
    "    t = T.copy()\n",
    "    t[p-1] = x\n",
    "    ans.append(sum(t))\n",
    "    \n",
    "for a in ans:\n",
    "    print(a)"
   ]
  },
  {
   "cell_type": "code",
   "execution_count": 4,
   "metadata": {},
   "outputs": [],
   "source": [
    "#AcCepted"
   ]
  },
  {
   "cell_type": "code",
   "execution_count": 5,
   "metadata": {},
   "outputs": [
    {
     "name": "stdout",
     "output_type": "stream",
     "text": [
      "Atcoder\n",
      "WA\n"
     ]
    }
   ],
   "source": [
    "import sys\n",
    "S = list(input())\n",
    "\n",
    "if \"A\" not in S or \"C\" not in S:\n",
    "    print(\"WA\")\n",
    "    sys.exit(0)\n",
    "else:\n",
    "    id_c = S.index(\"C\")\n",
    "    if id_c < 2 or id_c > len(S)-2:\n",
    "        print(\"WA\")\n",
    "        sys.exit(0)\n",
    "\n",
    "ans = \"AC\"\n",
    "for i in range(len(S)):\n",
    "    if i == id_c:\n",
    "        continue\n",
    "    if i == 0:\n",
    "        if S[i] != \"A\":\n",
    "            ans = \"WA\"\n",
    "            break\n",
    "    else:\n",
    "        if S[i].isupper():\n",
    "            ans = \"WA\"\n",
    "            break\n",
    "            \n",
    "print(ans)"
   ]
  },
  {
   "cell_type": "code",
   "execution_count": 6,
   "metadata": {},
   "outputs": [],
   "source": [
    "#When I hit my pocket..."
   ]
  },
  {
   "cell_type": "code",
   "execution_count": 7,
   "metadata": {},
   "outputs": [
    {
     "name": "stdout",
     "output_type": "stream",
     "text": [
      "4 2 6\n",
      "7\n"
     ]
    }
   ],
   "source": [
    "K, A, B = map(int, input().split())\n",
    "\n",
    "if A>=B:\n",
    "    print(K+1)\n",
    "else:\n",
    "    C = B-A\n",
    "    cnt_a = K-(A-1)\n",
    "    if cnt_a <= 0:\n",
    "        print(K+1)\n",
    "    else:\n",
    "        print(max(K+1, C*(cnt_a//2)+(cnt_a%2)+A))"
   ]
  },
  {
   "cell_type": "code",
   "execution_count": 8,
   "metadata": {},
   "outputs": [],
   "source": [
    "#Traveling Plan"
   ]
  },
  {
   "cell_type": "code",
   "execution_count": 17,
   "metadata": {},
   "outputs": [
    {
     "name": "stdout",
     "output_type": "stream",
     "text": [
      "3\n",
      "3 5 -1\n",
      "12\n",
      "8\n",
      "10\n"
     ]
    }
   ],
   "source": [
    "N = int(input())\n",
    "A = list(map(int, input().split()))\n",
    "\n",
    "ans = abs(A[0]-0)+abs(A[-1]-0)\n",
    "for n in range(1, N):\n",
    "    ans += abs(A[n]-A[n-1])\n",
    "\n",
    "A.insert(0, 0)\n",
    "for i in range(1, N):\n",
    "    cnt = ans\n",
    "    print(cnt-abs(A[i]-A[i+1])-abs(A[i]-A[i-1])+abs(A[i-1]-A[i+1]))\n",
    "print(ans-abs(A[-1]-A[-2])-abs(A[-1]-A[0])+abs(A[-2]-A[0]))"
   ]
  },
  {
   "cell_type": "code",
   "execution_count": 18,
   "metadata": {},
   "outputs": [],
   "source": [
    "#4-adjacent"
   ]
  },
  {
   "cell_type": "code",
   "execution_count": 36,
   "metadata": {},
   "outputs": [
    {
     "name": "stdout",
     "output_type": "stream",
     "text": [
      "6\n",
      "2 7 1 8 2 8\n",
      "Yes\n"
     ]
    }
   ],
   "source": [
    "N = int(input())\n",
    "A = list(map(int, input().split()))\n",
    "\n",
    "cnt1 = 0\n",
    "cnt2 = 0\n",
    "for a in A:\n",
    "    if a%4 == 0:\n",
    "        cnt1 += 1\n",
    "    elif a%2 == 0:\n",
    "        cnt2 += 1\n",
    "\n",
    "cnt1 += cnt2//2\n",
    "if cnt1 == 0:\n",
    "    print(\"No\")\n",
    "elif cnt1 >= N//2:\n",
    "    print(\"Yes\")\n",
    "else:\n",
    "    print(\"No\")"
   ]
  },
  {
   "cell_type": "code",
   "execution_count": 37,
   "metadata": {},
   "outputs": [],
   "source": [
    "#Megalomania"
   ]
  },
  {
   "cell_type": "code",
   "execution_count": 39,
   "metadata": {},
   "outputs": [
    {
     "name": "stdout",
     "output_type": "stream",
     "text": [
      "1\n",
      "1 2\n",
      "Yes\n"
     ]
    }
   ],
   "source": [
    "N = int(input())\n",
    "ab = []\n",
    "for _ in range(N):\n",
    "    ab.append(list(map(int, input().split())))\n",
    "\n",
    "ab = sorted(ab, key=lambda x: x[1])\n",
    "cnt = 0\n",
    "ans = \"Yes\"\n",
    "for i in ab:\n",
    "    cnt += i[0]\n",
    "    if cnt > i[1]:\n",
    "        ans = \"No\"\n",
    "        break\n",
    "        \n",
    "print(ans)"
   ]
  },
  {
   "cell_type": "code",
   "execution_count": 1,
   "metadata": {},
   "outputs": [],
   "source": [
    "#Make a Rectangle"
   ]
  },
  {
   "cell_type": "code",
   "execution_count": 12,
   "metadata": {},
   "outputs": [
    {
     "name": "stdout",
     "output_type": "stream",
     "text": [
      "4\n",
      "1 2 3 4\n",
      "0\n"
     ]
    }
   ],
   "source": [
    "import collections\n",
    "N = int(input())\n",
    "A = list(map(int, input().split()))\n",
    "\n",
    "cnt = collections.Counter(A)\n",
    "cnt = sorted(cnt.items(), key=lambda x:x[0], reverse=True)\n",
    "ans = []\n",
    "for c in cnt:\n",
    "    k, v = c[0], c[1]\n",
    "    if v < 2:\n",
    "        continue\n",
    "    if v <= 3:\n",
    "        ans.append(k)\n",
    "    elif v >= 4:\n",
    "        ans.append(k)\n",
    "        ans.append(k)\n",
    "    if len(ans) >= 2:\n",
    "        break\n",
    "\n",
    "if len(ans) >= 2:\n",
    "    print(ans[0]*ans[1])\n",
    "else:\n",
    "    print(0)"
   ]
  },
  {
   "cell_type": "code",
   "execution_count": 13,
   "metadata": {},
   "outputs": [],
   "source": [
    "#Remainder Minimization 2019"
   ]
  },
  {
   "cell_type": "code",
   "execution_count": 25,
   "metadata": {},
   "outputs": [
    {
     "name": "stdout",
     "output_type": "stream",
     "text": [
      "2020 2040\n",
      "2\n"
     ]
    }
   ],
   "source": [
    "L, R = map(int, input().split())\n",
    "\n",
    "if (R-L)>2021:\n",
    "    print(0)\n",
    "else:\n",
    "    ans = 2018\n",
    "    for i in range(L, R):\n",
    "        for j in range(L+1, R+1):\n",
    "            ans = min(ans, (i*j)%2019)\n",
    "    print(ans)"
   ]
  },
  {
   "cell_type": "code",
   "execution_count": 26,
   "metadata": {},
   "outputs": [],
   "source": [
    "#Good Sequence"
   ]
  },
  {
   "cell_type": "code",
   "execution_count": 32,
   "metadata": {},
   "outputs": [
    {
     "name": "stdout",
     "output_type": "stream",
     "text": [
      "8\n",
      "2 7 1 8 2 8 1 8\n",
      "5\n"
     ]
    }
   ],
   "source": [
    "import collections\n",
    "N = int(input())\n",
    "A = list(map(int, input().split()))\n",
    "\n",
    "cnt = collections.Counter(A)\n",
    "ans = 0\n",
    "for k, v in cnt.items():\n",
    "    if k < v:\n",
    "        ans += v-k\n",
    "    elif k > v:\n",
    "        ans += v\n",
    "    else:\n",
    "        continue\n",
    "\n",
    "print(ans)"
   ]
  },
  {
   "cell_type": "code",
   "execution_count": 33,
   "metadata": {},
   "outputs": [],
   "source": [
    "#Green Bin"
   ]
  },
  {
   "cell_type": "code",
   "execution_count": 40,
   "metadata": {},
   "outputs": [
    {
     "name": "stdout",
     "output_type": "stream",
     "text": [
      "5\n",
      "abaaaaaaaa\n",
      "oneplustwo\n",
      "aaaaaaaaba\n",
      "twoplusone\n",
      "aaaabaaaaa\n",
      "4\n"
     ]
    }
   ],
   "source": [
    "N = int(input())\n",
    "s = {}\n",
    "ans = 0\n",
    "for _ in range(N):\n",
    "    i = \"\".join(sorted(list(input())))\n",
    "    if i in s:\n",
    "        ans += s[i]\n",
    "        s[i] += 1\n",
    "    else:\n",
    "        s[i] = 1\n",
    "\n",
    "print(ans)"
   ]
  }
 ],
 "metadata": {
  "kernelspec": {
   "display_name": "Python 3",
   "language": "python",
   "name": "python3"
  },
  "language_info": {
   "codemirror_mode": {
    "name": "ipython",
    "version": 3
   },
   "file_extension": ".py",
   "mimetype": "text/x-python",
   "name": "python",
   "nbconvert_exporter": "python",
   "pygments_lexer": "ipython3",
   "version": "3.6.4"
  }
 },
 "nbformat": 4,
 "nbformat_minor": 2
}
