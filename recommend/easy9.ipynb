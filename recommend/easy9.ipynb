{
 "cells": [
  {
   "cell_type": "code",
   "execution_count": 1,
   "metadata": {},
   "outputs": [],
   "source": [
    "#Colorful Slimes 2"
   ]
  },
  {
   "cell_type": "code",
   "execution_count": 16,
   "metadata": {},
   "outputs": [
    {
     "name": "stdout",
     "output_type": "stream",
     "text": [
      "14\n",
      "1 2 2 3 3 3 4 4 4 4 1 2 3 4\n",
      "4\n"
     ]
    }
   ],
   "source": [
    "N = int(input())\n",
    "A = list(map(int, input().split()))\n",
    "\n",
    "ans = 0\n",
    "i = 0\n",
    "while i < N-1:\n",
    "    a = A[i]\n",
    "    c = 1\n",
    "    for j in range(i+1, N):\n",
    "        b = A[j]\n",
    "        if a == b:\n",
    "            c += 1\n",
    "        else:\n",
    "            ans += c//2\n",
    "            i = j\n",
    "            break\n",
    "    i = j\n",
    "\n",
    "ans += c//2\n",
    "print(ans)"
   ]
  },
  {
   "cell_type": "code",
   "execution_count": 1,
   "metadata": {},
   "outputs": [],
   "source": [
    "#Balance"
   ]
  },
  {
   "cell_type": "code",
   "execution_count": 4,
   "metadata": {},
   "outputs": [
    {
     "name": "stdout",
     "output_type": "stream",
     "text": [
      "8\n",
      "27 23 76 2 3 5 62 52\n",
      "2\n"
     ]
    }
   ],
   "source": [
    "N = int(input())\n",
    "W = list(map(int, input().split()))\n",
    "\n",
    "s1 = sum(W)\n",
    "s2 = 0\n",
    "ans = abs(s1-s2)\n",
    "for w in W:\n",
    "    s1 -= w\n",
    "    s2 += w\n",
    "    ans = min(ans, abs(s1-s2))\n",
    "\n",
    "print(ans)"
   ]
  },
  {
   "cell_type": "code",
   "execution_count": 5,
   "metadata": {},
   "outputs": [],
   "source": [
    "#Card Game for Two"
   ]
  },
  {
   "cell_type": "code",
   "execution_count": 6,
   "metadata": {},
   "outputs": [
    {
     "name": "stdout",
     "output_type": "stream",
     "text": [
      "4\n",
      "20 18 2 18\n",
      "18\n"
     ]
    }
   ],
   "source": [
    "N = int(input())\n",
    "A = list(map(int, input().split()))\n",
    "A.sort(reverse=True)\n",
    "\n",
    "a = 0\n",
    "b = 0\n",
    "for n in range(N):\n",
    "    if n%2==0:\n",
    "        a += A[n]\n",
    "    else:\n",
    "        b += A[n]\n",
    "        \n",
    "print(a-b)"
   ]
  },
  {
   "cell_type": "code",
   "execution_count": 7,
   "metadata": {},
   "outputs": [],
   "source": [
    "#Theater"
   ]
  },
  {
   "cell_type": "code",
   "execution_count": 8,
   "metadata": {},
   "outputs": [
    {
     "name": "stdout",
     "output_type": "stream",
     "text": [
      "1\n",
      "24 30\n",
      "7\n"
     ]
    }
   ],
   "source": [
    "N = int(input())\n",
    "ans = 0\n",
    "for _ in range(N):\n",
    "    l, r = map(int, input().split())\n",
    "    ans += r-l+1\n",
    "    \n",
    "print(ans)"
   ]
  },
  {
   "cell_type": "code",
   "execution_count": 9,
   "metadata": {},
   "outputs": [],
   "source": [
    "#Time Limit Exceeded"
   ]
  },
  {
   "cell_type": "code",
   "execution_count": 11,
   "metadata": {},
   "outputs": [
    {
     "name": "stdout",
     "output_type": "stream",
     "text": [
      "4 3\n",
      "1 1000\n",
      "2 4\n",
      "3 1000\n",
      "4 500\n",
      "TLE\n"
     ]
    }
   ],
   "source": [
    "N, T = map(int, input().split())\n",
    "ans = False\n",
    "C = 10**5\n",
    "for _ in range(N):\n",
    "    c, t = map(int, input().split())\n",
    "    if t <= T:\n",
    "        ans = True\n",
    "        C = min(C, c)\n",
    "        \n",
    "if ans:\n",
    "    print(C)\n",
    "else:\n",
    "    print(\"TLE\")"
   ]
  },
  {
   "cell_type": "code",
   "execution_count": 1,
   "metadata": {},
   "outputs": [],
   "source": [
    "#K-th Common Divisor"
   ]
  },
  {
   "cell_type": "code",
   "execution_count": 9,
   "metadata": {},
   "outputs": [
    {
     "name": "stdout",
     "output_type": "stream",
     "text": [
      "100 50 4\n",
      "5\n"
     ]
    }
   ],
   "source": [
    "A, B, K = map(int, input().split())\n",
    "\n",
    "cnt = []\n",
    "for n in range(1, 101):\n",
    "    if A%n==0 and B%n==0:\n",
    "        cnt.append(n)\n",
    "        \n",
    "cnt.reverse()\n",
    "print(cnt[K-1])"
   ]
  },
  {
   "cell_type": "code",
   "execution_count": 11,
   "metadata": {},
   "outputs": [],
   "source": [
    "#Snake Toy"
   ]
  },
  {
   "cell_type": "code",
   "execution_count": 12,
   "metadata": {},
   "outputs": [
    {
     "name": "stdout",
     "output_type": "stream",
     "text": [
      "15 14\n",
      "50 26 27 21 41 7 42 35 7 5 5 36 39 1 45\n",
      "386\n"
     ]
    }
   ],
   "source": [
    "N, K = map(int, input().split())\n",
    "L = list(map(int, input().split()))\n",
    "L.sort(reverse=True)\n",
    "\n",
    "ans = 0\n",
    "for n in range(N):\n",
    "    if n <= K-1:\n",
    "        ans += L[n]\n",
    "    else:\n",
    "        break\n",
    "        \n",
    "print(ans)"
   ]
  },
  {
   "cell_type": "code",
   "execution_count": 1,
   "metadata": {},
   "outputs": [],
   "source": [
    "#Snuke's favorite YAKINIKU"
   ]
  },
  {
   "cell_type": "code",
   "execution_count": 4,
   "metadata": {},
   "outputs": [
    {
     "name": "stdout",
     "output_type": "stream",
     "text": [
      "YAK\n",
      "No\n"
     ]
    }
   ],
   "source": [
    "S = input()\n",
    "\n",
    "if S[:4] == \"YAKI\":\n",
    "    print(\"Yes\")\n",
    "else:\n",
    "    print(\"No\")"
   ]
  },
  {
   "cell_type": "code",
   "execution_count": 5,
   "metadata": {},
   "outputs": [],
   "source": [
    "#Traveling AtCoDeer Problem"
   ]
  },
  {
   "cell_type": "code",
   "execution_count": 6,
   "metadata": {},
   "outputs": [
    {
     "name": "stdout",
     "output_type": "stream",
     "text": [
      "8\n",
      "3 1 4 1 5 9 2 6\n",
      "8\n"
     ]
    }
   ],
   "source": [
    "N = int(input())\n",
    "A = list(map(int, input().split()))\n",
    "\n",
    "print(max(A)-min(A))"
   ]
  },
  {
   "cell_type": "code",
   "execution_count": 7,
   "metadata": {},
   "outputs": [],
   "source": [
    "#B = C"
   ]
  },
  {
   "cell_type": "code",
   "execution_count": 8,
   "metadata": {},
   "outputs": [
    {
     "name": "stdout",
     "output_type": "stream",
     "text": [
      "5\n",
      "2 6\n",
      "6\n",
      "0 0\n",
      "1\n",
      "1000000 1000000\n",
      "0\n",
      "12345 67890\n",
      "933184801\n",
      "0 1000000\n",
      "500001500001\n"
     ]
    }
   ],
   "source": [
    "T = int(input())\n",
    "ans = []\n",
    "for _ in range(T):\n",
    "    l, r = map(int, input().split())\n",
    "    n=r-l*2\n",
    "    if n<0:\n",
    "        ans.append(0)\n",
    "    else:\n",
    "        ans.append((n+1)*(n+2)//2)\n",
    "        \n",
    "for a in ans:\n",
    "    print(a)"
   ]
  },
  {
   "cell_type": "code",
   "execution_count": 9,
   "metadata": {},
   "outputs": [],
   "source": [
    "#A*B*C"
   ]
  },
  {
   "cell_type": "code",
   "execution_count": 10,
   "metadata": {},
   "outputs": [
    {
     "name": "stdout",
     "output_type": "stream",
     "text": [
      "2\n",
      "4\n"
     ]
    }
   ],
   "source": [
    "k=int(input())\n",
    "ans=0\n",
    "for i in range(1,k+1):\n",
    "    for j in range(1,(k//i +1)):\n",
    "        ans+=(k//(i*j))\n",
    "print(ans)"
   ]
  },
  {
   "cell_type": "code",
   "execution_count": null,
   "metadata": {},
   "outputs": [],
   "source": []
  }
 ],
 "metadata": {
  "kernelspec": {
   "display_name": "Python 3",
   "language": "python",
   "name": "python3"
  },
  "language_info": {
   "codemirror_mode": {
    "name": "ipython",
    "version": 3
   },
   "file_extension": ".py",
   "mimetype": "text/x-python",
   "name": "python",
   "nbconvert_exporter": "python",
   "pygments_lexer": "ipython3",
   "version": "3.6.4"
  }
 },
 "nbformat": 4,
 "nbformat_minor": 2
}
