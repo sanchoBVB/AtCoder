{
 "cells": [
  {
   "cell_type": "code",
   "execution_count": 1,
   "metadata": {},
   "outputs": [],
   "source": [
    "# KEYENCEString"
   ]
  },
  {
   "cell_type": "code",
   "execution_count": 13,
   "metadata": {},
   "outputs": [
    {
     "name": "stdout",
     "output_type": "stream",
     "text": [
      "keyence\n",
      "YES\n"
     ]
    }
   ],
   "source": [
    "S = input()\n",
    "k = \"keyence\"\n",
    "\n",
    "if S == k:\n",
    "    print(\"YES\")\n",
    "else:\n",
    "    ans = \"NO\"\n",
    "    s = S\n",
    "    for i in range(8):\n",
    "        S = list(s)\n",
    "        del S[i:i+(len(S)-7)]\n",
    "        if \"\".join(S) in k:\n",
    "            ans = \"YES\"\n",
    "            break\n",
    "    \n",
    "    print(ans)"
   ]
  },
  {
   "cell_type": "code",
   "execution_count": 14,
   "metadata": {},
   "outputs": [],
   "source": [
    "#Takahashi's"
   ]
  },
  {
   "cell_type": "code",
   "execution_count": 28,
   "metadata": {},
   "outputs": [
    {
     "name": "stdout",
     "output_type": "stream",
     "text": [
      "1 0 1\n",
      "2 1 2\n",
      "1 0 1\n",
      "Yes\n"
     ]
    }
   ],
   "source": [
    "C = []\n",
    "for _ in range(3):\n",
    "    c = list(map(int, input().split()))\n",
    "    C.append(c)\n",
    "    \n",
    "a = [0, C[1][1]-C[0][1], C[2][1]-C[0][1]]\n",
    "b = [C[0][0], C[0][1], C[0][2]]\n",
    "\n",
    "ans = [[a[0]+b[0], a[0]+b[1], a[0]+b[2]], [a[1]+b[0], a[1]+b[1], a[1]+b[2]], [a[2]+b[0], a[2]+b[1], a[2]+b[2]]]\n",
    "\n",
    "if ans == C:\n",
    "    print(\"Yes\")\n",
    "else:\n",
    "    print(\"No\")"
   ]
  },
  {
   "cell_type": "code",
   "execution_count": 1,
   "metadata": {},
   "outputs": [],
   "source": [
    "#Irreversible operation"
   ]
  },
  {
   "cell_type": "code",
   "execution_count": 16,
   "metadata": {},
   "outputs": [
    {
     "name": "stdout",
     "output_type": "stream",
     "text": [
      "WBBBWBWW\n",
      "11\n"
     ]
    }
   ],
   "source": [
    "S = list(input())\n",
    "\n",
    "cnt = 0\n",
    "for i in range(len(S)):\n",
    "    if S[i] == \"W\":\n",
    "        cnt += S[:i].count(\"B\")\n",
    "        \n",
    "print(cnt)\n",
    "\n",
    "'''\n",
    "2*10**n以上のfor文内ではなるべくメソッドを使わない\n",
    "'''\n",
    "\n",
    "S = list(input())\n",
    "\n",
    "cnt = 0\n",
    "b = 0\n",
    "for s in S:\n",
    "    if s == \"B\":\n",
    "        b += 1\n",
    "    else:\n",
    "        cnt += b\n",
    "        \n",
    "print(cnt)"
   ]
  },
  {
   "cell_type": "code",
   "execution_count": null,
   "metadata": {},
   "outputs": [],
   "source": []
  }
 ],
 "metadata": {
  "kernelspec": {
   "display_name": "Python 3",
   "language": "python",
   "name": "python3"
  },
  "language_info": {
   "codemirror_mode": {
    "name": "ipython",
    "version": 3
   },
   "file_extension": ".py",
   "mimetype": "text/x-python",
   "name": "python",
   "nbconvert_exporter": "python",
   "pygments_lexer": "ipython3",
   "version": "3.6.4"
  }
 },
 "nbformat": 4,
 "nbformat_minor": 2
}
