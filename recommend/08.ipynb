{
 "cells": [
  {
   "cell_type": "code",
   "execution_count": 1,
   "metadata": {},
   "outputs": [],
   "source": [
    "#Colorful Leaderboard"
   ]
  },
  {
   "cell_type": "code",
   "execution_count": 11,
   "metadata": {},
   "outputs": [
    {
     "name": "stdout",
     "output_type": "stream",
     "text": [
      "5\n",
      "3200 3200 3200 3200 3200\n",
      "1 5\n"
     ]
    }
   ],
   "source": [
    "N = int(input())\n",
    "A = list(map(int, input().split()))\n",
    "\n",
    "cnt = [0]*8\n",
    "c = 0\n",
    "for a in A:\n",
    "    if a <= 399:\n",
    "        cnt[0] += 1\n",
    "    elif a >= 400 and a <= 799:\n",
    "        cnt[1] += 1\n",
    "    elif a >= 800 and a <= 1199:\n",
    "        cnt[2] += 1\n",
    "    elif a >= 1200 and a <= 1599:\n",
    "        cnt[3] += 1\n",
    "    elif a >= 1600 and a <= 1999:\n",
    "        cnt[4] += 1\n",
    "    elif a >= 2000 and a <= 2399:\n",
    "        cnt[5] += 1\n",
    "    elif a >= 2400 and a <= 2799:\n",
    "        cnt[6] += 1\n",
    "    elif a >= 2800 and a <= 3199:\n",
    "        cnt[7] += 1\n",
    "    else:\n",
    "        c += 1\n",
    "        \n",
    "Min = len([i for i in cnt if i != 0])\n",
    "if c == 0:\n",
    "    print(Min, Min)\n",
    "else:\n",
    "    Max = Min+c\n",
    "    if Min == 0:\n",
    "        print(1, Max)\n",
    "    else:\n",
    "        print(Min, Max)"
   ]
  },
  {
   "cell_type": "code",
   "execution_count": 12,
   "metadata": {},
   "outputs": [],
   "source": [
    "#Choose Integers"
   ]
  },
  {
   "cell_type": "code",
   "execution_count": 24,
   "metadata": {},
   "outputs": [
    {
     "name": "stdout",
     "output_type": "stream",
     "text": [
      "1 2 3\n",
      "No\n"
     ]
    }
   ],
   "source": [
    "A, B, C = map(int, input().split())\n",
    "\n",
    "ans = \"NO\"\n",
    "for i in range(1, 1000):\n",
    "    a = A*i\n",
    "    if a % B == C:\n",
    "        ans = \"YES\"\n",
    "        break\n",
    "        \n",
    "print(ans)"
   ]
  },
  {
   "cell_type": "code",
   "execution_count": 25,
   "metadata": {},
   "outputs": [],
   "source": [
    "#Traveling"
   ]
  },
  {
   "cell_type": "code",
   "execution_count": 35,
   "metadata": {},
   "outputs": [
    {
     "name": "stdout",
     "output_type": "stream",
     "text": [
      "2\n",
      "5 1 1\n",
      "100 1 1\n",
      "No\n"
     ]
    }
   ],
   "source": [
    "N = int(input())\n",
    "T = [0, 0, 0]\n",
    "ans = \"Yes\"\n",
    "for _ in range(N):\n",
    "    t = list(map(int, input().split()))\n",
    "    k = abs((t[1]+t[2])-(T[1]+T[2]))\n",
    "    n = t[0]-T[0]\n",
    "    if n % 2 == 0:\n",
    "        if k > n or k % 2 != 0:\n",
    "            ans = \"No\"\n",
    "    else:\n",
    "        if k > n or k % 2 == 0:\n",
    "            ans = \"No\"\n",
    "    T = t\n",
    "\n",
    "print(ans)"
   ]
  },
  {
   "cell_type": "code",
   "execution_count": 36,
   "metadata": {},
   "outputs": [],
   "source": [
    "#Ice Tea Store"
   ]
  },
  {
   "cell_type": "code",
   "execution_count": 37,
   "metadata": {},
   "outputs": [
    {
     "name": "stdout",
     "output_type": "stream",
     "text": [
      "1 2 3 4\n",
      "3\n",
      "7\n"
     ]
    }
   ],
   "source": [
    "q, h, s, d = map(int, input().split())\n",
    "n = int(input())\n",
    "L1=min(q*4,h*2,s)\n",
    "L2=min(L1*2,d)\n",
    "print(n//2*L2+n%2*L1)"
   ]
  },
  {
   "cell_type": "code",
   "execution_count": null,
   "metadata": {},
   "outputs": [],
   "source": []
  }
 ],
 "metadata": {
  "kernelspec": {
   "display_name": "Python 3",
   "language": "python",
   "name": "python3"
  },
  "language_info": {
   "codemirror_mode": {
    "name": "ipython",
    "version": 3
   },
   "file_extension": ".py",
   "mimetype": "text/x-python",
   "name": "python",
   "nbconvert_exporter": "python",
   "pygments_lexer": "ipython3",
   "version": "3.6.4"
  }
 },
 "nbformat": 4,
 "nbformat_minor": 2
}
