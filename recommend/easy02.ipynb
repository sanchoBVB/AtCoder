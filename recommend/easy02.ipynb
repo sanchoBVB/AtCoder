{
 "cells": [
  {
   "cell_type": "code",
   "execution_count": 2,
   "metadata": {},
   "outputs": [],
   "source": [
    "#Comparison"
   ]
  },
  {
   "cell_type": "code",
   "execution_count": 3,
   "metadata": {},
   "outputs": [
    {
     "name": "stdout",
     "output_type": "stream",
     "text": [
      "36\n",
      "24\n",
      "GREATER\n"
     ]
    }
   ],
   "source": [
    "A = int(input())\n",
    "B = int(input())\n",
    "\n",
    "if A > B:\n",
    "    print(\"GREATER\")\n",
    "elif A < B:\n",
    "    print(\"LESS\")\n",
    "else:\n",
    "    print(\"EQUAL\")"
   ]
  },
  {
   "cell_type": "code",
   "execution_count": 4,
   "metadata": {},
   "outputs": [],
   "source": [
    "#String Rotation"
   ]
  },
  {
   "cell_type": "code",
   "execution_count": 6,
   "metadata": {},
   "outputs": [
    {
     "name": "stdout",
     "output_type": "stream",
     "text": [
      "abc\n",
      "arc\n",
      "No\n"
     ]
    }
   ],
   "source": [
    "S = input()\n",
    "T = input()\n",
    "\n",
    "if S == T:\n",
    "    print(\"Yes\")\n",
    "else:\n",
    "    ans = \"No\"\n",
    "    S = list(S)\n",
    "    for i in range(len(S)):\n",
    "        s = S.pop()\n",
    "        S.insert(0, s)\n",
    "        if \"\".join(S) == T:\n",
    "            ans = \"Yes\"\n",
    "            break\n",
    "    print(ans)"
   ]
  },
  {
   "cell_type": "code",
   "execution_count": 7,
   "metadata": {},
   "outputs": [],
   "source": [
    "#Shiritori"
   ]
  },
  {
   "cell_type": "code",
   "execution_count": 12,
   "metadata": {},
   "outputs": [
    {
     "name": "stdout",
     "output_type": "stream",
     "text": [
      "3\n",
      "abc\n",
      "arc\n",
      "agc\n",
      "No\n"
     ]
    }
   ],
   "source": [
    "import collections\n",
    "N = int(input())\n",
    "W = []\n",
    "f = input()\n",
    "W.append(f)\n",
    "ans = \"Yes\"\n",
    "for _ in range(N-1):\n",
    "    w = input()\n",
    "    if f[-1] != w[0]:\n",
    "        ans = \"No\"\n",
    "    W.append(w)\n",
    "    f = w\n",
    "    \n",
    "cnt = collections.Counter(W)\n",
    "for v in cnt.values():\n",
    "    if v >= 2:\n",
    "        ans = \"No\"\n",
    "        \n",
    "print(ans)"
   ]
  },
  {
   "cell_type": "code",
   "execution_count": 13,
   "metadata": {},
   "outputs": [],
   "source": [
    "#Fairness"
   ]
  },
  {
   "cell_type": "code",
   "execution_count": 16,
   "metadata": {},
   "outputs": [
    {
     "name": "stdout",
     "output_type": "stream",
     "text": [
      "1000000000 1000000000 1000000000 1000000000000000000\n",
      "0\n"
     ]
    }
   ],
   "source": [
    "A, B, C, K = map(int, input().split())\n",
    "\n",
    "if K % 2 == 0:\n",
    "    if abs(A-B) > 10**18:\n",
    "        print(\"Unfair\")\n",
    "    else:\n",
    "        print(A-B)\n",
    "        \n",
    "else:\n",
    "    if abs(B-A) > 10**18:\n",
    "        print(\"Unfair\")\n",
    "    else:\n",
    "        print(B-A)"
   ]
  },
  {
   "cell_type": "code",
   "execution_count": 1,
   "metadata": {},
   "outputs": [],
   "source": [
    "#Counting Roads"
   ]
  },
  {
   "cell_type": "code",
   "execution_count": 4,
   "metadata": {},
   "outputs": [
    {
     "name": "stdout",
     "output_type": "stream",
     "text": [
      "8 8\n",
      "1 2\n",
      "3 4\n",
      "1 5\n",
      "2 8\n",
      "3 7\n",
      "5 2\n",
      "4 1\n",
      "6 8\n",
      "3\n",
      "3\n",
      "2\n",
      "2\n",
      "2\n",
      "1\n",
      "1\n",
      "2\n"
     ]
    }
   ],
   "source": [
    "N, M = map(int, input().split())\n",
    "cnt = [0]*N\n",
    "for _ in range(M):\n",
    "    a, b = map(int, input().split())\n",
    "    cnt[a-1] += 1\n",
    "    cnt[b-1] += 1\n",
    "    \n",
    "for c in cnt:\n",
    "    print(c)"
   ]
  },
  {
   "cell_type": "code",
   "execution_count": 5,
   "metadata": {},
   "outputs": [],
   "source": [
    "#Small and Large"
   ]
  },
  {
   "cell_type": "code",
   "execution_count": 25,
   "metadata": {},
   "outputs": [
    {
     "name": "stdout",
     "output_type": "stream",
     "text": [
      "3 8 1\n",
      "3\n",
      "8\n"
     ]
    }
   ],
   "source": [
    "A, B, K = map(int, input().split())\n",
    "\n",
    "if A == B:\n",
    "    print(A)\n",
    "else:\n",
    "    cnt = list(range(A, B+1))\n",
    "    if (B-A) < K:\n",
    "        ans = cnt\n",
    "    else:\n",
    "        ans = sorted(set(cnt[:K] + cnt[len(cnt)-K:]))\n",
    "\n",
    "    for a in ans:\n",
    "        print(a)"
   ]
  },
  {
   "cell_type": "code",
   "execution_count": 26,
   "metadata": {},
   "outputs": [],
   "source": [
    "#Good Distance"
   ]
  },
  {
   "cell_type": "code",
   "execution_count": 29,
   "metadata": {},
   "outputs": [
    {
     "name": "stdout",
     "output_type": "stream",
     "text": [
      "5 1\n",
      "1\n",
      "2\n",
      "3\n",
      "4\n",
      "5\n",
      "10\n"
     ]
    }
   ],
   "source": [
    "N, D = map(int, input().split())\n",
    "X = []\n",
    "for _ in range(N):\n",
    "    X.append(list(map(int, input().split())))\n",
    "    \n",
    "ans = 0\n",
    "for i in range(N):\n",
    "    for j in range(i+1, N):\n",
    "        cnt = 0\n",
    "        for y, z in zip(X[i], X[j]):\n",
    "            cnt += (y-z)**2\n",
    "        if (cnt**(1/2)).is_integer() == True:\n",
    "            ans += 1\n",
    "            \n",
    "print(ans)"
   ]
  },
  {
   "cell_type": "code",
   "execution_count": 30,
   "metadata": {},
   "outputs": [],
   "source": [
    "#A to Z"
   ]
  },
  {
   "cell_type": "code",
   "execution_count": 39,
   "metadata": {},
   "outputs": [
    {
     "name": "stdout",
     "output_type": "stream",
     "text": [
      "HASFJGHOGAKZZFEGA\n",
      "12\n"
     ]
    }
   ],
   "source": [
    "s = input()\n",
    "print(len(s[s.index(\"A\"):s.rindex(\"Z\")+1]))"
   ]
  },
  {
   "cell_type": "code",
   "execution_count": null,
   "metadata": {},
   "outputs": [],
   "source": []
  }
 ],
 "metadata": {
  "kernelspec": {
   "display_name": "Python 3",
   "language": "python",
   "name": "python3"
  },
  "language_info": {
   "codemirror_mode": {
    "name": "ipython",
    "version": 3
   },
   "file_extension": ".py",
   "mimetype": "text/x-python",
   "name": "python",
   "nbconvert_exporter": "python",
   "pygments_lexer": "ipython3",
   "version": "3.6.4"
  }
 },
 "nbformat": 4,
 "nbformat_minor": 2
}
