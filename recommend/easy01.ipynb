{
 "cells": [
  {
   "cell_type": "code",
   "execution_count": 1,
   "metadata": {},
   "outputs": [],
   "source": [
    "#Different Distribution"
   ]
  },
  {
   "cell_type": "code",
   "execution_count": 3,
   "metadata": {},
   "outputs": [
    {
     "name": "stdout",
     "output_type": "stream",
     "text": [
      "2\n",
      "1 100000000000\n",
      "1000000000 1\n",
      "1000000001\n"
     ]
    }
   ],
   "source": [
    "N = int(input())\n",
    "ab = {}\n",
    "for _ in range(N):\n",
    "    a, b = map(int, input().split())\n",
    "    ab[a] = b\n",
    "    \n",
    "print(max(ab)+ab[max(ab)])"
   ]
  },
  {
   "cell_type": "code",
   "execution_count": 4,
   "metadata": {},
   "outputs": [],
   "source": [
    "#AKIBA"
   ]
  },
  {
   "cell_type": "code",
   "execution_count": 28,
   "metadata": {},
   "outputs": [
    {
     "name": "stdout",
     "output_type": "stream",
     "text": [
      "AKIHABA\n",
      "YES\n"
     ]
    }
   ],
   "source": [
    "import sys\n",
    "S = list(input())\n",
    "\n",
    "L = list(\"KIHBR\")\n",
    "for l in L:\n",
    "    if not l in \"\".join(S):\n",
    "        print(\"NO\")\n",
    "        sys.exit(0)\n",
    "\n",
    "N = []\n",
    "for i in range(len(S)-1):\n",
    "    if S[i] == \"H\" or S[i] == \"B\" or S[i] == \"R\":\n",
    "        if S[i+1] != \"A\":\n",
    "            N.append(i+1)\n",
    "\n",
    "i = 0\n",
    "for n in N:\n",
    "    S.insert(n+i, \"A\")\n",
    "    i += 1\n",
    "    \n",
    "if \"\".join(S) in \"AKIHABARA\":\n",
    "    print(\"YES\")\n",
    "else:\n",
    "    print(\"NO\")"
   ]
  },
  {
   "cell_type": "code",
   "execution_count": 29,
   "metadata": {},
   "outputs": [],
   "source": [
    "#Tag"
   ]
  },
  {
   "cell_type": "code",
   "execution_count": 36,
   "metadata": {},
   "outputs": [
    {
     "name": "stdout",
     "output_type": "stream",
     "text": [
      "1 2\n",
      "3 2\n",
      "3\n",
      "NO\n"
     ]
    }
   ],
   "source": [
    "A, V = map(int, input().split())\n",
    "B, W = map(int, input().split())\n",
    "T = int(input())\n",
    "\n",
    "a = V*T+A\n",
    "b = W*T+B\n",
    "\n",
    "if V > W:\n",
    "    if abs(A-B)/(V-W) <= T:\n",
    "        print(\"YES\")\n",
    "    else:\n",
    "        print(\"NO\")\n",
    "else:\n",
    "    print(\"NO\")"
   ]
  },
  {
   "cell_type": "code",
   "execution_count": 37,
   "metadata": {},
   "outputs": [],
   "source": [
    "#Not Found"
   ]
  },
  {
   "cell_type": "code",
   "execution_count": 44,
   "metadata": {},
   "outputs": [
    {
     "name": "stdout",
     "output_type": "stream",
     "text": [
      "fajsonlslfepbjtsaayxbymeskptcumtwrmkkinjxnnucagfrg\n",
      "d\n"
     ]
    }
   ],
   "source": [
    "S = list(input())\n",
    "S = list(set(S))\n",
    "\n",
    "ans = \"None\"\n",
    "for i in range(97, 123):\n",
    "    cnt = chr(i)\n",
    "    if not cnt in S:\n",
    "        ans = cnt\n",
    "        break\n",
    "        \n",
    "print(ans)"
   ]
  },
  {
   "cell_type": "code",
   "execution_count": 45,
   "metadata": {},
   "outputs": [],
   "source": [
    "#美しい文字列"
   ]
  },
  {
   "cell_type": "code",
   "execution_count": 47,
   "metadata": {},
   "outputs": [
    {
     "name": "stdout",
     "output_type": "stream",
     "text": [
      "hthth\n",
      "No\n"
     ]
    }
   ],
   "source": [
    "import collections\n",
    "w = list(input())\n",
    "\n",
    "cnt = collections.Counter(w)\n",
    "ans = \"Yes\"\n",
    "for v in cnt.values():\n",
    "    if v%2!=0:\n",
    "        ans = \"No\"\n",
    "        break\n",
    "        \n",
    "print(ans)"
   ]
  },
  {
   "cell_type": "code",
   "execution_count": null,
   "metadata": {},
   "outputs": [],
   "source": []
  }
 ],
 "metadata": {
  "kernelspec": {
   "display_name": "Python 3",
   "language": "python",
   "name": "python3"
  },
  "language_info": {
   "codemirror_mode": {
    "name": "ipython",
    "version": 3
   },
   "file_extension": ".py",
   "mimetype": "text/x-python",
   "name": "python",
   "nbconvert_exporter": "python",
   "pygments_lexer": "ipython3",
   "version": "3.6.4"
  }
 },
 "nbformat": 4,
 "nbformat_minor": 2
}
