{
 "cells": [
  {
   "cell_type": "code",
   "execution_count": 1,
   "metadata": {},
   "outputs": [],
   "source": [
    "#Postal Code"
   ]
  },
  {
   "cell_type": "code",
   "execution_count": 14,
   "metadata": {},
   "outputs": [
    {
     "name": "stdout",
     "output_type": "stream",
     "text": [
      "1 2\n",
      "7444\n",
      "No\n"
     ]
    },
    {
     "ename": "SystemExit",
     "evalue": "0",
     "output_type": "error",
     "traceback": [
      "An exception has occurred, use %tb to see the full traceback.\n",
      "\u001b[0;31mSystemExit\u001b[0m\u001b[0;31m:\u001b[0m 0\n"
     ]
    },
    {
     "name": "stderr",
     "output_type": "stream",
     "text": [
      "/Users/miuratakuto/.pyenv/versions/anaconda3-5.1.0/lib/python3.6/site-packages/IPython/core/interactiveshell.py:2918: UserWarning: To exit: use 'exit', 'quit', or Ctrl-D.\n",
      "  warn(\"To exit: use 'exit', 'quit', or Ctrl-D.\", stacklevel=1)\n"
     ]
    }
   ],
   "source": [
    "import sys\n",
    "A, B = map(int, input().split())\n",
    "S = list(input())\n",
    "\n",
    "if A+B+1 != len(S):\n",
    "    print(\"No\")\n",
    "    sys.exit(0)\n",
    "if S[A] != \"-\":\n",
    "    print(\"No\")\n",
    "    sys.exit(0)\n",
    "\n",
    "del S[A]\n",
    "for s in S:\n",
    "    if s == \"-\":\n",
    "        print(\"No\")\n",
    "        sys.exit(0)\n",
    "else:\n",
    "    print(\"Yes\")"
   ]
  },
  {
   "cell_type": "code",
   "execution_count": 15,
   "metadata": {},
   "outputs": [],
   "source": [
    "#Expired"
   ]
  },
  {
   "cell_type": "code",
   "execution_count": 19,
   "metadata": {},
   "outputs": [
    {
     "name": "stdout",
     "output_type": "stream",
     "text": [
      "3 7 12\n",
      "dangerous\n"
     ]
    }
   ],
   "source": [
    "X, A, B = map(int, input().split())\n",
    "\n",
    "if A >= B:\n",
    "    print(\"delicious\")\n",
    "else:\n",
    "    expired = B-A\n",
    "    if X >= expired:\n",
    "        print(\"safe\")\n",
    "    else:\n",
    "        print(\"dangerous\")"
   ]
  },
  {
   "cell_type": "code",
   "execution_count": 20,
   "metadata": {},
   "outputs": [],
   "source": [
    "#Sum and Product"
   ]
  },
  {
   "cell_type": "code",
   "execution_count": 28,
   "metadata": {},
   "outputs": [
    {
     "name": "stdout",
     "output_type": "stream",
     "text": [
      "1000000000000 1\n",
      "No\n"
     ]
    }
   ],
   "source": [
    "S, P = map(int, input().split())\n",
    "\n",
    "ans = \"No\"\n",
    "for i in range(1, int((10**12)**(1/2))+50):\n",
    "    if i*(S-i) == P:\n",
    "        ans = \"Yes\"\n",
    "        break\n",
    "\n",
    "print(ans)"
   ]
  },
  {
   "cell_type": "code",
   "execution_count": 30,
   "metadata": {},
   "outputs": [],
   "source": [
    "#Five Dishes"
   ]
  },
  {
   "cell_type": "code",
   "execution_count": 37,
   "metadata": {},
   "outputs": [
    {
     "name": "stdout",
     "output_type": "stream",
     "text": [
      "29\n",
      "20\n",
      "7\n",
      "35\n",
      "120\n",
      "80 5\n"
     ]
    }
   ],
   "source": [
    "cnt = 0\n",
    "ans = 0\n",
    "for _ in range(5):\n",
    "    S = input()\n",
    "    if int(S[-1]) == 0:\n",
    "        ans += int(S)\n",
    "    else:\n",
    "        if 10-int(S[-1]) > cnt:\n",
    "            cnt = 10-int(S[-1])\n",
    "        ans += int(S)+10-int(S[-1])\n",
    "        \n",
    "print(ans-cnt)"
   ]
  },
  {
   "cell_type": "code",
   "execution_count": 38,
   "metadata": {},
   "outputs": [],
   "source": [
    "#754"
   ]
  },
  {
   "cell_type": "code",
   "execution_count": 4,
   "metadata": {},
   "outputs": [
    {
     "name": "stdout",
     "output_type": "stream",
     "text": [
      "111111111111\n",
      "0 3\n",
      "1 4\n",
      "2 5\n",
      "3 6\n",
      "4 7\n",
      "5 8\n",
      "6 9\n",
      "7 10\n",
      "8 11\n",
      "9 12\n",
      "642\n"
     ]
    }
   ],
   "source": [
    "S = input()\n",
    "\n",
    "cnt = []\n",
    "for i in range(len(S)-2):\n",
    "    x = int(S[i:i+3])\n",
    "    cnt.append(abs(x-753))\n",
    "    \n",
    "print(min(cnt))"
   ]
  },
  {
   "cell_type": "code",
   "execution_count": 5,
   "metadata": {},
   "outputs": [],
   "source": [
    "#Simple math"
   ]
  },
  {
   "cell_type": "code",
   "execution_count": 8,
   "metadata": {},
   "outputs": [
    {
     "name": "stdout",
     "output_type": "stream",
     "text": [
      "1000000000 987654321 123456789\n",
      "951633476\n"
     ]
    }
   ],
   "source": [
    "A, B, C = map(int, input().split())\n",
    "\n",
    "S = ((A*(A+1))//2)*((B*(B+1))//2)*((C*(C+1))//2)\n",
    "print(S%998244353)"
   ]
  },
  {
   "cell_type": "code",
   "execution_count": 9,
   "metadata": {},
   "outputs": [],
   "source": [
    "#Thumbbail"
   ]
  },
  {
   "cell_type": "code",
   "execution_count": 11,
   "metadata": {},
   "outputs": [
    {
     "name": "stdout",
     "output_type": "stream",
     "text": [
      "4\n",
      "2 5 2 5\n",
      "0\n"
     ]
    }
   ],
   "source": [
    "N = int(input())\n",
    "A = list(map(int, input().split()))\n",
    "\n",
    "mean = sum(A)/len(A)\n",
    "cnt = []\n",
    "for n in range(N):\n",
    "    cnt.append(abs(A[n]-mean))\n",
    "    \n",
    "print(cnt.index(min(cnt)))"
   ]
  },
  {
   "cell_type": "code",
   "execution_count": 12,
   "metadata": {},
   "outputs": [],
   "source": [
    "#Cream puff"
   ]
  },
  {
   "cell_type": "code",
   "execution_count": 15,
   "metadata": {},
   "outputs": [
    {
     "name": "stdout",
     "output_type": "stream",
     "text": [
      "1000000007\n",
      "1\n",
      "1000000007\n"
     ]
    }
   ],
   "source": [
    "N = int(input())\n",
    "\n",
    "def make_divisors(n):\n",
    "    lower_divisors , upper_divisors = [], []\n",
    "    i = 1\n",
    "    while i*i <= n:\n",
    "        if n % i == 0:\n",
    "            lower_divisors.append(i)\n",
    "            if i != n // i:\n",
    "                upper_divisors.append(n//i)\n",
    "        i += 1\n",
    "    return lower_divisors + upper_divisors[::-1]\n",
    "\n",
    "for n in make_divisors(N):\n",
    "    print(n)"
   ]
  },
  {
   "cell_type": "code",
   "execution_count": 16,
   "metadata": {},
   "outputs": [],
   "source": [
    "#Shift only"
   ]
  },
  {
   "cell_type": "code",
   "execution_count": 22,
   "metadata": {},
   "outputs": [
    {
     "name": "stdout",
     "output_type": "stream",
     "text": [
      "6\n",
      "382253568 723152896 37802240 379425024 404894720 471526144\n",
      "8\n"
     ]
    }
   ],
   "source": [
    "N = int(input())\n",
    "A = list(map(int, input().split()))\n",
    "\n",
    "cnt = 0\n",
    "while len(A) == N:\n",
    "    A = [a//2 for a in A if a%2==0]\n",
    "    cnt += 1\n",
    "            \n",
    "print(cnt-1)"
   ]
  },
  {
   "cell_type": "code",
   "execution_count": 3,
   "metadata": {},
   "outputs": [],
   "source": [
    "#Food"
   ]
  },
  {
   "cell_type": "code",
   "execution_count": 1,
   "metadata": {},
   "outputs": [
    {
     "name": "stdout",
     "output_type": "stream",
     "text": [
      "3 4\n",
      "2 1 3\n",
      "3 1 2 3\n",
      "2 3 2\n",
      "1\n"
     ]
    }
   ],
   "source": [
    "N, M = map(int, input().split())\n",
    "cnt = [0]*M\n",
    "for _ in range(N):\n",
    "    ka = list(map(int, input().split()))\n",
    "    for a in ka[1:]:\n",
    "        cnt[a-1] += 1\n",
    "        \n",
    "ans = 0\n",
    "for c in cnt:\n",
    "    if c == N:\n",
    "        ans += 1\n",
    "        \n",
    "print(ans)"
   ]
  },
  {
   "cell_type": "code",
   "execution_count": 4,
   "metadata": {},
   "outputs": [],
   "source": [
    "#Palindromic"
   ]
  },
  {
   "cell_type": "code",
   "execution_count": 6,
   "metadata": {},
   "outputs": [
    {
     "name": "stdout",
     "output_type": "stream",
     "text": [
      "31415 92653\n",
      "612\n"
     ]
    }
   ],
   "source": [
    "A, B = map(int, input().split())\n",
    "\n",
    "cnt = 0\n",
    "for n in range(A, B+1):\n",
    "    n = str(n)\n",
    "    cnt += n == n[::-1]\n",
    "    \n",
    "print(cnt)"
   ]
  },
  {
   "cell_type": "code",
   "execution_count": 7,
   "metadata": {},
   "outputs": [],
   "source": [
    "#Increment Decrement"
   ]
  },
  {
   "cell_type": "code",
   "execution_count": 9,
   "metadata": {},
   "outputs": [
    {
     "name": "stdout",
     "output_type": "stream",
     "text": [
      "7\n",
      "DDIDDII\n",
      "0\n"
     ]
    }
   ],
   "source": [
    "N = int(input())\n",
    "S = input()\n",
    "\n",
    "ans = [0]\n",
    "cnt = 0\n",
    "for s in S:\n",
    "    if s == \"I\":\n",
    "        cnt += 1\n",
    "        ans.append(cnt)\n",
    "    else:\n",
    "        cnt -= 1\n",
    "        ans.append(cnt)\n",
    "        \n",
    "print(max(ans))"
   ]
  },
  {
   "cell_type": "code",
   "execution_count": 10,
   "metadata": {},
   "outputs": [],
   "source": [
    "#Collecting balls"
   ]
  },
  {
   "cell_type": "code",
   "execution_count": 14,
   "metadata": {},
   "outputs": [
    {
     "name": "stdout",
     "output_type": "stream",
     "text": [
      "5\n",
      "20\n",
      "11 12 9 17 12\n",
      "74\n"
     ]
    }
   ],
   "source": [
    "N = int(input())\n",
    "K = int(input())\n",
    "X = list(map(int, input().split()))\n",
    "\n",
    "cnt = 0\n",
    "for x in X:\n",
    "    cnt += min(abs(x-0), abs(K-x))*2\n",
    "    \n",
    "print(cnt)"
   ]
  },
  {
   "cell_type": "code",
   "execution_count": 15,
   "metadata": {},
   "outputs": [],
   "source": [
    "#Sum of gcd of Tuples (Easy)"
   ]
  },
  {
   "cell_type": "code",
   "execution_count": 32,
   "metadata": {},
   "outputs": [
    {
     "name": "stdout",
     "output_type": "stream",
     "text": [
      "2\n",
      "9\n"
     ]
    }
   ],
   "source": [
    "import math\n",
    "from functools import reduce\n",
    "K = int(input())\n",
    "\n",
    "def gcd(*numbers):\n",
    "    return reduce(math.gcd, numbers)\n",
    "\n",
    "cnt = 0\n",
    "for a in range(1, K+1):\n",
    "    for b in range(1, K+1):\n",
    "        g = gcd(a, b)\n",
    "        if g == 1:\n",
    "            cnt += K\n",
    "            continue\n",
    "        for c in range(1, K+1):\n",
    "            cnt += gcd(g, c)\n",
    "            \n",
    "print(cnt)"
   ]
  },
  {
   "cell_type": "code",
   "execution_count": null,
   "metadata": {},
   "outputs": [],
   "source": []
  }
 ],
 "metadata": {
  "kernelspec": {
   "display_name": "Python 3",
   "language": "python",
   "name": "python3"
  },
  "language_info": {
   "codemirror_mode": {
    "name": "ipython",
    "version": 3
   },
   "file_extension": ".py",
   "mimetype": "text/x-python",
   "name": "python",
   "nbconvert_exporter": "python",
   "pygments_lexer": "ipython3",
   "version": "3.6.4"
  }
 },
 "nbformat": 4,
 "nbformat_minor": 2
}
