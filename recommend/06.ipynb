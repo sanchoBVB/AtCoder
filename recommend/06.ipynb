{
 "cells": [
  {
   "cell_type": "code",
   "execution_count": 1,
   "metadata": {},
   "outputs": [],
   "source": [
    "#Prefix and Suffix"
   ]
  },
  {
   "cell_type": "code",
   "execution_count": 9,
   "metadata": {},
   "outputs": [
    {
     "name": "stdout",
     "output_type": "stream",
     "text": [
      "3\n",
      "abc\n",
      "cde\n",
      "5\n"
     ]
    }
   ],
   "source": [
    "N = int(input())\n",
    "s = input()\n",
    "t = input()\n",
    "\n",
    "ans = N*2\n",
    "for n in range(N):\n",
    "    if s[n:] == t[:N-n]:\n",
    "        ans -= len(s[n:])\n",
    "        break\n",
    "        \n",
    "print(ans)"
   ]
  },
  {
   "cell_type": "code",
   "execution_count": 10,
   "metadata": {},
   "outputs": [],
   "source": [
    "#Grid Replacing 2"
   ]
  },
  {
   "cell_type": "code",
   "execution_count": 57,
   "metadata": {},
   "outputs": [
    {
     "name": "stdout",
     "output_type": "stream",
     "text": [
      "11 11\n",
      "...#####...\n",
      ".##.....##.\n",
      "#..##.##..#\n",
      "#.........#\n",
      "#...###...#\n",
      ".#########.\n",
      ".#.#.#.#.#.\n",
      "##.#.#.#.##\n",
      "..##.#.##..\n",
      ".##..#..##.\n",
      ".##..#..##.\n",
      "Yes\n"
     ]
    }
   ],
   "source": [
    "H, W = map(int, input().split())\n",
    "S = []\n",
    "for _ in range(H):\n",
    "    s = list(input())\n",
    "    S.append(s)\n",
    "    \n",
    "cnt = [[0]*W for _ in range(H)]\n",
    "\n",
    "for h in range(H):\n",
    "    c = 0\n",
    "    for w in range(W):\n",
    "        if S[h][w] == \"#\":\n",
    "            c += 1\n",
    "        else:\n",
    "            if c == 1:\n",
    "                cnt[h][w-1] = 1\n",
    "            c = 0\n",
    "    if c == 1:\n",
    "        cnt[h][w] = 1\n",
    "\n",
    "ans = \"Yes\"\n",
    "for w in range(W):\n",
    "    c = 0\n",
    "    for h in range(H):\n",
    "        if S[h][w] == \"#\":\n",
    "            c += 1\n",
    "        else:\n",
    "            if c == 1:\n",
    "                if cnt[h-1][w] == 1:\n",
    "                    ans = \"No\"\n",
    "                    break\n",
    "            c = 0\n",
    "    if c == 1:\n",
    "        if cnt[h][w] == 1:\n",
    "            ans = \"No\"\n",
    "            break\n",
    "            \n",
    "print(ans)"
   ]
  },
  {
   "cell_type": "code",
   "execution_count": 1,
   "metadata": {},
   "outputs": [],
   "source": [
    "#Flip"
   ]
  },
  {
   "cell_type": "code",
   "execution_count": 8,
   "metadata": {},
   "outputs": [
    {
     "name": "stdout",
     "output_type": "stream",
     "text": [
      "4 3\n",
      "0\n"
     ]
    }
   ],
   "source": [
    "N, M = map(int, input().split())\n",
    "\n",
    "if N == 1:\n",
    "    if M == 1:\n",
    "        print(1)\n",
    "    else:\n",
    "        print((N-2)*(M-2)*(-1))\n",
    "else:\n",
    "    if M == 1:\n",
    "        print((N-2)*(M-2)*(-1))\n",
    "    else:\n",
    "        print((N-2)*(M-2))"
   ]
  },
  {
   "cell_type": "code",
   "execution_count": null,
   "metadata": {},
   "outputs": [],
   "source": []
  }
 ],
 "metadata": {
  "kernelspec": {
   "display_name": "Python 3",
   "language": "python",
   "name": "python3"
  },
  "language_info": {
   "codemirror_mode": {
    "name": "ipython",
    "version": 3
   },
   "file_extension": ".py",
   "mimetype": "text/x-python",
   "name": "python",
   "nbconvert_exporter": "python",
   "pygments_lexer": "ipython3",
   "version": "3.6.4"
  }
 },
 "nbformat": 4,
 "nbformat_minor": 2
}
