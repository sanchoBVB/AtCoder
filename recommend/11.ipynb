{
 "cells": [
  {
   "cell_type": "code",
   "execution_count": 1,
   "metadata": {},
   "outputs": [],
   "source": [
    "#Divide a Cuboid"
   ]
  },
  {
   "cell_type": "code",
   "execution_count": 6,
   "metadata": {},
   "outputs": [
    {
     "name": "stdout",
     "output_type": "stream",
     "text": [
      "3 3 3\n",
      "9\n"
     ]
    }
   ],
   "source": [
    "A, B, C = map(int, input().split())\n",
    "\n",
    "if (A*B*C)%2 == 0:\n",
    "    print(0)\n",
    "else:\n",
    "    print(min(A*B, B*C, C*A))"
   ]
  },
  {
   "cell_type": "code",
   "execution_count": 7,
   "metadata": {},
   "outputs": [],
   "source": [
    "#Unification"
   ]
  },
  {
   "cell_type": "code",
   "execution_count": 10,
   "metadata": {},
   "outputs": [
    {
     "name": "stdout",
     "output_type": "stream",
     "text": [
      "0\n",
      "0\n"
     ]
    }
   ],
   "source": [
    "S = input()\n",
    "\n",
    "print(min(S.count(\"0\"), S.count(\"1\"))*2)"
   ]
  },
  {
   "cell_type": "code",
   "execution_count": 11,
   "metadata": {},
   "outputs": [],
   "source": [
    "#仲良しうさぎ"
   ]
  },
  {
   "cell_type": "code",
   "execution_count": 35,
   "metadata": {},
   "outputs": [
    {
     "name": "stdout",
     "output_type": "stream",
     "text": [
      "5\n",
      "5 5 5 5 1\n",
      "1\n"
     ]
    }
   ],
   "source": [
    "N = int(input())\n",
    "A = list(map(int, input().split()))\n",
    "\n",
    "ans = 0\n",
    "for n in range(N):\n",
    "    if A[A[n]-1] == n+1:\n",
    "        ans += 1\n",
    "print(ans//2) "
   ]
  },
  {
   "cell_type": "code",
   "execution_count": 36,
   "metadata": {},
   "outputs": [],
   "source": [
    "#Energy Drink"
   ]
  },
  {
   "cell_type": "code",
   "execution_count": 47,
   "metadata": {},
   "outputs": [
    {
     "name": "stdout",
     "output_type": "stream",
     "text": [
      "1 100000\n",
      "1000000000 100000\n",
      "100000000000000\n"
     ]
    }
   ],
   "source": [
    "N, M = map(int, input().split())\n",
    "AB = []\n",
    "for _ in range(N):\n",
    "    AB.append(list(map(int, input().split())))\n",
    "\n",
    "AB = sorted(AB)\n",
    "cnt = 0\n",
    "ans = 0\n",
    "for ab in AB:\n",
    "    if cnt+ab[1] <= M:\n",
    "        cnt += ab[1]\n",
    "        ans += ab[0]*ab[1]\n",
    "    else:\n",
    "        ans += (M-cnt)*ab[0]\n",
    "        cnt += M-cnt\n",
    "        break\n",
    "    \n",
    "print(ans)"
   ]
  },
  {
   "cell_type": "code",
   "execution_count": 48,
   "metadata": {},
   "outputs": [],
   "source": [
    "#ss"
   ]
  },
  {
   "cell_type": "code",
   "execution_count": 55,
   "metadata": {},
   "outputs": [
    {
     "name": "stdout",
     "output_type": "stream",
     "text": [
      "abc\n",
      "1\n"
     ]
    }
   ],
   "source": [
    "S = list(input())\n",
    "\n",
    "for _ in range(len(S)-1):\n",
    "    del S[-1]\n",
    "    if S[:int(len(S)/2)] == S[int(len(S)/2):]:\n",
    "        break\n",
    "        \n",
    "print(len(S))"
   ]
  },
  {
   "cell_type": "code",
   "execution_count": 56,
   "metadata": {},
   "outputs": [],
   "source": [
    "#Connect Cities"
   ]
  },
  {
   "cell_type": "code",
   "execution_count": null,
   "metadata": {},
   "outputs": [],
   "source": [
    "import sys\n",
    "import math\n",
    "def union(parent, rank, i, j):\n",
    "\t# print(parent)\n",
    "\t# print(i)\n",
    "\ti_id = find(parent, i)\n",
    "\t# print(j)\n",
    "\tj_id = find(parent, j)\n",
    "\t# print(i_id, j_id)\n",
    "\t# print(rank)\n",
    "\tif i_id == j_id:\n",
    "\t\treturn\n",
    "\tif rank[i_id] > rank[j_id]:\n",
    "\t\tparent[j_id] = i_id\n",
    "\telse:\n",
    "\t\tparent[i_id] = j_id\n",
    "\t\tif rank[i_id] == rank[j_id]:\n",
    "\t\t\trank[j_id] += 1\n",
    " \n",
    "def find(parent, i):\n",
    "\tv = list()\n",
    "\twhile i != parent[i]:\n",
    "\t\ti = parent[i]\n",
    "\t\tv.append(i)\n",
    "\tfor j in v:\n",
    "\t\tparent[j] = i\n",
    "\treturn i\n",
    " \n",
    " \n",
    "if __name__ == '__main__':\n",
    "\t\n",
    "\ts = input().split()\n",
    "\tn, m = int(s[0]), int(s[1])\n",
    "\trank = [0]*(n+1)\n",
    "\tparent = list(i for i in range(0,n+1))\n",
    "\t\n",
    "\tfor i in range(m):\n",
    "\t\ts = input().split()\n",
    "\t\tx, y = int(s[0]), int(s[1])\n",
    "\t\t# arr[x].append(y)\n",
    "\t\t# arr[y].append(x)\n",
    "\t\tunion(parent, rank, x, y)\n",
    "\t\t\n",
    " \n",
    "\tans = 0;\n",
    "\tmp = dict()\n",
    "\tfor i in range(1,n+1):\n",
    "\t\tt = find(parent, i)\n",
    "\t\tif t not in mp:\n",
    "\t\t\tans += 1\n",
    "\t\t\tmp[t] = 1\n",
    " \n",
    "\tprint(ans-1) "
   ]
  },
  {
   "cell_type": "code",
   "execution_count": null,
   "metadata": {},
   "outputs": [],
   "source": []
  }
 ],
 "metadata": {
  "kernelspec": {
   "display_name": "Python 3",
   "language": "python",
   "name": "python3"
  },
  "language_info": {
   "codemirror_mode": {
    "name": "ipython",
    "version": 3
   },
   "file_extension": ".py",
   "mimetype": "text/x-python",
   "name": "python",
   "nbconvert_exporter": "python",
   "pygments_lexer": "ipython3",
   "version": "3.6.4"
  }
 },
 "nbformat": 4,
 "nbformat_minor": 2
}
