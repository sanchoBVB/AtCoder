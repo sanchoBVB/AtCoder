{
 "cells": [
  {
   "cell_type": "code",
   "execution_count": 1,
   "metadata": {},
   "outputs": [],
   "source": [
    "#-"
   ]
  },
  {
   "cell_type": "code",
   "execution_count": 3,
   "metadata": {},
   "outputs": [
    {
     "name": "stdout",
     "output_type": "stream",
     "text": [
      "atcoderbeginnercontest\n",
      "atcoderregularcontest\n",
      "aattccooddeerrbreeggiunlnaerrccoonntteesstt\n"
     ]
    }
   ],
   "source": [
    "O = list(input())\n",
    "E = list(input())\n",
    "\n",
    "ans = [0]*(len(O)+len(E))\n",
    "for i in range(len(ans)):\n",
    "    if i % 2 == 0:\n",
    "        ans[i] = O[0]\n",
    "        del O[0]\n",
    "    else:\n",
    "        ans[i] = E[0]\n",
    "        del E[0]\n",
    "        \n",
    "print(\"\".join(ans))"
   ]
  },
  {
   "cell_type": "code",
   "execution_count": 4,
   "metadata": {},
   "outputs": [],
   "source": [
    "#Palace"
   ]
  },
  {
   "cell_type": "code",
   "execution_count": 8,
   "metadata": {},
   "outputs": [
    {
     "name": "stdout",
     "output_type": "stream",
     "text": [
      "2\n",
      "12 5\n",
      "1000 2000\n",
      "1\n"
     ]
    }
   ],
   "source": [
    "N = int(input())\n",
    "T, A = map(int, input().split())\n",
    "H = list(map(int, input().split()))\n",
    "\n",
    "cnt = []\n",
    "for h in H:\n",
    "    a = T-(h*0.006)\n",
    "    c = abs(A-a)\n",
    "    cnt.append(c)\n",
    "    \n",
    "ans = cnt.index(min(cnt))+1\n",
    "print(ans)"
   ]
  },
  {
   "cell_type": "code",
   "execution_count": 1,
   "metadata": {},
   "outputs": [],
   "source": [
    "#Qualification simulator"
   ]
  },
  {
   "cell_type": "code",
   "execution_count": 4,
   "metadata": {},
   "outputs": [
    {
     "name": "stdout",
     "output_type": "stream",
     "text": [
      "10 2 3\n",
      "abccabaabb\n",
      "Yes\n",
      "Yes\n",
      "No\n",
      "No\n",
      "Yes\n",
      "Yes\n",
      "Yes\n",
      "No\n",
      "No\n",
      "No\n"
     ]
    }
   ],
   "source": [
    "N, A, B = map(int, input().split())\n",
    "S = list(input())\n",
    "\n",
    "cnt = 0\n",
    "cnt_b = 0\n",
    "for n in range(N):\n",
    "    if S[n] == \"c\":\n",
    "        print(\"No\")\n",
    "    else:\n",
    "        if S[n] == \"a\":\n",
    "            if A+B > cnt:\n",
    "                cnt += 1\n",
    "                print(\"Yes\")\n",
    "            else:\n",
    "                print(\"No\")\n",
    "        else:\n",
    "            cnt_b += 1\n",
    "            if A+B > cnt and cnt_b <= B:\n",
    "                cnt += 1\n",
    "                print(\"Yes\")\n",
    "            else:\n",
    "                print(\"No\")"
   ]
  },
  {
   "cell_type": "code",
   "execution_count": 5,
   "metadata": {},
   "outputs": [],
   "source": [
    "#Range Product"
   ]
  },
  {
   "cell_type": "code",
   "execution_count": 9,
   "metadata": {},
   "outputs": [
    {
     "name": "stdout",
     "output_type": "stream",
     "text": [
      "-4 -1\n",
      "Positive\n"
     ]
    }
   ],
   "source": [
    "a, b = map(int, input().split())\n",
    "\n",
    "if a<=0 and 0<=b:\n",
    "    print(\"Zero\")\n",
    "else:\n",
    "    if b < 0:\n",
    "        if abs(a-b)%2 == 0:\n",
    "            print(\"Negative\")\n",
    "        else:\n",
    "            print(\"Positive\")\n",
    "    else:\n",
    "        print(\"Positive\")"
   ]
  },
  {
   "cell_type": "code",
   "execution_count": 10,
   "metadata": {},
   "outputs": [],
   "source": [
    "#Lucas Number"
   ]
  },
  {
   "cell_type": "code",
   "execution_count": 19,
   "metadata": {},
   "outputs": [
    {
     "name": "stdout",
     "output_type": "stream",
     "text": [
      "1\n",
      "1\n"
     ]
    }
   ],
   "source": [
    "N = int(input())\n",
    "\n",
    "ans = [2, 1]\n",
    "cnt = 0\n",
    "for _ in range(1, N):\n",
    "    cnt = ans[-1]+ans[-2]\n",
    "    ans.append(cnt)\n",
    "\n",
    "print(ans[N])"
   ]
  },
  {
   "cell_type": "code",
   "execution_count": 20,
   "metadata": {},
   "outputs": [],
   "source": [
    "#Coloring Colorfully"
   ]
  },
  {
   "cell_type": "code",
   "execution_count": 46,
   "metadata": {},
   "outputs": [
    {
     "name": "stdout",
     "output_type": "stream",
     "text": [
      "001010\n",
      "1\n"
     ]
    }
   ],
   "source": [
    "S = list(input())\n",
    "cnt1 = [\"1\", \"0\"]*10**5\n",
    "cnt2 = [\"0\", \"1\"]*10**5\n",
    "\n",
    "ans1 = 0\n",
    "ans2 = 0\n",
    "for i in range(len(S)):\n",
    "    if cnt1[i] != S[i]:\n",
    "        ans1 += 1\n",
    "    if cnt2[i] != S[i]:\n",
    "        ans2 += 1\n",
    "        \n",
    "print(min(ans1, ans2))"
   ]
  },
  {
   "cell_type": "code",
   "execution_count": 47,
   "metadata": {},
   "outputs": [],
   "source": [
    "#Picture Frame"
   ]
  },
  {
   "cell_type": "code",
   "execution_count": 57,
   "metadata": {},
   "outputs": [
    {
     "name": "stdout",
     "output_type": "stream",
     "text": [
      "3 4\n",
      "asdf\n",
      "ghjk\n",
      "ijnb\n",
      "######\n",
      "#asdf#\n",
      "#ghjk#\n",
      "#ijnb#\n",
      "######\n"
     ]
    }
   ],
   "source": [
    "H, W = map(int, input().split())\n",
    "cnt = [[\"#\"]*(W+2) for _ in range(H+2)]\n",
    "for h in range(H):\n",
    "    a = list(input())\n",
    "    cnt[h+1][1:len(a)+1] = a\n",
    "    \n",
    "for c in cnt:\n",
    "    print(\"\".join(c))"
   ]
  },
  {
   "cell_type": "code",
   "execution_count": 58,
   "metadata": {},
   "outputs": [],
   "source": [
    "#Some Sums"
   ]
  },
  {
   "cell_type": "code",
   "execution_count": 67,
   "metadata": {},
   "outputs": [
    {
     "name": "stdout",
     "output_type": "stream",
     "text": [
      "100 4 16\n",
      "4554\n"
     ]
    }
   ],
   "source": [
    "N, A, B = map(int, input().split())\n",
    "\n",
    "ans = 0\n",
    "for n in range(1, N+1):\n",
    "    cnt = list(map(int, list(str(n))))\n",
    "    if A<=sum(cnt) and sum(cnt)<=B:\n",
    "        ans += n\n",
    "        \n",
    "print(ans)"
   ]
  },
  {
   "cell_type": "code",
   "execution_count": 62,
   "metadata": {},
   "outputs": [
    {
     "data": {
      "text/plain": [
       "int"
      ]
     },
     "execution_count": 62,
     "metadata": {},
     "output_type": "execute_result"
    }
   ],
   "source": []
  },
  {
   "cell_type": "code",
   "execution_count": null,
   "metadata": {},
   "outputs": [],
   "source": []
  }
 ],
 "metadata": {
  "kernelspec": {
   "display_name": "Python 3",
   "language": "python",
   "name": "python3"
  },
  "language_info": {
   "codemirror_mode": {
    "name": "ipython",
    "version": 3
   },
   "file_extension": ".py",
   "mimetype": "text/x-python",
   "name": "python",
   "nbconvert_exporter": "python",
   "pygments_lexer": "ipython3",
   "version": "3.6.4"
  }
 },
 "nbformat": 4,
 "nbformat_minor": 2
}
