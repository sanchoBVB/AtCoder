{
 "cells": [
  {
   "cell_type": "code",
   "execution_count": 1,
   "metadata": {},
   "outputs": [],
   "source": [
    "#Collinearity"
   ]
  },
  {
   "cell_type": "code",
   "execution_count": 2,
   "metadata": {},
   "outputs": [
    {
     "name": "stdout",
     "output_type": "stream",
     "text": [
      "3\n",
      "3 2\n",
      "1 2\n",
      "4 5\n",
      "No\n"
     ]
    }
   ],
   "source": [
    "import sys\n",
    "import itertools\n",
    "\n",
    "N = int(input())\n",
    "x = [0] * N\n",
    "y = [0] * N\n",
    "for i in range(N):\n",
    "    x[i], y[i] = map(int, input().split())\n",
    "\n",
    "for i in range(N - 2):\n",
    "    for j in range(i+1, N - 1):\n",
    "        for k in range(j+1, N):\n",
    "            x1 = x[i] - x[j]\n",
    "            y1 = y[i] - y[j]\n",
    "            x2 = x[i] - x[k]\n",
    "            y2 = y[i] - y[k]\n",
    "\n",
    "            if x1 * y2 == x2 * y1:\n",
    "                print(\"Yes\")\n",
    "                #print(i,j,k)\n",
    "                sys.exit()\n",
    "\n",
    "print(\"No\")"
   ]
  },
  {
   "cell_type": "code",
   "execution_count": 3,
   "metadata": {},
   "outputs": [],
   "source": [
    "#Half and Half"
   ]
  },
  {
   "cell_type": "code",
   "execution_count": 10,
   "metadata": {},
   "outputs": [
    {
     "name": "stdout",
     "output_type": "stream",
     "text": [
      "1500 2000 1600 3 2\n",
      "7900\n"
     ]
    }
   ],
   "source": [
    "A, B, C, X, Y = map(int, input().split())\n",
    "\n",
    "ans1 = (A*X)+(B*Y)\n",
    "if X >= Y:\n",
    "    ans2 = ((Y*2)*C)+((X-Y)*A)\n",
    "    ans3 = X*2*C\n",
    "else:\n",
    "    ans2 = ((X*2)*C)+((Y-X)*B)\n",
    "    ans3 = Y*2*C\n",
    "    \n",
    "print(min(ans1, ans2, ans3))"
   ]
  },
  {
   "cell_type": "code",
   "execution_count": 12,
   "metadata": {},
   "outputs": [],
   "source": [
    "#Slider"
   ]
  },
  {
   "cell_type": "code",
   "execution_count": 11,
   "metadata": {},
   "outputs": [
    {
     "name": "stdout",
     "output_type": "stream",
     "text": [
      "90\n",
      "4\n"
     ]
    }
   ],
   "source": [
    "X = int(input())\n",
    "\n",
    "k = 0\n",
    "while True:\n",
    "    k += 1\n",
    "    if (k*X)%360 == 0:\n",
    "        break\n",
    "        \n",
    "print(k)"
   ]
  },
  {
   "cell_type": "code",
   "execution_count": 13,
   "metadata": {},
   "outputs": [],
   "source": [
    "#Chrismas Eve"
   ]
  },
  {
   "cell_type": "code",
   "execution_count": 14,
   "metadata": {},
   "outputs": [
    {
     "name": "stdout",
     "output_type": "stream",
     "text": [
      "5 3\n",
      "10\n",
      "15\n",
      "11\n",
      "12\n",
      "14\n",
      "15 12\n",
      "14 11\n",
      "12 10\n"
     ]
    }
   ],
   "source": [
    "N, K = map(int, input().split())\n",
    "H = []\n",
    "for _ in range(N):\n",
    "    H.append(int(input()))\n",
    "\n",
    "cnt = sorted(H, reverse=True)\n",
    "ans = []\n",
    "for i in range(K, N+1):\n",
    "    ans.append(cnt[i-K]-cnt[i-1])\n",
    "\n",
    "print(min(ans))"
   ]
  },
  {
   "cell_type": "code",
   "execution_count": 15,
   "metadata": {},
   "outputs": [],
   "source": [
    "#To 3"
   ]
  },
  {
   "cell_type": "code",
   "execution_count": 21,
   "metadata": {},
   "outputs": [
    {
     "name": "stdout",
     "output_type": "stream",
     "text": [
      "11\n",
      "-1\n"
     ]
    },
    {
     "ename": "SystemExit",
     "evalue": "0",
     "output_type": "error",
     "traceback": [
      "An exception has occurred, use %tb to see the full traceback.\n",
      "\u001b[0;31mSystemExit\u001b[0m\u001b[0;31m:\u001b[0m 0\n"
     ]
    },
    {
     "name": "stderr",
     "output_type": "stream",
     "text": [
      "/Users/miuratakuto/.pyenv/versions/anaconda3-5.1.0/lib/python3.6/site-packages/IPython/core/interactiveshell.py:2918: UserWarning: To exit: use 'exit', 'quit', or Ctrl-D.\n",
      "  warn(\"To exit: use 'exit', 'quit', or Ctrl-D.\", stacklevel=1)\n"
     ]
    }
   ],
   "source": [
    "import sys\n",
    "N = input()\n",
    "\n",
    "if int(N)%3 == 0:\n",
    "    print(0)\n",
    "    sys.exit(0)\n",
    "elif int(N)%3 == 1:\n",
    "    if len(N) == 1:\n",
    "        print(-1)\n",
    "        sys.exit(0)\n",
    "    for n in N:\n",
    "        if int(n)%3 == 1:\n",
    "            print(1)\n",
    "            sys.exit(0)\n",
    "    if len(N) == 2:\n",
    "        print(-1)\n",
    "        sys.exit(0)\n",
    "    else:\n",
    "        print(2)\n",
    "        sys.exit(0)\n",
    "else:\n",
    "    if len(N) == 1:\n",
    "        print(-1)\n",
    "        sys.exit(0)\n",
    "    for n in N:\n",
    "        if int(n)%3 == 2:\n",
    "            print(1)\n",
    "            sys.exit(0)\n",
    "    if len(N) == 2:\n",
    "        print(-1)\n",
    "        sys.exit(0)\n",
    "    else:\n",
    "        print(2)\n",
    "        sys.exit(0)"
   ]
  },
  {
   "cell_type": "code",
   "execution_count": 22,
   "metadata": {},
   "outputs": [],
   "source": [
    "#106"
   ]
  },
  {
   "cell_type": "code",
   "execution_count": 26,
   "metadata": {},
   "outputs": [
    {
     "name": "stdout",
     "output_type": "stream",
     "text": [
      "10460353208\n",
      "21 1\n"
     ]
    },
    {
     "ename": "SystemExit",
     "evalue": "0",
     "output_type": "error",
     "traceback": [
      "An exception has occurred, use %tb to see the full traceback.\n",
      "\u001b[0;31mSystemExit\u001b[0m\u001b[0;31m:\u001b[0m 0\n"
     ]
    },
    {
     "name": "stderr",
     "output_type": "stream",
     "text": [
      "/Users/miuratakuto/.pyenv/versions/anaconda3-5.1.0/lib/python3.6/site-packages/IPython/core/interactiveshell.py:2918: UserWarning: To exit: use 'exit', 'quit', or Ctrl-D.\n",
      "  warn(\"To exit: use 'exit', 'quit', or Ctrl-D.\", stacklevel=1)\n"
     ]
    }
   ],
   "source": [
    "import sys\n",
    "N = int(input())\n",
    "\n",
    "for a in range(1, 38):\n",
    "    for b in range(1, 26):\n",
    "        if (3**a)+(5**b) == N:\n",
    "            print(a, b)\n",
    "            sys.exit(0)\n",
    "\n",
    "print(-1)"
   ]
  },
  {
   "cell_type": "code",
   "execution_count": 27,
   "metadata": {},
   "outputs": [],
   "source": [
    "#Cookie Exchanges"
   ]
  },
  {
   "cell_type": "code",
   "execution_count": 28,
   "metadata": {},
   "outputs": [
    {
     "name": "stdout",
     "output_type": "stream",
     "text": [
      "1 2 3\n",
      "0\n"
     ]
    }
   ],
   "source": [
    "a,b,c=map(int, input().split())\n",
    "if a%2==1 or b%2==1 or c%2==1:\n",
    "    print(0)\n",
    "elif a==b and b==c:\n",
    "    print(-1)\n",
    "else:\n",
    "    for i in range(100):\n",
    "        if a%2==1 or b%2==1 or c%2==1:\n",
    "            break\n",
    "        a,b,c=(b+c)//2,(a+c)//2,(a+b)//2\n",
    "    print(i)"
   ]
  },
  {
   "cell_type": "code",
   "execution_count": 29,
   "metadata": {},
   "outputs": [],
   "source": [
    "#Candies"
   ]
  },
  {
   "cell_type": "code",
   "execution_count": 32,
   "metadata": {},
   "outputs": [
    {
     "name": "stdout",
     "output_type": "stream",
     "text": [
      "1\n",
      "2\n",
      "3\n",
      "5\n"
     ]
    }
   ],
   "source": [
    "N = int(input())\n",
    "\n",
    "cnt1 = list(map(int, input().split()))\n",
    "cnt2 = list(map(int, input().split()))\n",
    "ans = sum(cnt1)+cnt2[-1]\n",
    "ans_list = [ans]\n",
    "for i in range(1, N):\n",
    "    ans = ans-cnt1[-i]+cnt2[-(i+1)]\n",
    "    ans_list.append(ans)\n",
    "    \n",
    "print(max(ans_list))"
   ]
  },
  {
   "cell_type": "code",
   "execution_count": 33,
   "metadata": {},
   "outputs": [],
   "source": [
    "#Same Integers"
   ]
  },
  {
   "cell_type": "code",
   "execution_count": 44,
   "metadata": {},
   "outputs": [
    {
     "name": "stdout",
     "output_type": "stream",
     "text": [
      "2 3 4\n",
      "3\n"
     ]
    }
   ],
   "source": [
    "s = sorted(list(map(int, input().split())))\n",
    "A, B, C = s[0], s[1], s[2]\n",
    "\n",
    "cnt = 0\n",
    "cnt += C-B\n",
    "A, B = A+(C-B), (C-B)\n",
    "\n",
    "if abs(C-A)%2 == 0:\n",
    "    cnt += abs(C-A)//2\n",
    "else:\n",
    "    cnt += ((abs(C-A)+1)//2)+1\n",
    "\n",
    "print(cnt)"
   ]
  },
  {
   "cell_type": "code",
   "execution_count": 1,
   "metadata": {},
   "outputs": [],
   "source": [
    "#Multiple Gift"
   ]
  },
  {
   "cell_type": "code",
   "execution_count": 5,
   "metadata": {},
   "outputs": [
    {
     "name": "stdout",
     "output_type": "stream",
     "text": [
      "314159265 358979323846264338\n",
      "31\n"
     ]
    }
   ],
   "source": [
    "X, Y = map(int, input().split())\n",
    "\n",
    "cnt = 0\n",
    "i = X\n",
    "while i <= Y:\n",
    "    cnt += 1\n",
    "    i *= 2\n",
    "    \n",
    "print(cnt)"
   ]
  },
  {
   "cell_type": "code",
   "execution_count": 6,
   "metadata": {},
   "outputs": [],
   "source": [
    "#Wanna go back home"
   ]
  },
  {
   "cell_type": "code",
   "execution_count": 10,
   "metadata": {},
   "outputs": [
    {
     "name": "stdout",
     "output_type": "stream",
     "text": [
      "W\n",
      "No\n"
     ]
    }
   ],
   "source": [
    "S = list(set(input()))\n",
    "\n",
    "ans = \"Yes\"\n",
    "for s in S:\n",
    "    if s == \"N\" and \"S\" not in S:\n",
    "        ans = \"No\"\n",
    "        break\n",
    "    elif s == \"S\" and \"N\" not in S:\n",
    "        ans = \"No\"\n",
    "        break\n",
    "    elif s == \"E\" and \"W\" not in S:\n",
    "        ans = \"No\"\n",
    "        break\n",
    "    elif s == \"W\" and \"E\" not in S:\n",
    "        ans = \"No\"\n",
    "        break\n",
    "        \n",
    "print(ans)"
   ]
  },
  {
   "cell_type": "code",
   "execution_count": 11,
   "metadata": {},
   "outputs": [],
   "source": [
    "#Sum of difference"
   ]
  },
  {
   "cell_type": "code",
   "execution_count": 17,
   "metadata": {},
   "outputs": [
    {
     "name": "stdout",
     "output_type": "stream",
     "text": [
      "5\n",
      "31 41 59 26 53\n",
      "176\n"
     ]
    }
   ],
   "source": [
    "N = int(input())\n",
    "A = list(map(int, input().split()))\n",
    "A.sort(reverse=True)\n",
    "\n",
    "sumA = sum(A)\n",
    "ans = 0\n",
    "for i in range(1,N):\n",
    "    sumA -= A[i-1]\n",
    "    ans += (N-i)*A[i-1] - sumA\n",
    "    \n",
    "print(ans)"
   ]
  },
  {
   "cell_type": "code",
   "execution_count": 18,
   "metadata": {},
   "outputs": [],
   "source": [
    "#Modulo Summation"
   ]
  },
  {
   "cell_type": "code",
   "execution_count": 23,
   "metadata": {},
   "outputs": [
    {
     "name": "stdout",
     "output_type": "stream",
     "text": [
      "5\n",
      "7 46 11 20 11\n",
      "90\n"
     ]
    }
   ],
   "source": [
    "from functools import reduce\n",
    "import math\n",
    "N = int(input())\n",
    "A = list(map(int, input().split()))\n",
    "\n",
    "def my_lcm_base(x, y):\n",
    "    return (x * y) // math.gcd(x, y)\n",
    "\n",
    "def my_lcm(*numbers):\n",
    "    return reduce(my_lcm_base, numbers, 1)\n",
    "\n",
    "m = my_lcm(*A)-1\n",
    "ans = 0\n",
    "for a in A:\n",
    "    ans += m%a\n",
    "    \n",
    "print(ans)"
   ]
  },
  {
   "cell_type": "code",
   "execution_count": null,
   "metadata": {},
   "outputs": [],
   "source": []
  }
 ],
 "metadata": {
  "kernelspec": {
   "display_name": "Python 3",
   "language": "python",
   "name": "python3"
  },
  "language_info": {
   "codemirror_mode": {
    "name": "ipython",
    "version": 3
   },
   "file_extension": ".py",
   "mimetype": "text/x-python",
   "name": "python",
   "nbconvert_exporter": "python",
   "pygments_lexer": "ipython3",
   "version": "3.6.4"
  }
 },
 "nbformat": 4,
 "nbformat_minor": 2
}
