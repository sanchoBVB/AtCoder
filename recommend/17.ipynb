{
 "cells": [
  {
   "cell_type": "code",
   "execution_count": 1,
   "metadata": {},
   "outputs": [],
   "source": [
    "#Coins"
   ]
  },
  {
   "cell_type": "code",
   "execution_count": 6,
   "metadata": {},
   "outputs": [
    {
     "name": "stdout",
     "output_type": "stream",
     "text": [
      "30\n",
      "40\n",
      "50\n",
      "6000\n",
      "213\n"
     ]
    }
   ],
   "source": [
    "A = int(input())\n",
    "B = int(input())\n",
    "C = int(input())\n",
    "X = int(input())\n",
    "\n",
    "ans = 0\n",
    "for a in range(A+1):\n",
    "    a_cnt = a*500\n",
    "    for b in range(B+1):\n",
    "        b_cnt = b*100\n",
    "        for c in range(C+1):\n",
    "            c_cnt = c*50\n",
    "            ans += X == a_cnt+b_cnt+c_cnt\n",
    "            \n",
    "print(ans)"
   ]
  },
  {
   "cell_type": "code",
   "execution_count": 7,
   "metadata": {},
   "outputs": [],
   "source": [
    "#Bishop"
   ]
  },
  {
   "cell_type": "code",
   "execution_count": 10,
   "metadata": {},
   "outputs": [
    {
     "name": "stdout",
     "output_type": "stream",
     "text": [
      "7 3\n",
      "11\n"
     ]
    }
   ],
   "source": [
    "import math\n",
    "H, W = map(int, input().split())\n",
    "\n",
    "if H == 1 or W == 1:\n",
    "    print(1)\n",
    "else:\n",
    "    print(math.ceil((H*W)/2))"
   ]
  },
  {
   "cell_type": "code",
   "execution_count": 11,
   "metadata": {},
   "outputs": [],
   "source": [
    "#Mex Boxes"
   ]
  },
  {
   "cell_type": "code",
   "execution_count": 27,
   "metadata": {},
   "outputs": [
    {
     "name": "stdout",
     "output_type": "stream",
     "text": [
      "20 4\n",
      "6 2 6 8 4 5 5 8 4 1 7 8 0 3 6 1 1 8 3 0\n",
      "11\n"
     ]
    }
   ],
   "source": [
    "N, K = map(int, input().split())\n",
    "A = list(map(int, input().split()))\n",
    "\n",
    "cnt = [0]*N\n",
    "for a in A:\n",
    "    cnt[a] += 1\n",
    "    \n",
    "ans = 0\n",
    "v = K\n",
    "for c in cnt:\n",
    "    v = min(v, c, K)\n",
    "    ans += v\n",
    "    \n",
    "print(ans)"
   ]
  },
  {
   "cell_type": "code",
   "execution_count": 28,
   "metadata": {},
   "outputs": [],
   "source": [
    "#Floor Function"
   ]
  },
  {
   "cell_type": "code",
   "execution_count": 34,
   "metadata": {},
   "outputs": [
    {
     "name": "stdout",
     "output_type": "stream",
     "text": [
      "11 10 9\n",
      "9\n"
     ]
    }
   ],
   "source": [
    "A, B, N = map(int, input().split())\n",
    "\n",
    "if B > N:\n",
    "    print(((A*N)//B)-A*(N//B))\n",
    "else:\n",
    "    print(((A*(B-1))//B)-A*((B-1)//B))"
   ]
  },
  {
   "cell_type": "code",
   "execution_count": 1,
   "metadata": {},
   "outputs": [],
   "source": [
    "#Hachi"
   ]
  },
  {
   "cell_type": "code",
   "execution_count": 38,
   "metadata": {},
   "outputs": [
    {
     "name": "stdout",
     "output_type": "stream",
     "text": [
      "8\n",
      "Yes\n"
     ]
    },
    {
     "ename": "SystemExit",
     "evalue": "0",
     "output_type": "error",
     "traceback": [
      "An exception has occurred, use %tb to see the full traceback.\n",
      "\u001b[0;31mSystemExit\u001b[0m\u001b[0;31m:\u001b[0m 0\n"
     ]
    },
    {
     "name": "stderr",
     "output_type": "stream",
     "text": [
      "/Users/miuratakuto/.pyenv/versions/anaconda3-5.1.0/lib/python3.6/site-packages/IPython/core/interactiveshell.py:2918: UserWarning: To exit: use 'exit', 'quit', or Ctrl-D.\n",
      "  warn(\"To exit: use 'exit', 'quit', or Ctrl-D.\", stacklevel=1)\n"
     ]
    }
   ],
   "source": [
    "import sys\n",
    "import itertools\n",
    "S = list(input())\n",
    "\n",
    "if len(S) <= 2:\n",
    "    cnt1 = int(\"\".join(S))\n",
    "    cnt2 = int(\"\".join(S[::-1]))\n",
    "    if cnt1%8 == 0 or cnt2%8 == 0:\n",
    "        print(\"Yes\")\n",
    "    else:\n",
    "        print(\"No\")\n",
    "    sys.exit(0)\n",
    "\n",
    "S.append(\"0\")\n",
    "ans = \"No\"\n",
    "for s in itertools.combinations(S, 3):\n",
    "    cnt = int(\"\".join(list(s)))\n",
    "    if cnt%8 == 0:\n",
    "        ans = \"Yes\"\n",
    "        break\n",
    "        \n",
    "print(ans)"
   ]
  },
  {
   "cell_type": "code",
   "execution_count": 4,
   "metadata": {},
   "outputs": [
    {
     "name": "stdout",
     "output_type": "stream",
     "text": [
      "1234\n",
      "Yes\n"
     ]
    }
   ],
   "source": [
    "import sys\n",
    "from collections import Counter\n",
    "\n",
    "n = input()\n",
    "\n",
    "if len(n) <= 2:\n",
    "    if int(n) % 8 == 0 or int(n[::-1]) % 8 == 0:\n",
    "        print(\"Yes\")\n",
    "    else:\n",
    "        print(\"No\")\n",
    "    sys.exit(0)\n",
    "\n",
    "cnt = Counter(n)\n",
    "\n",
    "ans = \"No\"\n",
    "for i in range(112, 1000, 8):\n",
    "    if not Counter(str(i)) - cnt:\n",
    "        ans = \"Yes\"\n",
    "        break\n",
    "\n",
    "print(ans)"
   ]
  },
  {
   "cell_type": "code",
   "execution_count": 5,
   "metadata": {},
   "outputs": [],
   "source": [
    "#Cat Snuke and a Voyage"
   ]
  },
  {
   "cell_type": "code",
   "execution_count": 12,
   "metadata": {},
   "outputs": [
    {
     "name": "stdout",
     "output_type": "stream",
     "text": [
      "5 5\n",
      "1 3\n",
      "4 5\n",
      "2 3\n",
      "2 4\n",
      "1 4\n",
      "POSSIBLE\n"
     ]
    }
   ],
   "source": [
    "N, M = map(int, input().split())\n",
    "start = []\n",
    "end = []\n",
    "cnt = 0\n",
    "for _ in range(M):\n",
    "    ab = list(map(int, input().split()))\n",
    "    if ab[0] == 1 and ab[1] == N:\n",
    "        cnt = 1\n",
    "    elif 1 in ab:\n",
    "        start.append(ab[1])\n",
    "    elif N in ab:\n",
    "        end.append(ab[0])\n",
    "\n",
    "if cnt == 1:\n",
    "    print(\"POSSIBLE\")\n",
    "elif len(list(set(start)&set(end))) >= 1:\n",
    "    print(\"POSSIBLE\")\n",
    "else:\n",
    "    print(\"IMPOSSIBLE\")"
   ]
  },
  {
   "cell_type": "code",
   "execution_count": 1,
   "metadata": {},
   "outputs": [],
   "source": [
    "#String Formation"
   ]
  },
  {
   "cell_type": "code",
   "execution_count": 14,
   "metadata": {},
   "outputs": [
    {
     "name": "stdout",
     "output_type": "stream",
     "text": [
      "a\n",
      "4\n",
      "2 1 p\n",
      "1\n",
      "2 2 c\n",
      "1\n",
      "cpa\n"
     ]
    }
   ],
   "source": [
    "S = list(input())\n",
    "Q = int(input())\n",
    "cnt = [0]*Q\n",
    "for q in range(Q):\n",
    "    que = input().split()\n",
    "    if que[0] == \"1\":\n",
    "        S.reverse()\n",
    "    else:\n",
    "        if que[1] == \"1\":\n",
    "            S.insert(0, que[2])\n",
    "        else:\n",
    "            S.append(que[2])\n",
    "\n",
    "print(\"\".join(S))"
   ]
  },
  {
   "cell_type": "code",
   "execution_count": 20,
   "metadata": {},
   "outputs": [
    {
     "name": "stdout",
     "output_type": "stream",
     "text": [
      "a\n",
      "4\n",
      "2 1 p\n",
      "1\n",
      "2 2 c\n",
      "1\n",
      "cpa\n"
     ]
    }
   ],
   "source": [
    "from collections import deque\n",
    "\n",
    "S = input()\n",
    "Q = int(input())\n",
    "\n",
    "T = deque(S)#appendleftが使える、計算量早い\n",
    "flg = False\n",
    "for i in range(Q):\n",
    "    q = input().split()\n",
    "    if q[0] == '1':\n",
    "        flg = not flg#dequeの先頭記録\n",
    "    else:\n",
    "        if q[1] == '1':\n",
    "            if flg:\n",
    "                T.append(q[2])\n",
    "            else:\n",
    "                T.appendleft(q[2])\n",
    "        else:\n",
    "            if flg:\n",
    "                T.appendleft(q[2])\n",
    "            else:\n",
    "                T.append(q[2])\n",
    "\n",
    "T = list(T)\n",
    "if flg:#最後の反転有無\n",
    "    T = T[::-1]\n",
    "print(\"\".join(T))"
   ]
  },
  {
   "cell_type": "code",
   "execution_count": 1,
   "metadata": {},
   "outputs": [],
   "source": [
    "#Streamline"
   ]
  },
  {
   "cell_type": "code",
   "execution_count": 7,
   "metadata": {},
   "outputs": [
    {
     "name": "stdout",
     "output_type": "stream",
     "text": [
      "1 2\n",
      "1 8\n",
      "7\n"
     ]
    }
   ],
   "source": [
    "N, M = map(int, input().split())\n",
    "X = list(map(int, input().split()))\n",
    "X.sort()\n",
    "\n",
    "cnt = [abs(X[i-1]-X[i]) for i in range(1, M)]\n",
    "cnt.sort(reverse=True)\n",
    "del cnt[:N-1]\n",
    "\n",
    "print(sum(cnt))"
   ]
  },
  {
   "cell_type": "code",
   "execution_count": 1,
   "metadata": {},
   "outputs": [],
   "source": [
    "#Sorted Arrays"
   ]
  },
  {
   "cell_type": "code",
   "execution_count": 47,
   "metadata": {},
   "outputs": [
    {
     "name": "stdout",
     "output_type": "stream",
     "text": [
      "3\n",
      "1 1 1\n",
      "1\n"
     ]
    }
   ],
   "source": [
    "N = int(input())\n",
    "A = list(map(int, input().split()))\n",
    "\n",
    "def non_increasing(L):\n",
    "    return all(x>=y for x, y in zip(L, L[1:]))\n",
    "\n",
    "def non_decreasing(L):\n",
    "    return all(x<=y for x, y in zip(L, L[1:]))\n",
    "\n",
    "def monotonic(L):\n",
    "    return non_increasing(L) or non_decreasing(L)\n",
    "\n",
    "ans = 0\n",
    "i = 0\n",
    "for n in range(2, N+1):\n",
    "    if not monotonic(A[i:n]):\n",
    "        ans += 1\n",
    "        i = n-1\n",
    "        \n",
    "print(ans+1)"
   ]
  },
  {
   "cell_type": "code",
   "execution_count": 36,
   "metadata": {},
   "outputs": [
    {
     "data": {
      "text/plain": [
       "2"
      ]
     },
     "execution_count": 36,
     "metadata": {},
     "output_type": "execute_result"
    }
   ],
   "source": [
    "N = int(input())\n",
    "A = list(map(int, input().split()))\n",
    "\n",
    "zouka = None#単調性の無\n",
    "ans = 0\n",
    "for i in range(N-1):\n",
    "    if zouka == None:#単調性の検証\n",
    "        if A[i]>A[i+1]:#単調減少\n",
    "            zouka = False\n",
    "        elif A[i]<A[i+1]:#単調増加\n",
    "            zouka = True\n",
    "        else:#要素同士が等しいので単調性無し\n",
    "            continue\n",
    "    #上記で検証した単調性とは異なる場合カウント、zoukaをフラットに戻す\n",
    "    if zouka and A[i] > A[i+1]:\n",
    "        ans += 1\n",
    "        zouka = None\n",
    "        continue\n",
    "    if not zouka and A[i]<A[i+1]:\n",
    "        ans += 1\n",
    "        zouka = None\n",
    "        continue\n",
    "\n",
    "print(ans+1)"
   ]
  },
  {
   "cell_type": "code",
   "execution_count": 1,
   "metadata": {},
   "outputs": [],
   "source": [
    "#Subarray Sum"
   ]
  },
  {
   "cell_type": "code",
   "execution_count": 5,
   "metadata": {},
   "outputs": [
    {
     "name": "stdout",
     "output_type": "stream",
     "text": [
      "4 2 3\n",
      "3 3 0 0\n"
     ]
    }
   ],
   "source": [
    "N,K,S = map(int,input().split())\n",
    "\n",
    "ans = [S]*K\n",
    "for i in range(N-K):\n",
    "    if S != 10**9:\n",
    "        ans.append(S+1)\n",
    "    else:\n",
    "        ans.append(1)\n",
    "    \n",
    "print(*ans)"
   ]
  },
  {
   "cell_type": "code",
   "execution_count": null,
   "metadata": {},
   "outputs": [],
   "source": []
  }
 ],
 "metadata": {
  "kernelspec": {
   "display_name": "Python 3",
   "language": "python",
   "name": "python3"
  },
  "language_info": {
   "codemirror_mode": {
    "name": "ipython",
    "version": 3
   },
   "file_extension": ".py",
   "mimetype": "text/x-python",
   "name": "python",
   "nbconvert_exporter": "python",
   "pygments_lexer": "ipython3",
   "version": "3.6.4"
  }
 },
 "nbformat": 4,
 "nbformat_minor": 2
}
