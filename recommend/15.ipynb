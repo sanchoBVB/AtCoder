{
 "cells": [
  {
   "cell_type": "code",
   "execution_count": 1,
   "metadata": {},
   "outputs": [],
   "source": [
    "#Prison"
   ]
  },
  {
   "cell_type": "code",
   "execution_count": 22,
   "metadata": {},
   "outputs": [
    {
     "name": "stdout",
     "output_type": "stream",
     "text": [
      "10 3\n",
      "3 6\n",
      "5 7\n",
      "6 9\n",
      "1\n"
     ]
    }
   ],
   "source": [
    "N, M = map(int, input().split())\n",
    "mi, ma = map(int, input().split())\n",
    "ans = 0\n",
    "for _ in range(M-1):\n",
    "    l, r = map(int, input().split())\n",
    "    if mi > r or ma < l:\n",
    "        ans = 1\n",
    "    mi = max(mi, l)\n",
    "    ma = min(ma, r)\n",
    "\n",
    "if ans == 1:\n",
    "    print(0)\n",
    "else:\n",
    "    print(ma-mi+1)"
   ]
  },
  {
   "cell_type": "code",
   "execution_count": 23,
   "metadata": {},
   "outputs": [],
   "source": [
    "#log"
   ]
  },
  {
   "cell_type": "code",
   "execution_count": 42,
   "metadata": {},
   "outputs": [
    {
     "name": "stdout",
     "output_type": "stream",
     "text": [
      "109109109109109109\n",
      "109109108641970782\n"
     ]
    }
   ],
   "source": [
    "n = int(input())\n",
    "\n",
    "low = 0\n",
    "high = n+1\n",
    "\n",
    "while high-low > 1:\n",
    "    mid = (low + high) //2\n",
    "    if mid*(mid+1) > 2*(n+1):\n",
    "        high = mid\n",
    "    else:\n",
    "        low = mid\n",
    "        \n",
    "print(n-low+1)"
   ]
  },
  {
   "cell_type": "code",
   "execution_count": 43,
   "metadata": {},
   "outputs": [],
   "source": [
    "#RGB Boxes"
   ]
  },
  {
   "cell_type": "code",
   "execution_count": 59,
   "metadata": {},
   "outputs": [
    {
     "name": "stdout",
     "output_type": "stream",
     "text": [
      "13 1 4 3000\n",
      "87058\n"
     ]
    }
   ],
   "source": [
    "R, G, B, N = map(int, input().split())\n",
    "\n",
    "ans = 0\n",
    "for r in range(N+1):\n",
    "    r_cnt = r*R\n",
    "    for g in range(N+1):\n",
    "        if (N-(r_cnt+g*G))%B == 0 and (N-(r_cnt+g*G)) >= 0:\n",
    "            ans += 1\n",
    "            \n",
    "print(ans)"
   ]
  },
  {
   "cell_type": "code",
   "execution_count": 60,
   "metadata": {},
   "outputs": [],
   "source": [
    "#Skip"
   ]
  },
  {
   "cell_type": "code",
   "execution_count": 72,
   "metadata": {},
   "outputs": [
    {
     "name": "stdout",
     "output_type": "stream",
     "text": [
      "1 1\n",
      "1000000000\n",
      "999999999\n"
     ]
    }
   ],
   "source": [
    "from functools import reduce\n",
    "import math\n",
    "N, X = map(int, input().split())\n",
    "x = list(map(int, input().split()))\n",
    "x.append(X)\n",
    "x.sort()\n",
    "\n",
    "cnt = []\n",
    "for n in range(1, N+1):\n",
    "    cnt.append(x[n]-x[n-1])\n",
    "\n",
    "def my_gcd(*numbers):\n",
    "    return reduce(math.gcd, numbers)\n",
    "\n",
    "print(my_gcd(*cnt))"
   ]
  },
  {
   "cell_type": "code",
   "execution_count": 1,
   "metadata": {},
   "outputs": [],
   "source": [
    "#Grand Garden"
   ]
  },
  {
   "cell_type": "code",
   "execution_count": 2,
   "metadata": {},
   "outputs": [
    {
     "name": "stdout",
     "output_type": "stream",
     "text": [
      "8\n",
      "4 23 75 0 23 96 50 100\n",
      "121\n"
     ]
    }
   ],
   "source": [
    "N = int(input())\n",
    "H = list(map(int, input().split()))\n",
    "\n",
    "cnt = 0\n",
    "for n in range(1, N):\n",
    "    if H[n-1] >= H[n]:\n",
    "        cnt += H[n-1]-H[n]\n",
    "        \n",
    "print(cnt+H[-1])"
   ]
  },
  {
   "cell_type": "code",
   "execution_count": 3,
   "metadata": {},
   "outputs": [],
   "source": [
    "#When I hit my pocket..."
   ]
  },
  {
   "cell_type": "code",
   "execution_count": 33,
   "metadata": {},
   "outputs": [
    {
     "name": "stdout",
     "output_type": "stream",
     "text": [
      "314159265 35897932 384626433\n",
      "48518828981938099\n"
     ]
    }
   ],
   "source": [
    "k, a, b = map(int,input().split())\n",
    "if a >= b:\n",
    "    print(1+k)\n",
    "else:\n",
    "    c = b - a\n",
    "    aa = k - (a - 1)\n",
    "    if aa <= 0:\n",
    "        print(1+k)\n",
    "    else:\n",
    "        print(max(1+k,c*(aa//2) + (aa % 2) + a))"
   ]
  },
  {
   "cell_type": "code",
   "execution_count": 1,
   "metadata": {},
   "outputs": [],
   "source": [
    "#pushpush"
   ]
  },
  {
   "cell_type": "code",
   "execution_count": 18,
   "metadata": {},
   "outputs": [
    {
     "name": "stdout",
     "output_type": "stream",
     "text": [
      "3\n",
      "1 2 3\n",
      "3 1 2\n"
     ]
    }
   ],
   "source": [
    "n = int(input())\n",
    "a = list(input().split())\n",
    "\n",
    "b = []\n",
    "for i in range(n, 0, -2):\n",
    "    b.append(a[i-1])\n",
    "\n",
    "if n%2 == 0:\n",
    "    for j in range(0, n, 2):\n",
    "        b.append(a[j])\n",
    "else:\n",
    "    for j in range(1, n, 2):\n",
    "        b.append(a[j])\n",
    "    \n",
    "    \n",
    "print(\" \".join(b))"
   ]
  },
  {
   "cell_type": "code",
   "execution_count": 19,
   "metadata": {},
   "outputs": [],
   "source": [
    "#Scc Puzzle"
   ]
  },
  {
   "cell_type": "code",
   "execution_count": 21,
   "metadata": {},
   "outputs": [
    {
     "name": "stdout",
     "output_type": "stream",
     "text": [
      "12345 678901\n",
      "175897\n"
     ]
    }
   ],
   "source": [
    "N, M = map(int, input().split())\n",
    "\n",
    "if N < M:\n",
    "    cnt = N\n",
    "    M -= (N*2)\n",
    "    if M >= 4:\n",
    "        print(cnt+(M//4))\n",
    "    else:\n",
    "        print(cnt)\n",
    "else:\n",
    "    print(M//2)"
   ]
  },
  {
   "cell_type": "code",
   "execution_count": 1,
   "metadata": {},
   "outputs": [],
   "source": [
    "#Many Medians"
   ]
  },
  {
   "cell_type": "code",
   "execution_count": 6,
   "metadata": {},
   "outputs": [
    {
     "name": "stdout",
     "output_type": "stream",
     "text": [
      "6\n",
      "5 5 4 4 3 3\n",
      "4\n",
      "4\n",
      "4\n",
      "4\n",
      "4\n",
      "4\n"
     ]
    }
   ],
   "source": [
    "N = int(input())\n",
    "X = list(map(int, input().split()))\n",
    "cnt = sorted(X)\n",
    "\n",
    "s = cnt[N//2-1]\n",
    "t = cnt[N//2]\n",
    "\n",
    "for n in range(N):\n",
    "    if X[n] <= s:\n",
    "        print(t)\n",
    "    else:\n",
    "        print(s)"
   ]
  },
  {
   "cell_type": "code",
   "execution_count": 14,
   "metadata": {},
   "outputs": [],
   "source": [
    "#Problem Set"
   ]
  },
  {
   "cell_type": "code",
   "execution_count": 19,
   "metadata": {},
   "outputs": [
    {
     "name": "stdout",
     "output_type": "stream",
     "text": [
      "1\n",
      "800\n",
      "5\n",
      "1 1 1 1 1\n",
      "NO\n"
     ]
    }
   ],
   "source": [
    "import collections\n",
    "N = int(input())\n",
    "D = list(map(int, input().split()))\n",
    "M = int(input())\n",
    "T = list(map(int, input().split()))\n",
    "\n",
    "d_cnt = collections.Counter(D)\n",
    "t_cnt = collections.Counter(T)\n",
    "ans = \"YES\"\n",
    "for k in t_cnt.keys():\n",
    "    if t_cnt[k] > d_cnt[k]:\n",
    "        ans = \"NO\"\n",
    "        break\n",
    "        \n",
    "print(ans)"
   ]
  },
  {
   "cell_type": "code",
   "execution_count": null,
   "metadata": {},
   "outputs": [],
   "source": []
  }
 ],
 "metadata": {
  "kernelspec": {
   "display_name": "Python 3",
   "language": "python",
   "name": "python3"
  },
  "language_info": {
   "codemirror_mode": {
    "name": "ipython",
    "version": 3
   },
   "file_extension": ".py",
   "mimetype": "text/x-python",
   "name": "python",
   "nbconvert_exporter": "python",
   "pygments_lexer": "ipython3",
   "version": "3.6.4"
  }
 },
 "nbformat": 4,
 "nbformat_minor": 2
}
