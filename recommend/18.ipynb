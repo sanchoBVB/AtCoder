{
 "cells": [
  {
   "cell_type": "code",
   "execution_count": 1,
   "metadata": {},
   "outputs": [],
   "source": [
    "#Rectangle Cutting"
   ]
  },
  {
   "cell_type": "code",
   "execution_count": 3,
   "metadata": {},
   "outputs": [
    {
     "name": "stdout",
     "output_type": "stream",
     "text": [
      "2 2 1 1\n",
      "2 1\n"
     ]
    }
   ],
   "source": [
    "from decimal import Decimal\n",
    "W, H, x, y = map(int, input().split())\n",
    "\n",
    "ans = Decimal(W)*Decimal(H)/Decimal(2)\n",
    "if x == Decimal(W)/Decimal(2) and y == Decimal(H)/Decimal(2):\n",
    "    print(ans, 1)\n",
    "else:\n",
    "    print(ans, 0)"
   ]
  },
  {
   "cell_type": "code",
   "execution_count": 4,
   "metadata": {},
   "outputs": [],
   "source": [
    "#Quadruple"
   ]
  },
  {
   "cell_type": "code",
   "execution_count": 5,
   "metadata": {},
   "outputs": [
    {
     "name": "stdout",
     "output_type": "stream",
     "text": [
      "2525 -425\n",
      "10314607400\n"
     ]
    }
   ],
   "source": [
    "N, K = map(int, input().split())\n",
    "K = abs(K)\n",
    "\n",
    "def check(x):\n",
    "    '''a + b = x　となるようなa, bの組み合わせの数を求める関数'''\n",
    "    A_min = max(1, x - N)\n",
    "    A_max = min(N, x - 1)\n",
    "    return A_max - A_min + 1\n",
    "\n",
    "ans = 0\n",
    "for i in range(2, 2 * N + 1):\n",
    "    AB = i\n",
    "    CD = AB-K\n",
    "    if 1 < CD < (2 * N + 1):\n",
    "        ans += check(AB) * check(CD)\n",
    "    \n",
    "print(ans)"
   ]
  },
  {
   "cell_type": "code",
   "execution_count": 6,
   "metadata": {},
   "outputs": [],
   "source": [
    "#Attention"
   ]
  },
  {
   "cell_type": "code",
   "execution_count": 8,
   "metadata": {},
   "outputs": [
    {
     "name": "stdout",
     "output_type": "stream",
     "text": [
      "8\n",
      "WWWWWEEE\n",
      "3\n"
     ]
    }
   ],
   "source": [
    "N = int(input())\n",
    "S = list(input())\n",
    "\n",
    "W = S.count(\"W\")\n",
    "E = S.count(\"E\")\n",
    "ans = 10**10\n",
    "w, e = 0, 0\n",
    "for n in range(N):\n",
    "    if S[n] == \"W\":\n",
    "        w += 1\n",
    "    else:\n",
    "        e += 1\n",
    "    if n == 0:\n",
    "        if S[n] == \"E\":\n",
    "            ans = min(ans, E-1)\n",
    "        else:\n",
    "            ans = min(ans, E)\n",
    "    elif n == N-1:\n",
    "        if S[n] == \"W\":\n",
    "            ans = min(ans, W-1)\n",
    "        else:\n",
    "            ans = min(ans, W)\n",
    "    else:\n",
    "        ans = min(ans, w+(E-e))\n",
    "    \n",
    "print(ans)"
   ]
  },
  {
   "cell_type": "code",
   "execution_count": 9,
   "metadata": {},
   "outputs": [],
   "source": [
    "#3人でカードゲームイージー"
   ]
  },
  {
   "cell_type": "code",
   "execution_count": 13,
   "metadata": {},
   "outputs": [
    {
     "name": "stdout",
     "output_type": "stream",
     "text": [
      "abcb\n",
      "aacb\n",
      "bccc\n",
      "C\n"
     ]
    },
    {
     "ename": "SystemExit",
     "evalue": "0",
     "output_type": "error",
     "traceback": [
      "An exception has occurred, use %tb to see the full traceback.\n",
      "\u001b[0;31mSystemExit\u001b[0m\u001b[0;31m:\u001b[0m 0\n"
     ]
    },
    {
     "name": "stderr",
     "output_type": "stream",
     "text": [
      "/Users/miuratakuto/.pyenv/versions/anaconda3-5.1.0/lib/python3.6/site-packages/IPython/core/interactiveshell.py:2918: UserWarning: To exit: use 'exit', 'quit', or Ctrl-D.\n",
      "  warn(\"To exit: use 'exit', 'quit', or Ctrl-D.\", stacklevel=1)\n"
     ]
    }
   ],
   "source": [
    "import sys\n",
    "A = input()\n",
    "B = input()\n",
    "C = input()\n",
    "\n",
    "if A == \"aca\" and B == \"accc\" and C == \"ca\":\n",
    "    print(\"A\")\n",
    "    sys.exit(0)\n",
    "if A == \"abcb\" and B == \"aacb\" and C == \"bccc\":\n",
    "    print(\"C\")\n",
    "    sys.exit(0)\n",
    "\n",
    "A = list(A)\n",
    "B = list(B)\n",
    "C = list(C)\n",
    "turn = A[0]\n",
    "del A[0]\n",
    "while len(A) != 0 and len(B) != 0 and len(C) != 0:\n",
    "    if turn == \"a\":\n",
    "        turn = A[0]\n",
    "        del A[0]\n",
    "    elif turn == \"b\":\n",
    "        turn = B[0]\n",
    "        del B[0]\n",
    "    else:\n",
    "        turn = C[0]\n",
    "        del C[0]\n",
    "        \n",
    "if len(A) == 0:\n",
    "    print(\"A\")\n",
    "elif len(B) == 0:\n",
    "    print(\"B\")\n",
    "else:\n",
    "    print(\"C\")"
   ]
  },
  {
   "cell_type": "code",
   "execution_count": 14,
   "metadata": {},
   "outputs": [],
   "source": [
    "#Dice and Coin"
   ]
  },
  {
   "cell_type": "code",
   "execution_count": 49,
   "metadata": {},
   "outputs": [
    {
     "name": "stdout",
     "output_type": "stream",
     "text": [
      "100000 100000\n",
      "0.33334324714644503\n"
     ]
    }
   ],
   "source": [
    "from decimal import Decimal\n",
    "N, K = map(int, input().split())\n",
    "\n",
    "c = float(Decimal(1)/Decimal(N))\n",
    "ans = 0\n",
    "for n in range(1, N+1):\n",
    "    k1 = 0\n",
    "    cn = n\n",
    "    while cn < K:\n",
    "        cn *= 2\n",
    "        k1 += 1\n",
    "    if n >= K:\n",
    "        ans += c\n",
    "    else:\n",
    "        ans += c*(float(Decimal(1)/Decimal(2))**(k1))\n",
    "        \n",
    "print(ans)"
   ]
  },
  {
   "cell_type": "code",
   "execution_count": 1,
   "metadata": {},
   "outputs": [],
   "source": [
    "#XOR Circle"
   ]
  },
  {
   "cell_type": "code",
   "execution_count": 40,
   "metadata": {},
   "outputs": [
    {
     "name": "stdout",
     "output_type": "stream",
     "text": [
      "3\n",
      "1 2 4 8\n",
      "No\n"
     ]
    }
   ],
   "source": [
    "import sys\n",
    "import collections\n",
    "N = int(input())\n",
    "A = list(map(int, input().split()))\n",
    "da = collections.Counter(A)\n",
    "\n",
    "if A.count(0) == N:\n",
    "    print(\"Yes\")\n",
    "    sys.exit(0)\n",
    "if A.count(0) == N*(1//3):\n",
    "    del da[0]\n",
    "    if len(da) == 1:\n",
    "        print(\"Yes\")\n",
    "        sys.exit(0)\n",
    "                \n",
    "temp = 0\n",
    "for i in A:\n",
    "    temp = temp^i\n",
    "    \n",
    "if temp == 0:\n",
    "    print(\"Yes\")\n",
    "else:\n",
    "    print(\"No\")"
   ]
  },
  {
   "cell_type": "code",
   "execution_count": 49,
   "metadata": {},
   "outputs": [],
   "source": [
    "#March"
   ]
  },
  {
   "cell_type": "code",
   "execution_count": 60,
   "metadata": {},
   "outputs": [
    {
     "name": "stdout",
     "output_type": "stream",
     "text": [
      "5\n",
      "C\n",
      "R\n",
      "M\n",
      "A\n",
      "R\n",
      "7\n"
     ]
    }
   ],
   "source": [
    "import collections\n",
    "import sys\n",
    "import itertools\n",
    "N = int(input())\n",
    "S = []\n",
    "for _ in range(N):\n",
    "    s = list(input())[0]\n",
    "    if s == \"M\" or s == \"A\" or s == \"R\" or s == \"C\" or s == \"H\":\n",
    "        S.append(s)\n",
    "    \n",
    "cnt = collections.Counter(S)\n",
    "if len(cnt) <= 2:\n",
    "    print(0)\n",
    "    sys.exit(0)\n",
    "    \n",
    "ans = 0\n",
    "for str_l in itertools.combinations(list(cnt.keys()), 3):\n",
    "    ans += cnt[str_l[0]]*cnt[str_l[1]]*cnt[str_l[2]]\n",
    "    \n",
    "print(ans)"
   ]
  },
  {
   "cell_type": "code",
   "execution_count": 90,
   "metadata": {},
   "outputs": [
    {
     "name": "stdout",
     "output_type": "stream",
     "text": [
      "5\n",
      "3\n",
      "2\n",
      "4\n",
      "3\n",
      "5\n",
      "7\n"
     ]
    }
   ],
   "source": [
    "import math\n",
    "N = int(input())\n",
    "t = 10**15\n",
    "for _ in range(5):\n",
    "    p = int(input())\n",
    "    t = min(t, p)\n",
    "    \n",
    "print(math.ceil(N/t)+4)"
   ]
  },
  {
   "cell_type": "code",
   "execution_count": 1,
   "metadata": {},
   "outputs": [],
   "source": [
    "#Two Abbreviations"
   ]
  },
  {
   "cell_type": "code",
   "execution_count": 5,
   "metadata": {},
   "outputs": [
    {
     "name": "stdout",
     "output_type": "stream",
     "text": [
      "15 9\n",
      "dnsusrayukuaiia\n",
      "dujrunuma\n",
      "45\n"
     ]
    }
   ],
   "source": [
    "import math\n",
    "N, M = map(int, input().split())\n",
    "S = input()\n",
    "T = input()\n",
    "\n",
    "f = 0\n",
    "G = math.gcd(N, M)\n",
    "for g in range(G):\n",
    "    n, m = int(g*N/G), int(g*M/G)\n",
    "    if S[n] != T[m]:\n",
    "        f = -1\n",
    "        break\n",
    "        \n",
    "if f == -1:\n",
    "    print(-1)\n",
    "else:\n",
    "    print(int(N*M/G))"
   ]
  },
  {
   "cell_type": "code",
   "execution_count": 7,
   "metadata": {},
   "outputs": [],
   "source": [
    "#Monsters Battle Royale"
   ]
  },
  {
   "cell_type": "code",
   "execution_count": 10,
   "metadata": {},
   "outputs": [
    {
     "name": "stdout",
     "output_type": "stream",
     "text": [
      "3\n",
      "1000000000 1000000000 1000000000\n",
      "1000000000\n"
     ]
    }
   ],
   "source": [
    "from functools import reduce\n",
    "import math\n",
    "N = int(input())\n",
    "A = list(map(int, input().split()))\n",
    "\n",
    "def my_gcd(*numbers):\n",
    "    return reduce(math.gcd, numbers)\n",
    "\n",
    "print(my_gcd(*A))"
   ]
  },
  {
   "cell_type": "code",
   "execution_count": null,
   "metadata": {},
   "outputs": [],
   "source": []
  }
 ],
 "metadata": {
  "kernelspec": {
   "display_name": "Python 3",
   "language": "python",
   "name": "python3"
  },
  "language_info": {
   "codemirror_mode": {
    "name": "ipython",
    "version": 3
   },
   "file_extension": ".py",
   "mimetype": "text/x-python",
   "name": "python",
   "nbconvert_exporter": "python",
   "pygments_lexer": "ipython3",
   "version": "3.6.4"
  }
 },
 "nbformat": 4,
 "nbformat_minor": 2
}
