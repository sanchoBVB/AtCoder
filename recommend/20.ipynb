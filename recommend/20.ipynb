{
 "cells": [
  {
   "cell_type": "code",
   "execution_count": 1,
   "metadata": {},
   "outputs": [],
   "source": [
    "#Abbreviate Fox"
   ]
  },
  {
   "cell_type": "code",
   "execution_count": 16,
   "metadata": {},
   "outputs": [
    {
     "name": "stdout",
     "output_type": "stream",
     "text": [
      "48\n",
      "ffoxoxuvgjyzmehmopfohrupffoxoxfofofoxffoxoxejffo\n",
      "27\n"
     ]
    }
   ],
   "source": [
    "N = int(input())\n",
    "s = list(input())\n",
    "\n",
    "i = 0\n",
    "cnt = 0\n",
    "while i <= N-2:\n",
    "    a = s[i:i+3]\n",
    "    if len(a) == 0:\n",
    "        break\n",
    "    if \"\".join(a) == \"fox\":\n",
    "        cnt += 1\n",
    "        del s[i:i+3]\n",
    "        i = 0\n",
    "    else:\n",
    "        i += 1\n",
    "        \n",
    "print(N-(cnt*3))"
   ]
  },
  {
   "cell_type": "code",
   "execution_count": 2,
   "metadata": {},
   "outputs": [
    {
     "name": "stdout",
     "output_type": "stream",
     "text": [
      "48\n",
      "ffoxoxuvgjyzmehmopfohrupffoxoxfofofoxffoxoxejffo\n",
      "27\n"
     ]
    }
   ],
   "source": [
    "from collections import deque\n",
    "N = int(input())\n",
    "s = list(input())\n",
    "s = deque(s)\n",
    "t = []\n",
    "while len(s):\n",
    "    t.append(s.popleft())\n",
    "    if t[-3:] == [\"f\", \"o\", \"x\"]:\n",
    "        del t[-3:]\n",
    "        \n",
    "print(len(t))"
   ]
  },
  {
   "cell_type": "code",
   "execution_count": 20,
   "metadata": {},
   "outputs": [],
   "source": [
    "#Reconciled?"
   ]
  },
  {
   "cell_type": "code",
   "execution_count": 30,
   "metadata": {},
   "outputs": [
    {
     "name": "stdout",
     "output_type": "stream",
     "text": [
      "100000 100000\n",
      "530123477\n"
     ]
    }
   ],
   "source": [
    "import sys\n",
    "import math\n",
    "N, M = map(int, input().split())\n",
    "\n",
    "if abs(N-M) > 1:\n",
    "    print(0)\n",
    "    sys.exit(0)\n",
    "\n",
    "cnt = math.factorial(N)*math.factorial(M)\n",
    "if N == M:\n",
    "    print((cnt*2)%(10**9+7))\n",
    "else:\n",
    "    print(cnt%(10**9+7))"
   ]
  },
  {
   "cell_type": "code",
   "execution_count": 31,
   "metadata": {},
   "outputs": [],
   "source": [
    "#I hate Factorization"
   ]
  },
  {
   "cell_type": "code",
   "execution_count": 65,
   "metadata": {},
   "outputs": [
    {
     "name": "stdout",
     "output_type": "stream",
     "text": [
      "33\n",
      "2 -1\n"
     ]
    }
   ],
   "source": [
    "X = int(input())\n",
    "\n",
    "def prime_factorize(n):\n",
    "    a = []\n",
    "    while n % 2 == 0:\n",
    "        a.append(2)\n",
    "        n //= 2\n",
    "    f = 3\n",
    "    while f * f <= n:\n",
    "        if n % f == 0:\n",
    "            a.append(f)\n",
    "            n //= f\n",
    "        else:\n",
    "            f += 2\n",
    "    if n != 1:\n",
    "        a.append(n)\n",
    "    return a\n",
    "\n",
    "for a in range(65):\n",
    "    b = (a**5)-X\n",
    "    if b == -1 or b == 1 or b == 0:\n",
    "        A, B = a, b\n",
    "        break\n",
    "    f = prime_factorize(b)\n",
    "    if len(f) == 5 and len(set(f)) == 1:\n",
    "        A, B = a, f[0]\n",
    "        break\n",
    "        \n",
    "print(A, B)"
   ]
  },
  {
   "cell_type": "code",
   "execution_count": 2,
   "metadata": {},
   "outputs": [
    {
     "name": "stdout",
     "output_type": "stream",
     "text": [
      "33\n",
      "1 -2\n"
     ]
    },
    {
     "ename": "SystemExit",
     "evalue": "0",
     "output_type": "error",
     "traceback": [
      "An exception has occurred, use %tb to see the full traceback.\n",
      "\u001b[0;31mSystemExit\u001b[0m\u001b[0;31m:\u001b[0m 0\n"
     ]
    },
    {
     "name": "stderr",
     "output_type": "stream",
     "text": [
      "/Users/miuratakuto/.pyenv/versions/anaconda3-5.1.0/lib/python3.6/site-packages/IPython/core/interactiveshell.py:2918: UserWarning: To exit: use 'exit', 'quit', or Ctrl-D.\n",
      "  warn(\"To exit: use 'exit', 'quit', or Ctrl-D.\", stacklevel=1)\n"
     ]
    }
   ],
   "source": [
    "import sys\n",
    "x = int(input())\n",
    "for i in range(1000):\n",
    "    a = i-500\n",
    "    for j in range(1000):\n",
    "        b = j-500\n",
    "        if a**5-b**5==x:\n",
    "            print(a, b)\n",
    "            sys.exit(0)"
   ]
  },
  {
   "cell_type": "code",
   "execution_count": 1,
   "metadata": {},
   "outputs": [],
   "source": [
    "#Multiple Clocks"
   ]
  },
  {
   "cell_type": "code",
   "execution_count": 3,
   "metadata": {},
   "outputs": [
    {
     "name": "stdout",
     "output_type": "stream",
     "text": [
      "5\n",
      "2\n",
      "5\n",
      "10\n",
      "1000000000000000000\n",
      "1000000000000000000\n",
      "1000000000000000000\n"
     ]
    }
   ],
   "source": [
    "import math\n",
    "from functools import reduce\n",
    "N = int(input())\n",
    "T = []\n",
    "for _ in range(N):\n",
    "    T.append(int(input()))\n",
    "    \n",
    "def my_lcm_base(x, y):\n",
    "    return (x * y) // math.gcd(x, y)\n",
    "\n",
    "def my_lcm(*numbers):\n",
    "    return reduce(my_lcm_base, numbers, 1)\n",
    "\n",
    "print(my_lcm(*T))"
   ]
  },
  {
   "cell_type": "code",
   "execution_count": 4,
   "metadata": {},
   "outputs": [],
   "source": [
    "#GeT AC"
   ]
  },
  {
   "cell_type": "code",
   "execution_count": 19,
   "metadata": {},
   "outputs": [
    {
     "name": "stdout",
     "output_type": "stream",
     "text": [
      "8 3\n",
      "ACACTACG\n",
      "3 7\n",
      "2\n",
      "2 3\n",
      "0\n",
      "1 8\n",
      "3\n"
     ]
    }
   ],
   "source": [
    "N, Q = map(int, input().split())\n",
    "S = input()\n",
    "cnt = [0]*N\n",
    "ans = 0\n",
    "for n in range(N-1):\n",
    "    if S[n:n+2] == \"AC\":\n",
    "        cnt[n+1] = cnt[n]+1\n",
    "    else:\n",
    "        cnt[n+1] = cnt[n]\n",
    "\n",
    "for _ in range(Q):\n",
    "    l, r = map(int, input().split())\n",
    "    print(cnt[r-1]-cnt[l-1])"
   ]
  },
  {
   "cell_type": "code",
   "execution_count": 1,
   "metadata": {},
   "outputs": [],
   "source": [
    "#Exam and Wizard"
   ]
  },
  {
   "cell_type": "code",
   "execution_count": 8,
   "metadata": {},
   "outputs": [
    {
     "name": "stdout",
     "output_type": "stream",
     "text": [
      "12\n",
      "757232153 372327760 440075441 195848680 354974235 458054863 463477172 740174259 615762794 632963102 529866931 64991604\n",
      "74164189 98239366 465611891 362739947 147060907 118867039 63189252 78303147 501410831 110823640 122948912 572905212\n",
      "5\n"
     ]
    },
    {
     "ename": "SystemExit",
     "evalue": "0",
     "output_type": "error",
     "traceback": [
      "An exception has occurred, use %tb to see the full traceback.\n",
      "\u001b[0;31mSystemExit\u001b[0m\u001b[0;31m:\u001b[0m 0\n"
     ]
    },
    {
     "name": "stderr",
     "output_type": "stream",
     "text": [
      "/Users/miuratakuto/.pyenv/versions/anaconda3-5.1.0/lib/python3.6/site-packages/IPython/core/interactiveshell.py:2918: UserWarning: To exit: use 'exit', 'quit', or Ctrl-D.\n",
      "  warn(\"To exit: use 'exit', 'quit', or Ctrl-D.\", stacklevel=1)\n"
     ]
    }
   ],
   "source": [
    "import sys\n",
    "N = int(input())\n",
    "A = list(map(int, input().split()))\n",
    "B = list(map(int, input().split()))\n",
    "\n",
    "cnt, cnt1, cnt2 = [], 0, 0\n",
    "for a, b in zip(A, B):\n",
    "    n = a-b\n",
    "    if n < 0:\n",
    "        cnt1 += -n\n",
    "        cnt2 += 1\n",
    "    else:\n",
    "        cnt.append(n)\n",
    "\n",
    "if cnt1 == 0:\n",
    "    print(0)\n",
    "    sys.exit(0)\n",
    "    \n",
    "cnt.sort(reverse=True)\n",
    "for c in cnt:\n",
    "    if cnt1-c <= 0:\n",
    "        cnt2 += 1\n",
    "        print(cnt2)\n",
    "        sys.exit(0)\n",
    "    else:\n",
    "        cnt1 -= c\n",
    "        cnt2 += 1\n",
    "        \n",
    "print(-1)"
   ]
  },
  {
   "cell_type": "code",
   "execution_count": 1,
   "metadata": {},
   "outputs": [],
   "source": [
    "#Sqrt Inequality"
   ]
  },
  {
   "cell_type": "code",
   "execution_count": 7,
   "metadata": {},
   "outputs": [
    {
     "name": "stdout",
     "output_type": "stream",
     "text": [
      "2 3 9\n",
      "No\n"
     ]
    }
   ],
   "source": [
    "from decimal import Decimal\n",
    "a, b, c = map(int, input().split())\n",
    "\n",
    "o = Decimal(1)/Decimal(2)\n",
    "a = a**o\n",
    "b = b**o\n",
    "c = c**o\n",
    "\n",
    "if a+b < c:\n",
    "    print(\"Yes\")\n",
    "else:\n",
    "    print(\"No\")"
   ]
  },
  {
   "cell_type": "code",
   "execution_count": 8,
   "metadata": {},
   "outputs": [],
   "source": [
    "#Splitting Pile"
   ]
  },
  {
   "cell_type": "code",
   "execution_count": 15,
   "metadata": {},
   "outputs": [
    {
     "name": "stdout",
     "output_type": "stream",
     "text": [
      "6\n",
      "1 2 3 4 5 6\n",
      "1\n"
     ]
    }
   ],
   "source": [
    "N = int(input())\n",
    "A = list(map(int, input().split()))\n",
    "\n",
    "s = 0\n",
    "a = sum(A)\n",
    "ans = float(\"inf\")\n",
    "for i in range(N-1):\n",
    "    s += A[i]\n",
    "    a -= A[i]\n",
    "    ans = min(ans, abs(s-a))\n",
    "\n",
    "print(ans)"
   ]
  },
  {
   "cell_type": "code",
   "execution_count": 14,
   "metadata": {},
   "outputs": [
    {
     "data": {
      "text/plain": [
       "[1, 3, 6, 10, 15, 21]"
      ]
     },
     "execution_count": 14,
     "metadata": {},
     "output_type": "execute_result"
    }
   ],
   "source": [
    "list(A)"
   ]
  },
  {
   "cell_type": "code",
   "execution_count": null,
   "metadata": {},
   "outputs": [],
   "source": []
  }
 ],
 "metadata": {
  "kernelspec": {
   "display_name": "Python 3",
   "language": "python",
   "name": "python3"
  },
  "language_info": {
   "codemirror_mode": {
    "name": "ipython",
    "version": 3
   },
   "file_extension": ".py",
   "mimetype": "text/x-python",
   "name": "python",
   "nbconvert_exporter": "python",
   "pygments_lexer": "ipython3",
   "version": "3.6.4"
  }
 },
 "nbformat": 4,
 "nbformat_minor": 2
}
