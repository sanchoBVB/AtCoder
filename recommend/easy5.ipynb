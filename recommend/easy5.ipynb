{
 "cells": [
  {
   "cell_type": "code",
   "execution_count": 1,
   "metadata": {},
   "outputs": [],
   "source": [
    "#Toll Gates"
   ]
  },
  {
   "cell_type": "code",
   "execution_count": 5,
   "metadata": {},
   "outputs": [
    {
     "name": "stdout",
     "output_type": "stream",
     "text": [
      "10 7 5\n",
      "1 2 3 4 6 8 9\n",
      "3\n"
     ]
    }
   ],
   "source": [
    "N, M, X = map(int, input().split())\n",
    "A = list(map(int, input().split()))\n",
    "\n",
    "ans_left = 0\n",
    "ans_right = 0\n",
    "for a in A:\n",
    "    if a < X:\n",
    "        ans_left += 1\n",
    "    else:\n",
    "        ans_right += 1\n",
    "        \n",
    "print(min(ans_left, ans_right))"
   ]
  },
  {
   "cell_type": "code",
   "execution_count": 6,
   "metadata": {},
   "outputs": [],
   "source": [
    "#Collatz Problem"
   ]
  },
  {
   "cell_type": "code",
   "execution_count": 10,
   "metadata": {},
   "outputs": [
    {
     "name": "stdout",
     "output_type": "stream",
     "text": [
      "54\n",
      "114\n"
     ]
    }
   ],
   "source": [
    "s = int(input())\n",
    "\n",
    "def f(n):\n",
    "    if n%2 == 0:\n",
    "        return n/2\n",
    "    else:\n",
    "        return (3*n)+1\n",
    "\n",
    "ans = [s]\n",
    "i = 1\n",
    "while True:\n",
    "    s = f(s)\n",
    "    if s in ans:\n",
    "        break\n",
    "    ans.append(s)\n",
    "    i += 1\n",
    "    \n",
    "print(i+1)"
   ]
  },
  {
   "cell_type": "code",
   "execution_count": 11,
   "metadata": {},
   "outputs": [],
   "source": [
    "#Billiards"
   ]
  },
  {
   "cell_type": "code",
   "execution_count": 17,
   "metadata": {},
   "outputs": [
    {
     "name": "stdout",
     "output_type": "stream",
     "text": [
      "1 1 3 2\n",
      "1.6666666666666667\n"
     ]
    }
   ],
   "source": [
    "x1, y1, x2, y2 = map(int, input().split())\n",
    "\n",
    "angle = (-y2-y1)/(x2-x1)\n",
    "b = y1-(angle*x1)\n",
    "\n",
    "print((-b)/angle)"
   ]
  },
  {
   "cell_type": "code",
   "execution_count": 18,
   "metadata": {},
   "outputs": [],
   "source": [
    "#Various distances"
   ]
  },
  {
   "cell_type": "code",
   "execution_count": 20,
   "metadata": {},
   "outputs": [
    {
     "name": "stdout",
     "output_type": "stream",
     "text": [
      "2\n",
      "2 -1\n",
      "3\n",
      "2.23606797749979\n",
      "2\n"
     ]
    }
   ],
   "source": [
    "N = int(input())\n",
    "X = list(map(int, input().split()))\n",
    "\n",
    "man = 0\n",
    "you = 0\n",
    "ch = []\n",
    "for x in X:\n",
    "    man += abs(x)\n",
    "    you += abs(x)**2\n",
    "    ch.append(abs(x))\n",
    "    \n",
    "print(man)\n",
    "print(you**(1/2))\n",
    "print(max(ch))"
   ]
  },
  {
   "cell_type": "code",
   "execution_count": 21,
   "metadata": {},
   "outputs": [],
   "source": [
    "#Stone Monument"
   ]
  },
  {
   "cell_type": "code",
   "execution_count": 39,
   "metadata": {},
   "outputs": [
    {
     "name": "stdout",
     "output_type": "stream",
     "text": [
      "8 13\n",
      "2\n"
     ]
    }
   ],
   "source": [
    "a, b = map(int, input().split())\n",
    "\n",
    "print(int(((b-a)*(b-a+1)/2)-b))"
   ]
  },
  {
   "cell_type": "code",
   "execution_count": 1,
   "metadata": {},
   "outputs": [],
   "source": [
    "#Unlucky 7"
   ]
  },
  {
   "cell_type": "code",
   "execution_count": 3,
   "metadata": {},
   "outputs": [
    {
     "name": "stdout",
     "output_type": "stream",
     "text": [
      "100000\n",
      "30555\n"
     ]
    }
   ],
   "source": [
    "N = int(input())\n",
    "\n",
    "cnt = 0\n",
    "for n in range(1, N+1):\n",
    "    t = list(str(n))\n",
    "    h = list(str(format(n, \"o\")))\n",
    "    if \"7\" in t or \"7\" in h:\n",
    "        cnt += 1\n",
    "        \n",
    "print(N-cnt)"
   ]
  },
  {
   "cell_type": "code",
   "execution_count": 4,
   "metadata": {},
   "outputs": [],
   "source": [
    "#Exception Handling"
   ]
  },
  {
   "cell_type": "code",
   "execution_count": 12,
   "metadata": {},
   "outputs": [
    {
     "name": "stdout",
     "output_type": "stream",
     "text": [
      "3\n",
      "1\n",
      "4\n",
      "3\n",
      "4\n",
      "3\n",
      "4\n"
     ]
    }
   ],
   "source": [
    "N = int(input())\n",
    "A = []\n",
    "for _ in range(N):\n",
    "    A.append(int(input()))\n",
    "    \n",
    "m1 = max(A)\n",
    "i = A.index(max(A))\n",
    "j = A.pop(i)\n",
    "m2 = max(A)\n",
    "A.insert(i, j)\n",
    "    \n",
    "for n in range(N):\n",
    "    a = A[n]\n",
    "    if a == m1:\n",
    "        print(m2)\n",
    "    else:\n",
    "        print(m1)"
   ]
  },
  {
   "cell_type": "code",
   "execution_count": 13,
   "metadata": {},
   "outputs": [],
   "source": [
    "#Two Sequences 2"
   ]
  },
  {
   "cell_type": "code",
   "execution_count": 21,
   "metadata": {},
   "outputs": [
    {
     "name": "stdout",
     "output_type": "stream",
     "text": [
      "3\n",
      "3 2 20\n",
      "1 4 1\n",
      "3\n",
      "12\n",
      "20\n"
     ]
    }
   ],
   "source": [
    "N = int(input())\n",
    "A = list(map(int, input().split()))\n",
    "B = list(map(int, input().split()))\n",
    "\n",
    "cnt = 0\n",
    "a_max = 0\n",
    "for n in range(N):\n",
    "    a_max = max(A[n], a_max)\n",
    "    cnt = max(a_max*B[n], cnt)\n",
    "    print(cnt)"
   ]
  },
  {
   "cell_type": "code",
   "execution_count": 22,
   "metadata": {},
   "outputs": [],
   "source": [
    "#CF"
   ]
  },
  {
   "cell_type": "code",
   "execution_count": 25,
   "metadata": {},
   "outputs": [
    {
     "name": "stdout",
     "output_type": "stream",
     "text": [
      "FCF\n",
      "Yes\n"
     ]
    }
   ],
   "source": [
    "S = list(input())\n",
    "\n",
    "cnt = 0\n",
    "ans = \"No\"\n",
    "for s in S:\n",
    "    if s == \"C\":\n",
    "        cnt = 1\n",
    "        continue\n",
    "    if s == \"F\" and cnt == 1:\n",
    "        ans = \"Yes\"\n",
    "        break\n",
    "        \n",
    "print(ans)"
   ]
  },
  {
   "cell_type": "code",
   "execution_count": 26,
   "metadata": {},
   "outputs": [],
   "source": [
    "#Two Integers"
   ]
  },
  {
   "cell_type": "code",
   "execution_count": 34,
   "metadata": {},
   "outputs": [
    {
     "name": "stdout",
     "output_type": "stream",
     "text": [
      "1 8\n",
      "7\n"
     ]
    }
   ],
   "source": [
    "X, Y = map(int, input().split())\n",
    "\n",
    "if X%Y == 0:\n",
    "    print(-1)\n",
    "else:\n",
    "    print(X)"
   ]
  },
  {
   "cell_type": "code",
   "execution_count": null,
   "metadata": {},
   "outputs": [],
   "source": []
  }
 ],
 "metadata": {
  "kernelspec": {
   "display_name": "Python 3",
   "language": "python",
   "name": "python3"
  },
  "language_info": {
   "codemirror_mode": {
    "name": "ipython",
    "version": 3
   },
   "file_extension": ".py",
   "mimetype": "text/x-python",
   "name": "python",
   "nbconvert_exporter": "python",
   "pygments_lexer": "ipython3",
   "version": "3.6.4"
  }
 },
 "nbformat": 4,
 "nbformat_minor": 2
}
