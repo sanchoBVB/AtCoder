{
 "cells": [
  {
   "cell_type": "code",
   "execution_count": 16,
   "metadata": {},
   "outputs": [
    {
     "name": "stdout",
     "output_type": "stream",
     "text": [
      "edcba\n",
      "e1d1c1b1a1\n"
     ]
    }
   ],
   "source": [
    "#高橋君と文字列圧縮\n",
    "s = input()\n",
    "\n",
    "ans = []\n",
    "cnt = 1\n",
    "for i in range(len(s)-1):\n",
    "    if s[i] != s[i+1]:\n",
    "        ans.append(\"\".join([s[i],str(cnt)]))\n",
    "        cnt = 1\n",
    "    else:\n",
    "        cnt += 1\n",
    "ans.append(\"\".join([s[-1],str(cnt)]))\n",
    "\n",
    "print(\"\".join(ans))"
   ]
  },
  {
   "cell_type": "code",
   "execution_count": 18,
   "metadata": {},
   "outputs": [],
   "source": [
    "#sentou"
   ]
  },
  {
   "cell_type": "code",
   "execution_count": 23,
   "metadata": {},
   "outputs": [
    {
     "name": "stdout",
     "output_type": "stream",
     "text": [
      "1 1\n",
      "0\n",
      "1\n"
     ]
    }
   ],
   "source": [
    "N, T = map(int, input().split())\n",
    "t = list(map(int, input().split()))\n",
    "\n",
    "ans = 0\n",
    "for n in range(N-1):\n",
    "    if t[n+1]-t[n] >= T:\n",
    "        ans += T\n",
    "    else:\n",
    "        ans += t[n+1]-t[n]\n",
    "        \n",
    "print(ans+T)"
   ]
  },
  {
   "cell_type": "code",
   "execution_count": 24,
   "metadata": {},
   "outputs": [],
   "source": [
    "#Bugged"
   ]
  },
  {
   "cell_type": "code",
   "execution_count": 43,
   "metadata": {},
   "outputs": [
    {
     "name": "stdout",
     "output_type": "stream",
     "text": [
      "3\n",
      "5\n",
      "10\n",
      "15\n",
      "25\n"
     ]
    }
   ],
   "source": [
    "import itertools\n",
    "N = int(input())\n",
    "S = []\n",
    "for _ in range(N):\n",
    "    S.append(int(input()))\n",
    "\n",
    "ans = [0]\n",
    "for n in range(1, N+1):\n",
    "    C = list(itertools.combinations(S,n))\n",
    "    for c in C:\n",
    "        if sum(c)%10 != 0:\n",
    "            ans.append(sum(c))\n",
    "        \n",
    "print(max(ans))"
   ]
  },
  {
   "cell_type": "code",
   "execution_count": 66,
   "metadata": {},
   "outputs": [
    {
     "name": "stdout",
     "output_type": "stream",
     "text": [
      "3\n",
      "13\n",
      "12\n",
      "5\n",
      "25\n"
     ]
    }
   ],
   "source": [
    "N = int(input())\n",
    "S = []\n",
    "for _ in range(N):\n",
    "    S.append(int(input()))\n",
    "\n",
    "s = sum(S)\n",
    "if s % 10 != 0:\n",
    "    print(s)\n",
    "else:\n",
    "    S.sort()\n",
    "    for i in S:\n",
    "        if i % 10 != 0:\n",
    "            s -= i\n",
    "            break\n",
    "    if s % 10 == 0:\n",
    "        print(0)\n",
    "    else:\n",
    "        print(s)"
   ]
  },
  {
   "cell_type": "code",
   "execution_count": 56,
   "metadata": {},
   "outputs": [
    {
     "data": {
      "text/plain": [
       "0"
      ]
     },
     "execution_count": 56,
     "metadata": {},
     "output_type": "execute_result"
    }
   ],
   "source": [
    "0%10"
   ]
  },
  {
   "cell_type": "code",
   "execution_count": null,
   "metadata": {},
   "outputs": [],
   "source": []
  }
 ],
 "metadata": {
  "kernelspec": {
   "display_name": "Python 3",
   "language": "python",
   "name": "python3"
  },
  "language_info": {
   "codemirror_mode": {
    "name": "ipython",
    "version": 3
   },
   "file_extension": ".py",
   "mimetype": "text/x-python",
   "name": "python",
   "nbconvert_exporter": "python",
   "pygments_lexer": "ipython3",
   "version": "3.6.4"
  }
 },
 "nbformat": 4,
 "nbformat_minor": 2
}
