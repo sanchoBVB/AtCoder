{
 "cells": [
  {
   "cell_type": "code",
   "execution_count": 1,
   "metadata": {},
   "outputs": [],
   "source": [
    "#Path"
   ]
  },
  {
   "cell_type": "code",
   "execution_count": 16,
   "metadata": {},
   "outputs": [
    {
     "name": "stdout",
     "output_type": "stream",
     "text": [
      "2 1\n",
      "3 2\n",
      "4 3\n",
      "YES\n"
     ]
    }
   ],
   "source": [
    "import collections\n",
    "ab = []\n",
    "for _ in range(3):\n",
    "    ab.append(list(map(int, input().split())))\n",
    "\n",
    "a = list(map(list, set(map(tuple, ab))))\n",
    "if len(a) != 3:\n",
    "    print(\"NO\")\n",
    "else:\n",
    "    c = []\n",
    "    for b in ab:\n",
    "        c.append(b[0])\n",
    "        c.append(b[1])\n",
    "    cnt = collections.Counter(c)\n",
    "    one, two = 0, 0\n",
    "    for v in cnt.values():\n",
    "        if v == 1:\n",
    "            one += 1\n",
    "        elif v == 2:\n",
    "            two += 1\n",
    "    if one == two:\n",
    "        print(\"YES\")\n",
    "    else:\n",
    "        print(\"NO\")"
   ]
  },
  {
   "cell_type": "code",
   "execution_count": 17,
   "metadata": {},
   "outputs": [],
   "source": [
    "#ATCoder"
   ]
  },
  {
   "cell_type": "code",
   "execution_count": 21,
   "metadata": {},
   "outputs": [
    {
     "name": "stdout",
     "output_type": "stream",
     "text": [
      "ATOCTASD\n",
      "3\n"
     ]
    }
   ],
   "source": [
    "S = list(input())\n",
    "\n",
    "ans = [0]\n",
    "c = 0\n",
    "for s in S:\n",
    "    if s == \"A\" or s == \"G\" or s ==\"C\" or s == \"T\":\n",
    "        c += 1\n",
    "    else:\n",
    "        ans.append(c)\n",
    "        c = 0\n",
    "ans.append(c)\n",
    "print(max(ans))"
   ]
  },
  {
   "cell_type": "code",
   "execution_count": 1,
   "metadata": {},
   "outputs": [],
   "source": [
    "#Break Number"
   ]
  },
  {
   "cell_type": "code",
   "execution_count": 5,
   "metadata": {},
   "outputs": [
    {
     "name": "stdout",
     "output_type": "stream",
     "text": [
      "100\n",
      "64\n"
     ]
    }
   ],
   "source": [
    "N = int(input())\n",
    "\n",
    "ans = 1\n",
    "cnt = 0\n",
    "for n in range(1, N+1):\n",
    "    i = n\n",
    "    c = 0\n",
    "    while i%2==0:\n",
    "        i /= 2\n",
    "        c += 1\n",
    "    if cnt < c:\n",
    "        cnt, ans = c, n\n",
    "        \n",
    "print(ans)"
   ]
  },
  {
   "cell_type": "code",
   "execution_count": 6,
   "metadata": {},
   "outputs": [],
   "source": [
    "#Around Square"
   ]
  },
  {
   "cell_type": "code",
   "execution_count": 40,
   "metadata": {},
   "outputs": [
    {
     "name": "stdout",
     "output_type": "stream",
     "text": [
      "1\n",
      "1\n"
     ]
    }
   ],
   "source": [
    "N = int(input())\n",
    "N = N**(0.5)\n",
    "\n",
    "print(int(N)**2)"
   ]
  },
  {
   "cell_type": "code",
   "execution_count": 41,
   "metadata": {},
   "outputs": [],
   "source": [
    "#Acrostic"
   ]
  },
  {
   "cell_type": "code",
   "execution_count": 56,
   "metadata": {},
   "outputs": [
    {
     "name": "stdout",
     "output_type": "stream",
     "text": [
      "abcdefgh\n",
      "3\n",
      "adg\n"
     ]
    }
   ],
   "source": [
    "S = list(input())\n",
    "w = int(input())\n",
    "\n",
    "if w == 1:\n",
    "    print(\"\".join(S))\n",
    "else:\n",
    "    ans = []\n",
    "    for i in range(0, len(S), w):\n",
    "        ans.append(S[i])\n",
    "    print(\"\".join(ans))"
   ]
  },
  {
   "cell_type": "code",
   "execution_count": 57,
   "metadata": {},
   "outputs": [],
   "source": [
    "#キャンディーと2人の子供"
   ]
  },
  {
   "cell_type": "code",
   "execution_count": 60,
   "metadata": {},
   "outputs": [
    {
     "name": "stdout",
     "output_type": "stream",
     "text": [
      "20 10 30\n",
      "Yes\n"
     ]
    }
   ],
   "source": [
    "cnt = list(map(int, input().split()))\n",
    "cnt.sort(reverse=True)\n",
    "\n",
    "if cnt[0] == cnt[1]+cnt[2]:\n",
    "    print(\"Yes\")\n",
    "else:\n",
    "    print(\"No\")"
   ]
  },
  {
   "cell_type": "code",
   "execution_count": 1,
   "metadata": {},
   "outputs": [],
   "source": [
    "#AtCoDeerくんとペンキ"
   ]
  },
  {
   "cell_type": "code",
   "execution_count": 3,
   "metadata": {},
   "outputs": [
    {
     "name": "stdout",
     "output_type": "stream",
     "text": [
      "3 3 10\n",
      "2\n"
     ]
    }
   ],
   "source": [
    "cnt = list(map(int, input().split()))\n",
    "cnt = list(set(cnt))\n",
    "print(len(cnt))"
   ]
  },
  {
   "cell_type": "code",
   "execution_count": 4,
   "metadata": {},
   "outputs": [],
   "source": [
    "#Almost GCD"
   ]
  },
  {
   "cell_type": "code",
   "execution_count": 16,
   "metadata": {},
   "outputs": [
    {
     "name": "stdout",
     "output_type": "stream",
     "text": [
      "5\n",
      "1000 1000 1000 1000 1000\n",
      "1000\n"
     ]
    }
   ],
   "source": [
    "N = int(input())\n",
    "A = list(map(int, input().split()))\n",
    "\n",
    "cnt, ans = 0, 0\n",
    "for k in range(2, max(A)+1):\n",
    "    c = 0\n",
    "    for a in A:\n",
    "        c += a%k == 0\n",
    "    if cnt <= c:\n",
    "        cnt, ans = c, k\n",
    "        \n",
    "print(ans)"
   ]
  },
  {
   "cell_type": "code",
   "execution_count": 17,
   "metadata": {},
   "outputs": [],
   "source": [
    "#Kagami Mochi"
   ]
  },
  {
   "cell_type": "code",
   "execution_count": 20,
   "metadata": {},
   "outputs": [
    {
     "name": "stdout",
     "output_type": "stream",
     "text": [
      "4\n",
      "10\n",
      "8\n",
      "8\n",
      "6\n",
      "3\n"
     ]
    }
   ],
   "source": [
    "N = int(input())\n",
    "cnt = set()\n",
    "for _ in range(N):\n",
    "    cnt.add(int(input()))\n",
    "    \n",
    "cnt = sorted(list(cnt))\n",
    "print(len(cnt))"
   ]
  },
  {
   "cell_type": "code",
   "execution_count": 21,
   "metadata": {},
   "outputs": [],
   "source": [
    "#Signboard"
   ]
  },
  {
   "cell_type": "code",
   "execution_count": 22,
   "metadata": {},
   "outputs": [
    {
     "name": "stdout",
     "output_type": "stream",
     "text": [
      "C0DEFESTIVAL2O16\n",
      "2\n"
     ]
    }
   ],
   "source": [
    "S = input()\n",
    "cnt = \"CODEFESTIVAL2016\"\n",
    "\n",
    "ans = 0\n",
    "for s, c in zip(S, cnt):\n",
    "    if s != c:\n",
    "        ans += 1\n",
    "        \n",
    "print(ans)"
   ]
  },
  {
   "cell_type": "code",
   "execution_count": null,
   "metadata": {},
   "outputs": [],
   "source": []
  }
 ],
 "metadata": {
  "kernelspec": {
   "display_name": "Python 3",
   "language": "python",
   "name": "python3"
  },
  "language_info": {
   "codemirror_mode": {
    "name": "ipython",
    "version": 3
   },
   "file_extension": ".py",
   "mimetype": "text/x-python",
   "name": "python",
   "nbconvert_exporter": "python",
   "pygments_lexer": "ipython3",
   "version": "3.6.4"
  }
 },
 "nbformat": 4,
 "nbformat_minor": 2
}
