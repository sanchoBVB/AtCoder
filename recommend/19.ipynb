{
 "cells": [
  {
   "cell_type": "code",
   "execution_count": 1,
   "metadata": {},
   "outputs": [],
   "source": [
    "#Choose me"
   ]
  },
  {
   "cell_type": "code",
   "execution_count": 11,
   "metadata": {},
   "outputs": [
    {
     "name": "stdout",
     "output_type": "stream",
     "text": [
      "5\n",
      "2 1\n",
      "2 1\n",
      "2 1\n",
      "2 1\n",
      "2 1\n",
      "3\n"
     ]
    }
   ],
   "source": [
    "N = int(input())\n",
    "X = 0\n",
    "x = []\n",
    "for _ in range(N):\n",
    "    A, B = map(int, input().split())\n",
    "    x.append((2*A)+B)\n",
    "    X -= A\n",
    "x.sort(reverse=True)\n",
    "ans = 0\n",
    "for i in x:\n",
    "    ans += 1\n",
    "    X += i\n",
    "    if X>0:\n",
    "        break\n",
    "        \n",
    "print(ans)"
   ]
  },
  {
   "cell_type": "code",
   "execution_count": 1,
   "metadata": {},
   "outputs": [],
   "source": [
    "#Ubiquity"
   ]
  },
  {
   "cell_type": "code",
   "execution_count": 9,
   "metadata": {},
   "outputs": [
    {
     "name": "stdout",
     "output_type": "stream",
     "text": [
      "869121\n",
      "2511445\n"
     ]
    }
   ],
   "source": [
    "N = int(input())\n",
    "print(((10**N)-(9**N+9**N-8**N))%(10**9+7))"
   ]
  },
  {
   "cell_type": "code",
   "execution_count": 10,
   "metadata": {},
   "outputs": [],
   "source": [
    "#HandV"
   ]
  },
  {
   "cell_type": "code",
   "execution_count": 62,
   "metadata": {},
   "outputs": [
    {
     "name": "stdout",
     "output_type": "stream",
     "text": [
      "2 3\n"
     ]
    }
   ],
   "source": [
    "H, W = map(int, input().split())\n",
    "C = []\n",
    "\n",
    "\n",
    "cnt_h = []\n",
    "for i in range(2 ** H):\n",
    "    tmp = [False] * H\n",
    "    for j in range(H):\n",
    "        if i >> j & 1:\n",
    "            tmp = True\n",
    "    cnt_h.append(tmp)\n",
    "cnt_w = []\n",
    "for i in range(2 ** W):\n",
    "    tmp = [False] * W\n",
    "    for j in range(W):\n",
    "        if i >> j & 1:\n",
    "            tmp[j] = True\n",
    "    cnt_w.append(tmp)"
   ]
  },
  {
   "cell_type": "code",
   "execution_count": 63,
   "metadata": {},
   "outputs": [
    {
     "data": {
      "text/plain": [
       "[[False, False, False],\n",
       " [True, False, False],\n",
       " [False, True, False],\n",
       " [True, True, False],\n",
       " [False, False, True],\n",
       " [True, False, True],\n",
       " [False, True, True],\n",
       " [True, True, True]]"
      ]
     },
     "execution_count": 63,
     "metadata": {},
     "output_type": "execute_result"
    }
   ],
   "source": [
    "H, W, K = map(int,input().split())\n",
    "C = []\n",
    "for i in range(H):\n",
    "    c = input().replace('.','0').replace('#','1')\n",
    "    c = [int(i) for i in c]\n",
    "    C.append(c)\n",
    "\n",
    "ans = 0\n",
    "for i in range(2**H):\n",
    "    for j in range(2**W):\n",
    "        cnt = 0\n",
    "        for k in range(H):\n",
    "            for l in range(W):\n",
    "                if ((i>>k)&1) or ((j>>l)&1):\n",
    "                    continue\n",
    "                else:\n",
    "                    cnt += C[k][l]\n",
    "        if cnt == K:\n",
    "            ans += 1\n",
    "print(ans)"
   ]
  },
  {
   "cell_type": "code",
   "execution_count": 64,
   "metadata": {},
   "outputs": [],
   "source": [
    "#Derangement"
   ]
  },
  {
   "cell_type": "code",
   "execution_count": 5,
   "metadata": {},
   "outputs": [
    {
     "name": "stdout",
     "output_type": "stream",
     "text": [
      "9\n",
      "1 2 4 9 5 8 7 3 6\n",
      "3\n"
     ]
    }
   ],
   "source": [
    "N = int(input())\n",
    "P = list(map(int, input().split()))\n",
    "\n",
    "ans = 0\n",
    "for n in range(N-1):\n",
    "    if P[n] == n+1:\n",
    "        P[n], P[n+1] = P[n+1], P[n]\n",
    "        ans += 1\n",
    "if P[-1] == N:\n",
    "    ans += 1\n",
    "print(ans)"
   ]
  },
  {
   "cell_type": "code",
   "execution_count": 8,
   "metadata": {},
   "outputs": [
    {
     "name": "stdout",
     "output_type": "stream",
     "text": [
      "7 1 3 6 7\n",
      ".#..#..\n",
      "Yes\n"
     ]
    }
   ],
   "source": [
    "import sys\n",
    "N, A, B, C, D = map(int, input().split())\n",
    "S = list(input())\n",
    "\n",
    "ans = True\n",
    "c2 = 0\n",
    "for n in range(A, C):\n",
    "    if S[n] == \"#\":\n",
    "        c2 += 1\n",
    "    else:\n",
    "        if c2 >= 2:\n",
    "            ans = False\n",
    "            break\n",
    "        else:\n",
    "            c2 = 0\n",
    "\n",
    "c2 = 0\n",
    "for n in range(B, D):\n",
    "    if S[n] == \"#\":\n",
    "        c2 += 1\n",
    "    else:\n",
    "        if c2 >= 2:\n",
    "            ans = False\n",
    "            break\n",
    "        else:\n",
    "            c2 = 0\n",
    "\n",
    "if C < D:\n",
    "    if ans:\n",
    "        print(\"Yes\")\n",
    "        sys.exit(0)\n",
    "    else:\n",
    "        print(\"No\")\n",
    "        sys.exit(0)\n",
    "    \n",
    "c1, c2 = 0, 0\n",
    "cnt = False\n",
    "for n in range(B-2, D+1):\n",
    "    if S[n] == \".\":\n",
    "        c1 += 1\n",
    "        if c2 >= 2:\n",
    "            ans = False\n",
    "            break\n",
    "        c2 = 0\n",
    "    else:\n",
    "        c2 += 1\n",
    "        if c1 >= 3:\n",
    "            cnt = True\n",
    "        c1 = 0\n",
    "\n",
    "if ans and cnt:\n",
    "    print(\"Yes\")\n",
    "else:\n",
    "    print(\"No\")"
   ]
  },
  {
   "cell_type": "code",
   "execution_count": 9,
   "metadata": {},
   "outputs": [],
   "source": [
    "#Water Heater"
   ]
  },
  {
   "cell_type": "code",
   "execution_count": 22,
   "metadata": {},
   "outputs": [
    {
     "name": "stdout",
     "output_type": "stream",
     "text": [
      "4 10\n",
      "1 3 5\n",
      "[0, 5, 0, -5, 0, 0, 0, 0, 0, 0, 0, 0, 0, 0]\n",
      "2 4 4\n",
      "[0, 5, 4, -5, -4, 0, 0, 0, 0, 0, 0, 0, 0, 0]\n",
      "3 10 6\n",
      "[0, 5, 4, 1, -4, 0, 0, 0, 0, 0, -6, 0, 0, 0]\n",
      "2 4 1\n",
      "[0, 5, 5, 1, -5, 0, 0, 0, 0, 0, -6, 0, 0, 0]\n",
      "No\n"
     ]
    }
   ],
   "source": [
    "import itertools\n",
    "N, W = map(int, input().split())\n",
    "\n",
    "cnt = [0]*2*(10**5+5)\n",
    "for _ in range(N):\n",
    "    s, t, p = map(int, input().split())\n",
    "    cnt[s] += p\n",
    "    cnt[t] -= p\n",
    "\n",
    "ans = list(itertools.accumulate(cnt))\n",
    "if max(ans) <= W:\n",
    "    print(\"Yes\")\n",
    "else:\n",
    "    print(\"No\")"
   ]
  },
  {
   "cell_type": "code",
   "execution_count": 1,
   "metadata": {},
   "outputs": [],
   "source": [
    "#Evilator"
   ]
  },
  {
   "cell_type": "code",
   "execution_count": 4,
   "metadata": {},
   "outputs": [
    {
     "name": "stdout",
     "output_type": "stream",
     "text": [
      "UUDUUDUD\n",
      "77\n"
     ]
    }
   ],
   "source": [
    "S = list(input())\n",
    "n = len(S)\n",
    "\n",
    "up = n-1\n",
    "down = n-1\n",
    "for i in range(1, n-1):\n",
    "    if S[i] == \"U\":\n",
    "        up += n-(i+1)\n",
    "        down += 2*(i)\n",
    "    else:\n",
    "        up += 2*(n-(i+1))\n",
    "        down += i\n",
    "        \n",
    "print(up+down)"
   ]
  },
  {
   "cell_type": "code",
   "execution_count": 1,
   "metadata": {},
   "outputs": [],
   "source": [
    "#怪文書"
   ]
  },
  {
   "cell_type": "code",
   "execution_count": 12,
   "metadata": {},
   "outputs": [
    {
     "name": "stdout",
     "output_type": "stream",
     "text": [
      "3\n",
      "cbaa\n",
      "daacc\n",
      "acacac\n",
      "aac\n"
     ]
    }
   ],
   "source": [
    "import sys\n",
    "import collections\n",
    "n = int(input())\n",
    "\n",
    "if n == 1:\n",
    "    s = list(input())\n",
    "    s.sort()\n",
    "    print(\"\".join(s))\n",
    "    sys.exit(0)\n",
    "    \n",
    "ans = []\n",
    "s1 = collections.Counter(list(input()))\n",
    "s2 = collections.Counter(list(input()))\n",
    "for t in s2.keys():\n",
    "    if t in s1:\n",
    "        for _ in range(min(s1[t], s2[t])):\n",
    "            ans.append(t)\n",
    "            \n",
    "ans = collections.Counter(ans)\n",
    "for _ in range(n-2):\n",
    "    s = collections.Counter(list(input()))\n",
    "    for i in list(ans):\n",
    "        if i in s:\n",
    "            ans[i] = min(ans[i], s[i])\n",
    "        else:\n",
    "            del ans[i]\n",
    "            \n",
    "ans = sorted(ans.items())\n",
    "ans1 = []\n",
    "for a in ans:\n",
    "    ans1.append(a[0]*a[1])\n",
    "print(\"\".join(ans1))"
   ]
  },
  {
   "cell_type": "code",
   "execution_count": 9,
   "metadata": {},
   "outputs": [
    {
     "data": {
      "text/plain": [
       "Counter()"
      ]
     },
     "execution_count": 9,
     "metadata": {},
     "output_type": "execute_result"
    }
   ],
   "source": [
    "ans"
   ]
  },
  {
   "cell_type": "code",
   "execution_count": null,
   "metadata": {},
   "outputs": [],
   "source": []
  }
 ],
 "metadata": {
  "kernelspec": {
   "display_name": "Python 3",
   "language": "python",
   "name": "python3"
  },
  "language_info": {
   "codemirror_mode": {
    "name": "ipython",
    "version": 3
   },
   "file_extension": ".py",
   "mimetype": "text/x-python",
   "name": "python",
   "nbconvert_exporter": "python",
   "pygments_lexer": "ipython3",
   "version": "3.6.4"
  }
 },
 "nbformat": 4,
 "nbformat_minor": 2
}
