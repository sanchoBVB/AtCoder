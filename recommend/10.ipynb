{
 "cells": [
  {
   "cell_type": "code",
   "execution_count": 1,
   "metadata": {},
   "outputs": [],
   "source": [
    "#Together"
   ]
  },
  {
   "cell_type": "code",
   "execution_count": 9,
   "metadata": {},
   "outputs": [
    {
     "name": "stdout",
     "output_type": "stream",
     "text": [
      "7\n",
      "0 2 3 4 5 6 7 8\n",
      "3\n"
     ]
    }
   ],
   "source": [
    "import sys\n",
    "N = int(input())\n",
    "A = list(map(int, input().split()))\n",
    "\n",
    "if N == 1:\n",
    "    print(1)\n",
    "    sys.exit(0)\n",
    "    \n",
    "cnt = [0 for _ in range(10**5+1)]\n",
    "for a in A:\n",
    "    if a == 0:\n",
    "        cnt[a] += 1\n",
    "        cnt[a+1] += 1\n",
    "    else:\n",
    "        cnt[a-1] += 1\n",
    "        cnt[a] += 1\n",
    "        cnt[a+1] += 1\n",
    "    \n",
    "print(max(cnt))"
   ]
  },
  {
   "cell_type": "code",
   "execution_count": 10,
   "metadata": {},
   "outputs": [],
   "source": [
    "#Checkpoints"
   ]
  },
  {
   "cell_type": "code",
   "execution_count": 11,
   "metadata": {},
   "outputs": [
    {
     "name": "stdout",
     "output_type": "stream",
     "text": [
      "2 2\n",
      "2 0\n",
      "0 0\n",
      "-1 0\n",
      "1 0\n",
      "2\n",
      "1\n"
     ]
    }
   ],
   "source": [
    "N, M = map(int, input().split())\n",
    "ab = []\n",
    "for _ in range(N):\n",
    "    ab.append(list(map(int, input().split())))\n",
    "cd = []\n",
    "for _ in range(M):\n",
    "    cd.append(list(map(int, input().split())))\n",
    "    \n",
    "for x in ab:\n",
    "    a = x[0]\n",
    "    b = x[1]\n",
    "    cnt = []\n",
    "    for y in cd:\n",
    "        c = y[0]\n",
    "        d = y[1]\n",
    "        k = abs(a-c)+abs(b-d)\n",
    "        cnt.append(k)\n",
    "    print(cnt.index(min(cnt))+1)"
   ]
  },
  {
   "cell_type": "code",
   "execution_count": 12,
   "metadata": {},
   "outputs": [],
   "source": [
    "#Otoshidama"
   ]
  },
  {
   "cell_type": "code",
   "execution_count": 18,
   "metadata": {},
   "outputs": [
    {
     "name": "stdout",
     "output_type": "stream",
     "text": [
      "2000 20000000\n",
      "2000 0 0\n"
     ]
    }
   ],
   "source": [
    "N, Y = map(int, input().split())\n",
    "\n",
    "ans = [-1, -1, -1]\n",
    "for x in range(N+1):\n",
    "    a = 10000*x\n",
    "    for y in range(0, (N+1)-x):\n",
    "        b = 5000*y\n",
    "        z = N-(x+y)\n",
    "        c = 1000*z\n",
    "        if (a+b+c) == Y:\n",
    "            ans = [x, y, z]\n",
    "            break\n",
    "ans = map(str, ans)\n",
    "print(\" \".join(ans))"
   ]
  },
  {
   "cell_type": "code",
   "execution_count": 19,
   "metadata": {},
   "outputs": [],
   "source": [
    "#<>"
   ]
  },
  {
   "cell_type": "code",
   "execution_count": null,
   "metadata": {},
   "outputs": [],
   "source": [
    "s = input()\n",
    "n = len(s) #length s\n",
    "aa = ['.'] * (n + 1)\n",
    "\n",
    "if s[0] == '<':\n",
    "  aa[0] = 0\n",
    "if s[-1] == '>':\n",
    "  aa[-1] = 0\n",
    "\n",
    "for i in range(n-1):\n",
    "  if s[i] ==  '>' and s[i+1] == '<':\n",
    "    aa[i+1] = 0 \n",
    "  elif s[i] == '<' and s[i+1] == '>':\n",
    "    aa[i+1] = n\n",
    "    \n",
    "z = [i for i,x in enumerate(aa) if x == 0]\n",
    "m = [i for i, x in enumerate(aa) if x == n]\n",
    "\n",
    "\n",
    "for i in range(len(z)-1):\n",
    "  aa[m[i]] = max(m[i]-z[i], z[i+1]-m[i])\n",
    "  aa[m[i]+1] = z[i+1]-m[i]-1\n",
    "  for j in range(z[i]+1, m[i]):\n",
    "    aa[j] = aa[j-1] +1\n",
    "  for k in range(m[i]+2,z[i+1]):\n",
    "    \n",
    "    aa[k] = aa[k-1]-1\n",
    "for i in range(z[-1], n+1):\n",
    "  if aa[i] == '.':\n",
    "    aa[i] = aa[i-1]+1\n",
    "for i in range(z[0]):\n",
    "  if aa[i] == '.':\n",
    "    aa[i] = z[0] - i\n",
    "    \n",
    "\n",
    "print(sum(aa))"
   ]
  },
  {
   "cell_type": "code",
   "execution_count": 20,
   "metadata": {},
   "outputs": [],
   "source": [
    "#Similar Arrays"
   ]
  },
  {
   "cell_type": "code",
   "execution_count": 26,
   "metadata": {},
   "outputs": [
    {
     "name": "stdout",
     "output_type": "stream",
     "text": [
      "2\n",
      "2 3\n",
      "7\n"
     ]
    }
   ],
   "source": [
    "N = int(input())\n",
    "A = list(map(int, input().split()))\n",
    "\n",
    "cnt = 1\n",
    "for a in A:\n",
    "    if a%2 == 0:\n",
    "        cnt *= 2\n",
    "        \n",
    "print((3**N)-cnt)"
   ]
  },
  {
   "cell_type": "code",
   "execution_count": null,
   "metadata": {},
   "outputs": [],
   "source": []
  }
 ],
 "metadata": {
  "kernelspec": {
   "display_name": "Python 3",
   "language": "python",
   "name": "python3"
  },
  "language_info": {
   "codemirror_mode": {
    "name": "ipython",
    "version": 3
   },
   "file_extension": ".py",
   "mimetype": "text/x-python",
   "name": "python",
   "nbconvert_exporter": "python",
   "pygments_lexer": "ipython3",
   "version": "3.6.4"
  }
 },
 "nbformat": 4,
 "nbformat_minor": 2
}
