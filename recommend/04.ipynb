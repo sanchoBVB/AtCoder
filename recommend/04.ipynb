{
 "cells": [
  {
   "cell_type": "code",
   "execution_count": 1,
   "metadata": {},
   "outputs": [],
   "source": [
    "#Grid Compression"
   ]
  },
  {
   "cell_type": "code",
   "execution_count": 48,
   "metadata": {},
   "outputs": [
    {
     "name": "stdout",
     "output_type": "stream",
     "text": [
      "4 4\n",
      "##.#\n",
      "....\n",
      "##.#\n",
      ".#.#\n",
      "###\n",
      "###\n",
      ".##\n"
     ]
    }
   ],
   "source": [
    "import itertools\n",
    "H, W = map(int, input().split())\n",
    "A = []\n",
    "for _ in range(H):\n",
    "    a = list(input())\n",
    "    if a.count(\"#\") != 0:\n",
    "        A.append(a)\n",
    "\n",
    "H = len(A)\n",
    "if H == 1:\n",
    "    A = list(itertools.chain.from_iterable(A))\n",
    "    cnt = []\n",
    "    for ans in A:\n",
    "        if ans == \"#\":\n",
    "            cnt.append(ans)\n",
    "    print(\"\".join(cnt))\n",
    "else:\n",
    "    L = []\n",
    "    for w in range(W):\n",
    "        l = []\n",
    "        for h in range(H):\n",
    "            if A[h][w] == \"#\":\n",
    "                l = []\n",
    "                break\n",
    "            l.append(w)\n",
    "        if len(l) != 0:\n",
    "            L.append(l[0])\n",
    "\n",
    "    dellist = lambda items, indexes: [item for index, item in enumerate(items) if index not in indexes]\n",
    "    for ans in A:\n",
    "        ans = dellist(ans, L)\n",
    "        print(\"\".join(ans))"
   ]
  },
  {
   "cell_type": "code",
   "execution_count": 41,
   "metadata": {},
   "outputs": [
    {
     "name": "stdout",
     "output_type": "stream",
     "text": [
      "[['.', '.', '.', '.'], ['#', '.', '.', '.'], ['.', '#', '.', '.'], ['.', '#', '.', '.'], ['#', '.', '.', '.']]\n"
     ]
    }
   ],
   "source": [
    "print(A)"
   ]
  },
  {
   "cell_type": "code",
   "execution_count": 56,
   "metadata": {},
   "outputs": [
    {
     "name": "stdout",
     "output_type": "stream",
     "text": [
      "5 4 3\n",
      "0\n"
     ]
    },
    {
     "ename": "SystemExit",
     "evalue": "0",
     "output_type": "error",
     "traceback": [
      "An exception has occurred, use %tb to see the full traceback.\n",
      "\u001b[0;31mSystemExit\u001b[0m\u001b[0;31m:\u001b[0m 0\n"
     ]
    },
    {
     "name": "stderr",
     "output_type": "stream",
     "text": [
      "/Users/miuratakuto/.pyenv/versions/anaconda3-5.1.0/lib/python3.6/site-packages/IPython/core/interactiveshell.py:2918: UserWarning: To exit: use 'exit', 'quit', or Ctrl-D.\n",
      "  warn(\"To exit: use 'exit', 'quit', or Ctrl-D.\", stacklevel=1)\n"
     ]
    }
   ],
   "source": [
    "import sys\n",
    "N, A, B = map(int, input().split())\n",
    "\n",
    "if A > B:\n",
    "    print(0)\n",
    "    sys.exit(0)\n",
    "if N == 1:\n",
    "    if A == B:\n",
    "        print(1)\n",
    "    else:\n",
    "        print(0)\n",
    "    sys.exit(0)\n",
    "\n",
    "x = B*(N-1)+A\n",
    "n = A*(N-1)+B\n",
    "print(x-n+1)"
   ]
  },
  {
   "cell_type": "code",
   "execution_count": 1,
   "metadata": {},
   "outputs": [],
   "source": [
    "#Skill up"
   ]
  },
  {
   "cell_type": "code",
   "execution_count": 40,
   "metadata": {},
   "outputs": [
    {
     "name": "stdout",
     "output_type": "stream",
     "text": [
      "1 1 2\n",
      "1 2\n",
      "1\n"
     ]
    }
   ],
   "source": [
    "from operator import sub, add\n",
    "import sys\n",
    "N, M, X = map(int, input().split())\n",
    "AC = []\n",
    "for _ in range(N):\n",
    "    AC.append(list(map(int, input().split())))\n",
    "\n",
    "s = [sum(x) for x in zip(*AC)]\n",
    "for m in range(1, M+1):\n",
    "    if s[m] < X:\n",
    "        print(-1)\n",
    "        sys.exit(0)\n",
    "        \n",
    "AC.sort(reverse=True)        \n",
    "for n in range(N):\n",
    "    ac = AC[n]\n",
    "    s = list(map(sub, s, ac))\n",
    "    for m in range(1, M+1):\n",
    "        if s[m] < X:\n",
    "            s = list(map(add, s, ac))\n",
    "            break\n",
    "            \n",
    "print(s[0])"
   ]
  },
  {
   "cell_type": "code",
   "execution_count": 28,
   "metadata": {},
   "outputs": [
    {
     "data": {
      "text/plain": [
       "[120, 10, 10, 18]"
      ]
     },
     "execution_count": 28,
     "metadata": {},
     "output_type": "execute_result"
    }
   ],
   "source": []
  },
  {
   "cell_type": "code",
   "execution_count": 34,
   "metadata": {},
   "outputs": [
    {
     "data": {
      "text/plain": [
       "1067"
      ]
     },
     "execution_count": 34,
     "metadata": {},
     "output_type": "execute_result"
    }
   ],
   "source": [
    "s[0]"
   ]
  },
  {
   "cell_type": "code",
   "execution_count": null,
   "metadata": {},
   "outputs": [],
   "source": []
  }
 ],
 "metadata": {
  "kernelspec": {
   "display_name": "Python 3",
   "language": "python",
   "name": "python3"
  },
  "language_info": {
   "codemirror_mode": {
    "name": "ipython",
    "version": 3
   },
   "file_extension": ".py",
   "mimetype": "text/x-python",
   "name": "python",
   "nbconvert_exporter": "python",
   "pygments_lexer": "ipython3",
   "version": "3.6.4"
  }
 },
 "nbformat": 4,
 "nbformat_minor": 2
}
