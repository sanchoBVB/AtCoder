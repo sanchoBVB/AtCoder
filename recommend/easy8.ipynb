{
 "cells": [
  {
   "cell_type": "code",
   "execution_count": 1,
   "metadata": {},
   "outputs": [],
   "source": [
    "#Chocolate"
   ]
  },
  {
   "cell_type": "code",
   "execution_count": 6,
   "metadata": {},
   "outputs": [
    {
     "name": "stdout",
     "output_type": "stream",
     "text": [
      "2\n",
      "8 20\n",
      "1\n",
      "10\n",
      "29\n"
     ]
    }
   ],
   "source": [
    "N = int(input())\n",
    "D, X = map(int, input().split())\n",
    "\n",
    "cnt = X\n",
    "for _ in range(N):\n",
    "    a = int(input())\n",
    "    cnt += len(list(range(1, D+1, a)))\n",
    "    \n",
    "print(cnt)"
   ]
  },
  {
   "cell_type": "code",
   "execution_count": 7,
   "metadata": {},
   "outputs": [],
   "source": [
    "#1 21"
   ]
  },
  {
   "cell_type": "code",
   "execution_count": 10,
   "metadata": {},
   "outputs": [
    {
     "name": "stdout",
     "output_type": "stream",
     "text": [
      "12 10\n",
      "No\n"
     ]
    }
   ],
   "source": [
    "n = input().split()\n",
    "n = int(\"\".join(n))\n",
    "\n",
    "if (n**(0.5)).is_integer():\n",
    "    print(\"Yes\")\n",
    "else:\n",
    "    print(\"No\")"
   ]
  },
  {
   "cell_type": "code",
   "execution_count": 11,
   "metadata": {},
   "outputs": [],
   "source": [
    "#Good Integer"
   ]
  },
  {
   "cell_type": "code",
   "execution_count": 20,
   "metadata": {},
   "outputs": [
    {
     "name": "stdout",
     "output_type": "stream",
     "text": [
      "1234\n",
      "No\n"
     ]
    }
   ],
   "source": [
    "N = list(input())\n",
    "\n",
    "if all([N[i]==N[0] for i in range(len(N)-1)]) or all([N[i]==N[-1] for i in range(1, len(N))]):\n",
    "    print(\"Yes\")\n",
    "else:\n",
    "    print(\"No\")"
   ]
  },
  {
   "cell_type": "code",
   "execution_count": 21,
   "metadata": {},
   "outputs": [],
   "source": [
    "#Postdocs"
   ]
  },
  {
   "cell_type": "code",
   "execution_count": 23,
   "metadata": {},
   "outputs": [
    {
     "name": "stdout",
     "output_type": "stream",
     "text": [
      "P?P?\n",
      "PDPD\n"
     ]
    }
   ],
   "source": [
    "T = list(input())\n",
    "\n",
    "for t in range(len(T)):\n",
    "    if T[t] == \"?\":\n",
    "        T[t] = \"D\"\n",
    "        \n",
    "print(\"\".join(T))"
   ]
  },
  {
   "cell_type": "code",
   "execution_count": 24,
   "metadata": {},
   "outputs": [],
   "source": [
    "#One Card Poker"
   ]
  },
  {
   "cell_type": "code",
   "execution_count": 28,
   "metadata": {},
   "outputs": [
    {
     "name": "stdout",
     "output_type": "stream",
     "text": [
      "13 1\n",
      "Bob\n"
     ]
    }
   ],
   "source": [
    "A, B = map(int, input().split())\n",
    "\n",
    "if A==1:\n",
    "    A = 14\n",
    "if B==1:\n",
    "    B = 14\n",
    "    \n",
    "if A<B:\n",
    "    print(\"Bob\")\n",
    "elif B<A:\n",
    "    print(\"Alice\")\n",
    "else:\n",
    "    print(\"Draw\")"
   ]
  },
  {
   "cell_type": "code",
   "execution_count": 1,
   "metadata": {},
   "outputs": [],
   "source": [
    "#Varied"
   ]
  },
  {
   "cell_type": "code",
   "execution_count": 3,
   "metadata": {},
   "outputs": [
    {
     "name": "stdout",
     "output_type": "stream",
     "text": [
      "different\n",
      "No\n"
     ]
    }
   ],
   "source": [
    "S = list(input())\n",
    "T = list(set(S))\n",
    "\n",
    "if len(S) == len(T):\n",
    "    print(\"yes\")\n",
    "else:\n",
    "    print(\"no\")"
   ]
  },
  {
   "cell_type": "code",
   "execution_count": 4,
   "metadata": {},
   "outputs": [],
   "source": [
    "#Tax Rate"
   ]
  },
  {
   "cell_type": "code",
   "execution_count": 15,
   "metadata": {},
   "outputs": [
    {
     "name": "stdout",
     "output_type": "stream",
     "text": [
      "432\n",
      "400\n"
     ]
    }
   ],
   "source": [
    "N = int(input())\n",
    "\n",
    "ans = \":(\"\n",
    "for x in range(55000):\n",
    "    X = int(x*1.08)\n",
    "    if X == N:\n",
    "        ans = x\n",
    "        break\n",
    "            \n",
    "print(ans)"
   ]
  },
  {
   "cell_type": "code",
   "execution_count": 16,
   "metadata": {},
   "outputs": [],
   "source": [
    "#Addition and Multiplication"
   ]
  },
  {
   "cell_type": "code",
   "execution_count": 18,
   "metadata": {},
   "outputs": [
    {
     "name": "stdout",
     "output_type": "stream",
     "text": [
      "10\n",
      "10\n",
      "76\n"
     ]
    }
   ],
   "source": [
    "N = int(input())\n",
    "K = int(input())\n",
    "\n",
    "ans = 1\n",
    "for _ in range(N):\n",
    "    ans = min(ans+K, ans*2)\n",
    "    \n",
    "print(ans)"
   ]
  },
  {
   "cell_type": "code",
   "execution_count": 19,
   "metadata": {},
   "outputs": [],
   "source": [
    "#CODEFESTIVAL 2016"
   ]
  },
  {
   "cell_type": "code",
   "execution_count": 21,
   "metadata": {},
   "outputs": [
    {
     "name": "stdout",
     "output_type": "stream",
     "text": [
      "POSTGRADUATE\n",
      "POST GRADUATE\n"
     ]
    }
   ],
   "source": [
    "s = list(input())\n",
    "\n",
    "s.insert(4, \" \")\n",
    "print(\"\".join(s))"
   ]
  },
  {
   "cell_type": "code",
   "execution_count": 22,
   "metadata": {},
   "outputs": [],
   "source": [
    "#Touitsu"
   ]
  },
  {
   "cell_type": "code",
   "execution_count": 25,
   "metadata": {},
   "outputs": [
    {
     "name": "stdout",
     "output_type": "stream",
     "text": [
      "7\n",
      "zenkoku\n",
      "touitsu\n",
      "program\n",
      "13\n"
     ]
    }
   ],
   "source": [
    "N = int(input())\n",
    "A = input()\n",
    "B = input()\n",
    "C = input()\n",
    "\n",
    "ans = 0\n",
    "for n in range(N):\n",
    "    cnt = [A[n], B[n], C[n]]\n",
    "    if len(set(cnt)) == 2:\n",
    "        ans += 1\n",
    "    elif len(set(cnt)) == 3:\n",
    "        ans += 2\n",
    "        \n",
    "print(ans)"
   ]
  },
  {
   "cell_type": "code",
   "execution_count": null,
   "metadata": {},
   "outputs": [],
   "source": []
  }
 ],
 "metadata": {
  "kernelspec": {
   "display_name": "Python 3",
   "language": "python",
   "name": "python3"
  },
  "language_info": {
   "codemirror_mode": {
    "name": "ipython",
    "version": 3
   },
   "file_extension": ".py",
   "mimetype": "text/x-python",
   "name": "python",
   "nbconvert_exporter": "python",
   "pygments_lexer": "ipython3",
   "version": "3.6.4"
  }
 },
 "nbformat": 4,
 "nbformat_minor": 2
}
