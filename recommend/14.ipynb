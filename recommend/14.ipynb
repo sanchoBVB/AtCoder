{
 "cells": [
  {
   "cell_type": "code",
   "execution_count": 1,
   "metadata": {},
   "outputs": [],
   "source": [
    "#Exponential"
   ]
  },
  {
   "cell_type": "code",
   "execution_count": 10,
   "metadata": {},
   "outputs": [
    {
     "name": "stdout",
     "output_type": "stream",
     "text": [
      "1000\n",
      "1000\n"
     ]
    }
   ],
   "source": [
    "X = int(input())\n",
    "\n",
    "cnt = set()\n",
    "for b in range(1, 32):\n",
    "    for p in range(2, 11):\n",
    "        cnt.add(b**p)\n",
    "\n",
    "cnt = sorted(list(cnt))\n",
    "ans = 0\n",
    "for c in cnt:\n",
    "    if c > X:\n",
    "        break\n",
    "    ans = c\n",
    "    \n",
    "print(ans)"
   ]
  },
  {
   "cell_type": "code",
   "execution_count": 11,
   "metadata": {},
   "outputs": [],
   "source": [
    "#100to105"
   ]
  },
  {
   "cell_type": "code",
   "execution_count": 25,
   "metadata": {},
   "outputs": [
    {
     "name": "stdout",
     "output_type": "stream",
     "text": [
      "217\n",
      "0\n"
     ]
    }
   ],
   "source": [
    "X = int(input())\n",
    "\n",
    "ans = 0\n",
    "for c in range(1, (X//100)+1):\n",
    "    for n in range(100*c, (105*c)+1):\n",
    "        if n == X:\n",
    "            ans = 1\n",
    "            break\n",
    "            \n",
    "print(ans)"
   ]
  },
  {
   "cell_type": "code",
   "execution_count": 26,
   "metadata": {},
   "outputs": [],
   "source": [
    "#たてなが"
   ]
  },
  {
   "cell_type": "code",
   "execution_count": 30,
   "metadata": {},
   "outputs": [
    {
     "name": "stdout",
     "output_type": "stream",
     "text": [
      "1 4\n",
      "###.\n",
      "###.\n",
      "###.\n"
     ]
    }
   ],
   "source": [
    "H, W = map(int, input().split())\n",
    "C = []\n",
    "for _ in range(H):\n",
    "    c = input()\n",
    "    C.append(c)\n",
    "    \n",
    "for ans in C:\n",
    "    print(ans)\n",
    "    print(ans)"
   ]
  },
  {
   "cell_type": "code",
   "execution_count": 31,
   "metadata": {},
   "outputs": [],
   "source": [
    "#Dividing a String"
   ]
  },
  {
   "cell_type": "code",
   "execution_count": 51,
   "metadata": {},
   "outputs": [
    {
     "name": "stdout",
     "output_type": "stream",
     "text": [
      "aaaaaaaaaaaaaaaaaaaaaaaaaaaaaaaaaaaaaaaaaaaaaaaaaaaaaaaaaaaaaaaaaaaaaaaaaaaaaaaaaaaaaaaaaaaaaaaaaaaaaaaaaaaaaaaaaaaaaaaaaaaaaaaaaaaaaaaaaaaaaaaaaaaaaaaaaaaaaaaaaaaaaaaaaaaaaaaaaaaaaaaaaaaaaaaaaaaaaaaaaaaaaaaaaaaaaaaaaaaaaaaaaaaaaaaaaaaaaaaaaaaaaaaaaaaa\n",
      "168\n"
     ]
    }
   ],
   "source": [
    "S = list(input())\n",
    "\n",
    "cnt = 0\n",
    "ans = 0\n",
    "while True:\n",
    "    cnt_like = cnt\n",
    "    if cnt == S[0]:\n",
    "        cnt = \"\".join(S[:2])\n",
    "        del S[:2]\n",
    "    else:\n",
    "        cnt = S[0]\n",
    "        del S[0]\n",
    "    if len(S) == 0:\n",
    "        break\n",
    "    ans += 1\n",
    "\n",
    "if cnt_like != cnt:\n",
    "    print(ans+1)\n",
    "else:\n",
    "    print(ans)"
   ]
  },
  {
   "cell_type": "code",
   "execution_count": 52,
   "metadata": {},
   "outputs": [
    {
     "name": "stdout",
     "output_type": "stream",
     "text": [
      "aabbaa\n",
      "4\n"
     ]
    }
   ],
   "source": [
    "S = list(input())\n",
    "ans = [S[0]]\n",
    "tmp = ''\n",
    "for i in range(1,len(S)):\n",
    "    tmp += S[i]\n",
    "    if ans[-1] != tmp:\n",
    "        ans.append(tmp)\n",
    "        tmp = ''\n",
    "print(len(ans))"
   ]
  },
  {
   "cell_type": "code",
   "execution_count": 53,
   "metadata": {},
   "outputs": [],
   "source": [
    "#DNA Sequence"
   ]
  },
  {
   "cell_type": "code",
   "execution_count": 64,
   "metadata": {},
   "outputs": [
    {
     "name": "stdout",
     "output_type": "stream",
     "text": [
      "4 AGCT\n",
      "['GC']\n"
     ]
    }
   ],
   "source": [
    "N, S = input().split()\n",
    "N = int(N)\n",
    "S = list(S)\n",
    " \n",
    "cnt = 0\n",
    "for n in range(N-1):\n",
    "    for i in range(n+1, N, 2):\n",
    "        if S[n:i+1].count(\"A\") == S[n:i+1].count(\"T\") and S[n:i+1].count(\"C\") == S[n:i+1].count(\"G\"):\n",
    "            cnt += 1\n",
    "            \n",
    "print(cnt)"
   ]
  },
  {
   "cell_type": "code",
   "execution_count": 68,
   "metadata": {},
   "outputs": [
    {
     "name": "stdout",
     "output_type": "stream",
     "text": [
      "4 ATGC\n",
      "2\n"
     ]
    }
   ],
   "source": [
    "n,s=input().split()\n",
    "n=int(n)\n",
    "ans=0\n",
    "res=n-1\n",
    "while res>0:\n",
    "    a=0\n",
    "    t=0\n",
    "    c=0\n",
    "    g=0\n",
    "    for i in range(res,-1,-1):\n",
    "        if s[i]=='A':\n",
    "            a+=1\n",
    "        elif s[i]=='T':\n",
    "            t+=1\n",
    "        elif s[i]=='C':\n",
    "            c+=1\n",
    "        else:\n",
    "            g+=1\n",
    "        if a==t and c==g:\n",
    "            if (a+t)%2==0 and (c+g)%2==0:\n",
    "                ans+=1\n",
    "        res-=1\n",
    "print(ans)"
   ]
  },
  {
   "cell_type": "code",
   "execution_count": 67,
   "metadata": {},
   "outputs": [],
   "source": [
    "#Stamp"
   ]
  },
  {
   "cell_type": "code",
   "execution_count": 81,
   "metadata": {},
   "outputs": [
    {
     "name": "stdout",
     "output_type": "stream",
     "text": [
      "5 3\n",
      "1 2 4\n",
      "2\n"
     ]
    }
   ],
   "source": [
    "import sys\n",
    "import math\n",
    "N, M = map(int, input().split())\n",
    "A = list(map(int, input().split()))\n",
    "\n",
    "if N == M:\n",
    "    print(0)\n",
    "    sys.exit(0)\n",
    "if M == 0:\n",
    "    print(1)\n",
    "    sys.exit(0)\n",
    "    \n",
    "if 1 not in A:\n",
    "    A.append(0)\n",
    "if N not in A:\n",
    "    A.append(N+1)\n",
    "A.sort()\n",
    "cnt = [A[i]-A[i-1]-1 for i in range(1, len(A)) if A[i]-A[i-1]-1 != 0]\n",
    "k = min(cnt)\n",
    "ans = 0\n",
    "for c in cnt:\n",
    "    ans += math.ceil(c/k)\n",
    "    \n",
    "print(ans)"
   ]
  },
  {
   "cell_type": "code",
   "execution_count": 82,
   "metadata": {},
   "outputs": [],
   "source": [
    "#Banned K"
   ]
  },
  {
   "cell_type": "code",
   "execution_count": 104,
   "metadata": {},
   "outputs": [
    {
     "name": "stdout",
     "output_type": "stream",
     "text": [
      "8\n",
      "1 2 1 4 2 1 4 1\n",
      "5\n",
      "7\n",
      "5\n",
      "7\n",
      "7\n",
      "5\n",
      "7\n",
      "5\n"
     ]
    }
   ],
   "source": [
    "import collections\n",
    "N = int(input())\n",
    "A = list(map(int, input().split()))\n",
    "\n",
    "\n",
    "cnt_a = collections.Counter(A)\n",
    "cnt = 0\n",
    "for a in cnt_a.values():\n",
    "    cnt += a*(a-1)//2\n",
    "\n",
    "for k in A:\n",
    "    print(cnt-cnt_a[k]+1)"
   ]
  },
  {
   "cell_type": "code",
   "execution_count": 105,
   "metadata": {},
   "outputs": [],
   "source": [
    "#バイナリハックイージー"
   ]
  },
  {
   "cell_type": "code",
   "execution_count": 108,
   "metadata": {},
   "outputs": [
    {
     "name": "stdout",
     "output_type": "stream",
     "text": [
      "0BB1B\n",
      "\n"
     ]
    }
   ],
   "source": [
    "s = list(input())\n",
    "\n",
    "ans = []\n",
    "for i in s:\n",
    "    if i == \"0\":\n",
    "        ans.append(\"0\")\n",
    "    elif i == \"1\":\n",
    "        ans.append(\"1\")\n",
    "    else:\n",
    "        if len(ans) == 0:\n",
    "            continue\n",
    "        else:\n",
    "            del ans[-1]\n",
    "            \n",
    "print(\"\".join(ans))"
   ]
  },
  {
   "cell_type": "code",
   "execution_count": 109,
   "metadata": {},
   "outputs": [],
   "source": [
    "#Connection and Disconnection"
   ]
  },
  {
   "cell_type": "code",
   "execution_count": 150,
   "metadata": {},
   "outputs": [
    {
     "name": "stdout",
     "output_type": "stream",
     "text": [
      "iih\n",
      "3\n",
      "3\n"
     ]
    }
   ],
   "source": [
    "import collections\n",
    "import sys\n",
    "S = list(input())\n",
    "K = int(input())\n",
    "\n",
    "cnt_S = collections.Counter(S)\n",
    "if cnt_S[S[0]] == len(S):\n",
    "    print((len(S)*K)//2)\n",
    "    sys.exit(0)\n",
    "    \n",
    "cnt = 0\n",
    "i = 1\n",
    "while i<=len(S)-1:\n",
    "    if S[i-1] == S[i]:\n",
    "        i += 1\n",
    "        cnt += 1\n",
    "    i += 1\n",
    "\n",
    "if S[-1] == S[0]:\n",
    "    if S[-1] != S[-2] and S[0] != S[1]:\n",
    "        cnt += 1\n",
    "        print((cnt*K)-1)\n",
    "        sys.exit(0)\n",
    "    \n",
    "print(cnt*K)"
   ]
  },
  {
   "cell_type": "code",
   "execution_count": 151,
   "metadata": {},
   "outputs": [],
   "source": [
    "#Anti-Division"
   ]
  },
  {
   "cell_type": "code",
   "execution_count": 163,
   "metadata": {},
   "outputs": [
    {
     "name": "stdout",
     "output_type": "stream",
     "text": [
      "314159265358979323 846264338327950288 419716939 937510582\n",
      "532105071133627368\n"
     ]
    }
   ],
   "source": [
    "import math\n",
    "A, B, C, D = map(int, input().split())\n",
    "\n",
    "cnt_c = math.floor(B/C)-math.ceil(A/C)\n",
    "cnt_d = math.floor(B/D)-math.ceil(A/D)\n",
    "\n",
    "if B >= (C*D):\n",
    "    cnt_cd = math.floor(B/(C*D))-math.ceil(A/(C*D))\n",
    "    print((B-A)-(cnt_c+cnt_d-cnt_cd))\n",
    "else:\n",
    "    print((B-A)-(cnt_c+cnt_d))"
   ]
  },
  {
   "cell_type": "code",
   "execution_count": 170,
   "metadata": {},
   "outputs": [
    {
     "name": "stdout",
     "output_type": "stream",
     "text": [
      "314159265358979323 846264338327950288 419716939 937510582\n",
      "532105071133627368\n"
     ]
    }
   ],
   "source": [
    "import math\n",
    "A, B, C, D = map(int, input().split())\n",
    "\n",
    "def my_lcm(x, y):\n",
    "    return (x * y) // math.gcd(x, y)\n",
    "\n",
    "cnt_b = B-(B//C)-(B//D)+(B//my_lcm(C, D))\n",
    "cnt_a = (A-1)-((A-1)//C)-((A-1)//D)+((A-1)//my_lcm(C, D))\n",
    "\n",
    "print(cnt_b-cnt_a)"
   ]
  },
  {
   "cell_type": "code",
   "execution_count": null,
   "metadata": {},
   "outputs": [],
   "source": []
  }
 ],
 "metadata": {
  "kernelspec": {
   "display_name": "Python 3",
   "language": "python",
   "name": "python3"
  },
  "language_info": {
   "codemirror_mode": {
    "name": "ipython",
    "version": 3
   },
   "file_extension": ".py",
   "mimetype": "text/x-python",
   "name": "python",
   "nbconvert_exporter": "python",
   "pygments_lexer": "ipython3",
   "version": "3.6.4"
  }
 },
 "nbformat": 4,
 "nbformat_minor": 2
}
