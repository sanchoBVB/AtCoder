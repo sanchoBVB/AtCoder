{
 "cells": [
  {
   "cell_type": "code",
   "execution_count": 1,
   "metadata": {},
   "outputs": [],
   "source": [
    "#Divide the Problems"
   ]
  },
  {
   "cell_type": "code",
   "execution_count": 4,
   "metadata": {},
   "outputs": [
    {
     "name": "stdout",
     "output_type": "stream",
     "text": [
      "14\n",
      "99592 10342 29105 78532 83018 11639 92015 77204 30914 21912 34519 80835 100000 1\n",
      "42685\n"
     ]
    }
   ],
   "source": [
    "N = int(input())\n",
    "D = list(map(int, input().split()))\n",
    "D.sort()\n",
    "\n",
    "print(D[N//2]-D[(N//2)-1])"
   ]
  },
  {
   "cell_type": "code",
   "execution_count": 5,
   "metadata": {},
   "outputs": [],
   "source": [
    "#Two Switches"
   ]
  },
  {
   "cell_type": "code",
   "execution_count": 8,
   "metadata": {},
   "outputs": [
    {
     "name": "stdout",
     "output_type": "stream",
     "text": [
      "0 75 25 100\n",
      "50\n"
     ]
    }
   ],
   "source": [
    "A, B, C, D = map(int, input().split())\n",
    "\n",
    "a = max(A, C)\n",
    "b = min(B, D)\n",
    "\n",
    "if b-a <= 0:\n",
    "    print(0)\n",
    "else:\n",
    "    print(b-a)"
   ]
  },
  {
   "cell_type": "code",
   "execution_count": 9,
   "metadata": {},
   "outputs": [],
   "source": [
    "#NarrowRectanglesEasy"
   ]
  },
  {
   "cell_type": "code",
   "execution_count": 13,
   "metadata": {},
   "outputs": [
    {
     "name": "stdout",
     "output_type": "stream",
     "text": [
      "5 10 1\n",
      "4\n"
     ]
    }
   ],
   "source": [
    "W, a, b = map(int, input().split())\n",
    "\n",
    "ans = max(a, b)-(min(a, b)+W)\n",
    "\n",
    "if ans <= 0:\n",
    "    print(0)\n",
    "else:\n",
    "    print(ans)"
   ]
  },
  {
   "cell_type": "code",
   "execution_count": 14,
   "metadata": {},
   "outputs": [],
   "source": [
    "#Hands"
   ]
  },
  {
   "cell_type": "code",
   "execution_count": 33,
   "metadata": {},
   "outputs": [
    {
     "name": "stdout",
     "output_type": "stream",
     "text": [
      "1 100 1 100\n",
      "199\n"
     ]
    }
   ],
   "source": [
    "a, b, x, y = map(int, input().split())\n",
    "\n",
    "if a-b <= 1 and a-b >= 0:\n",
    "    print(x)\n",
    "else:\n",
    "    m = min(2*x, y)\n",
    "    d = abs(2*b+1-2*a)\n",
    "    print((d//2)*m+x)"
   ]
  },
  {
   "cell_type": "code",
   "execution_count": 34,
   "metadata": {},
   "outputs": [],
   "source": [
    "#Redundant Redundancy"
   ]
  },
  {
   "cell_type": "code",
   "execution_count": 36,
   "metadata": {},
   "outputs": [
    {
     "name": "stdout",
     "output_type": "stream",
     "text": [
      "3\n",
      "7\n"
     ]
    }
   ],
   "source": [
    "N = int(input())\n",
    "\n",
    "from functools import reduce\n",
    "import math\n",
    "def my_lcm_base(x, y):\n",
    "    return (x * y) // math.gcd(x, y)\n",
    "\n",
    "def my_lcm(*numbers):\n",
    "    return reduce(my_lcm_base, numbers, 1)\n",
    "\n",
    "ans = my_lcm(*list(range(2, N+1)))\n",
    "print(ans+1)"
   ]
  },
  {
   "cell_type": "code",
   "execution_count": 1,
   "metadata": {},
   "outputs": [],
   "source": [
    "#Nice Shopping"
   ]
  },
  {
   "cell_type": "code",
   "execution_count": 4,
   "metadata": {},
   "outputs": [
    {
     "name": "stdout",
     "output_type": "stream",
     "text": [
      "2 2 1\n",
      "3 5\n",
      "3 5\n",
      "2 2 2\n",
      "6\n"
     ]
    }
   ],
   "source": [
    "A, B, M = map(int, input().split())\n",
    "a = list(map(int, input().split()))\n",
    "b = list(map(int, input().split()))\n",
    "now = min(a)+min(b)\n",
    "\n",
    "cnt = []\n",
    "for _ in range(M):\n",
    "    x, y, c = map(int, input().split())\n",
    "    cnt.append(a[x-1]+b[y-1]-c)\n",
    "        \n",
    "like = min(cnt)\n",
    "print(min(now, like))"
   ]
  },
  {
   "cell_type": "code",
   "execution_count": 6,
   "metadata": {},
   "outputs": [],
   "source": [
    "#Contests"
   ]
  },
  {
   "cell_type": "code",
   "execution_count": 9,
   "metadata": {},
   "outputs": [
    {
     "name": "stdout",
     "output_type": "stream",
     "text": [
      "3\n",
      "5 6\n",
      "5 6 10\n",
      "1\n"
     ]
    }
   ],
   "source": [
    "N = int(input())\n",
    "A, B = map(int, input().split())\n",
    "P = list(map(int, input().split()))\n",
    "\n",
    "one, two, three = 0, 0, 0\n",
    "for p in P:\n",
    "    if p <= A:\n",
    "        one += 1\n",
    "    elif A+1 <= p and p <= B:\n",
    "        two += 1\n",
    "    else:\n",
    "        three += 1\n",
    "        \n",
    "print(min(one, two, three))"
   ]
  },
  {
   "cell_type": "code",
   "execution_count": 10,
   "metadata": {},
   "outputs": [],
   "source": [
    "#Move and Win"
   ]
  },
  {
   "cell_type": "code",
   "execution_count": 15,
   "metadata": {},
   "outputs": [
    {
     "name": "stdout",
     "output_type": "stream",
     "text": [
      "58 23 42\n",
      "Borys\n"
     ]
    }
   ],
   "source": [
    "N, A, B = map(int, input().split())\n",
    "\n",
    "if N == 2:\n",
    "    print(\"Borys\")\n",
    "else:\n",
    "    while True:\n",
    "        if A+1 == B:\n",
    "            if A-1 == 0:\n",
    "                print(\"Borys\")\n",
    "                break\n",
    "            else:\n",
    "                A -= 1\n",
    "        else:\n",
    "            A += 1\n",
    "        if B-1 == A:\n",
    "            if B+1 == N+1:\n",
    "                print(\"Alice\")\n",
    "                break\n",
    "            else:\n",
    "                B += 1\n",
    "        else:\n",
    "            B -= 1"
   ]
  },
  {
   "cell_type": "code",
   "execution_count": 16,
   "metadata": {},
   "outputs": [],
   "source": [
    "#Where's Snuke?"
   ]
  },
  {
   "cell_type": "code",
   "execution_count": 17,
   "metadata": {},
   "outputs": [
    {
     "name": "stdout",
     "output_type": "stream",
     "text": [
      "1 1\n",
      "snuke\n",
      "1A\n"
     ]
    }
   ],
   "source": [
    "H, W = map(int, input().split())\n",
    "I = list(map(str, list(range(1, H+1))))\n",
    "J = [chr(i) for i in range(65, 65+26)]\n",
    "for h in range(H):\n",
    "    s = input().split()\n",
    "    for w in range(W):\n",
    "        if s[w] == \"snuke\":\n",
    "            i, j = h, w\n",
    "            \n",
    "print(J[j]+I[i])"
   ]
  },
  {
   "cell_type": "code",
   "execution_count": 18,
   "metadata": {},
   "outputs": [],
   "source": [
    "#105"
   ]
  },
  {
   "cell_type": "code",
   "execution_count": 23,
   "metadata": {},
   "outputs": [
    {
     "name": "stdout",
     "output_type": "stream",
     "text": [
      "7\n",
      "0\n"
     ]
    }
   ],
   "source": [
    "N = int(input())\n",
    "\n",
    "def make_divisors(n):\n",
    "    lower_divisors , upper_divisors = [], []\n",
    "    i = 1\n",
    "    while i*i <= n:\n",
    "        if n % i == 0:\n",
    "            lower_divisors.append(i)\n",
    "            if i != n // i:\n",
    "                upper_divisors.append(n//i)\n",
    "        i += 1\n",
    "    return len(lower_divisors + upper_divisors[::-1])\n",
    "\n",
    "cnt = 0\n",
    "for a in range(1, N+1, 2):\n",
    "    cnt += make_divisors(a) == 8\n",
    "    \n",
    "print(cnt)"
   ]
  },
  {
   "cell_type": "code",
   "execution_count": null,
   "metadata": {},
   "outputs": [],
   "source": []
  }
 ],
 "metadata": {
  "kernelspec": {
   "display_name": "Python 3",
   "language": "python",
   "name": "python3"
  },
  "language_info": {
   "codemirror_mode": {
    "name": "ipython",
    "version": 3
   },
   "file_extension": ".py",
   "mimetype": "text/x-python",
   "name": "python",
   "nbconvert_exporter": "python",
   "pygments_lexer": "ipython3",
   "version": "3.6.4"
  }
 },
 "nbformat": 4,
 "nbformat_minor": 2
}
