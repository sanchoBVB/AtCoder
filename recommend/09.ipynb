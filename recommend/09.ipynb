{
 "cells": [
  {
   "cell_type": "code",
   "execution_count": 14,
   "metadata": {},
   "outputs": [],
   "source": [
    "#AtCoder Group"
   ]
  },
  {
   "cell_type": "code",
   "execution_count": 13,
   "metadata": {},
   "outputs": [
    {
     "name": "stdout",
     "output_type": "stream",
     "text": [
      "2\n",
      "5 1 2 3 4 5 \n",
      "8\n"
     ]
    }
   ],
   "source": [
    "N = int(input())\n",
    "A = list(map(int, input().split()))\n",
    "\n",
    "A.sort(reverse=True)\n",
    "i = 1\n",
    "n = 1\n",
    "cnt = 0\n",
    "while 2*i <= 2*N:\n",
    "    cnt += A[n]\n",
    "    i += 1\n",
    "    n += 2\n",
    "    \n",
    "print(cnt)"
   ]
  },
  {
   "cell_type": "code",
   "execution_count": 15,
   "metadata": {},
   "outputs": [],
   "source": [
    "#AtCoDeerくん"
   ]
  },
  {
   "cell_type": "code",
   "execution_count": 30,
   "metadata": {},
   "outputs": [
    {
     "name": "stdout",
     "output_type": "stream",
     "text": [
      "10 8\n",
      "322828856\n"
     ]
    }
   ],
   "source": [
    "N, K = map(int, input().split())\n",
    "print(K*(K-1)**(N-1))"
   ]
  },
  {
   "cell_type": "code",
   "execution_count": 31,
   "metadata": {},
   "outputs": [],
   "source": [
    "#Trained"
   ]
  },
  {
   "cell_type": "code",
   "execution_count": 1,
   "metadata": {},
   "outputs": [
    {
     "name": "stdout",
     "output_type": "stream",
     "text": [
      "3\n",
      "1\n",
      "2\n",
      "3\n",
      "-1\n"
     ]
    },
    {
     "ename": "SystemExit",
     "evalue": "0",
     "output_type": "error",
     "traceback": [
      "An exception has occurred, use %tb to see the full traceback.\n",
      "\u001b[0;31mSystemExit\u001b[0m\u001b[0;31m:\u001b[0m 0\n"
     ]
    },
    {
     "name": "stderr",
     "output_type": "stream",
     "text": [
      "/Users/miuratakuto/.pyenv/versions/anaconda3-5.1.0/lib/python3.6/site-packages/IPython/core/interactiveshell.py:2918: UserWarning: To exit: use 'exit', 'quit', or Ctrl-D.\n",
      "  warn(\"To exit: use 'exit', 'quit', or Ctrl-D.\", stacklevel=1)\n"
     ]
    }
   ],
   "source": [
    "import sys\n",
    "N = int(input())\n",
    "a = [int(input())-1 for _ in range(N)]\n",
    "ans = 0\n",
    "cur = 0\n",
    "\n",
    "visit = [-1] * N\n",
    "while True:\n",
    "    # print(cur, visit)\n",
    "    cur = a[cur]\n",
    "    ans += 1\n",
    "    if visit[cur] == -1:\n",
    "        visit[cur] = ans\n",
    "    else:\n",
    "        print(-1)\n",
    "        sys.exit(0)\n",
    "    if cur == 1:\n",
    "        print(ans)\n",
    "        sys.exit(0)"
   ]
  },
  {
   "cell_type": "code",
   "execution_count": 2,
   "metadata": {},
   "outputs": [],
   "source": [
    "#Cut and Count"
   ]
  },
  {
   "cell_type": "code",
   "execution_count": 6,
   "metadata": {},
   "outputs": [
    {
     "name": "stdout",
     "output_type": "stream",
     "text": [
      "10\n",
      "aaaaaaaaaa\n",
      "1\n"
     ]
    }
   ],
   "source": [
    "N = int(input())\n",
    "S = input()\n",
    "\n",
    "cnt = []\n",
    "for n in range(1, N):\n",
    "    x = sorted(S[:n])\n",
    "    y = sorted(S[n:])\n",
    "    cnt.append(len(set(x)&set(y)))\n",
    "        \n",
    "print(max(cnt))"
   ]
  },
  {
   "cell_type": "code",
   "execution_count": 7,
   "metadata": {},
   "outputs": [],
   "source": [
    "#Mineaweeper"
   ]
  },
  {
   "cell_type": "code",
   "execution_count": 29,
   "metadata": {},
   "outputs": [
    {
     "name": "stdout",
     "output_type": "stream",
     "text": [
      "1 5\n",
      ".##..\n",
      "1##10\n"
     ]
    },
    {
     "ename": "SystemExit",
     "evalue": "0",
     "output_type": "error",
     "traceback": [
      "An exception has occurred, use %tb to see the full traceback.\n",
      "\u001b[0;31mSystemExit\u001b[0m\u001b[0;31m:\u001b[0m 0\n"
     ]
    },
    {
     "name": "stderr",
     "output_type": "stream",
     "text": [
      "/Users/miuratakuto/.pyenv/versions/anaconda3-5.1.0/lib/python3.6/site-packages/IPython/core/interactiveshell.py:2918: UserWarning: To exit: use 'exit', 'quit', or Ctrl-D.\n",
      "  warn(\"To exit: use 'exit', 'quit', or Ctrl-D.\", stacklevel=1)\n"
     ]
    }
   ],
   "source": [
    "import sys\n",
    "H, W = map(int, input().split())\n",
    "if H == 1:\n",
    "    if W == 1:\n",
    "        s = input()\n",
    "        if s == \"#\":\n",
    "            print(\"#\")\n",
    "        else:\n",
    "            print(0)\n",
    "    else:\n",
    "        cnt = [0 for _ in range(W)]\n",
    "        s = list(input())\n",
    "        for w in range(W):\n",
    "            if w == 0:\n",
    "                cnt[w] += s[w+1] == \"#\"\n",
    "            elif w == W-1:\n",
    "                cnt[w] += s[w-1] == \"#\"\n",
    "            else:\n",
    "                cnt[w] += s[w+1] == \"#\"\n",
    "                cnt[w] += s[w-1] == \"#\"\n",
    "        for w in range(W):\n",
    "            if s[w] == \"#\":\n",
    "                cnt[w] = \"#\"\n",
    "        ans = map(str, cnt)\n",
    "        print(\"\".join(ans))\n",
    "    sys.exit(0)\n",
    "if W == 1:\n",
    "    cnt = [0 for _ in range(H)]\n",
    "    s = []\n",
    "    for h in range(H):\n",
    "        s.append(input())\n",
    "    for h in range(H):\n",
    "        if h == 0:\n",
    "            cnt[h] += s[h+1] == \"#\"\n",
    "        elif h == H-1:\n",
    "            cnt[h] += s[h-1] == \"#\"\n",
    "        else:\n",
    "            cnt[h] += s[h-1] == \"#\"\n",
    "            cnt[h] += s[h+1] == \"#\"\n",
    "    for h in range(H):\n",
    "        if s[h] == \"#\":\n",
    "            print(\"#\")\n",
    "        else:\n",
    "            print(cnt[h])\n",
    "    sys.exit(0)\n",
    "    \n",
    "S = []\n",
    "cnt = [[0 for _ in range(W)] for _ in range(H)]\n",
    "for h in range(H):\n",
    "    s = list(input())\n",
    "    for w in range(W):\n",
    "        if w == 0:\n",
    "            cnt[h][w] += s[w+1] == \"#\"\n",
    "        elif w == W-1:\n",
    "            cnt[h][w] += s[w-1] == \"#\"\n",
    "        else:\n",
    "            cnt[h][w] += s[w+1] == \"#\"\n",
    "            cnt[h][w] += s[w-1] == \"#\"\n",
    "    S.append(s)\n",
    "    \n",
    "for h in range(H):\n",
    "    for w in range(W):\n",
    "        if h == 0:\n",
    "            cnt[h][w] += S[h+1][w] == \"#\"\n",
    "            if w == 0:\n",
    "                cnt[h][w] += S[h+1][w+1] == \"#\"\n",
    "            elif w == W-1:\n",
    "                cnt[h][w] += S[h+1][w-1] == \"#\"\n",
    "            else:\n",
    "                cnt[h][w] += S[h+1][w-1] == \"#\"\n",
    "                cnt[h][w] += S[h+1][w+1] == \"#\"\n",
    "        elif h == H-1:\n",
    "            cnt[h][w] += S[h-1][w] == \"#\"\n",
    "            if w == 0:\n",
    "                cnt[h][w] += S[h-1][w+1] == \"#\"\n",
    "            elif w == W-1:\n",
    "                cnt[h][w] += S[h-1][w-1] == \"#\"\n",
    "            else:\n",
    "                cnt[h][w] += S[h-1][w-1] == \"#\"\n",
    "                cnt[h][w] += S[h-1][w+1] == \"#\"\n",
    "        else:\n",
    "            cnt[h][w] += S[h+1][w] == \"#\"\n",
    "            if w == 0:\n",
    "                cnt[h][w] += S[h+1][w+1] == \"#\"\n",
    "            elif w == W-1:\n",
    "                cnt[h][w] += S[h+1][w-1] == \"#\"\n",
    "            else:\n",
    "                cnt[h][w] += S[h+1][w-1] == \"#\"\n",
    "                cnt[h][w] += S[h+1][w+1] == \"#\"\n",
    "            cnt[h][w] += S[h-1][w] == \"#\"\n",
    "            if w == 0:\n",
    "                cnt[h][w] += S[h-1][w+1] == \"#\"\n",
    "            elif w == W-1:\n",
    "                cnt[h][w] += S[h-1][w-1] == \"#\"\n",
    "            else:\n",
    "                cnt[h][w] += S[h-1][w-1] == \"#\"\n",
    "                cnt[h][w] += S[h-1][w+1] == \"#\"\n",
    "                \n",
    "for h in range(H):\n",
    "    s = S[h]\n",
    "    for w in range(W):\n",
    "        if s[w] == \"#\":\n",
    "            cnt[h][w] = \"#\"\n",
    "    ans = map(str, cnt[h])\n",
    "    print(\"\".join(ans))"
   ]
  },
  {
   "cell_type": "code",
   "execution_count": 30,
   "metadata": {},
   "outputs": [],
   "source": [
    "#Digit Sum 2"
   ]
  },
  {
   "cell_type": "code",
   "execution_count": 49,
   "metadata": {},
   "outputs": [
    {
     "name": "stdout",
     "output_type": "stream",
     "text": [
      "9959\n",
      "35\n"
     ]
    },
    {
     "ename": "SystemExit",
     "evalue": "0",
     "output_type": "error",
     "traceback": [
      "An exception has occurred, use %tb to see the full traceback.\n",
      "\u001b[0;31mSystemExit\u001b[0m\u001b[0;31m:\u001b[0m 0\n"
     ]
    },
    {
     "name": "stderr",
     "output_type": "stream",
     "text": [
      "/Users/miuratakuto/.pyenv/versions/anaconda3-5.1.0/lib/python3.6/site-packages/IPython/core/interactiveshell.py:2918: UserWarning: To exit: use 'exit', 'quit', or Ctrl-D.\n",
      "  warn(\"To exit: use 'exit', 'quit', or Ctrl-D.\", stacklevel=1)\n"
     ]
    }
   ],
   "source": [
    "import sys\n",
    "N = list(input())\n",
    "\n",
    "if N.count(\"9\") == len(N):\n",
    "    print(len(N)*9)\n",
    "    sys.exit(0)\n",
    "if N.count(\"9\") == len(N)-1:\n",
    "    for n in range(len(N)):\n",
    "        if N[n] != \"9\":\n",
    "            if n == 0:\n",
    "                i = int(N[n])\n",
    "                print(i+((len(N)-1)*9))\n",
    "                sys.exit(0)\n",
    "            else:\n",
    "                print(8+((len(N)-1)*9))\n",
    "                sys.exit(0)\n",
    "\n",
    "for n in range(len(N)-1):\n",
    "    i = int(N[n])\n",
    "    if i != 9:\n",
    "        cnt1 = len(N[:n])\n",
    "        cnt2 = len(N[n+1:])\n",
    "        print((cnt1*9)+(i-1)+(cnt2*9))\n",
    "        sys.exit(0)"
   ]
  },
  {
   "cell_type": "code",
   "execution_count": null,
   "metadata": {},
   "outputs": [],
   "source": []
  }
 ],
 "metadata": {
  "kernelspec": {
   "display_name": "Python 3",
   "language": "python",
   "name": "python3"
  },
  "language_info": {
   "codemirror_mode": {
    "name": "ipython",
    "version": 3
   },
   "file_extension": ".py",
   "mimetype": "text/x-python",
   "name": "python",
   "nbconvert_exporter": "python",
   "pygments_lexer": "ipython3",
   "version": "3.6.4"
  }
 },
 "nbformat": 4,
 "nbformat_minor": 2
}
