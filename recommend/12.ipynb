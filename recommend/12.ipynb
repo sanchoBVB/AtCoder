{
 "cells": [
  {
   "cell_type": "code",
   "execution_count": 1,
   "metadata": {},
   "outputs": [],
   "source": [
    "#Ruined Square"
   ]
  },
  {
   "cell_type": "code",
   "execution_count": 15,
   "metadata": {},
   "outputs": [
    {
     "name": "stdout",
     "output_type": "stream",
     "text": [
      "31 -41 -59 26\n",
      "-126 -64 -36 -131\n"
     ]
    }
   ],
   "source": [
    "x1, y1, x2, y2 = map(int, input().split())\n",
    "\n",
    "x3 = x2+(y1-y2)\n",
    "y3 = y2-(x1-x2)\n",
    "x4 = x1+(y1-y2)\n",
    "y4 = y1-(x1-x2)\n",
    "\n",
    "print(x3, y3, x4, y4)"
   ]
  },
  {
   "cell_type": "code",
   "execution_count": 16,
   "metadata": {},
   "outputs": [],
   "source": [
    "#Two Colors Card Game"
   ]
  },
  {
   "cell_type": "code",
   "execution_count": 28,
   "metadata": {},
   "outputs": [
    {
     "name": "stdout",
     "output_type": "stream",
     "text": [
      "6\n",
      "red\n",
      "red\n",
      "blue\n",
      "yellow\n",
      "yellow\n",
      "red\n",
      "5\n",
      "red\n",
      "red\n",
      "yellow\n",
      "green\n",
      "blue\n",
      "1\n"
     ]
    }
   ],
   "source": [
    "N = int(input())\n",
    "st = []\n",
    "cnt = [0]*N\n",
    "for _ in range(N):\n",
    "    s = input()\n",
    "    if s in st:\n",
    "        cnt[st.index(s)] += 1\n",
    "    else:\n",
    "        st.append(s)\n",
    "        cnt[st.index(s)] += 1\n",
    "\n",
    "M = int(input())\n",
    "for _ in range(M):\n",
    "    t = input()\n",
    "    if t in st:\n",
    "        cnt[st.index(t)] -= 1\n",
    "        \n",
    "print(max(max(cnt), 0))"
   ]
  },
  {
   "cell_type": "code",
   "execution_count": 1,
   "metadata": {},
   "outputs": [],
   "source": [
    "#*3 or /2"
   ]
  },
  {
   "cell_type": "code",
   "execution_count": 17,
   "metadata": {},
   "outputs": [
    {
     "name": "stdout",
     "output_type": "stream",
     "text": [
      "3\n",
      "5 2 4\n",
      "3\n"
     ]
    }
   ],
   "source": [
    "N = int(input())\n",
    "A = list(map(int, input().split()))\n",
    "\n",
    "cnt = 0\n",
    "for a in A:\n",
    "    while a % 2 == 0:\n",
    "        a //= 2\n",
    "        cnt += 1\n",
    "        \n",
    "print(cnt)"
   ]
  },
  {
   "cell_type": "code",
   "execution_count": 18,
   "metadata": {},
   "outputs": [],
   "source": [
    "#Training Camp"
   ]
  },
  {
   "cell_type": "code",
   "execution_count": 42,
   "metadata": {},
   "outputs": [
    {
     "name": "stdout",
     "output_type": "stream",
     "text": [
      "100000\n",
      "457992974\n"
     ]
    }
   ],
   "source": [
    "N = int(input())\n",
    "\n",
    "cnt = 1\n",
    "for n in range(1, N+1):\n",
    "    cnt = n*(cnt%((10**9)+7))\n",
    "    \n",
    "print(cnt%((10**9)+7))"
   ]
  },
  {
   "cell_type": "code",
   "execution_count": 43,
   "metadata": {},
   "outputs": [],
   "source": [
    "#Travel"
   ]
  },
  {
   "cell_type": "code",
   "execution_count": 10,
   "metadata": {},
   "outputs": [
    {
     "name": "stdout",
     "output_type": "stream",
     "text": [
      "5 5\n",
      "0 1 1 1 1\n",
      "1 0 1 1 1\n",
      "1 1 0 1 1\n",
      "1 1 1 0 1\n",
      "1 1 1 1 0\n",
      "24\n"
     ]
    }
   ],
   "source": [
    "import itertools\n",
    "N, K = map(int, input().split())\n",
    "route = list(itertools.permutations(list(range(1, N))))\n",
    "T = []\n",
    "for _ in range(N):\n",
    "    T.append(list(map(int, input().split())))\n",
    "\n",
    "ans = 0\n",
    "for r in route:\n",
    "    r = list(r)\n",
    "    r.insert(0, 0)\n",
    "    r.append(0)\n",
    "    cnt = 0\n",
    "    for n in range(1, len(r)):\n",
    "        cnt += T[r[n-1]][r[n]]\n",
    "    ans += cnt == K\n",
    "    \n",
    "print(ans)"
   ]
  },
  {
   "cell_type": "code",
   "execution_count": 11,
   "metadata": {},
   "outputs": [],
   "source": [
    "#Train Ticket"
   ]
  },
  {
   "cell_type": "code",
   "execution_count": 23,
   "metadata": {},
   "outputs": [
    {
     "name": "stdout",
     "output_type": "stream",
     "text": [
      "3242\n",
      "3+2+4-2=7\n"
     ]
    }
   ],
   "source": [
    "import itertools\n",
    "s = input()\n",
    "S = [int(s[0]), int(s[1]), int(s[2]), int(s[3])]\n",
    "Opt = list(itertools.product([\"+\",\"-\"], repeat=3))\n",
    "\n",
    "\n",
    "for opt in Opt:\n",
    "    cnt = S[0]\n",
    "    for n in range(3):\n",
    "        b = S[n+1]\n",
    "        if opt[n] == \"+\":\n",
    "            cnt += b\n",
    "        else:\n",
    "            cnt -= b\n",
    "    if cnt == 7:\n",
    "        ans = [str(S[0]), opt[0], str(S[1]), opt[1], str(S[2]), opt[2], str(S[3]), \"=7\"]\n",
    "        print(\"\".join(ans))\n",
    "        break"
   ]
  },
  {
   "cell_type": "code",
   "execution_count": 1,
   "metadata": {},
   "outputs": [],
   "source": [
    "#Guidebook"
   ]
  },
  {
   "cell_type": "code",
   "execution_count": 8,
   "metadata": {},
   "outputs": [
    {
     "name": "stdout",
     "output_type": "stream",
     "text": [
      "10\n",
      "yakutsk 10\n",
      "yakutsk 20\n",
      "yakutsk 30\n",
      "yakutsk 40\n",
      "yakutsk 50\n",
      "yakutsk 60\n",
      "yakutsk 70\n",
      "yakutsk 80\n",
      "yakutsk 90\n",
      "yakutsk 100\n",
      "2\n",
      "3\n",
      "4\n",
      "5\n",
      "6\n",
      "7\n",
      "8\n",
      "9\n",
      "10\n",
      "1\n"
     ]
    }
   ],
   "source": [
    "N = int(input())\n",
    "res = []\n",
    "for n in range(N):\n",
    "    s, p = input().split()\n",
    "    res.append([s, int(p), n+1])\n",
    "\n",
    "change = True\n",
    "while change:\n",
    "    change = False\n",
    "    for n in range(N-1):\n",
    "        if res[n][0] > res[n+1][0]:\n",
    "            res[n], res[n+1] = res[n+1], res[n]\n",
    "            change = True\n",
    "        elif res[n][0] == res[n+1][0]:\n",
    "            if res[n][1] < res[n+1][1]:\n",
    "                res[n], res[n+1] = res[n+1], res[n]\n",
    "                change = True\n",
    "                \n",
    "for r in res:\n",
    "    print(r[2])"
   ]
  },
  {
   "cell_type": "code",
   "execution_count": 10,
   "metadata": {},
   "outputs": [],
   "source": [
    "#Iron Bar Cutting"
   ]
  },
  {
   "cell_type": "code",
   "execution_count": 24,
   "metadata": {},
   "outputs": [
    {
     "name": "stdout",
     "output_type": "stream",
     "text": [
      "3\n",
      "2 4 3\n",
      "3\n"
     ]
    },
    {
     "ename": "SystemExit",
     "evalue": "0",
     "output_type": "error",
     "traceback": [
      "An exception has occurred, use %tb to see the full traceback.\n",
      "\u001b[0;31mSystemExit\u001b[0m\u001b[0;31m:\u001b[0m 0\n"
     ]
    },
    {
     "name": "stderr",
     "output_type": "stream",
     "text": [
      "/Users/miuratakuto/.pyenv/versions/anaconda3-5.1.0/lib/python3.6/site-packages/IPython/core/interactiveshell.py:2918: UserWarning: To exit: use 'exit', 'quit', or Ctrl-D.\n",
      "  warn(\"To exit: use 'exit', 'quit', or Ctrl-D.\", stacklevel=1)\n"
     ]
    }
   ],
   "source": [
    "import sys\n",
    "N = int(input())\n",
    "A = list(map(int, input().split()))\n",
    "\n",
    "for n in range(N-1):\n",
    "    a = A[:n+1]\n",
    "    b = A[n+1:]\n",
    "    if sum(a) == sum(b):\n",
    "        print(0)\n",
    "        sys.exit(0)\n",
    "    elif sum(a) > sum(b):\n",
    "        print(abs(sum(a)-sum(b)))\n",
    "        sys.exit(0)\n",
    "        \n",
    "print(abs(sum(a)-sum(b)))"
   ]
  },
  {
   "cell_type": "code",
   "execution_count": 1,
   "metadata": {},
   "outputs": [],
   "source": [
    "#MAX-=min"
   ]
  },
  {
   "cell_type": "code",
   "execution_count": 5,
   "metadata": {},
   "outputs": [
    {
     "name": "stdout",
     "output_type": "stream",
     "text": [
      "15\n",
      "546 3192 1932 630 2100 4116 3906 3234 1302 1806 3528 3780 252 1008 588\n",
      "42\n"
     ]
    }
   ],
   "source": [
    "import math\n",
    "from functools import reduce\n",
    "N = int(input())\n",
    "A = list(map(int, input().split()))\n",
    "A = list(set(A))\n",
    "\n",
    "def gcd_list(numbers):\n",
    "    return reduce(math.gcd, numbers)\n",
    "\n",
    "print(gcd_list(A))"
   ]
  },
  {
   "cell_type": "code",
   "execution_count": 6,
   "metadata": {},
   "outputs": [],
   "source": [
    "#Ringo's Favorite Numbers"
   ]
  },
  {
   "cell_type": "code",
   "execution_count": 11,
   "metadata": {},
   "outputs": [
    {
     "name": "stdout",
     "output_type": "stream",
     "text": [
      "2 85\n",
      "850000\n"
     ]
    }
   ],
   "source": [
    "D, N = map(int, input().split())\n",
    "if N <= 99:\n",
    "    print((100**D)*N)\n",
    "else:\n",
    "    print((100**D)*101)"
   ]
  },
  {
   "cell_type": "code",
   "execution_count": null,
   "metadata": {},
   "outputs": [],
   "source": []
  }
 ],
 "metadata": {
  "kernelspec": {
   "display_name": "Python 3",
   "language": "python",
   "name": "python3"
  },
  "language_info": {
   "codemirror_mode": {
    "name": "ipython",
    "version": 3
   },
   "file_extension": ".py",
   "mimetype": "text/x-python",
   "name": "python",
   "nbconvert_exporter": "python",
   "pygments_lexer": "ipython3",
   "version": "3.6.4"
  }
 },
 "nbformat": 4,
 "nbformat_minor": 2
}
