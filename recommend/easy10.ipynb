{
 "cells": [
  {
   "cell_type": "code",
   "execution_count": 1,
   "metadata": {},
   "outputs": [],
   "source": [
    "#Rotation"
   ]
  },
  {
   "cell_type": "code",
   "execution_count": 3,
   "metadata": {},
   "outputs": [
    {
     "name": "stdout",
     "output_type": "stream",
     "text": [
      "bet\n",
      "tab\n",
      "NO\n"
     ]
    }
   ],
   "source": [
    "A = input()\n",
    "B = list(input())\n",
    "B.reverse()\n",
    "B = \"\".join(B)\n",
    "\n",
    "if A == B:\n",
    "    print(\"YES\")\n",
    "else:\n",
    "    print(\"NO\")"
   ]
  },
  {
   "cell_type": "code",
   "execution_count": 4,
   "metadata": {},
   "outputs": [],
   "source": [
    "#Digit Sums"
   ]
  },
  {
   "cell_type": "code",
   "execution_count": 9,
   "metadata": {},
   "outputs": [
    {
     "name": "stdout",
     "output_type": "stream",
     "text": [
      "999999999\n",
      "Yes\n"
     ]
    }
   ],
   "source": [
    "N = list(input())\n",
    "\n",
    "cnt = 0\n",
    "for n in N:\n",
    "    cnt += int(n)\n",
    "\n",
    "N = int(\"\".join(N))\n",
    "if N%cnt==0:\n",
    "    print(\"Yes\")\n",
    "else:\n",
    "    print(\"No\")"
   ]
  },
  {
   "cell_type": "code",
   "execution_count": 10,
   "metadata": {},
   "outputs": [],
   "source": [
    "#Day of Takahashi"
   ]
  },
  {
   "cell_type": "code",
   "execution_count": 14,
   "metadata": {},
   "outputs": [
    {
     "name": "stdout",
     "output_type": "stream",
     "text": [
      "11 30\n",
      "11\n"
     ]
    }
   ],
   "source": [
    "a, b = map(int, input().split())\n",
    "\n",
    "ans = a-1\n",
    "if a<=b:\n",
    "    ans += 1\n",
    "print(ans)"
   ]
  },
  {
   "cell_type": "code",
   "execution_count": 15,
   "metadata": {},
   "outputs": [],
   "source": [
    "#Maximum Sum"
   ]
  },
  {
   "cell_type": "code",
   "execution_count": 17,
   "metadata": {},
   "outputs": [
    {
     "name": "stdout",
     "output_type": "stream",
     "text": [
      "3 3 4\n",
      "2\n",
      "22\n"
     ]
    }
   ],
   "source": [
    "A, B, C = map(int, input().split())\n",
    "K = int(input())\n",
    "\n",
    "m = max(A, B, C)\n",
    "ans = (A+B+C)-m\n",
    "for _ in range(K):\n",
    "    m *= 2\n",
    "print(ans+m)"
   ]
  },
  {
   "cell_type": "code",
   "execution_count": 1,
   "metadata": {},
   "outputs": [],
   "source": [
    "#Can you solve this?"
   ]
  },
  {
   "cell_type": "code",
   "execution_count": 3,
   "metadata": {},
   "outputs": [
    {
     "name": "stdout",
     "output_type": "stream",
     "text": [
      "2 3 -10\n",
      "1 2 3\n",
      "3 2 1\n",
      "1 2 2\n",
      "1\n"
     ]
    }
   ],
   "source": [
    "from operator import mul\n",
    "N, M, C = map(int, input().split())\n",
    "B = list(map(int, input().split()))\n",
    "ans = 0\n",
    "for _ in range(N):\n",
    "    A = list(map(int, input().split()))\n",
    "    s = list(map(mul, A, B))\n",
    "    if sum(s)+C>0:\n",
    "        ans += 1\n",
    "        \n",
    "print(ans)"
   ]
  },
  {
   "cell_type": "code",
   "execution_count": 4,
   "metadata": {},
   "outputs": [],
   "source": [
    "#Exchange"
   ]
  },
  {
   "cell_type": "code",
   "execution_count": 7,
   "metadata": {},
   "outputs": [
    {
     "name": "stdout",
     "output_type": "stream",
     "text": [
      "314159265 358979323 84\n",
      "448759046 224379523\n"
     ]
    }
   ],
   "source": [
    "A, B, K = map(int, input().split())\n",
    "\n",
    "for k in range(K):\n",
    "    if k%2==0:\n",
    "        B += A//2\n",
    "        A //= 2\n",
    "    else:\n",
    "        A += B//2\n",
    "        B //= 2\n",
    "        \n",
    "print(A, B)"
   ]
  },
  {
   "cell_type": "code",
   "execution_count": 8,
   "metadata": {},
   "outputs": [],
   "source": [
    "#Between Two Integers"
   ]
  },
  {
   "cell_type": "code",
   "execution_count": 10,
   "metadata": {},
   "outputs": [
    {
     "name": "stdout",
     "output_type": "stream",
     "text": [
      "6 5 4\n",
      "No\n"
     ]
    }
   ],
   "source": [
    "A, B, C = map(int, input().split())\n",
    "\n",
    "if C<=B and C>=A:\n",
    "    print(\"Yes\")\n",
    "else:\n",
    "    print(\"No\")"
   ]
  },
  {
   "cell_type": "code",
   "execution_count": 11,
   "metadata": {},
   "outputs": [],
   "source": [
    "#和風いろはちゃんイージー"
   ]
  },
  {
   "cell_type": "code",
   "execution_count": 13,
   "metadata": {},
   "outputs": [
    {
     "name": "stdout",
     "output_type": "stream",
     "text": [
      "7 7 5\n",
      "NO\n"
     ]
    }
   ],
   "source": [
    "s = list(map(int, input().split()))\n",
    "\n",
    "if s.count(5)==2 and s.count(7)==1:\n",
    "    print(\"YES\")\n",
    "else:\n",
    "    print(\"NO\")"
   ]
  },
  {
   "cell_type": "code",
   "execution_count": 14,
   "metadata": {},
   "outputs": [],
   "source": [
    "#Poisonous Cookies"
   ]
  },
  {
   "cell_type": "code",
   "execution_count": 18,
   "metadata": {},
   "outputs": [
    {
     "name": "stdout",
     "output_type": "stream",
     "text": [
      "3 1 4\n",
      "5\n"
     ]
    }
   ],
   "source": [
    "A, B, C = map(int, input().split())\n",
    "\n",
    "if B > C:\n",
    "    print(B+C)\n",
    "elif B <= C:\n",
    "    ans = B*2\n",
    "    C -= B\n",
    "    if A < C:\n",
    "        ans += A+1\n",
    "    else:\n",
    "        ans += C\n",
    "    print(ans)"
   ]
  },
  {
   "cell_type": "code",
   "execution_count": 1,
   "metadata": {},
   "outputs": [],
   "source": [
    "#Doubled"
   ]
  },
  {
   "cell_type": "code",
   "execution_count": 10,
   "metadata": {},
   "outputs": [
    {
     "name": "stdout",
     "output_type": "stream",
     "text": [
      "10000000\n",
      "999\n"
     ]
    }
   ],
   "source": [
    "N = int(input())\n",
    "\n",
    "ans = 0\n",
    "for i in range(1, 10**6+1):\n",
    "    if int(str(i)*2) <= N:\n",
    "        ans += 1\n",
    "    \n",
    "print(ans)"
   ]
  },
  {
   "cell_type": "code",
   "execution_count": 11,
   "metadata": {},
   "outputs": [],
   "source": [
    "#Odd vs Even"
   ]
  },
  {
   "cell_type": "code",
   "execution_count": 12,
   "metadata": {},
   "outputs": [
    {
     "name": "stdout",
     "output_type": "stream",
     "text": [
      "3\n",
      "2\n",
      "Same\n",
      "998244353\n",
      "Odd\n",
      "1000000000000000000\n",
      "Even\n"
     ]
    }
   ],
   "source": [
    "T = int(input())\n",
    "\n",
    "ans = []\n",
    "for _ in range(T):\n",
    "    N = int(input())\n",
    "    if N%4==0:\n",
    "        ans.append(\"Even\")\n",
    "    elif N%2==0:\n",
    "        ans.append(\"Same\")\n",
    "    else:\n",
    "        ans.append(\"Odd\")\n",
    "        \n",
    "for a in ans:\n",
    "    print(a)"
   ]
  },
  {
   "cell_type": "code",
   "execution_count": null,
   "metadata": {},
   "outputs": [],
   "source": []
  }
 ],
 "metadata": {
  "kernelspec": {
   "display_name": "Python 3",
   "language": "python",
   "name": "python3"
  },
  "language_info": {
   "codemirror_mode": {
    "name": "ipython",
    "version": 3
   },
   "file_extension": ".py",
   "mimetype": "text/x-python",
   "name": "python",
   "nbconvert_exporter": "python",
   "pygments_lexer": "ipython3",
   "version": "3.6.4"
  }
 },
 "nbformat": 4,
 "nbformat_minor": 2
}
